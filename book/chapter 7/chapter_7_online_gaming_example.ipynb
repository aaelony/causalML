{
  "cells": [
    {
      "cell_type": "markdown",
      "metadata": {
        "id": "i7zVXx0JkLWa"
      },
      "source": [
        "<h1>Chapter 7 - Interventions and Causal effects <br><sub>Online Gaming Case Study</sub>\n",
        "</h1>\n",
        "\n",
        "The notebook is a code companion to chapter 7 of the book [Causal AI](https://www.manning.com/books/causal-ai) by [Robert Osazuwa Ness](https://www.linkedin.com/in/osazuwa/). Load it in Google Colab: <a href=\"https://github.com/altdeep/causalML/blob/master/book/chapter%207/chapter_7_online_gaming_example.ipynb\" target=\"_parent\"><img src=\"https://colab.research.google.com/assets/colab-badge.svg\" alt=\"Open In Colab\"/></a>\n",
        "\n",
        "View the [book resources](https://www.altdeep.ai/causalaibook) to see other tutorials and book-related links."
      ]
    },
    {
      "cell_type": "code",
      "execution_count": 54,
      "metadata": {
        "colab": {
          "base_uri": "https://localhost:8080/"
        },
        "id": "dHfRCUVXR1Vp",
        "outputId": "33fdc823-b2a8-49f9-9dc9-7b3fe74c9edb"
      },
      "outputs": [
        {
          "output_type": "stream",
          "name": "stdout",
          "text": [
            "Requirement already satisfied: pyro-ppl==1.9.0 in /usr/local/lib/python3.10/dist-packages (1.9.0)\n",
            "Requirement already satisfied: numpy>=1.7 in /usr/local/lib/python3.10/dist-packages (from pyro-ppl==1.9.0) (1.25.2)\n",
            "Requirement already satisfied: opt-einsum>=2.3.2 in /usr/local/lib/python3.10/dist-packages (from pyro-ppl==1.9.0) (3.3.0)\n",
            "Requirement already satisfied: pyro-api>=0.1.1 in /usr/local/lib/python3.10/dist-packages (from pyro-ppl==1.9.0) (0.1.2)\n",
            "Requirement already satisfied: torch>=2.0 in /usr/local/lib/python3.10/dist-packages (from pyro-ppl==1.9.0) (2.3.1+cu121)\n",
            "Requirement already satisfied: tqdm>=4.36 in /usr/local/lib/python3.10/dist-packages (from pyro-ppl==1.9.0) (4.66.4)\n",
            "Requirement already satisfied: filelock in /usr/local/lib/python3.10/dist-packages (from torch>=2.0->pyro-ppl==1.9.0) (3.15.4)\n",
            "Requirement already satisfied: typing-extensions>=4.8.0 in /usr/local/lib/python3.10/dist-packages (from torch>=2.0->pyro-ppl==1.9.0) (4.12.2)\n",
            "Requirement already satisfied: sympy in /usr/local/lib/python3.10/dist-packages (from torch>=2.0->pyro-ppl==1.9.0) (1.13.0)\n",
            "Requirement already satisfied: networkx in /usr/local/lib/python3.10/dist-packages (from torch>=2.0->pyro-ppl==1.9.0) (3.3)\n",
            "Requirement already satisfied: jinja2 in /usr/local/lib/python3.10/dist-packages (from torch>=2.0->pyro-ppl==1.9.0) (3.1.4)\n",
            "Requirement already satisfied: fsspec in /usr/local/lib/python3.10/dist-packages (from torch>=2.0->pyro-ppl==1.9.0) (2023.6.0)\n",
            "Requirement already satisfied: nvidia-cuda-nvrtc-cu12==12.1.105 in /usr/local/lib/python3.10/dist-packages (from torch>=2.0->pyro-ppl==1.9.0) (12.1.105)\n",
            "Requirement already satisfied: nvidia-cuda-runtime-cu12==12.1.105 in /usr/local/lib/python3.10/dist-packages (from torch>=2.0->pyro-ppl==1.9.0) (12.1.105)\n",
            "Requirement already satisfied: nvidia-cuda-cupti-cu12==12.1.105 in /usr/local/lib/python3.10/dist-packages (from torch>=2.0->pyro-ppl==1.9.0) (12.1.105)\n",
            "Requirement already satisfied: nvidia-cudnn-cu12==8.9.2.26 in /usr/local/lib/python3.10/dist-packages (from torch>=2.0->pyro-ppl==1.9.0) (8.9.2.26)\n",
            "Requirement already satisfied: nvidia-cublas-cu12==12.1.3.1 in /usr/local/lib/python3.10/dist-packages (from torch>=2.0->pyro-ppl==1.9.0) (12.1.3.1)\n",
            "Requirement already satisfied: nvidia-cufft-cu12==11.0.2.54 in /usr/local/lib/python3.10/dist-packages (from torch>=2.0->pyro-ppl==1.9.0) (11.0.2.54)\n",
            "Requirement already satisfied: nvidia-curand-cu12==10.3.2.106 in /usr/local/lib/python3.10/dist-packages (from torch>=2.0->pyro-ppl==1.9.0) (10.3.2.106)\n",
            "Requirement already satisfied: nvidia-cusolver-cu12==11.4.5.107 in /usr/local/lib/python3.10/dist-packages (from torch>=2.0->pyro-ppl==1.9.0) (11.4.5.107)\n",
            "Requirement already satisfied: nvidia-cusparse-cu12==12.1.0.106 in /usr/local/lib/python3.10/dist-packages (from torch>=2.0->pyro-ppl==1.9.0) (12.1.0.106)\n",
            "Requirement already satisfied: nvidia-nccl-cu12==2.20.5 in /usr/local/lib/python3.10/dist-packages (from torch>=2.0->pyro-ppl==1.9.0) (2.20.5)\n",
            "Requirement already satisfied: nvidia-nvtx-cu12==12.1.105 in /usr/local/lib/python3.10/dist-packages (from torch>=2.0->pyro-ppl==1.9.0) (12.1.105)\n",
            "Requirement already satisfied: triton==2.3.1 in /usr/local/lib/python3.10/dist-packages (from torch>=2.0->pyro-ppl==1.9.0) (2.3.1)\n",
            "Requirement already satisfied: nvidia-nvjitlink-cu12 in /usr/local/lib/python3.10/dist-packages (from nvidia-cusolver-cu12==11.4.5.107->torch>=2.0->pyro-ppl==1.9.0) (12.5.82)\n",
            "Requirement already satisfied: MarkupSafe>=2.0 in /usr/local/lib/python3.10/dist-packages (from jinja2->torch>=2.0->pyro-ppl==1.9.0) (2.1.5)\n",
            "Requirement already satisfied: mpmath<1.4,>=1.1.0 in /usr/local/lib/python3.10/dist-packages (from sympy->torch>=2.0->pyro-ppl==1.9.0) (1.3.0)\n",
            "Requirement already satisfied: pandas==2.2.1 in /usr/local/lib/python3.10/dist-packages (2.2.1)\n",
            "Requirement already satisfied: numpy<2,>=1.22.4 in /usr/local/lib/python3.10/dist-packages (from pandas==2.2.1) (1.25.2)\n",
            "Requirement already satisfied: python-dateutil>=2.8.2 in /usr/local/lib/python3.10/dist-packages (from pandas==2.2.1) (2.8.2)\n",
            "Requirement already satisfied: pytz>=2020.1 in /usr/local/lib/python3.10/dist-packages (from pandas==2.2.1) (2023.4)\n",
            "Requirement already satisfied: tzdata>=2022.7 in /usr/local/lib/python3.10/dist-packages (from pandas==2.2.1) (2024.1)\n",
            "Requirement already satisfied: six>=1.5 in /usr/local/lib/python3.10/dist-packages (from python-dateutil>=2.8.2->pandas==2.2.1) (1.16.0)\n",
            "Requirement already satisfied: pgmpy==0.1.25 in /usr/local/lib/python3.10/dist-packages (0.1.25)\n",
            "Requirement already satisfied: networkx in /usr/local/lib/python3.10/dist-packages (from pgmpy==0.1.25) (3.3)\n",
            "Requirement already satisfied: numpy in /usr/local/lib/python3.10/dist-packages (from pgmpy==0.1.25) (1.25.2)\n",
            "Requirement already satisfied: scipy in /usr/local/lib/python3.10/dist-packages (from pgmpy==0.1.25) (1.11.4)\n",
            "Requirement already satisfied: scikit-learn in /usr/local/lib/python3.10/dist-packages (from pgmpy==0.1.25) (1.2.2)\n",
            "Requirement already satisfied: pandas in /usr/local/lib/python3.10/dist-packages (from pgmpy==0.1.25) (2.2.1)\n",
            "Requirement already satisfied: pyparsing in /usr/local/lib/python3.10/dist-packages (from pgmpy==0.1.25) (3.1.2)\n",
            "Requirement already satisfied: torch in /usr/local/lib/python3.10/dist-packages (from pgmpy==0.1.25) (2.3.1+cu121)\n",
            "Requirement already satisfied: statsmodels in /usr/local/lib/python3.10/dist-packages (from pgmpy==0.1.25) (0.14.2)\n",
            "Requirement already satisfied: tqdm in /usr/local/lib/python3.10/dist-packages (from pgmpy==0.1.25) (4.66.4)\n",
            "Requirement already satisfied: joblib in /usr/local/lib/python3.10/dist-packages (from pgmpy==0.1.25) (1.4.2)\n",
            "Requirement already satisfied: opt-einsum in /usr/local/lib/python3.10/dist-packages (from pgmpy==0.1.25) (3.3.0)\n",
            "Requirement already satisfied: python-dateutil>=2.8.2 in /usr/local/lib/python3.10/dist-packages (from pandas->pgmpy==0.1.25) (2.8.2)\n",
            "Requirement already satisfied: pytz>=2020.1 in /usr/local/lib/python3.10/dist-packages (from pandas->pgmpy==0.1.25) (2023.4)\n",
            "Requirement already satisfied: tzdata>=2022.7 in /usr/local/lib/python3.10/dist-packages (from pandas->pgmpy==0.1.25) (2024.1)\n",
            "Requirement already satisfied: threadpoolctl>=2.0.0 in /usr/local/lib/python3.10/dist-packages (from scikit-learn->pgmpy==0.1.25) (3.5.0)\n",
            "Requirement already satisfied: patsy>=0.5.6 in /usr/local/lib/python3.10/dist-packages (from statsmodels->pgmpy==0.1.25) (0.5.6)\n",
            "Requirement already satisfied: packaging>=21.3 in /usr/local/lib/python3.10/dist-packages (from statsmodels->pgmpy==0.1.25) (24.1)\n",
            "Requirement already satisfied: filelock in /usr/local/lib/python3.10/dist-packages (from torch->pgmpy==0.1.25) (3.15.4)\n",
            "Requirement already satisfied: typing-extensions>=4.8.0 in /usr/local/lib/python3.10/dist-packages (from torch->pgmpy==0.1.25) (4.12.2)\n",
            "Requirement already satisfied: sympy in /usr/local/lib/python3.10/dist-packages (from torch->pgmpy==0.1.25) (1.13.0)\n",
            "Requirement already satisfied: jinja2 in /usr/local/lib/python3.10/dist-packages (from torch->pgmpy==0.1.25) (3.1.4)\n",
            "Requirement already satisfied: fsspec in /usr/local/lib/python3.10/dist-packages (from torch->pgmpy==0.1.25) (2023.6.0)\n",
            "Requirement already satisfied: nvidia-cuda-nvrtc-cu12==12.1.105 in /usr/local/lib/python3.10/dist-packages (from torch->pgmpy==0.1.25) (12.1.105)\n",
            "Requirement already satisfied: nvidia-cuda-runtime-cu12==12.1.105 in /usr/local/lib/python3.10/dist-packages (from torch->pgmpy==0.1.25) (12.1.105)\n",
            "Requirement already satisfied: nvidia-cuda-cupti-cu12==12.1.105 in /usr/local/lib/python3.10/dist-packages (from torch->pgmpy==0.1.25) (12.1.105)\n",
            "Requirement already satisfied: nvidia-cudnn-cu12==8.9.2.26 in /usr/local/lib/python3.10/dist-packages (from torch->pgmpy==0.1.25) (8.9.2.26)\n",
            "Requirement already satisfied: nvidia-cublas-cu12==12.1.3.1 in /usr/local/lib/python3.10/dist-packages (from torch->pgmpy==0.1.25) (12.1.3.1)\n",
            "Requirement already satisfied: nvidia-cufft-cu12==11.0.2.54 in /usr/local/lib/python3.10/dist-packages (from torch->pgmpy==0.1.25) (11.0.2.54)\n",
            "Requirement already satisfied: nvidia-curand-cu12==10.3.2.106 in /usr/local/lib/python3.10/dist-packages (from torch->pgmpy==0.1.25) (10.3.2.106)\n",
            "Requirement already satisfied: nvidia-cusolver-cu12==11.4.5.107 in /usr/local/lib/python3.10/dist-packages (from torch->pgmpy==0.1.25) (11.4.5.107)\n",
            "Requirement already satisfied: nvidia-cusparse-cu12==12.1.0.106 in /usr/local/lib/python3.10/dist-packages (from torch->pgmpy==0.1.25) (12.1.0.106)\n",
            "Requirement already satisfied: nvidia-nccl-cu12==2.20.5 in /usr/local/lib/python3.10/dist-packages (from torch->pgmpy==0.1.25) (2.20.5)\n",
            "Requirement already satisfied: nvidia-nvtx-cu12==12.1.105 in /usr/local/lib/python3.10/dist-packages (from torch->pgmpy==0.1.25) (12.1.105)\n",
            "Requirement already satisfied: triton==2.3.1 in /usr/local/lib/python3.10/dist-packages (from torch->pgmpy==0.1.25) (2.3.1)\n",
            "Requirement already satisfied: nvidia-nvjitlink-cu12 in /usr/local/lib/python3.10/dist-packages (from nvidia-cusolver-cu12==11.4.5.107->torch->pgmpy==0.1.25) (12.5.82)\n",
            "Requirement already satisfied: six in /usr/local/lib/python3.10/dist-packages (from patsy>=0.5.6->statsmodels->pgmpy==0.1.25) (1.16.0)\n",
            "Requirement already satisfied: MarkupSafe>=2.0 in /usr/local/lib/python3.10/dist-packages (from jinja2->torch->pgmpy==0.1.25) (2.1.5)\n",
            "Requirement already satisfied: mpmath<1.4,>=1.1.0 in /usr/local/lib/python3.10/dist-packages (from sympy->torch->pgmpy==0.1.25) (1.3.0)\n"
          ]
        }
      ],
      "source": [
        "# This code works with the following library versions. Older or more recent versions may work as well.\n",
        "!pip install pyro-ppl==1.9.0\n",
        "!pip install pandas==2.2.1\n",
        "!pip install pgmpy==0.1.25"
      ]
    },
    {
      "cell_type": "markdown",
      "metadata": {
        "id": "VwYiFp-SkLWc"
      },
      "source": [
        "This tutorial works through the online gaming case study in chapter 7. In this case study, you imagine you are a data scientist at an online role-playing game company. Your leadership wants to know if side-quest engagement (mini-objectives that are tangential to the game's primary objectives) is a driver of in-game purchases of virtual artifacts. If the answer is yes, the company will intervene in the game dynamics such that players engage in more side-quests.\n",
        "\n",
        "## Listing 7.1: Load side-quest engagement vs in-game purchase data and summarize\n",
        "\n",
        "We first do a naive correlation analysis on observational <i>observational data</i>. In contrast to <i>experimental data</i>, we call this \"observational data\" because it is logged observations of the natural behavior of players as they log in and play. First, we download the data and generate summary statistics."
      ]
    },
    {
      "cell_type": "code",
      "execution_count": 55,
      "metadata": {
        "colab": {
          "base_uri": "https://localhost:8080/",
          "height": 175
        },
        "id": "TP-bCjzR1TKj",
        "outputId": "4e3c73d1-f2a0-424a-d40f-5167a6cd1364"
      },
      "outputs": [
        {
          "output_type": "execute_result",
          "data": {
            "text/plain": [
              "                      In-game Purchases                       \n",
              "                                  count        mean        std\n",
              "Side-quest Engagement                                         \n",
              "high                                482  111.609461  55.562334\n",
              "low                                 518   73.096371  75.947688"
            ],
            "text/html": [
              "\n",
              "  <div id=\"df-76badbc2-fa98-4aa5-a303-9f9484dc252a\" class=\"colab-df-container\">\n",
              "    <div>\n",
              "<style scoped>\n",
              "    .dataframe tbody tr th:only-of-type {\n",
              "        vertical-align: middle;\n",
              "    }\n",
              "\n",
              "    .dataframe tbody tr th {\n",
              "        vertical-align: top;\n",
              "    }\n",
              "\n",
              "    .dataframe thead tr th {\n",
              "        text-align: left;\n",
              "    }\n",
              "\n",
              "    .dataframe thead tr:last-of-type th {\n",
              "        text-align: right;\n",
              "    }\n",
              "</style>\n",
              "<table border=\"1\" class=\"dataframe\">\n",
              "  <thead>\n",
              "    <tr>\n",
              "      <th></th>\n",
              "      <th colspan=\"3\" halign=\"left\">In-game Purchases</th>\n",
              "    </tr>\n",
              "    <tr>\n",
              "      <th></th>\n",
              "      <th>count</th>\n",
              "      <th>mean</th>\n",
              "      <th>std</th>\n",
              "    </tr>\n",
              "    <tr>\n",
              "      <th>Side-quest Engagement</th>\n",
              "      <th></th>\n",
              "      <th></th>\n",
              "      <th></th>\n",
              "    </tr>\n",
              "  </thead>\n",
              "  <tbody>\n",
              "    <tr>\n",
              "      <th>high</th>\n",
              "      <td>482</td>\n",
              "      <td>111.609461</td>\n",
              "      <td>55.562334</td>\n",
              "    </tr>\n",
              "    <tr>\n",
              "      <th>low</th>\n",
              "      <td>518</td>\n",
              "      <td>73.096371</td>\n",
              "      <td>75.947688</td>\n",
              "    </tr>\n",
              "  </tbody>\n",
              "</table>\n",
              "</div>\n",
              "    <div class=\"colab-df-buttons\">\n",
              "\n",
              "  <div class=\"colab-df-container\">\n",
              "    <button class=\"colab-df-convert\" onclick=\"convertToInteractive('df-76badbc2-fa98-4aa5-a303-9f9484dc252a')\"\n",
              "            title=\"Convert this dataframe to an interactive table.\"\n",
              "            style=\"display:none;\">\n",
              "\n",
              "  <svg xmlns=\"http://www.w3.org/2000/svg\" height=\"24px\" viewBox=\"0 -960 960 960\">\n",
              "    <path d=\"M120-120v-720h720v720H120Zm60-500h600v-160H180v160Zm220 220h160v-160H400v160Zm0 220h160v-160H400v160ZM180-400h160v-160H180v160Zm440 0h160v-160H620v160ZM180-180h160v-160H180v160Zm440 0h160v-160H620v160Z\"/>\n",
              "  </svg>\n",
              "    </button>\n",
              "\n",
              "  <style>\n",
              "    .colab-df-container {\n",
              "      display:flex;\n",
              "      gap: 12px;\n",
              "    }\n",
              "\n",
              "    .colab-df-convert {\n",
              "      background-color: #E8F0FE;\n",
              "      border: none;\n",
              "      border-radius: 50%;\n",
              "      cursor: pointer;\n",
              "      display: none;\n",
              "      fill: #1967D2;\n",
              "      height: 32px;\n",
              "      padding: 0 0 0 0;\n",
              "      width: 32px;\n",
              "    }\n",
              "\n",
              "    .colab-df-convert:hover {\n",
              "      background-color: #E2EBFA;\n",
              "      box-shadow: 0px 1px 2px rgba(60, 64, 67, 0.3), 0px 1px 3px 1px rgba(60, 64, 67, 0.15);\n",
              "      fill: #174EA6;\n",
              "    }\n",
              "\n",
              "    .colab-df-buttons div {\n",
              "      margin-bottom: 4px;\n",
              "    }\n",
              "\n",
              "    [theme=dark] .colab-df-convert {\n",
              "      background-color: #3B4455;\n",
              "      fill: #D2E3FC;\n",
              "    }\n",
              "\n",
              "    [theme=dark] .colab-df-convert:hover {\n",
              "      background-color: #434B5C;\n",
              "      box-shadow: 0px 1px 3px 1px rgba(0, 0, 0, 0.15);\n",
              "      filter: drop-shadow(0px 1px 2px rgba(0, 0, 0, 0.3));\n",
              "      fill: #FFFFFF;\n",
              "    }\n",
              "  </style>\n",
              "\n",
              "    <script>\n",
              "      const buttonEl =\n",
              "        document.querySelector('#df-76badbc2-fa98-4aa5-a303-9f9484dc252a button.colab-df-convert');\n",
              "      buttonEl.style.display =\n",
              "        google.colab.kernel.accessAllowed ? 'block' : 'none';\n",
              "\n",
              "      async function convertToInteractive(key) {\n",
              "        const element = document.querySelector('#df-76badbc2-fa98-4aa5-a303-9f9484dc252a');\n",
              "        const dataTable =\n",
              "          await google.colab.kernel.invokeFunction('convertToInteractive',\n",
              "                                                    [key], {});\n",
              "        if (!dataTable) return;\n",
              "\n",
              "        const docLinkHtml = 'Like what you see? Visit the ' +\n",
              "          '<a target=\"_blank\" href=https://colab.research.google.com/notebooks/data_table.ipynb>data table notebook</a>'\n",
              "          + ' to learn more about interactive tables.';\n",
              "        element.innerHTML = '';\n",
              "        dataTable['output_type'] = 'display_data';\n",
              "        await google.colab.output.renderOutput(dataTable, element);\n",
              "        const docLink = document.createElement('div');\n",
              "        docLink.innerHTML = docLinkHtml;\n",
              "        element.appendChild(docLink);\n",
              "      }\n",
              "    </script>\n",
              "  </div>\n",
              "\n",
              "\n",
              "<div id=\"df-36805c5a-7131-46e4-9b0c-8f40e141506f\">\n",
              "  <button class=\"colab-df-quickchart\" onclick=\"quickchart('df-36805c5a-7131-46e4-9b0c-8f40e141506f')\"\n",
              "            title=\"Suggest charts\"\n",
              "            style=\"display:none;\">\n",
              "\n",
              "<svg xmlns=\"http://www.w3.org/2000/svg\" height=\"24px\"viewBox=\"0 0 24 24\"\n",
              "     width=\"24px\">\n",
              "    <g>\n",
              "        <path d=\"M19 3H5c-1.1 0-2 .9-2 2v14c0 1.1.9 2 2 2h14c1.1 0 2-.9 2-2V5c0-1.1-.9-2-2-2zM9 17H7v-7h2v7zm4 0h-2V7h2v10zm4 0h-2v-4h2v4z\"/>\n",
              "    </g>\n",
              "</svg>\n",
              "  </button>\n",
              "\n",
              "<style>\n",
              "  .colab-df-quickchart {\n",
              "      --bg-color: #E8F0FE;\n",
              "      --fill-color: #1967D2;\n",
              "      --hover-bg-color: #E2EBFA;\n",
              "      --hover-fill-color: #174EA6;\n",
              "      --disabled-fill-color: #AAA;\n",
              "      --disabled-bg-color: #DDD;\n",
              "  }\n",
              "\n",
              "  [theme=dark] .colab-df-quickchart {\n",
              "      --bg-color: #3B4455;\n",
              "      --fill-color: #D2E3FC;\n",
              "      --hover-bg-color: #434B5C;\n",
              "      --hover-fill-color: #FFFFFF;\n",
              "      --disabled-bg-color: #3B4455;\n",
              "      --disabled-fill-color: #666;\n",
              "  }\n",
              "\n",
              "  .colab-df-quickchart {\n",
              "    background-color: var(--bg-color);\n",
              "    border: none;\n",
              "    border-radius: 50%;\n",
              "    cursor: pointer;\n",
              "    display: none;\n",
              "    fill: var(--fill-color);\n",
              "    height: 32px;\n",
              "    padding: 0;\n",
              "    width: 32px;\n",
              "  }\n",
              "\n",
              "  .colab-df-quickchart:hover {\n",
              "    background-color: var(--hover-bg-color);\n",
              "    box-shadow: 0 1px 2px rgba(60, 64, 67, 0.3), 0 1px 3px 1px rgba(60, 64, 67, 0.15);\n",
              "    fill: var(--button-hover-fill-color);\n",
              "  }\n",
              "\n",
              "  .colab-df-quickchart-complete:disabled,\n",
              "  .colab-df-quickchart-complete:disabled:hover {\n",
              "    background-color: var(--disabled-bg-color);\n",
              "    fill: var(--disabled-fill-color);\n",
              "    box-shadow: none;\n",
              "  }\n",
              "\n",
              "  .colab-df-spinner {\n",
              "    border: 2px solid var(--fill-color);\n",
              "    border-color: transparent;\n",
              "    border-bottom-color: var(--fill-color);\n",
              "    animation:\n",
              "      spin 1s steps(1) infinite;\n",
              "  }\n",
              "\n",
              "  @keyframes spin {\n",
              "    0% {\n",
              "      border-color: transparent;\n",
              "      border-bottom-color: var(--fill-color);\n",
              "      border-left-color: var(--fill-color);\n",
              "    }\n",
              "    20% {\n",
              "      border-color: transparent;\n",
              "      border-left-color: var(--fill-color);\n",
              "      border-top-color: var(--fill-color);\n",
              "    }\n",
              "    30% {\n",
              "      border-color: transparent;\n",
              "      border-left-color: var(--fill-color);\n",
              "      border-top-color: var(--fill-color);\n",
              "      border-right-color: var(--fill-color);\n",
              "    }\n",
              "    40% {\n",
              "      border-color: transparent;\n",
              "      border-right-color: var(--fill-color);\n",
              "      border-top-color: var(--fill-color);\n",
              "    }\n",
              "    60% {\n",
              "      border-color: transparent;\n",
              "      border-right-color: var(--fill-color);\n",
              "    }\n",
              "    80% {\n",
              "      border-color: transparent;\n",
              "      border-right-color: var(--fill-color);\n",
              "      border-bottom-color: var(--fill-color);\n",
              "    }\n",
              "    90% {\n",
              "      border-color: transparent;\n",
              "      border-bottom-color: var(--fill-color);\n",
              "    }\n",
              "  }\n",
              "</style>\n",
              "\n",
              "  <script>\n",
              "    async function quickchart(key) {\n",
              "      const quickchartButtonEl =\n",
              "        document.querySelector('#' + key + ' button');\n",
              "      quickchartButtonEl.disabled = true;  // To prevent multiple clicks.\n",
              "      quickchartButtonEl.classList.add('colab-df-spinner');\n",
              "      try {\n",
              "        const charts = await google.colab.kernel.invokeFunction(\n",
              "            'suggestCharts', [key], {});\n",
              "      } catch (error) {\n",
              "        console.error('Error during call to suggestCharts:', error);\n",
              "      }\n",
              "      quickchartButtonEl.classList.remove('colab-df-spinner');\n",
              "      quickchartButtonEl.classList.add('colab-df-quickchart-complete');\n",
              "    }\n",
              "    (() => {\n",
              "      let quickchartButtonEl =\n",
              "        document.querySelector('#df-36805c5a-7131-46e4-9b0c-8f40e141506f button');\n",
              "      quickchartButtonEl.style.display =\n",
              "        google.colab.kernel.accessAllowed ? 'block' : 'none';\n",
              "    })();\n",
              "  </script>\n",
              "</div>\n",
              "\n",
              "  <div id=\"id_5be56914-1d6b-469a-876d-13d9db748f7e\">\n",
              "    <style>\n",
              "      .colab-df-generate {\n",
              "        background-color: #E8F0FE;\n",
              "        border: none;\n",
              "        border-radius: 50%;\n",
              "        cursor: pointer;\n",
              "        display: none;\n",
              "        fill: #1967D2;\n",
              "        height: 32px;\n",
              "        padding: 0 0 0 0;\n",
              "        width: 32px;\n",
              "      }\n",
              "\n",
              "      .colab-df-generate:hover {\n",
              "        background-color: #E2EBFA;\n",
              "        box-shadow: 0px 1px 2px rgba(60, 64, 67, 0.3), 0px 1px 3px 1px rgba(60, 64, 67, 0.15);\n",
              "        fill: #174EA6;\n",
              "      }\n",
              "\n",
              "      [theme=dark] .colab-df-generate {\n",
              "        background-color: #3B4455;\n",
              "        fill: #D2E3FC;\n",
              "      }\n",
              "\n",
              "      [theme=dark] .colab-df-generate:hover {\n",
              "        background-color: #434B5C;\n",
              "        box-shadow: 0px 1px 3px 1px rgba(0, 0, 0, 0.15);\n",
              "        filter: drop-shadow(0px 1px 2px rgba(0, 0, 0, 0.3));\n",
              "        fill: #FFFFFF;\n",
              "      }\n",
              "    </style>\n",
              "    <button class=\"colab-df-generate\" onclick=\"generateWithVariable('summary')\"\n",
              "            title=\"Generate code using this dataframe.\"\n",
              "            style=\"display:none;\">\n",
              "\n",
              "  <svg xmlns=\"http://www.w3.org/2000/svg\" height=\"24px\"viewBox=\"0 0 24 24\"\n",
              "       width=\"24px\">\n",
              "    <path d=\"M7,19H8.4L18.45,9,17,7.55,7,17.6ZM5,21V16.75L18.45,3.32a2,2,0,0,1,2.83,0l1.4,1.43a1.91,1.91,0,0,1,.58,1.4,1.91,1.91,0,0,1-.58,1.4L9.25,21ZM18.45,9,17,7.55Zm-12,3A5.31,5.31,0,0,0,4.9,8.1,5.31,5.31,0,0,0,1,6.5,5.31,5.31,0,0,0,4.9,4.9,5.31,5.31,0,0,0,6.5,1,5.31,5.31,0,0,0,8.1,4.9,5.31,5.31,0,0,0,12,6.5,5.46,5.46,0,0,0,6.5,12Z\"/>\n",
              "  </svg>\n",
              "    </button>\n",
              "    <script>\n",
              "      (() => {\n",
              "      const buttonEl =\n",
              "        document.querySelector('#id_5be56914-1d6b-469a-876d-13d9db748f7e button.colab-df-generate');\n",
              "      buttonEl.style.display =\n",
              "        google.colab.kernel.accessAllowed ? 'block' : 'none';\n",
              "\n",
              "      buttonEl.onclick = () => {\n",
              "        google.colab.notebook.generateWithVariable('summary');\n",
              "      }\n",
              "      })();\n",
              "    </script>\n",
              "  </div>\n",
              "\n",
              "    </div>\n",
              "  </div>\n"
            ],
            "application/vnd.google.colaboratory.intrinsic+json": {
              "type": "dataframe",
              "variable_name": "summary",
              "summary": "{\n  \"name\": \"summary\",\n  \"rows\": 2,\n  \"fields\": [\n    {\n      \"column\": [\n        \"Side-quest Engagement\",\n        \"\"\n      ],\n      \"properties\": {\n        \"dtype\": \"string\",\n        \"num_unique_values\": 2,\n        \"samples\": [\n          \"low\",\n          \"high\"\n        ],\n        \"semantic_type\": \"\",\n        \"description\": \"\"\n      }\n    },\n    {\n      \"column\": [\n        \"In-game Purchases\",\n        \"count\"\n      ],\n      \"properties\": {\n        \"dtype\": \"number\",\n        \"std\": 25,\n        \"min\": 482,\n        \"max\": 518,\n        \"num_unique_values\": 2,\n        \"samples\": [\n          518,\n          482\n        ],\n        \"semantic_type\": \"\",\n        \"description\": \"\"\n      }\n    },\n    {\n      \"column\": [\n        \"In-game Purchases\",\n        \"mean\"\n      ],\n      \"properties\": {\n        \"dtype\": \"number\",\n        \"std\": 27.2328670500911,\n        \"min\": 73.09637065637065,\n        \"max\": 111.60946058091287,\n        \"num_unique_values\": 2,\n        \"samples\": [\n          73.09637065637065,\n          111.60946058091287\n        ],\n        \"semantic_type\": \"\",\n        \"description\": \"\"\n      }\n    },\n    {\n      \"column\": [\n        \"In-game Purchases\",\n        \"std\"\n      ],\n      \"properties\": {\n        \"dtype\": \"number\",\n        \"std\": 14.414621926374958,\n        \"min\": 55.562334144562335,\n        \"max\": 75.94768796932239,\n        \"num_unique_values\": 2,\n        \"samples\": [\n          75.94768796932239,\n          55.562334144562335\n        ],\n        \"semantic_type\": \"\",\n        \"description\": \"\"\n      }\n    }\n  ]\n}"
            }
          },
          "metadata": {},
          "execution_count": 55
        }
      ],
      "source": [
        "import pandas as pd\n",
        "data_url = (    #A\n",
        "    \"https://raw.githubusercontent.com/altdeep/causalML/master/\"    #A\n",
        "    \"datasets/sidequests_and_purchases_obs.csv\"    #A\n",
        ")    #A\n",
        "df = pd.read_csv(data_url)    #A\n",
        "summary = df.drop('User ID', axis=1).groupby(    #B\n",
        "    [\"Side-quest Engagement\"]    #B\n",
        ").agg(    #C\n",
        "    ['count', 'mean', 'std']    #C\n",
        ")    #C\n",
        "summary\n",
        "\n",
        "#A Load the data from the database query into a pandas dataframe.\n",
        "#B For each level of side-quest engagement (\"low\", \"high\")...\n",
        "#C Calculate the sample count (number of players), the sample mean in-game purchase amount, and the standard deviation."
      ]
    },
    {
      "cell_type": "markdown",
      "metadata": {
        "id": "UrEdUX4xUxWe"
      },
      "source": [
        "## Listing 7.2: Test if the (observational) difference in mean in-game purchases is statistically significant\n",
        "\n",
        "We want to know if there is a significant difference in in-game purchases between players with high side-quest engagement and players with low side-quest engagement. Below, we look at the difference in means between the two groups. The difference is positive, but just to be rigorous, we run a simple statistical test for significance. The following test computes a z-score. We'll conclude the difference is significant if the z-score is more than two standard deviations from the mean (roughly close to a significance level of .05)."
      ]
    },
    {
      "cell_type": "code",
      "execution_count": 56,
      "metadata": {
        "colab": {
          "base_uri": "https://localhost:8080/"
        },
        "id": "rkWUiKYuVD8V",
        "outputId": "a39f0f29-63f0-4eba-c15c-bba790190dc6"
      },
      "outputs": [
        {
          "output_type": "execute_result",
          "data": {
            "text/plain": [
              "True"
            ]
          },
          "metadata": {},
          "execution_count": 56
        }
      ],
      "source": [
        "n1, n2 = summary['In-game Purchases']['count']    #A\n",
        "m1, m2 = summary['In-game Purchases']['mean']    #B\n",
        "s1, s2 =  summary['In-game Purchases']['std']    #C\n",
        "pooled_std = (s1**2 / n1 + s2**2 / n2) **.5    #D\n",
        "z_score = (m1 - m2) / pooled_std    #E\n",
        "abs(z_score) > 2.  #F\n",
        "#A n1 and n2 are the number of players in each group (high vs low engagement).\n",
        "#B m1 and m2 are the group sample means.\n",
        "#C s1 and s2 are the group standard deviations.\n",
        "#D Estimate the standard error of the difference in mean spend by pooling (combining) the group standard deviations.\n",
        "#E Convert to a z-score, which has a standard norm under the (null) hypothesis of no difference in spend across engagement levels.\n",
        "#F Tests if the z-score is more than 2 standard deviations from 0, which beats a 5% significance threshold."
      ]
    },
    {
      "cell_type": "markdown",
      "metadata": {
        "id": "0aRmwqDKkLWd"
      },
      "source": [
        "The difference is significant. If you reported this result to your leadership, they might decide to modify the game to encourage more side-quest engagement.\n",
        "\n",
        "## Listing 7.3: Load experimental data and summarize\n",
        "\n",
        "But this would be a mistake. To see why, we look at data from an experiment that randomly assigned players to a groups where one group was encouraged to have high side-quest engagement and the other group was encouraged to have lower engagement. Let's repeat the analysis with this data."
      ]
    },
    {
      "cell_type": "code",
      "execution_count": 57,
      "metadata": {
        "colab": {
          "base_uri": "https://localhost:8080/"
        },
        "id": "lrKQNEy58ZcG",
        "outputId": "f04de646-c32b-4dc3-aa77-6d7c3cb02649"
      },
      "outputs": [
        {
          "output_type": "stream",
          "name": "stdout",
          "text": [
            "                      In-game Purchases                      \n",
            "                                  count       mean        std\n",
            "Side-quest Engagement                                        \n",
            "high                                500   92.99054  51.673631\n",
            "low                                 500  131.38228  94.840705\n"
          ]
        }
      ],
      "source": [
        "import pandas as pd\n",
        "exp_data_url = (    #A\n",
        "    \"https://raw.githubusercontent.com/altdeep/causalML/master/\"    #A\n",
        "    \"datasets/sidequests_and_purchases_exp.csv\"    #A\n",
        ")    #A\n",
        "df = pd.read_csv(exp_data_url)    #A\n",
        "summary = df.drop('User ID', axis=1).groupby(    #B\n",
        "    [\"Side-quest Engagement\"]    #B\n",
        ").agg(    #C\n",
        "    ['count', 'mean', 'std']    #C\n",
        ")\n",
        "print(summary)\n",
        "#A Load the experimental data from the database query into a pandas dataframe.\n",
        "#B For each level of side-quest engagement (\"low\", \"high\")…\n",
        "#C …calculate the sample count (number of players), the sample mean in-game purchase amount, and the standard deviation."
      ]
    },
    {
      "cell_type": "markdown",
      "source": [
        "## Listing 7.4: Test if the (experimental) difference in mean in-game purchases is statistically significant."
      ],
      "metadata": {
        "id": "gyZ5vUxFsXLD"
      }
    },
    {
      "cell_type": "code",
      "source": [
        "n1, n2 = summary['In-game Purchases']['count']    #A\n",
        "m1, m2 = summary['In-game Purchases']['mean']    #B\n",
        "s1, s2 =  summary['In-game Purchases']['std']    #C\n",
        "pooled_std = (s1**2 / n1 + s2**2 / n2) **.5    #D\n",
        "z_score = (m1 - m2) / pooled_std    #E\n",
        "abs(z_score) > 2.    #F\n",
        "#A n1 and n2 are the number of players in each group (high vs low engagement).\n",
        "#B m1 and m2 are the group sample means.\n",
        "#C s1 and s2 are the group standard deviations.\n",
        "#D Estimate the standard error of the difference in mean spend by pooling (combining) the group standard deviations.\n",
        "#E Convert to a z-score, which has a standard norm under the (null) hypothesis of no difference in spend across engagement levels.\n",
        "#F Tests if the z-score is more than 2 standard deviations from 0, which beats a 5% significance threshold."
      ],
      "metadata": {
        "colab": {
          "base_uri": "https://localhost:8080/"
        },
        "id": "ZXTl0x_YrsX5",
        "outputId": "ad010464-8b35-4962-f6e4-f2d1ebfb2788"
      },
      "execution_count": 58,
      "outputs": [
        {
          "output_type": "execute_result",
          "data": {
            "text/plain": [
              "True"
            ]
          },
          "metadata": {},
          "execution_count": 58
        }
      ]
    },
    {
      "cell_type": "markdown",
      "metadata": {
        "id": "4a0LFlyYVkoB"
      },
      "source": [
        "We still get a statistically different result, but the effect size is negative.\n",
        "\n",
        "Obviously, experimental results are preferable to observational results. Statistical common sense tells us that correlation does not imply causality, and that the difference in group means reflects correlation in the observational study, and refects causation in the experimental study.\n",
        "\n",
        "Experimental data is great, but it may not be readily available. Acquiring experimental data may be infeasible and when it is feasible, it has a cost. Even in cases when it is cheap and easy to run experiments, like in an online media company, there are still <i>opportunity costs</i> to running experiments -- see the book for discussion.\n",
        "\n",
        "Ideally, we could achieve the results we got with experimental data with only the observational data simply by incorporating some causal assumptions into that analysis. We do that next."
      ]
    },
    {
      "cell_type": "markdown",
      "metadata": {
        "id": "4iZCNPqDNKwn"
      },
      "source": [
        "# Building a generative model for use in simulating the experiment with intervention.\n",
        "\n",
        "Next, we assume the following causal DAG.\n",
        "\n",
        "![online game DAG](images/online-game-dag.png)\n",
        "\n",
        "Here, we introduce Guild Membership - whether a player belongs to a player guild - as a common cause of side-quest engagement and in-game purchases.\n",
        "\n",
        "Next, we use Pyro to build a full causal generative model on the observational data. First, we'll download the full observational data inclusive of guild membership. We'll then use that data to estimate some parameters for this model.\n",
        "\n",
        "## Listing 7.5: Estimate the probability distribution of Guild Membership"
      ]
    },
    {
      "cell_type": "code",
      "execution_count": 59,
      "metadata": {
        "id": "IyfgGcndVoht"
      },
      "outputs": [],
      "source": [
        "import pandas as pd\n",
        "full_obs_url = (    #A\n",
        "    \"https://raw.githubusercontent.com/altdeep/causalML/master/\"    #A\n",
        "    \"datasets/sidequests_and_purchases_full_obs.csv\"    #A\n",
        ")    #A\n",
        "df = pd.read_csv(full_obs_url)     #A"
      ]
    },
    {
      "cell_type": "markdown",
      "metadata": {
        "id": "HjYrgO1nkLWe"
      },
      "source": [
        "First, we'll estimate the marginal distribution of guild membership."
      ]
    },
    {
      "cell_type": "code",
      "execution_count": 60,
      "metadata": {
        "colab": {
          "base_uri": "https://localhost:8080/"
        },
        "id": "6Gf-ONSkkLWe",
        "outputId": "a8ebc584-aa74-4824-d28d-8d99109d4812"
      },
      "outputs": [
        {
          "output_type": "stream",
          "name": "stdout",
          "text": [
            "Guild Membership\n",
            "nonmember    0.515\n",
            "member       0.485\n",
            "Name: count, dtype: float64\n"
          ]
        }
      ],
      "source": [
        "membership_counts = df['Guild Membership'].value_counts()    #B\n",
        "dist_guild_membership = membership_counts / sum(membership_counts)    #B\n",
        "print(dist_guild_membership)    #B\n",
        "#A Load the data from the database query into a pandas dataframe.\n",
        "#B Calculate the proportions of members vs. nonmembers"
      ]
    },
    {
      "cell_type": "code",
      "execution_count": 61,
      "metadata": {
        "colab": {
          "base_uri": "https://localhost:8080/"
        },
        "id": "8QhkMBTDkLWe",
        "outputId": "e3e040a1-90ef-42f4-ba54-737d2bc20842"
      },
      "outputs": [
        {
          "output_type": "execute_result",
          "data": {
            "text/plain": [
              "0.485"
            ]
          },
          "metadata": {},
          "execution_count": 61
        }
      ],
      "source": [
        "dist_guild_membership.member"
      ]
    },
    {
      "cell_type": "markdown",
      "metadata": {
        "id": "2CuCrKoNNerw"
      },
      "source": [
        "## Listing 7.6: Estimate the conditional probability distribution of Side-quest Engagement given Guild Membership\n",
        "\n",
        "Next, we calculate the probability distribution of side-quest engagement for guild members and nonmembers respectively. First we calculate the probability distribution of side-quest engagement level (\"high\" vs \"low\") given that a player is a member of a guild, then we calculate the probability distribution of side-quest engagement level given that a player is not a member of a guild."
      ]
    },
    {
      "cell_type": "code",
      "source": [
        "member_subset = df[(df['Guild Membership'] == 'member')]    #A\n",
        "member_engagement_counts = (    #A\n",
        "    member_subset['Side-quest Engagement'].value_counts()    #A\n",
        ")    #A\n",
        "dist_engagement_member = (    #A\n",
        "    member_engagement_counts / sum(member_engagement_counts)    #A\n",
        ")    #A\n",
        "print(dist_engagement_member)    #A\n",
        "\n",
        "nonmember_subset = df[(df['Guild Membership'] == 'nonmember')]    #B\n",
        "nonmember_engagement_counts = (    #B\n",
        "    nonmember_subset['Side-quest Engagement'].value_counts()    #B\n",
        ")    #B\n",
        "dist_engagement_nonmember = (    #B\n",
        "    nonmember_engagement_counts / sum(nonmember_engagement_counts)    #B\n",
        ")    #B\n",
        "print(dist_engagement_nonmember)    #B\n",
        "#A Calculate the probability distribution of side-quest engagement level (\"high\" vs \"low\") given that a player is a member of a guild.\n",
        "#B Calculate the probability distribution of side-quest engagement level (\"high\" vs \"low\") given that a player is not a member of a guild."
      ],
      "metadata": {
        "colab": {
          "base_uri": "https://localhost:8080/"
        },
        "id": "ySBVE0ts3nA8",
        "outputId": "0583830b-1678-4ebb-f470-d0fefd7a505d"
      },
      "execution_count": 62,
      "outputs": [
        {
          "output_type": "stream",
          "name": "stdout",
          "text": [
            "Side-quest Engagement\n",
            "high    0.797938\n",
            "low     0.202062\n",
            "Name: count, dtype: float64\n",
            "Side-quest Engagement\n",
            "low     0.815534\n",
            "high    0.184466\n",
            "Name: count, dtype: float64\n"
          ]
        }
      ]
    },
    {
      "cell_type": "markdown",
      "metadata": {
        "id": "ngM9h303N85O"
      },
      "source": [
        "Next, for each combination of guild membership and side-quest engagement, calculate the mean and standard deviation of in-game purchases.\n",
        "\n",
        "## Listing 7.7: Calculate the mean and standard deviation of in-game purchases within each combination of level of side-quest engagement and guild membership status"
      ]
    },
    {
      "cell_type": "code",
      "execution_count": 63,
      "metadata": {
        "colab": {
          "base_uri": "https://localhost:8080/"
        },
        "id": "yAMYV-oEW1zV",
        "outputId": "77006ee4-032f-4ef8-b6f3-eb0bea8f7259"
      },
      "outputs": [
        {
          "output_type": "stream",
          "name": "stdout",
          "text": [
            "      In-game Purchases\n",
            "mean              37.95\n",
            "std               23.80\n",
            "      In-game Purchases\n",
            "mean              54.92\n",
            "std                4.92\n",
            "      In-game Purchases\n",
            "mean             223.71\n",
            "std                5.30\n",
            "      In-game Purchases\n",
            "mean             125.53\n",
            "std               53.44\n"
          ]
        }
      ],
      "source": [
        "# Estimate the sample mean and standard deviation of in-game purchases for non-guild-members with low side-quest engagement.\n",
        "purchase_dist_nonmember_low_engagement = df[    #A\n",
        "    (df['Guild Membership'] == 'nonmember') &    #A\n",
        "    (df['Side-quest Engagement'] == 'low')    #A\n",
        "].drop(     #A\n",
        "  ['User ID', 'Side-quest Engagement', 'Guild Membership'], axis=1     #A\n",
        ").agg(['mean', 'std'])     #A\n",
        "print(round(purchase_dist_nonmember_low_engagement, 2))    #A\n",
        "\n",
        "# Estimate the sample mean and standard deviation of in-game purchases for non-guild-members with high side-quest engagement.\n",
        "purchase_dist_nonmember_high_engagement = df[    #B\n",
        "    (df['Guild Membership'] == 'nonmember') &    #B\n",
        "    (df['Side-quest Engagement'] == 'high')    #B\n",
        "].drop(    #B\n",
        "  ['User ID', 'Side-quest Engagement', 'Guild Membership'], axis=1    #B\n",
        ").agg(['mean', 'std'])    #B\n",
        "print(round(purchase_dist_nonmember_high_engagement, 2))    #B\n",
        "\n",
        "# Estimate the sample mean and standard deviation of in-game purchases for guild-members with low side-quest engagement.\n",
        "purchase_dist_member_low_engagement = df[    #C\n",
        "    (df['Guild Membership'] == 'member') &    #C\n",
        "    (df['Side-quest Engagement'] == 'low')    #C\n",
        "].drop(    #C\n",
        "  ['User ID', 'Side-quest Engagement', 'Guild Membership'], axis=1    #C\n",
        ").agg(['mean', 'std'])    #C\n",
        "print(round(purchase_dist_member_low_engagement, 2))    #C\n",
        "\n",
        "# Estimate the sample mean and standard deviation of in-game purchases for guild-members with high side-quest engagement.\n",
        "purchase_dist_member_high_engagement = df[    #D\n",
        "    (df['Guild Membership'] == 'member') &    #D\n",
        "    (df['Side-quest Engagement'] == 'high')    #D\n",
        "].drop(    #D\n",
        "  ['User ID', 'Side-quest Engagement', 'Guild Membership'], axis=1    #D\n",
        ").agg(['mean', 'std'])     #D\n",
        "print(round(purchase_dist_member_high_engagement, 2))    #D\n",
        "#A Estimate the sample mean and standard deviation of in-game purchases for non-guild-members with low side-quest engagement.\n",
        "#B Estimate the sample mean and standard deviation of in-game purchases for non-guild-members with high side-quest engagement.\n",
        "#C Estimate the sample mean and standard deviation of in-game purchases for guild-members with low side-quest engagement.\n",
        "#D Estimate the sample mean and standard deviation of in-game purchases for guild-members with high side-quest engagement."
      ]
    },
    {
      "cell_type": "markdown",
      "metadata": {
        "id": "XgDpro60OoHl"
      },
      "source": [
        "## Listing 7.8 Building a causal model of In-Game Purchases in pyro\n",
        "\n",
        "We'll use these sample statistics as parameter values in a generative model on the causal DAG. For Guild Membership and Side-Quest engagement, we'll use the sample proportions to estimate Bernoulli parameters. For in-game purchases, we use a normal distributions."
      ]
    },
    {
      "cell_type": "code",
      "execution_count": 64,
      "metadata": {
        "id": "jEHi29iNRx0F"
      },
      "outputs": [],
      "source": [
        "import pyro\n",
        "from torch import tensor\n",
        "from pyro.distributions import Bernoulli, Normal\n",
        "\n",
        "def model():\n",
        "    p_member = tensor(0.5)    #A\n",
        "    is_guild_member = pyro.sample(    #A\n",
        "        \"Guild Membership\",    #A\n",
        "        Bernoulli(p_member)    #A\n",
        "    )    #A\n",
        "    p_engaged = (tensor(0.8)*is_guild_member +    #B\n",
        "                 tensor(.2)*(1-is_guild_member))    #B\n",
        "    is_highly_engaged = pyro.sample(    #B\n",
        "        \"Side-quest Engagement\",    #B\n",
        "        Bernoulli(p_engaged)    #B\n",
        "    )    #B\n",
        "    get_purchase_param = lambda param1, param2, param3, param4: (    #C\n",
        "        param1 * (1-is_guild_member) * (1-is_highly_engaged) +    #C\n",
        "        param2 * (1-is_guild_member) * (is_highly_engaged) +    #C\n",
        "        param3 * (is_guild_member)   * (1-is_highly_engaged) +    #C\n",
        "        param4 * (is_guild_member)   * (is_highly_engaged)    #C\n",
        "    )    #C\n",
        "    μ = get_purchase_param(37.95, 54.92, 223.71, 125.50)    #D\n",
        "    σ = get_purchase_param(23.80, 4.92, 5.30, 53.49)    #D\n",
        "    in_game_purchases = pyro.sample(   #D\n",
        "        \"In-game Purchases\",   #D\n",
        "        Normal(μ, σ)    #D\n",
        "    )   #D\n",
        "    guild_membership = \"member\" if is_guild_member else \"nonmember\"    #E\n",
        "    engagement = \"high\" if is_highly_engaged else \"low\"    #E\n",
        "    in_game_purchases = float(in_game_purchases)    #E\n",
        "    return guild_membership, engagement, in_game_purchases    #E\n",
        "#A Probability of being a guild member vs. a non-member is .5. Using this probability, we generate a guild membership value (1 for member, 0 for nonmember) from a Bernoulli distribution.\n",
        "#B We generate a value for side-quest engagement from a Bernoulli distribution (1 for high, 0 for low) with parameter that depends on guild membership.\n",
        "#C Helper function for calculating parameters for in-game purchases.\n",
        "#D I specify the location parameter of a Normal distribution on in-game purchases using the sample means we found in the observational data.\n",
        "#E As with the mean parameters, we specify the scale parameters for a canonical distribution on in-game purchases using the standard deviations we found in the data.\n",
        "#F I use the normal distribution to model in-game purchases.\n",
        "#G Convert the variable values data types in the original data."
      ]
    },
    {
      "cell_type": "markdown",
      "source": [
        "Note that the normal distribution isn't ideal for the case of non-guild-members with low side-quest engagement because the low mean and large scale parameter means we'll generate many negative values.  In-game purchases of course cannot be negative.\n",
        "\n",
        "For our purposes, this is not that big a deal. But it is important to note that unlike pgmpy, Pyro gives us tremendous parameteric flexibility, and we could use that flexibility to address this issue. For example, we could use a [half-normal distribution](https://en.wikipedia.org/wiki/Half-normal_distribution).  Generating from the half-normal distribution is the same as generating from the normal, except any negative values will have their sign changed to positive.  Since this will happen only about 5.5% of the time with negative values close to zero, it would add minimal bias to the mean for this group."
      ],
      "metadata": {
        "id": "vUrBMywe-Nt0"
      }
    },
    {
      "cell_type": "markdown",
      "metadata": {
        "id": "322zKFc2O6Gk"
      },
      "source": [
        "We and use `pyro.render` to confirm that the generative model adheres to our causal DAG."
      ]
    },
    {
      "cell_type": "code",
      "execution_count": 65,
      "metadata": {
        "id": "f14wnt5tVzkG",
        "colab": {
          "base_uri": "https://localhost:8080/",
          "height": 272
        },
        "outputId": "529e3dc0-5b0b-4f7f-ee98-42df6643d56f"
      },
      "outputs": [
        {
          "output_type": "execute_result",
          "data": {
            "image/svg+xml": "<?xml version=\"1.0\" encoding=\"UTF-8\" standalone=\"no\"?>\n<!DOCTYPE svg PUBLIC \"-//W3C//DTD SVG 1.1//EN\"\n \"http://www.w3.org/Graphics/SVG/1.1/DTD/svg11.dtd\">\n<!-- Generated by graphviz version 2.43.0 (0)\n -->\n<!-- Title: %3 Pages: 1 -->\n<svg width=\"243pt\" height=\"188pt\"\n viewBox=\"0.00 0.00 242.53 188.00\" xmlns=\"http://www.w3.org/2000/svg\" xmlns:xlink=\"http://www.w3.org/1999/xlink\">\n<g id=\"graph0\" class=\"graph\" transform=\"scale(1 1) rotate(0) translate(4 184)\">\n<title>%3</title>\n<polygon fill=\"white\" stroke=\"transparent\" points=\"-4,4 -4,-184 238.53,-184 238.53,4 -4,4\"/>\n<!-- Guild Membership -->\n<g id=\"node1\" class=\"node\">\n<title>Guild Membership</title>\n<ellipse fill=\"white\" stroke=\"black\" cx=\"155.89\" cy=\"-162\" rx=\"78.79\" ry=\"18\"/>\n<text text-anchor=\"middle\" x=\"155.89\" y=\"-158.3\" font-family=\"Times,serif\" font-size=\"14.00\">Guild Membership</text>\n</g>\n<!-- Side&#45;quest Engagement -->\n<g id=\"node2\" class=\"node\">\n<title>Side&#45;quest Engagement</title>\n<ellipse fill=\"white\" stroke=\"black\" cx=\"94.89\" cy=\"-90\" rx=\"94.78\" ry=\"18\"/>\n<text text-anchor=\"middle\" x=\"94.89\" y=\"-86.3\" font-family=\"Times,serif\" font-size=\"14.00\">Side&#45;quest Engagement</text>\n</g>\n<!-- Guild Membership&#45;&gt;Side&#45;quest Engagement -->\n<g id=\"edge1\" class=\"edge\">\n<title>Guild Membership&#45;&gt;Side&#45;quest Engagement</title>\n<path fill=\"none\" stroke=\"black\" d=\"M141.13,-144.05C133.63,-135.46 124.4,-124.86 116.15,-115.4\"/>\n<polygon fill=\"black\" stroke=\"black\" points=\"118.73,-113.03 109.52,-107.79 113.45,-117.63 118.73,-113.03\"/>\n</g>\n<!-- In&#45;game Purchases -->\n<g id=\"node3\" class=\"node\">\n<title>In&#45;game Purchases</title>\n<ellipse fill=\"white\" stroke=\"black\" cx=\"155.89\" cy=\"-18\" rx=\"77.99\" ry=\"18\"/>\n<text text-anchor=\"middle\" x=\"155.89\" y=\"-14.3\" font-family=\"Times,serif\" font-size=\"14.00\">In&#45;game Purchases</text>\n</g>\n<!-- Guild Membership&#45;&gt;In&#45;game Purchases -->\n<g id=\"edge2\" class=\"edge\">\n<title>Guild Membership&#45;&gt;In&#45;game Purchases</title>\n<path fill=\"none\" stroke=\"black\" d=\"M174.48,-144.3C183.74,-134.72 193.98,-121.85 198.89,-108 204.24,-92.92 204.24,-87.08 198.89,-72 195.17,-61.51 188.39,-51.58 181.29,-43.21\"/>\n<polygon fill=\"black\" stroke=\"black\" points=\"183.79,-40.75 174.48,-35.7 178.61,-45.46 183.79,-40.75\"/>\n</g>\n<!-- Side&#45;quest Engagement&#45;&gt;In&#45;game Purchases -->\n<g id=\"edge3\" class=\"edge\">\n<title>Side&#45;quest Engagement&#45;&gt;In&#45;game Purchases</title>\n<path fill=\"none\" stroke=\"black\" d=\"M109.66,-72.05C117.15,-63.46 126.39,-52.86 134.63,-43.4\"/>\n<polygon fill=\"black\" stroke=\"black\" points=\"137.33,-45.63 141.26,-35.79 132.05,-41.03 137.33,-45.63\"/>\n</g>\n</g>\n</svg>\n",
            "text/plain": [
              "<graphviz.graphs.Digraph at 0x7958321060e0>"
            ]
          },
          "metadata": {},
          "execution_count": 65
        }
      ],
      "source": [
        "pyro.render_model(model)"
      ]
    },
    {
      "cell_type": "markdown",
      "metadata": {
        "id": "aZ8D9DKnsCVB"
      },
      "source": [
        "Next, we can simulate tfrom the model and confirm that it has a distribution similar to the observational data.\n",
        "\n",
        "Let's look at the distribution of in-game purchases given side-quest engagement."
      ]
    },
    {
      "cell_type": "code",
      "execution_count": 66,
      "metadata": {
        "id": "qaEjxTxmr3DK",
        "colab": {
          "base_uri": "https://localhost:8080/",
          "height": 175
        },
        "outputId": "48b157c8-24f8-4c94-e3bd-57df12b7ce82"
      },
      "outputs": [
        {
          "output_type": "execute_result",
          "data": {
            "text/plain": [
              "                      In-Game Purchases                       \n",
              "                                  count        mean        std\n",
              "Side-quest Engagement                                         \n",
              "high                                500  108.961974  56.128941\n",
              "low                                 500   73.950664  74.599295"
            ],
            "text/html": [
              "\n",
              "  <div id=\"df-90e119a6-9d1b-4c76-9d5e-c0e0d1bb38e5\" class=\"colab-df-container\">\n",
              "    <div>\n",
              "<style scoped>\n",
              "    .dataframe tbody tr th:only-of-type {\n",
              "        vertical-align: middle;\n",
              "    }\n",
              "\n",
              "    .dataframe tbody tr th {\n",
              "        vertical-align: top;\n",
              "    }\n",
              "\n",
              "    .dataframe thead tr th {\n",
              "        text-align: left;\n",
              "    }\n",
              "\n",
              "    .dataframe thead tr:last-of-type th {\n",
              "        text-align: right;\n",
              "    }\n",
              "</style>\n",
              "<table border=\"1\" class=\"dataframe\">\n",
              "  <thead>\n",
              "    <tr>\n",
              "      <th></th>\n",
              "      <th colspan=\"3\" halign=\"left\">In-Game Purchases</th>\n",
              "    </tr>\n",
              "    <tr>\n",
              "      <th></th>\n",
              "      <th>count</th>\n",
              "      <th>mean</th>\n",
              "      <th>std</th>\n",
              "    </tr>\n",
              "    <tr>\n",
              "      <th>Side-quest Engagement</th>\n",
              "      <th></th>\n",
              "      <th></th>\n",
              "      <th></th>\n",
              "    </tr>\n",
              "  </thead>\n",
              "  <tbody>\n",
              "    <tr>\n",
              "      <th>high</th>\n",
              "      <td>500</td>\n",
              "      <td>108.961974</td>\n",
              "      <td>56.128941</td>\n",
              "    </tr>\n",
              "    <tr>\n",
              "      <th>low</th>\n",
              "      <td>500</td>\n",
              "      <td>73.950664</td>\n",
              "      <td>74.599295</td>\n",
              "    </tr>\n",
              "  </tbody>\n",
              "</table>\n",
              "</div>\n",
              "    <div class=\"colab-df-buttons\">\n",
              "\n",
              "  <div class=\"colab-df-container\">\n",
              "    <button class=\"colab-df-convert\" onclick=\"convertToInteractive('df-90e119a6-9d1b-4c76-9d5e-c0e0d1bb38e5')\"\n",
              "            title=\"Convert this dataframe to an interactive table.\"\n",
              "            style=\"display:none;\">\n",
              "\n",
              "  <svg xmlns=\"http://www.w3.org/2000/svg\" height=\"24px\" viewBox=\"0 -960 960 960\">\n",
              "    <path d=\"M120-120v-720h720v720H120Zm60-500h600v-160H180v160Zm220 220h160v-160H400v160Zm0 220h160v-160H400v160ZM180-400h160v-160H180v160Zm440 0h160v-160H620v160ZM180-180h160v-160H180v160Zm440 0h160v-160H620v160Z\"/>\n",
              "  </svg>\n",
              "    </button>\n",
              "\n",
              "  <style>\n",
              "    .colab-df-container {\n",
              "      display:flex;\n",
              "      gap: 12px;\n",
              "    }\n",
              "\n",
              "    .colab-df-convert {\n",
              "      background-color: #E8F0FE;\n",
              "      border: none;\n",
              "      border-radius: 50%;\n",
              "      cursor: pointer;\n",
              "      display: none;\n",
              "      fill: #1967D2;\n",
              "      height: 32px;\n",
              "      padding: 0 0 0 0;\n",
              "      width: 32px;\n",
              "    }\n",
              "\n",
              "    .colab-df-convert:hover {\n",
              "      background-color: #E2EBFA;\n",
              "      box-shadow: 0px 1px 2px rgba(60, 64, 67, 0.3), 0px 1px 3px 1px rgba(60, 64, 67, 0.15);\n",
              "      fill: #174EA6;\n",
              "    }\n",
              "\n",
              "    .colab-df-buttons div {\n",
              "      margin-bottom: 4px;\n",
              "    }\n",
              "\n",
              "    [theme=dark] .colab-df-convert {\n",
              "      background-color: #3B4455;\n",
              "      fill: #D2E3FC;\n",
              "    }\n",
              "\n",
              "    [theme=dark] .colab-df-convert:hover {\n",
              "      background-color: #434B5C;\n",
              "      box-shadow: 0px 1px 3px 1px rgba(0, 0, 0, 0.15);\n",
              "      filter: drop-shadow(0px 1px 2px rgba(0, 0, 0, 0.3));\n",
              "      fill: #FFFFFF;\n",
              "    }\n",
              "  </style>\n",
              "\n",
              "    <script>\n",
              "      const buttonEl =\n",
              "        document.querySelector('#df-90e119a6-9d1b-4c76-9d5e-c0e0d1bb38e5 button.colab-df-convert');\n",
              "      buttonEl.style.display =\n",
              "        google.colab.kernel.accessAllowed ? 'block' : 'none';\n",
              "\n",
              "      async function convertToInteractive(key) {\n",
              "        const element = document.querySelector('#df-90e119a6-9d1b-4c76-9d5e-c0e0d1bb38e5');\n",
              "        const dataTable =\n",
              "          await google.colab.kernel.invokeFunction('convertToInteractive',\n",
              "                                                    [key], {});\n",
              "        if (!dataTable) return;\n",
              "\n",
              "        const docLinkHtml = 'Like what you see? Visit the ' +\n",
              "          '<a target=\"_blank\" href=https://colab.research.google.com/notebooks/data_table.ipynb>data table notebook</a>'\n",
              "          + ' to learn more about interactive tables.';\n",
              "        element.innerHTML = '';\n",
              "        dataTable['output_type'] = 'display_data';\n",
              "        await google.colab.output.renderOutput(dataTable, element);\n",
              "        const docLink = document.createElement('div');\n",
              "        docLink.innerHTML = docLinkHtml;\n",
              "        element.appendChild(docLink);\n",
              "      }\n",
              "    </script>\n",
              "  </div>\n",
              "\n",
              "\n",
              "<div id=\"df-f4c49259-e13b-427f-8210-f82166b46793\">\n",
              "  <button class=\"colab-df-quickchart\" onclick=\"quickchart('df-f4c49259-e13b-427f-8210-f82166b46793')\"\n",
              "            title=\"Suggest charts\"\n",
              "            style=\"display:none;\">\n",
              "\n",
              "<svg xmlns=\"http://www.w3.org/2000/svg\" height=\"24px\"viewBox=\"0 0 24 24\"\n",
              "     width=\"24px\">\n",
              "    <g>\n",
              "        <path d=\"M19 3H5c-1.1 0-2 .9-2 2v14c0 1.1.9 2 2 2h14c1.1 0 2-.9 2-2V5c0-1.1-.9-2-2-2zM9 17H7v-7h2v7zm4 0h-2V7h2v10zm4 0h-2v-4h2v4z\"/>\n",
              "    </g>\n",
              "</svg>\n",
              "  </button>\n",
              "\n",
              "<style>\n",
              "  .colab-df-quickchart {\n",
              "      --bg-color: #E8F0FE;\n",
              "      --fill-color: #1967D2;\n",
              "      --hover-bg-color: #E2EBFA;\n",
              "      --hover-fill-color: #174EA6;\n",
              "      --disabled-fill-color: #AAA;\n",
              "      --disabled-bg-color: #DDD;\n",
              "  }\n",
              "\n",
              "  [theme=dark] .colab-df-quickchart {\n",
              "      --bg-color: #3B4455;\n",
              "      --fill-color: #D2E3FC;\n",
              "      --hover-bg-color: #434B5C;\n",
              "      --hover-fill-color: #FFFFFF;\n",
              "      --disabled-bg-color: #3B4455;\n",
              "      --disabled-fill-color: #666;\n",
              "  }\n",
              "\n",
              "  .colab-df-quickchart {\n",
              "    background-color: var(--bg-color);\n",
              "    border: none;\n",
              "    border-radius: 50%;\n",
              "    cursor: pointer;\n",
              "    display: none;\n",
              "    fill: var(--fill-color);\n",
              "    height: 32px;\n",
              "    padding: 0;\n",
              "    width: 32px;\n",
              "  }\n",
              "\n",
              "  .colab-df-quickchart:hover {\n",
              "    background-color: var(--hover-bg-color);\n",
              "    box-shadow: 0 1px 2px rgba(60, 64, 67, 0.3), 0 1px 3px 1px rgba(60, 64, 67, 0.15);\n",
              "    fill: var(--button-hover-fill-color);\n",
              "  }\n",
              "\n",
              "  .colab-df-quickchart-complete:disabled,\n",
              "  .colab-df-quickchart-complete:disabled:hover {\n",
              "    background-color: var(--disabled-bg-color);\n",
              "    fill: var(--disabled-fill-color);\n",
              "    box-shadow: none;\n",
              "  }\n",
              "\n",
              "  .colab-df-spinner {\n",
              "    border: 2px solid var(--fill-color);\n",
              "    border-color: transparent;\n",
              "    border-bottom-color: var(--fill-color);\n",
              "    animation:\n",
              "      spin 1s steps(1) infinite;\n",
              "  }\n",
              "\n",
              "  @keyframes spin {\n",
              "    0% {\n",
              "      border-color: transparent;\n",
              "      border-bottom-color: var(--fill-color);\n",
              "      border-left-color: var(--fill-color);\n",
              "    }\n",
              "    20% {\n",
              "      border-color: transparent;\n",
              "      border-left-color: var(--fill-color);\n",
              "      border-top-color: var(--fill-color);\n",
              "    }\n",
              "    30% {\n",
              "      border-color: transparent;\n",
              "      border-left-color: var(--fill-color);\n",
              "      border-top-color: var(--fill-color);\n",
              "      border-right-color: var(--fill-color);\n",
              "    }\n",
              "    40% {\n",
              "      border-color: transparent;\n",
              "      border-right-color: var(--fill-color);\n",
              "      border-top-color: var(--fill-color);\n",
              "    }\n",
              "    60% {\n",
              "      border-color: transparent;\n",
              "      border-right-color: var(--fill-color);\n",
              "    }\n",
              "    80% {\n",
              "      border-color: transparent;\n",
              "      border-right-color: var(--fill-color);\n",
              "      border-bottom-color: var(--fill-color);\n",
              "    }\n",
              "    90% {\n",
              "      border-color: transparent;\n",
              "      border-bottom-color: var(--fill-color);\n",
              "    }\n",
              "  }\n",
              "</style>\n",
              "\n",
              "  <script>\n",
              "    async function quickchart(key) {\n",
              "      const quickchartButtonEl =\n",
              "        document.querySelector('#' + key + ' button');\n",
              "      quickchartButtonEl.disabled = true;  // To prevent multiple clicks.\n",
              "      quickchartButtonEl.classList.add('colab-df-spinner');\n",
              "      try {\n",
              "        const charts = await google.colab.kernel.invokeFunction(\n",
              "            'suggestCharts', [key], {});\n",
              "      } catch (error) {\n",
              "        console.error('Error during call to suggestCharts:', error);\n",
              "      }\n",
              "      quickchartButtonEl.classList.remove('colab-df-spinner');\n",
              "      quickchartButtonEl.classList.add('colab-df-quickchart-complete');\n",
              "    }\n",
              "    (() => {\n",
              "      let quickchartButtonEl =\n",
              "        document.querySelector('#df-f4c49259-e13b-427f-8210-f82166b46793 button');\n",
              "      quickchartButtonEl.style.display =\n",
              "        google.colab.kernel.accessAllowed ? 'block' : 'none';\n",
              "    })();\n",
              "  </script>\n",
              "</div>\n",
              "\n",
              "    </div>\n",
              "  </div>\n"
            ],
            "application/vnd.google.colaboratory.intrinsic+json": {
              "type": "dataframe",
              "summary": "{\n  \"name\": \"sim_obs_df\",\n  \"rows\": 2,\n  \"fields\": [\n    {\n      \"column\": [\n        \"Side-quest Engagement\",\n        \"\"\n      ],\n      \"properties\": {\n        \"dtype\": \"string\",\n        \"num_unique_values\": 2,\n        \"samples\": [\n          \"low\",\n          \"high\"\n        ],\n        \"semantic_type\": \"\",\n        \"description\": \"\"\n      }\n    },\n    {\n      \"column\": [\n        \"In-Game Purchases\",\n        \"count\"\n      ],\n      \"properties\": {\n        \"dtype\": \"number\",\n        \"std\": 0,\n        \"min\": 500,\n        \"max\": 500,\n        \"num_unique_values\": 1,\n        \"samples\": [\n          500\n        ],\n        \"semantic_type\": \"\",\n        \"description\": \"\"\n      }\n    },\n    {\n      \"column\": [\n        \"In-Game Purchases\",\n        \"mean\"\n      ],\n      \"properties\": {\n        \"dtype\": \"number\",\n        \"std\": 24.756734339862287,\n        \"min\": 73.95066436004639,\n        \"max\": 108.96197382354737,\n        \"num_unique_values\": 2,\n        \"samples\": [\n          73.95066436004639\n        ],\n        \"semantic_type\": \"\",\n        \"description\": \"\"\n      }\n    },\n    {\n      \"column\": [\n        \"In-Game Purchases\",\n        \"std\"\n      ],\n      \"properties\": {\n        \"dtype\": \"number\",\n        \"std\": 13.060512867789317,\n        \"min\": 56.12894088927339,\n        \"max\": 74.59929531844936,\n        \"num_unique_values\": 2,\n        \"samples\": [\n          74.59929531844936\n        ],\n        \"semantic_type\": \"\",\n        \"description\": \"\"\n      }\n    }\n  ]\n}"
            }
          },
          "metadata": {},
          "execution_count": 66
        }
      ],
      "source": [
        "pyro.util.set_rng_seed(123)\n",
        "simulated_observational_data = [model() for _ in range(1000)]\n",
        "sim_full_obs_df = pd.DataFrame(\n",
        "    simulated_observational_data,\n",
        "    columns=[\"Guild Membership\", \"Side-quest Engagement\", \"In-Game Purchases\"]\n",
        ")\n",
        "sim_obs_df = sim_full_obs_df.drop(\"Guild Membership\", axis=1)\n",
        "sim_obs_df.groupby([\"Side-quest Engagement\"]).agg(['count', 'mean', 'std'])"
      ]
    },
    {
      "cell_type": "markdown",
      "metadata": {
        "id": "7Yth-z5APGZ7"
      },
      "source": [
        "We compare this to the observational distribution in the actual data."
      ]
    },
    {
      "cell_type": "code",
      "execution_count": 67,
      "metadata": {
        "id": "lphZ0nkGwL6T",
        "colab": {
          "base_uri": "https://localhost:8080/",
          "height": 175
        },
        "outputId": "28385ad8-8e9e-4b1f-cf17-d81e41ebe205"
      },
      "outputs": [
        {
          "output_type": "execute_result",
          "data": {
            "text/plain": [
              "                      In-game Purchases                       \n",
              "                                  count        mean        std\n",
              "Side-quest Engagement                                         \n",
              "high                                482  111.609461  55.562334\n",
              "low                                 518   73.096371  75.947688"
            ],
            "text/html": [
              "\n",
              "  <div id=\"df-fc3134cb-7daa-4c21-a7d9-e51311b03906\" class=\"colab-df-container\">\n",
              "    <div>\n",
              "<style scoped>\n",
              "    .dataframe tbody tr th:only-of-type {\n",
              "        vertical-align: middle;\n",
              "    }\n",
              "\n",
              "    .dataframe tbody tr th {\n",
              "        vertical-align: top;\n",
              "    }\n",
              "\n",
              "    .dataframe thead tr th {\n",
              "        text-align: left;\n",
              "    }\n",
              "\n",
              "    .dataframe thead tr:last-of-type th {\n",
              "        text-align: right;\n",
              "    }\n",
              "</style>\n",
              "<table border=\"1\" class=\"dataframe\">\n",
              "  <thead>\n",
              "    <tr>\n",
              "      <th></th>\n",
              "      <th colspan=\"3\" halign=\"left\">In-game Purchases</th>\n",
              "    </tr>\n",
              "    <tr>\n",
              "      <th></th>\n",
              "      <th>count</th>\n",
              "      <th>mean</th>\n",
              "      <th>std</th>\n",
              "    </tr>\n",
              "    <tr>\n",
              "      <th>Side-quest Engagement</th>\n",
              "      <th></th>\n",
              "      <th></th>\n",
              "      <th></th>\n",
              "    </tr>\n",
              "  </thead>\n",
              "  <tbody>\n",
              "    <tr>\n",
              "      <th>high</th>\n",
              "      <td>482</td>\n",
              "      <td>111.609461</td>\n",
              "      <td>55.562334</td>\n",
              "    </tr>\n",
              "    <tr>\n",
              "      <th>low</th>\n",
              "      <td>518</td>\n",
              "      <td>73.096371</td>\n",
              "      <td>75.947688</td>\n",
              "    </tr>\n",
              "  </tbody>\n",
              "</table>\n",
              "</div>\n",
              "    <div class=\"colab-df-buttons\">\n",
              "\n",
              "  <div class=\"colab-df-container\">\n",
              "    <button class=\"colab-df-convert\" onclick=\"convertToInteractive('df-fc3134cb-7daa-4c21-a7d9-e51311b03906')\"\n",
              "            title=\"Convert this dataframe to an interactive table.\"\n",
              "            style=\"display:none;\">\n",
              "\n",
              "  <svg xmlns=\"http://www.w3.org/2000/svg\" height=\"24px\" viewBox=\"0 -960 960 960\">\n",
              "    <path d=\"M120-120v-720h720v720H120Zm60-500h600v-160H180v160Zm220 220h160v-160H400v160Zm0 220h160v-160H400v160ZM180-400h160v-160H180v160Zm440 0h160v-160H620v160ZM180-180h160v-160H180v160Zm440 0h160v-160H620v160Z\"/>\n",
              "  </svg>\n",
              "    </button>\n",
              "\n",
              "  <style>\n",
              "    .colab-df-container {\n",
              "      display:flex;\n",
              "      gap: 12px;\n",
              "    }\n",
              "\n",
              "    .colab-df-convert {\n",
              "      background-color: #E8F0FE;\n",
              "      border: none;\n",
              "      border-radius: 50%;\n",
              "      cursor: pointer;\n",
              "      display: none;\n",
              "      fill: #1967D2;\n",
              "      height: 32px;\n",
              "      padding: 0 0 0 0;\n",
              "      width: 32px;\n",
              "    }\n",
              "\n",
              "    .colab-df-convert:hover {\n",
              "      background-color: #E2EBFA;\n",
              "      box-shadow: 0px 1px 2px rgba(60, 64, 67, 0.3), 0px 1px 3px 1px rgba(60, 64, 67, 0.15);\n",
              "      fill: #174EA6;\n",
              "    }\n",
              "\n",
              "    .colab-df-buttons div {\n",
              "      margin-bottom: 4px;\n",
              "    }\n",
              "\n",
              "    [theme=dark] .colab-df-convert {\n",
              "      background-color: #3B4455;\n",
              "      fill: #D2E3FC;\n",
              "    }\n",
              "\n",
              "    [theme=dark] .colab-df-convert:hover {\n",
              "      background-color: #434B5C;\n",
              "      box-shadow: 0px 1px 3px 1px rgba(0, 0, 0, 0.15);\n",
              "      filter: drop-shadow(0px 1px 2px rgba(0, 0, 0, 0.3));\n",
              "      fill: #FFFFFF;\n",
              "    }\n",
              "  </style>\n",
              "\n",
              "    <script>\n",
              "      const buttonEl =\n",
              "        document.querySelector('#df-fc3134cb-7daa-4c21-a7d9-e51311b03906 button.colab-df-convert');\n",
              "      buttonEl.style.display =\n",
              "        google.colab.kernel.accessAllowed ? 'block' : 'none';\n",
              "\n",
              "      async function convertToInteractive(key) {\n",
              "        const element = document.querySelector('#df-fc3134cb-7daa-4c21-a7d9-e51311b03906');\n",
              "        const dataTable =\n",
              "          await google.colab.kernel.invokeFunction('convertToInteractive',\n",
              "                                                    [key], {});\n",
              "        if (!dataTable) return;\n",
              "\n",
              "        const docLinkHtml = 'Like what you see? Visit the ' +\n",
              "          '<a target=\"_blank\" href=https://colab.research.google.com/notebooks/data_table.ipynb>data table notebook</a>'\n",
              "          + ' to learn more about interactive tables.';\n",
              "        element.innerHTML = '';\n",
              "        dataTable['output_type'] = 'display_data';\n",
              "        await google.colab.output.renderOutput(dataTable, element);\n",
              "        const docLink = document.createElement('div');\n",
              "        docLink.innerHTML = docLinkHtml;\n",
              "        element.appendChild(docLink);\n",
              "      }\n",
              "    </script>\n",
              "  </div>\n",
              "\n",
              "\n",
              "<div id=\"df-26e402d4-80fe-4236-9741-31fce2cc0020\">\n",
              "  <button class=\"colab-df-quickchart\" onclick=\"quickchart('df-26e402d4-80fe-4236-9741-31fce2cc0020')\"\n",
              "            title=\"Suggest charts\"\n",
              "            style=\"display:none;\">\n",
              "\n",
              "<svg xmlns=\"http://www.w3.org/2000/svg\" height=\"24px\"viewBox=\"0 0 24 24\"\n",
              "     width=\"24px\">\n",
              "    <g>\n",
              "        <path d=\"M19 3H5c-1.1 0-2 .9-2 2v14c0 1.1.9 2 2 2h14c1.1 0 2-.9 2-2V5c0-1.1-.9-2-2-2zM9 17H7v-7h2v7zm4 0h-2V7h2v10zm4 0h-2v-4h2v4z\"/>\n",
              "    </g>\n",
              "</svg>\n",
              "  </button>\n",
              "\n",
              "<style>\n",
              "  .colab-df-quickchart {\n",
              "      --bg-color: #E8F0FE;\n",
              "      --fill-color: #1967D2;\n",
              "      --hover-bg-color: #E2EBFA;\n",
              "      --hover-fill-color: #174EA6;\n",
              "      --disabled-fill-color: #AAA;\n",
              "      --disabled-bg-color: #DDD;\n",
              "  }\n",
              "\n",
              "  [theme=dark] .colab-df-quickchart {\n",
              "      --bg-color: #3B4455;\n",
              "      --fill-color: #D2E3FC;\n",
              "      --hover-bg-color: #434B5C;\n",
              "      --hover-fill-color: #FFFFFF;\n",
              "      --disabled-bg-color: #3B4455;\n",
              "      --disabled-fill-color: #666;\n",
              "  }\n",
              "\n",
              "  .colab-df-quickchart {\n",
              "    background-color: var(--bg-color);\n",
              "    border: none;\n",
              "    border-radius: 50%;\n",
              "    cursor: pointer;\n",
              "    display: none;\n",
              "    fill: var(--fill-color);\n",
              "    height: 32px;\n",
              "    padding: 0;\n",
              "    width: 32px;\n",
              "  }\n",
              "\n",
              "  .colab-df-quickchart:hover {\n",
              "    background-color: var(--hover-bg-color);\n",
              "    box-shadow: 0 1px 2px rgba(60, 64, 67, 0.3), 0 1px 3px 1px rgba(60, 64, 67, 0.15);\n",
              "    fill: var(--button-hover-fill-color);\n",
              "  }\n",
              "\n",
              "  .colab-df-quickchart-complete:disabled,\n",
              "  .colab-df-quickchart-complete:disabled:hover {\n",
              "    background-color: var(--disabled-bg-color);\n",
              "    fill: var(--disabled-fill-color);\n",
              "    box-shadow: none;\n",
              "  }\n",
              "\n",
              "  .colab-df-spinner {\n",
              "    border: 2px solid var(--fill-color);\n",
              "    border-color: transparent;\n",
              "    border-bottom-color: var(--fill-color);\n",
              "    animation:\n",
              "      spin 1s steps(1) infinite;\n",
              "  }\n",
              "\n",
              "  @keyframes spin {\n",
              "    0% {\n",
              "      border-color: transparent;\n",
              "      border-bottom-color: var(--fill-color);\n",
              "      border-left-color: var(--fill-color);\n",
              "    }\n",
              "    20% {\n",
              "      border-color: transparent;\n",
              "      border-left-color: var(--fill-color);\n",
              "      border-top-color: var(--fill-color);\n",
              "    }\n",
              "    30% {\n",
              "      border-color: transparent;\n",
              "      border-left-color: var(--fill-color);\n",
              "      border-top-color: var(--fill-color);\n",
              "      border-right-color: var(--fill-color);\n",
              "    }\n",
              "    40% {\n",
              "      border-color: transparent;\n",
              "      border-right-color: var(--fill-color);\n",
              "      border-top-color: var(--fill-color);\n",
              "    }\n",
              "    60% {\n",
              "      border-color: transparent;\n",
              "      border-right-color: var(--fill-color);\n",
              "    }\n",
              "    80% {\n",
              "      border-color: transparent;\n",
              "      border-right-color: var(--fill-color);\n",
              "      border-bottom-color: var(--fill-color);\n",
              "    }\n",
              "    90% {\n",
              "      border-color: transparent;\n",
              "      border-bottom-color: var(--fill-color);\n",
              "    }\n",
              "  }\n",
              "</style>\n",
              "\n",
              "  <script>\n",
              "    async function quickchart(key) {\n",
              "      const quickchartButtonEl =\n",
              "        document.querySelector('#' + key + ' button');\n",
              "      quickchartButtonEl.disabled = true;  // To prevent multiple clicks.\n",
              "      quickchartButtonEl.classList.add('colab-df-spinner');\n",
              "      try {\n",
              "        const charts = await google.colab.kernel.invokeFunction(\n",
              "            'suggestCharts', [key], {});\n",
              "      } catch (error) {\n",
              "        console.error('Error during call to suggestCharts:', error);\n",
              "      }\n",
              "      quickchartButtonEl.classList.remove('colab-df-spinner');\n",
              "      quickchartButtonEl.classList.add('colab-df-quickchart-complete');\n",
              "    }\n",
              "    (() => {\n",
              "      let quickchartButtonEl =\n",
              "        document.querySelector('#df-26e402d4-80fe-4236-9741-31fce2cc0020 button');\n",
              "      quickchartButtonEl.style.display =\n",
              "        google.colab.kernel.accessAllowed ? 'block' : 'none';\n",
              "    })();\n",
              "  </script>\n",
              "</div>\n",
              "\n",
              "    </div>\n",
              "  </div>\n"
            ],
            "application/vnd.google.colaboratory.intrinsic+json": {
              "type": "dataframe",
              "summary": "{\n  \"name\": \"df\",\n  \"rows\": 2,\n  \"fields\": [\n    {\n      \"column\": [\n        \"Side-quest Engagement\",\n        \"\"\n      ],\n      \"properties\": {\n        \"dtype\": \"string\",\n        \"num_unique_values\": 2,\n        \"samples\": [\n          \"low\",\n          \"high\"\n        ],\n        \"semantic_type\": \"\",\n        \"description\": \"\"\n      }\n    },\n    {\n      \"column\": [\n        \"In-game Purchases\",\n        \"count\"\n      ],\n      \"properties\": {\n        \"dtype\": \"number\",\n        \"std\": 25,\n        \"min\": 482,\n        \"max\": 518,\n        \"num_unique_values\": 2,\n        \"samples\": [\n          518,\n          482\n        ],\n        \"semantic_type\": \"\",\n        \"description\": \"\"\n      }\n    },\n    {\n      \"column\": [\n        \"In-game Purchases\",\n        \"mean\"\n      ],\n      \"properties\": {\n        \"dtype\": \"number\",\n        \"std\": 27.2328670500911,\n        \"min\": 73.09637065637065,\n        \"max\": 111.60946058091287,\n        \"num_unique_values\": 2,\n        \"samples\": [\n          73.09637065637065,\n          111.60946058091287\n        ],\n        \"semantic_type\": \"\",\n        \"description\": \"\"\n      }\n    },\n    {\n      \"column\": [\n        \"In-game Purchases\",\n        \"std\"\n      ],\n      \"properties\": {\n        \"dtype\": \"number\",\n        \"std\": 14.414621926374958,\n        \"min\": 55.562334144562335,\n        \"max\": 75.94768796932239,\n        \"num_unique_values\": 2,\n        \"samples\": [\n          75.94768796932239,\n          55.562334144562335\n        ],\n        \"semantic_type\": \"\",\n        \"description\": \"\"\n      }\n    }\n  ]\n}"
            }
          },
          "metadata": {},
          "execution_count": 67
        }
      ],
      "source": [
        "df.drop([\"Guild Membership\", \"User ID\"], axis=1).groupby([\"Side-quest Engagement\"]).agg(['count', 'mean', 'std'])\n"
      ]
    },
    {
      "cell_type": "markdown",
      "metadata": {
        "id": "7EsYyI796MDb"
      },
      "source": [
        "## Listing 7.9: Representing interventions with pyro.do\n",
        "\n",
        "Next, we confirm that our model can simulate data similar to our experimental data. We do this by using Pyro's intervention operator `pyro.do`. We use `pyro.do` to create two models, one that sets engagement to high, the other to low."
      ]
    },
    {
      "cell_type": "code",
      "execution_count": 68,
      "metadata": {
        "id": "GKFV3wrF7N2y"
      },
      "outputs": [],
      "source": [
        "int_engaged_model = pyro.do(    #A\n",
        "    model,    #A\n",
        "    {\"Side-quest Engagement\": tensor(1.)}    #A\n",
        ")    #A\n",
        "int_unengaged_model = pyro.do(    #B\n",
        "    model,    #B\n",
        "    {\"Side-quest Engagement\": tensor(0.)}    #B\n",
        ")    #B\n",
        "#A An intervention that sets Side-quest Engagement to 1.0 (i.e., \"high\"). This returns a new model.\n",
        "#B An intervention that sets Side-quest Engagement to 0.0 (i.e., \"low\"). This returns a new model."
      ]
    },
    {
      "cell_type": "markdown",
      "metadata": {
        "id": "-RiY7HfLT7A9"
      },
      "source": [
        "## Listing 7.10: Simulating experimental data with pyro.do interventions\n",
        "\n",
        "Next, we simulate from both models and combine the results to get simulated experimental data."
      ]
    },
    {
      "cell_type": "code",
      "execution_count": 69,
      "metadata": {
        "id": "kWrPuirw1JIH",
        "colab": {
          "base_uri": "https://localhost:8080/"
        },
        "outputId": "22d7ca24-7b1e-4a7e-f6fb-76b9654e800a"
      },
      "outputs": [
        {
          "output_type": "stream",
          "name": "stdout",
          "text": [
            "                      In-Game Purchases                       \n",
            "                                  count        mean        std\n",
            "Side-quest Engagement                                         \n",
            "high                                500   89.897309  52.696709\n",
            "low                                 500  130.674021  93.921543\n"
          ]
        }
      ],
      "source": [
        "pyro.util.set_rng_seed(123)    #A\n",
        "simulated_experimental_data = [    #B\n",
        "    int_engaged_model() for _ in range(500)    #B\n",
        "] + [    #B\n",
        "    int_unengaged_model() for _ in range(500)    #B\n",
        "]    #B\n",
        "simulated_experimental_data = pd.DataFrame(    #B\n",
        "    simulated_experimental_data,    #B\n",
        "    columns=[    #B\n",
        "        \"Guild Membership\",    #B\n",
        "        \"Side-quest Engagement\",    #B\n",
        "        \"In-Game Purchases\"    #B\n",
        "    ]    #B\n",
        ")    #B\n",
        "sim_exp_df = simulated_experimental_data.drop(    #C\n",
        "    \"Guild Membership\", axis=1)    #C\n",
        "summary = sim_exp_df.groupby(    #D\n",
        "        [\"Side-quest Engagement\"]    #D\n",
        "    ).agg(    #D\n",
        "        ['count', 'mean', 'std']    #D\n",
        "    )    #D\n",
        "print(summary)    #D\n",
        "#A Setting a random seed for reproducibility.\n",
        "#B Simulate 500 rows from each intervention model and combine them to create simulated experimental data.\n",
        "#C The simulated data will include a Guild Membership column. We can drop it to get simulated data that looks like the original experiment.\n",
        "#D Recreate the statistical summaries of in-game purchases for each level of engagement."
      ]
    },
    {
      "cell_type": "markdown",
      "metadata": {
        "id": "QgkOiZ9sUBil"
      },
      "source": [
        "We see that this gives us a distribution similar to the actual experimental data."
      ]
    },
    {
      "cell_type": "code",
      "execution_count": 70,
      "metadata": {
        "id": "gDqlZsK8BbkX",
        "colab": {
          "base_uri": "https://localhost:8080/"
        },
        "outputId": "d3f82d16-2147-4f0b-cdbd-266fcc7e5c91"
      },
      "outputs": [
        {
          "output_type": "stream",
          "name": "stdout",
          "text": [
            "                      In-game Purchases                      \n",
            "                                  count       mean        std\n",
            "Side-quest Engagement                                        \n",
            "high                                500   92.99054  51.673631\n",
            "low                                 500  131.38228  94.840705\n"
          ]
        }
      ],
      "source": [
        "exp_data_url = (\n",
        "    \"https://raw.githubusercontent.com/altdeep/causalML/master/\"\n",
        "    \"datasets/sidequests_and_purchases_exp.csv\"\n",
        ")\n",
        "exp_df = pd.read_csv(exp_data_url)\n",
        "\n",
        "summary = exp_df.drop('User ID', axis=1).groupby(\n",
        "        [\"Side-quest Engagement\"]\n",
        "    ).agg(\n",
        "        ['count', 'mean', 'std']\n",
        "    )\n",
        "print(summary)"
      ]
    },
    {
      "cell_type": "markdown",
      "metadata": {
        "id": "cF7ktL5TkLWh"
      },
      "source": [
        "In summary, we can use our observational data to train a causal model that can simulate experimental data. In other words, the causal model and its intervention operator allows us to \"bootstrap\" our observational data into experimental data."
      ]
    },
    {
      "cell_type": "markdown",
      "source": [
        "## Listing 7.11: Graph mutilation on a DAG in pgmpy\n",
        "\n",
        "We need an intervention operator that changes our causal graph to reflect this broken causal dependency. This intervention operator is called graph mutilation (also known as graph surgery) and is illustrated in the following figure.\n",
        "\n",
        "![Graph Mutilation](images/graph_mutilation.png)\n",
        "\n",
        "Graph mutilation removes incoming edge to the intervention target Side-quest Engagement.\n",
        "While Guild Membership is a cause of side-quest engagement in normal settings, the experiment’s intervention on Side-quest Engagement broke that variable’s causal dependence on Guild Membership. Since that causal dependence is gone, graph mutilation changes the graph to one where the edge from Guild Membership to Side-quest engagement is snipped.\n",
        "Suppose you have a causal graph with node X. You want to apply an intervention do(X=x). Then, you represent that intervention on the causal DAG by “mutilating” the DAG by removing all incoming edges to X.\n",
        "Graph mutilation is available in libraries such as pgmpy.\n"
      ],
      "metadata": {
        "id": "RG3cnR7G6lUQ"
      }
    },
    {
      "cell_type": "code",
      "source": [
        "from pgmpy.base import DAG\n",
        "\n",
        "G = DAG([    #A\n",
        "    ('Guild Membership', 'Side-quest Engagement'),    #A\n",
        "    ('Side-quest Engagement', 'In-game Purchases'),    #A\n",
        "    ('Guild Membership', 'In-game Purchases')    #A\n",
        "])    #A\n",
        "G_int = G.do('Side-quest Engagement')    #B\n",
        "# A Build the causal DAG.\n",
        "# B The \"do\" method in the DAG class applies graph mutilation."
      ],
      "metadata": {
        "id": "2HoNLjrl6lpa"
      },
      "execution_count": 71,
      "outputs": []
    },
    {
      "cell_type": "markdown",
      "source": [
        "## Listing 7.12 Plot the mutilated DAG\n",
        "\n",
        "We can now plot both the original DAG and the mutilated DAG and compare."
      ],
      "metadata": {
        "id": "JXDgYGRb6mIS"
      }
    },
    {
      "cell_type": "code",
      "source": [
        "import pylab as plt\n",
        "import networkx as nx\n",
        "\n",
        "pos = {    #A\n",
        "    'Guild Membership': [0.0, 1.0],    #A\n",
        "    'Side-quest Engagement': [-1.0, 0.0],    #A\n",
        "    'In-game Purchases': [1.0, -0.5]    #A\n",
        "}    #A\n",
        "\n",
        "ax = plt.subplot()    #B\n",
        "ax.margins(0.3)    #B\n",
        "nx.draw(G, ax=ax, pos=pos, node_size=3000,    #B\n",
        "        node_color='w', with_labels=True)    #B\n",
        "plt.show()    #B\n",
        "\n",
        "ax = plt.subplot()    #C\n",
        "ax.margins(0.3)    #C\n",
        "nx.draw(G_int, ax=ax, pos=pos,    #C\n",
        "        node_size=3000, node_color='w', with_labels=True)    #C\n",
        "plt.show()    #C\n",
        "#A Create a dictionary of node positions that we can use to visualize both graphs.\n",
        "#B Visualize the original graph.\n",
        "#C Visualize the mutilated graph."
      ],
      "metadata": {
        "id": "60r5SUTj6mSI",
        "colab": {
          "base_uri": "https://localhost:8080/",
          "height": 795
        },
        "outputId": "4aa8bd44-8391-476f-fd12-1c31d3863855"
      },
      "execution_count": 72,
      "outputs": [
        {
          "output_type": "display_data",
          "data": {
            "text/plain": [
              "<Figure size 640x480 with 1 Axes>"
            ],
            "image/png": "[encoded data removed]"
          },
          "metadata": {}
        },
        {
          "output_type": "display_data",
          "data": {
            "text/plain": [
              "<Figure size 640x480 with 1 Axes>"
            ],
            "image/png": "[encoded data removed]"
          },
          "metadata": {}
        }
      ]
    },
    {
      "cell_type": "markdown",
      "source": [
        "## Listing 7.13 Revisiting pyro.do"
      ],
      "metadata": {
        "id": "YZSf3ryd6mXm"
      }
    },
    {
      "cell_type": "code",
      "source": [
        "int_engaged_model = pyro.do(    #A\n",
        "    model,    #A\n",
        "    {\"Side-quest Engagement\": tensor(1.)}    #A\n",
        ")    #A\n",
        "int_unengaged_model = pyro.do(    #B\n",
        "    model,    #B\n",
        "    {\"Side-quest Engagement\": tensor(0.)}    #B\n",
        ")    #B\n",
        "#A An intervention that sets Side-quest Engagement to 1.0 (i.e., \"high\"). This returns a new model.\n",
        "#B An intervention that sets Side-quest Engagement to 0.0 (i.e., \"low\"). This returns a new model."
      ],
      "metadata": {
        "id": "7eGlZ4K_6mhS"
      },
      "execution_count": 73,
      "outputs": []
    },
    {
      "cell_type": "markdown",
      "source": [
        "What exactly does pyro.do do? pyro.do is Pyro’s intervention operator. We saw, by using pyro.render_model to generate Figure 7.4, that our online gaming model in Pyro has an underlying causal DAG, and therefore is a causal graphical model.\n",
        "But a deep probabilistic machine learning framework like Pyro allows you to do things that we can’t easily represent with a causal DAG, such as recursion, conditional control flow, or having a random number of variables not realized until runtime. As an intervention operator, pyro.do must work in these cases as well.\n",
        "The intervention operator in Pyro works by finding calls to pyro.sample, and replacing that call with an assignment to the intervention value. For example, the online game model had the following line:\n",
        "\n",
        "`is_highly_engaged = pyro.sample(\"Side-quest Engagement\", Bernoulli(p_engaged))`\n",
        "\n",
        "This pyro.sample call generates a value for Side-quest Engagement. `pyro.do(model, {\"Side-quest Engagement\": tensor(1.)})` essentially replaces that line with:\n",
        "`is_highly_engaged = tensor(1.)`\n",
        "(I say “essentially” because pyro.do does a few other things too, which I discuss in chapter 9).\n",
        "This replacement is much like the replacement of the assignment function in the SCM, or a causal Markov kernel with a degenerate kernel in a causal graphical model. As an intervention operator, it meets the criteria for an ideal intervention. It targets a specific variable and it assigns it a specific value. It eliminates its dependence on its causes by removing flow dependence (dependence on results of executing preceding statements in the program).\n"
      ],
      "metadata": {
        "id": "N6q873bo7Mko"
      }
    }
  ],
  "metadata": {
    "colab": {
      "provenance": []
    },
    "kernelspec": {
      "display_name": "Python 3 (ipykernel)",
      "language": "python",
      "name": "python3"
    },
    "language_info": {
      "codemirror_mode": {
        "name": "ipython",
        "version": 3
      },
      "file_extension": ".py",
      "mimetype": "text/x-python",
      "name": "python",
      "nbconvert_exporter": "python",
      "pygments_lexer": "ipython3",
      "version": "3.11.7"
    }
  },
  "nbformat": 4,
  "nbformat_minor": 0
}