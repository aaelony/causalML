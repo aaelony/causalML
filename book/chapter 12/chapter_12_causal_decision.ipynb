{
 "cells": [
  {
   "cell_type": "code",
   "execution_count": 1,
   "metadata": {
    "colab": {
     "base_uri": "https://localhost:8080/"
    },
    "id": "jGwC-t-VMtFX",
    "outputId": "e1bf34a0-d489-478c-98cd-a7a61f2b1285"
   },
   "outputs": [
    {
     "name": "stdout",
     "output_type": "stream",
     "text": [
      "\u001b[33mWARNING: Ignoring invalid distribution ~andas (/Users/robertness/Dropbox/code/causalML/book/venv/lib/python3.11/site-packages)\u001b[0m\u001b[33m\n",
      "\u001b[0mCollecting pgmpy==0.1.24\n",
      "  Using cached pgmpy-0.1.24-py3-none-any.whl.metadata (6.3 kB)\n",
      "Requirement already satisfied: networkx in /Users/robertness/Dropbox/code/causalML/book/venv/lib/python3.11/site-packages (from pgmpy==0.1.24) (3.2.1)\n",
      "Requirement already satisfied: numpy in /Users/robertness/Dropbox/code/causalML/book/venv/lib/python3.11/site-packages (from pgmpy==0.1.24) (1.26.4)\n",
      "Requirement already satisfied: scipy in /Users/robertness/Dropbox/code/causalML/book/venv/lib/python3.11/site-packages (from pgmpy==0.1.24) (1.11.4)\n",
      "Requirement already satisfied: scikit-learn in /Users/robertness/Dropbox/code/causalML/book/venv/lib/python3.11/site-packages (from pgmpy==0.1.24) (1.4.0)\n",
      "Collecting pandas (from pgmpy==0.1.24)\n",
      "  Using cached pandas-2.2.1-cp311-cp311-macosx_11_0_arm64.whl.metadata (19 kB)\n",
      "Requirement already satisfied: pyparsing in /Users/robertness/Dropbox/code/causalML/book/venv/lib/python3.11/site-packages (from pgmpy==0.1.24) (3.1.1)\n",
      "Requirement already satisfied: torch in /Users/robertness/Dropbox/code/causalML/book/venv/lib/python3.11/site-packages (from pgmpy==0.1.24) (2.2.0)\n",
      "Requirement already satisfied: statsmodels in /Users/robertness/Dropbox/code/causalML/book/venv/lib/python3.11/site-packages (from pgmpy==0.1.24) (0.14.1)\n",
      "Requirement already satisfied: tqdm in /Users/robertness/Dropbox/code/causalML/book/venv/lib/python3.11/site-packages (from pgmpy==0.1.24) (4.66.2)\n",
      "Requirement already satisfied: joblib in /Users/robertness/Dropbox/code/causalML/book/venv/lib/python3.11/site-packages (from pgmpy==0.1.24) (1.3.2)\n",
      "Requirement already satisfied: opt-einsum in /Users/robertness/Dropbox/code/causalML/book/venv/lib/python3.11/site-packages (from pgmpy==0.1.24) (3.3.0)\n",
      "Requirement already satisfied: python-dateutil>=2.8.2 in /Users/robertness/Dropbox/code/causalML/book/venv/lib/python3.11/site-packages (from pandas->pgmpy==0.1.24) (2.8.2)\n",
      "Requirement already satisfied: pytz>=2020.1 in /Users/robertness/Dropbox/code/causalML/book/venv/lib/python3.11/site-packages (from pandas->pgmpy==0.1.24) (2024.1)\n",
      "Requirement already satisfied: tzdata>=2022.7 in /Users/robertness/Dropbox/code/causalML/book/venv/lib/python3.11/site-packages (from pandas->pgmpy==0.1.24) (2023.4)\n",
      "Requirement already satisfied: threadpoolctl>=2.0.0 in /Users/robertness/Dropbox/code/causalML/book/venv/lib/python3.11/site-packages (from scikit-learn->pgmpy==0.1.24) (3.2.0)\n",
      "Requirement already satisfied: patsy>=0.5.4 in /Users/robertness/Dropbox/code/causalML/book/venv/lib/python3.11/site-packages (from statsmodels->pgmpy==0.1.24) (0.5.6)\n",
      "Requirement already satisfied: packaging>=21.3 in /Users/robertness/Dropbox/code/causalML/book/venv/lib/python3.11/site-packages (from statsmodels->pgmpy==0.1.24) (23.2)\n",
      "Requirement already satisfied: filelock in /Users/robertness/Dropbox/code/causalML/book/venv/lib/python3.11/site-packages (from torch->pgmpy==0.1.24) (3.13.1)\n",
      "Requirement already satisfied: typing-extensions>=4.8.0 in /Users/robertness/Dropbox/code/causalML/book/venv/lib/python3.11/site-packages (from torch->pgmpy==0.1.24) (4.9.0)\n",
      "Requirement already satisfied: sympy in /Users/robertness/Dropbox/code/causalML/book/venv/lib/python3.11/site-packages (from torch->pgmpy==0.1.24) (1.12)\n",
      "Requirement already satisfied: jinja2 in /Users/robertness/Dropbox/code/causalML/book/venv/lib/python3.11/site-packages (from torch->pgmpy==0.1.24) (3.1.3)\n",
      "Requirement already satisfied: fsspec in /Users/robertness/Dropbox/code/causalML/book/venv/lib/python3.11/site-packages (from torch->pgmpy==0.1.24) (2024.2.0)\n",
      "Requirement already satisfied: six in /Users/robertness/Dropbox/code/causalML/book/venv/lib/python3.11/site-packages (from patsy>=0.5.4->statsmodels->pgmpy==0.1.24) (1.16.0)\n",
      "Requirement already satisfied: MarkupSafe>=2.0 in /Users/robertness/Dropbox/code/causalML/book/venv/lib/python3.11/site-packages (from jinja2->torch->pgmpy==0.1.24) (2.1.5)\n",
      "Requirement already satisfied: mpmath>=0.19 in /Users/robertness/Dropbox/code/causalML/book/venv/lib/python3.11/site-packages (from sympy->torch->pgmpy==0.1.24) (1.3.0)\n",
      "Using cached pgmpy-0.1.24-py3-none-any.whl (2.0 MB)\n",
      "Using cached pandas-2.2.1-cp311-cp311-macosx_11_0_arm64.whl (11.3 MB)\n",
      "\u001b[33mWARNING: Ignoring invalid distribution ~andas (/Users/robertness/Dropbox/code/causalML/book/venv/lib/python3.11/site-packages)\u001b[0m\u001b[33m\n",
      "\u001b[0mInstalling collected packages: pandas, pgmpy\n",
      "  Attempting uninstall: pgmpy\n",
      "\u001b[33m    WARNING: Ignoring invalid distribution ~andas (/Users/robertness/Dropbox/code/causalML/book/venv/lib/python3.11/site-packages)\u001b[0m\u001b[33m\n",
      "\u001b[0m    Found existing installation: pgmpy 0.1.19\n",
      "    Uninstalling pgmpy-0.1.19:\n",
      "      Successfully uninstalled pgmpy-0.1.19\n",
      "\u001b[33mWARNING: Ignoring invalid distribution ~andas (/Users/robertness/Dropbox/code/causalML/book/venv/lib/python3.11/site-packages)\u001b[0m\u001b[33m\n",
      "\u001b[0mSuccessfully installed pandas pgmpy-0.1.24\n"
     ]
    }
   ],
   "source": [
    "!pip install pgmpy==0.1.24"
   ]
  },
  {
   "cell_type": "code",
   "execution_count": 2,
   "metadata": {
    "colab": {
     "base_uri": "https://localhost:8080/"
    },
    "id": "BE1qfdF9Myyv",
    "outputId": "7eac6b3a-0171-4856-eee2-beb4145a1423"
   },
   "outputs": [
    {
     "name": "stdout",
     "output_type": "stream",
     "text": [
      "+-----------+---------+---------+\n",
      "| C         | C(bear) | C(bull) |\n",
      "+-----------+---------+---------+\n",
      "| X(debt)   | 0.8     | 0.2     |\n",
      "+-----------+---------+---------+\n",
      "| X(equity) | 0.2     | 0.8     |\n",
      "+-----------+---------+---------+\n",
      "+------------+---------+---------+-----------+-----------+\n",
      "| X          | X(debt) | X(debt) | X(equity) | X(equity) |\n",
      "+------------+---------+---------+-----------+-----------+\n",
      "| C          | C(bear) | C(bull) | C(bear)   | C(bull)   |\n",
      "+------------+---------+---------+-----------+-----------+\n",
      "| Y(failure) | 0.3     | 0.9     | 0.7       | 0.6       |\n",
      "+------------+---------+---------+-----------+-----------+\n",
      "| Y(success) | 0.7     | 0.1     | 0.3       | 0.4       |\n",
      "+------------+---------+---------+-----------+-----------+\n",
      "+----------+------------+------------+\n",
      "| Y        | Y(failure) | Y(success) |\n",
      "+----------+------------+------------+\n",
      "| U(-1000) | 1.0        | 0.0        |\n",
      "+----------+------------+------------+\n",
      "| U(99000) | 0.0        | 1.0        |\n",
      "+----------+------------+------------+\n"
     ]
    }
   ],
   "source": [
    "from pgmpy.models import BayesianNetwork\n",
    "from pgmpy.factors.discrete import TabularCPD\n",
    "from pgmpy.inference import VariableElimination\n",
    "import numpy as np\n",
    "\n",
    "\n",
    "model = BayesianNetwork([    #A\n",
    "    ('C', 'X'),    #A\n",
    "    ('C', 'Y'),    #A\n",
    "    ('X', 'Y'),    #A\n",
    "    ('Y', 'U')    #A\n",
    "])    #A\n",
    "\n",
    "cpd_c = TabularCPD(    #B\n",
    "    variable='C',    #B\n",
    "    variable_card=2,    #B\n",
    "    values=[[0.5], [0.5]],    #B\n",
    "    state_names={'C': ['bear', 'bull']}    #B\n",
    ")    #B\n",
    "\n",
    "cpd_x = TabularCPD(    #C\n",
    "    variable='X',    #C\n",
    "    variable_card=2,    #C\n",
    "    values=[[0.8, 0.2], [0.2, 0.8]],    #C\n",
    "    evidence=['C'],    #C\n",
    "    evidence_card=[2],    #C\n",
    "    state_names={'X': ['debt', 'equity'], 'C': ['bear', 'bull']}    #C\n",
    ")    #C\n",
    "print(cpd_x)    #C\n",
    "\n",
    "cpd_y = TabularCPD(    #D\n",
    "    variable='Y',    #D\n",
    "    variable_card=2,    #D\n",
    "    values=[[0.3, 0.9, 0.7, 0.6], [0.7, 0.1, 0.3, 0.4]],    #D\n",
    "    evidence=['X', 'C'],    #D\n",
    "    evidence_card=[2, 2],    #D\n",
    "    state_names={    #D\n",
    "        'Y': ['failure', 'success'],    #D\n",
    "        'X': ['debt', 'equity'],    #D\n",
    "        'C': ['bear', 'bull']    #D\n",
    "    }    #D\n",
    ")    #D\n",
    "print(cpd_y)\n",
    "\n",
    "cpd_u = TabularCPD(    #E\n",
    "    variable='U',    #E\n",
    "    variable_card=2,    #E\n",
    "    values=[[1., 0.], [0., 1.]],    #E\n",
    "    evidence=['Y'],    #E\n",
    "    evidence_card=[2],    #E\n",
    "    state_names={'U': [-1000, 99000], 'Y': ['failure', 'success']}    #E\n",
    ")    #E\n",
    "print(cpd_u)    #E\n",
    "\n",
    "model.add_cpds(cpd_c, cpd_x, cpd_y, cpd_u)    #F\n",
    "#A Setup the DAG\n",
    "#B Setup causal Markov kernel for C (economy). It takes two values \"bull\" (good economic conditions) and \"bear\" bad economic conditions.\n",
    "#C Setup causal Markov kernel for action X, either making a debt investment or equity investment. Historic analysis shows investors prefer equity investing in a bull market and debt investment in a bear market.\n",
    "#D Setup causal Markov kernel for business outcome Y, either success or failure, depending on the type of investment provided (X), and the economy Y.\n",
    "#E Setup the utility node.\n",
    "#F Add the causal Markov kernels to the model.\n"
   ]
  },
  {
   "cell_type": "code",
   "execution_count": 3,
   "metadata": {
    "id": "HieUnx4_M3tr"
   },
   "outputs": [],
   "source": [
    "import requests\n",
    "url = \"https://raw.githubusercontent.com/altdeep/causalML/master/book/pgmpy_do.py\"\n",
    "response = requests.get(url)\n",
    "content = response.text\n",
    "exec(content)\n"
   ]
  },
  {
   "cell_type": "code",
   "execution_count": 4,
   "metadata": {
    "id": "32HqkunYmShB"
   },
   "outputs": [],
   "source": [
    "def get_expectation(marginal):    #A\n",
    "    utility_values = marginal.state_names[\"U\"]    #A\n",
    "    probabilities = marginal.values    #A\n",
    "    expectation = sum([x * p for x, p in zip(utility_values, probabilities)])    #A\n",
    "    return expectation    #A"
   ]
  },
  {
   "cell_type": "code",
   "execution_count": 5,
   "metadata": {
    "colab": {
     "base_uri": "https://localhost:8080/",
     "height": 397
    },
    "id": "cBxITHBGqgZo",
    "outputId": "1fbf06e4-eeb5-4430-a73d-aeaf87e3ba74"
   },
   "outputs": [
    {
     "name": "stderr",
     "output_type": "stream",
     "text": [
      "WARNING:pgmpy:Replacing existing CPD for X\n",
      "WARNING:pgmpy:Replacing existing CPD for X\n"
     ]
    },
    {
     "name": "stdout",
     "output_type": "stream",
     "text": [
      "E(U(Y)|X=debt)= 56999.99999999999\n",
      "E(U(Y)|X=equity)= 37000.00000000001\n",
      "E(U(Y_{X=debt}))= 39000.0\n",
      "E(U(Y_{X=equity}))= 34000.0\n"
     ]
    }
   ],
   "source": [
    "\n",
    "\n",
    "infer = VariableElimination(model)    #B\n",
    "marginal_u_given_debt = infer.query(variables=['U'], evidence={'X': 'debt'})    #B\n",
    "marginal_u_given_equity = infer.query(variables=['U'], evidence={'X': 'equity'})    #B\n",
    "e_u_given_x_debt = get_expectation(marginal_u_given_debt)    #B\n",
    "e_u_given_x_equity = get_expectation(marginal_u_given_equity)    #B\n",
    "print(\"E(U(Y)|X=debt)=\", e_u_given_x_debt)    #B\n",
    "print(\"E(U(Y)|X=equity)=\", e_u_given_x_equity)    #B\n",
    "\n",
    "int_model_x_debt = do(model, {\"X\": \"debt\"})    #C\n",
    "infer_debt = VariableElimination(int_model_x_debt)    #C\n",
    "marginal_u_given_debt = infer_debt.query(variables=['U'])    #C\n",
    "expectation_u_given_debt = get_expectation(marginal_u_given_debt)    #C\n",
    "print(\"E(U(Y_{X=debt}))=\", expectation_u_given_debt)    #C\n",
    "int_model_x_equity = do(model, {\"X\": \"equity\"})    #C\n",
    "infer_equity = VariableElimination(int_model_x_equity)    #C\n",
    "marginal_u_given_equity = infer_equity.query(variables=['U'])    #C\n",
    "expectation_u_given_equity = get_expectation(marginal_u_given_equity)    #C\n",
    "print(\"E(U(Y_{X=equity}))=\", expectation_u_given_equity)    #C\n",
    "\n",
    "#A A helper function for calculating the expected utility.\n",
    "#B Set X by intervention to debt and equity and calculate the expectation of U under each intervention.\n",
    "#C Condition on X = debt and X = equity and calculate the expectation of U."
   ]
  },
  {
   "cell_type": "code",
   "execution_count": 6,
   "metadata": {
    "colab": {
     "base_uri": "https://localhost:8080/"
    },
    "id": "fSNrk1bB7Ka8",
    "outputId": "f9ed2111-2333-4ac3-ddc2-4a9dc16159e4"
   },
   "outputs": [
    {
     "name": "stderr",
     "output_type": "stream",
     "text": [
      "WARNING:pgmpy:Replacing existing CPD for X\n",
      "WARNING:pgmpy:Replacing existing CPD for X\n"
     ]
    },
    {
     "name": "stdout",
     "output_type": "stream",
     "text": [
      "E(U(Y)|X=debt)= 56999.99999999999\n",
      "E(U(Y)|X=equity)= 53000.0\n",
      "E(U(Y_{X=debt}))= 39000.0\n",
      "E(U(Y_{X=equity}))= 43999.99999999999\n"
     ]
    }
   ],
   "source": [
    "model2 = BayesianNetwork([    #A\n",
    "    ('C', 'X'),    #A\n",
    "    ('C', 'Y'),    #A\n",
    "    ('X', 'Y'),    #A\n",
    "    ('Y', 'U')    #A\n",
    "])\n",
    "\n",
    "cpd_y2 = TabularCPD(    #B\n",
    "    variable='Y',\n",
    "    variable_card=2,\n",
    "    values=[[0.3, 0.9, 0.7, 0.4],  [0.7, 0.1, 0.3, 0.6]],    #C\n",
    "    evidence=['X', 'C'],\n",
    "    evidence_card=[2, 2],\n",
    "    state_names={\n",
    "        'Y': ['failure', 'success'],\n",
    "        'X': ['debt', 'equity'],\n",
    "        'C': ['bear', 'bull']\n",
    "    }\n",
    ")\n",
    "\n",
    "model2.add_cpds(cpd_c, cpd_x, cpd_y2, cpd_u)    #D\n",
    "\n",
    "infer = VariableElimination(model2)    #E\n",
    "marginal_u_given_debt = infer.query(variables=['U'], evidence={'X': 'debt'})    #E\n",
    "marginal_u_given_equity = infer.query(variables=['U'], evidence={'X': 'equity'})    #E\n",
    "e_u_given_x_debt = get_expectation(marginal_u_given_debt)    #E\n",
    "e_u_given_x_equity = get_expectation(marginal_u_given_equity)    #E\n",
    "print(\"E(U(Y)|X=debt)=\", e_u_given_x_debt)    #E\n",
    "print(\"E(U(Y)|X=equity)=\", e_u_given_x_equity)    #E\n",
    "\n",
    "int_model_x_debt = do(model2, {\"X\": \"debt\"})    #F\n",
    "infer_debt = VariableElimination(int_model_x_debt)    #F\n",
    "marginal_u_given_debt = infer_debt.query(variables=['U'])    #F\n",
    "expectation_u_given_debt = get_expectation(marginal_u_given_debt)    #F\n",
    "print(\"E(U(Y_{X=debt}))=\", expectation_u_given_debt)    #F\n",
    "int_model_x_equity = do(model2, {\"X\": \"equity\"})    #F\n",
    "infer_equity = VariableElimination(int_model_x_equity)    #F\n",
    "marginal_u_given_equity = infer_equity.query(variables=['U'])    #F\n",
    "expectation_u_given_equity = get_expectation(marginal_u_given_equity)    #F\n",
    "print(\"E(U(Y_{X=equity}))=\", expectation_u_given_equity)    #F\n",
    "\n",
    "#A Initialize a new model\n",
    "#B Create a new conditional probability distribution for Y\n",
    "#C Change the parameter P(Y=success|X=equity, C=bull) = 0.4 to 0.6.\n",
    "#D Add the causal Markov kernels to the model.\n",
    "#E Set X by intervention to debt and equity and calculate the expectation of U under each intervention.\n",
    "#F Condition on X = debt and X = equity and calculate the expectation of U."
   ]
  },
  {
   "cell_type": "markdown",
   "metadata": {
    "id": "W7OZKOV_KItL"
   },
   "source": [
    "# Newcomb's Paradox Example"
   ]
  },
  {
   "cell_type": "code",
   "execution_count": 7,
   "metadata": {
    "colab": {
     "base_uri": "https://localhost:8080/"
    },
    "id": "XiMy2YgEKNxa",
    "outputId": "762cf817-d4dc-4752-c910-318699b65ea3"
   },
   "outputs": [
    {
     "name": "stdout",
     "output_type": "stream",
     "text": [
      "+--------------+-----+\n",
      "| intent(B)    | 0.5 |\n",
      "+--------------+-----+\n",
      "| intent(both) | 0.5 |\n",
      "+--------------+-----+\n",
      "+--------------+-----------+--------------+\n",
      "| intent       | intent(B) | intent(both) |\n",
      "+--------------+-----------+--------------+\n",
      "| choice(B)    | 1.0       | 0.0          |\n",
      "+--------------+-----------+--------------+\n",
      "| choice(both) | 0.0       | 1.0          |\n",
      "+--------------+-----------+--------------+\n",
      "+---------------------+-----------+--------------+\n",
      "| intent              | intent(B) | intent(both) |\n",
      "+---------------------+-----------+--------------+\n",
      "| AI prediction(B)    | 0.95      | 0.05         |\n",
      "+---------------------+-----------+--------------+\n",
      "| AI prediction(both) | 0.05      | 0.95         |\n",
      "+---------------------+-----------+--------------+\n",
      "+----------------+------------------+---------------------+\n",
      "| AI prediction  | AI prediction(B) | AI prediction(both) |\n",
      "+----------------+------------------+---------------------+\n",
      "| box B(0)       | 0.0              | 1.0                 |\n",
      "+----------------+------------------+---------------------+\n",
      "| box B(1000000) | 1.0              | 0.0                 |\n",
      "+----------------+------------------+---------------------+\n",
      "+------------+-----------+--------------+----------------+----------------+\n",
      "| box B      | box B(0)  | box B(0)     | box B(1000000) | box B(1000000) |\n",
      "+------------+-----------+--------------+----------------+----------------+\n",
      "| choice     | choice(B) | choice(both) | choice(B)      | choice(both)   |\n",
      "+------------+-----------+--------------+----------------+----------------+\n",
      "| U(0)       | 1.0       | 0.0          | 0.0            | 0.0            |\n",
      "+------------+-----------+--------------+----------------+----------------+\n",
      "| U(1000)    | 0.0       | 1.0          | 0.0            | 0.0            |\n",
      "+------------+-----------+--------------+----------------+----------------+\n",
      "| U(1000000) | 0.0       | 0.0          | 1.0            | 0.0            |\n",
      "+------------+-----------+--------------+----------------+----------------+\n",
      "| U(1001000) | 0.0       | 0.0          | 0.0            | 1.0            |\n",
      "+------------+-----------+--------------+----------------+----------------+\n"
     ]
    }
   ],
   "source": [
    "model = BayesianNetwork(    #A\n",
    "    [    #A\n",
    "        ('intent', 'AI prediction'),    #A\n",
    "        ('intent', 'choice'),    #A\n",
    "        ('AI prediction', 'box B'),    #A\n",
    "        ('choice', 'U'),    #A\n",
    "        ('box B', 'U'),    #A\n",
    "    ]    #A\n",
    ")    #A\n",
    "\n",
    "cpd_intent = TabularCPD(    #B\n",
    "    'intent', 2, [[0.5], [.5]],    #B\n",
    "    state_names={'intent': ['B', 'both']}    #B\n",
    ")    #B\n",
    "print(cpd_intent)\n",
    "\n",
    "cpd_choice = TabularCPD(    #C\n",
    "    'choice', 2, [[1, 0], [0, 1]],    #C\n",
    "    evidence=['intent'],     #C\n",
    "    evidence_card=[2],    #C\n",
    "    state_names={    #C\n",
    "        'choice': ['B', 'both'],    #C\n",
    "        'intent': ['B', 'both']    #C\n",
    "    }    #C\n",
    ")    #C\n",
    "print(cpd_choice)\n",
    "\n",
    "cpd_AI = TabularCPD(    #D\n",
    "    'AI prediction', 2, [[.95, 0.05], [.05, .95]],    #D\n",
    "    evidence=['intent'],    #D\n",
    "    evidence_card=[2],    #D\n",
    "    state_names={    #D\n",
    "        'AI prediction': ['B', 'both'],    #D\n",
    "        'intent': ['B', 'both']    #D\n",
    "    }    #D\n",
    ")    #D\n",
    "print(cpd_AI)\n",
    "\n",
    "cpd_box_b_content = TabularCPD(    #E\n",
    "    'box B', 2, [[0, 1], [1, 0]],    #E\n",
    "    evidence=['AI prediction'],    #E\n",
    "    evidence_card=[2],    #E\n",
    "    state_names={    #E\n",
    "        'box B': [0, 1000000],    #E\n",
    "        'AI prediction': ['B', 'both']    #E\n",
    "    }    #E\n",
    ")    #E\n",
    "print(cpd_box_b_content)\n",
    "\n",
    "cpd_u = TabularCPD(    #F\n",
    "    'U', 4,    #F\n",
    "    [    #F\n",
    "        [1, 0, 0, 0],    #F\n",
    "        [0, 1, 0, 0],    #F\n",
    "        [0, 0, 1, 0],    #F\n",
    "        [0, 0, 0, 1],    #F\n",
    "    ],    #F\n",
    "    evidence=['box B', 'choice'],    #F\n",
    "    evidence_card=[2, 2],    #F\n",
    "    state_names={    #F\n",
    "        'U': [0, 1000, 1000000, 1001000],    #F\n",
    "        'box B': [0, 1000000],    #F\n",
    "        'choice': ['B', 'both']    #F\n",
    "    }    #F\n",
    ")    #F\n",
    "print(cpd_u)\n",
    "\n",
    "model.add_cpds(cpd_intent, cpd_choice, cpd_AI, cpd_box_b_content, cpd_u)    #G\n",
    "#A Build the DAG.\n",
    "#B We assume a 50-50 chance the agent will prefer both boxes vs box B.\n",
    "#C We assume the agent's choice is deterministically driven by their intent.\n",
    "#D The AI's prediction is 95% accurate\n",
    "#E Box B contents are set deterministically by the AI's prediction.\n",
    "#F Setup the utility node.\n",
    "#G Build the model."
   ]
  },
  {
   "cell_type": "markdown",
   "metadata": {
    "id": "QFdI171Iltqm"
   },
   "source": [
    "Maximize $U_{choice=x}$."
   ]
  },
  {
   "cell_type": "code",
   "execution_count": 8,
   "metadata": {
    "colab": {
     "base_uri": "https://localhost:8080/"
    },
    "id": "tOP2of-kly6a",
    "outputId": "8cdf4683-6957-4c23-813d-534543aa479e"
   },
   "outputs": [
    {
     "name": "stderr",
     "output_type": "stream",
     "text": [
      "WARNING:pgmpy:Replacing existing CPD for choice\n",
      "WARNING:pgmpy:Replacing existing CPD for choice\n",
      "WARNING:pgmpy:Replacing existing CPD for choice\n",
      "WARNING:pgmpy:Replacing existing CPD for choice\n"
     ]
    },
    {
     "name": "stdout",
     "output_type": "stream",
     "text": [
      "E(U(Y_{choice=both}|intent=both))= 51000.0\n",
      "E(U(Y_{choice=box B}|intent=both))= 50000.0\n",
      "E(U(Y_{choice=both}|intent=B))= 951000.0\n",
      "E(U(Y_{choice=box B}|intent=B))= 950000.0\n"
     ]
    }
   ],
   "source": [
    "int_model_x_both = do(model, {\"choice\": \"both\"})    #A\n",
    "infer_both = VariableElimination(int_model_x_both)    #A\n",
    "marginal_u_given_both = infer_both.query(variables=['U'], evidence={'intent': 'both'})    #A\n",
    "expectation_u_given_both = get_expectation(marginal_u_given_both)    #A\n",
    "print(\"E(U(Y_{choice=both}|intent=both))=\", expectation_u_given_both)    #A\n",
    "int_model_x_box_B = do(model, {\"choice\": \"B\"})    #B\n",
    "infer_box_B = VariableElimination(int_model_x_box_B)    #B\n",
    "marginal_u_given_box_B = infer_box_B.query(variables=['U'], evidence={'intent': 'both'})    #B\n",
    "expectation_u_given_box_B = get_expectation(marginal_u_given_box_B)    #B\n",
    "print(\"E(U(Y_{choice=box B}|intent=both))=\", expectation_u_given_box_B)    #B\n",
    "int_model_x_both = do(model, {\"choice\": \"both\"})    #C\n",
    "infer_both = VariableElimination(int_model_x_both)    #C\n",
    "marginal_u_given_both = infer_both.query(variables=['U'], evidence={'intent': 'B'})    #C\n",
    "expectation_u_given_both = get_expectation(marginal_u_given_both)    #C\n",
    "print(\"E(U(Y_{choice=both}|intent=B))=\", expectation_u_given_both)    #C\n",
    "int_model_x_box_B = do(model, {\"choice\": \"B\"})    #D\n",
    "infer_box_B = VariableElimination(int_model_x_box_B)    #D\n",
    "marginal_u_given_box_B = infer_box_B.query(variables=['U'], evidence={'intent': 'B'})    #D\n",
    "expectation_u_given_box_B = get_expectation(marginal_u_given_box_B)    #D\n",
    "print(\"E(U(Y_{choice=box B}|intent=B))=\", expectation_u_given_box_B)    #D\n",
    "#A Infer E(U(Y_{choice=both}|intent=both))\n",
    "#B Infer E(U(Y_{choice=box B}|intent=both))\n",
    "#C Infer E(U(Y_{choice=both}|intent=B))\n",
    "#D Infer E(U(Y_{choice=box B}|intent=B))"
   ]
  }
 ],
 "metadata": {
  "colab": {
   "provenance": []
  },
  "kernelspec": {
   "display_name": "Python 3 (ipykernel)",
   "language": "python",
   "name": "python3"
  },
  "language_info": {
   "codemirror_mode": {
    "name": "ipython",
    "version": 3
   },
   "file_extension": ".py",
   "mimetype": "text/x-python",
   "name": "python",
   "nbconvert_exporter": "python",
   "pygments_lexer": "ipython3",
   "version": "3.11.7"
  }
 },
 "nbformat": 4,
 "nbformat_minor": 4
}
