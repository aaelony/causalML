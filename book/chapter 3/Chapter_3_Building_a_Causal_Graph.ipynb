{
  "cells": [
    {
      "cell_type": "markdown",
      "metadata": {
        "id": "Th3tUn8N5n4q"
      },
      "source": [
        "# Chapter 3 - Building a Causal Graph\n",
        "\n",
        "The notebook is a code companion to chapter 3 of the book [Causal AI](https://www.manning.com/books/causal-ai) by [Robert Osazuwa Ness](https://www.linkedin.com/in/osazuwa/).\n",
        "\n",
        "<a href=\"https://colab.research.google.com/github/altdeep/causalML/blob/master/book/chapter%203/Chapter_3_Building_a_Causal_Graph.ipynb\" target=\"_parent\"><img src=\"https://colab.research.google.com/assets/colab-badge.svg\" alt=\"Open In Colab\"/></a>"
      ]
    },
    {
      "cell_type": "code",
      "execution_count": 1,
      "metadata": {
        "id": "APJ2_62w5oLu",
        "outputId": "87f77a7b-f3cb-452e-a51e-dabceb73e0f6",
        "colab": {
          "base_uri": "https://localhost:8080/"
        }
      },
      "outputs": [
        {
          "output_type": "stream",
          "name": "stdout",
          "text": [
            "Collecting pgmpy==0.1.24\n",
            "  Downloading pgmpy-0.1.24-py3-none-any.whl (2.0 MB)\n",
            "\u001b[?25l     \u001b[90m━━━━━━━━━━━━━━━━━━━━━━━━━━━━━━━━━━━━━━━━\u001b[0m \u001b[32m0.0/2.0 MB\u001b[0m \u001b[31m?\u001b[0m eta \u001b[36m-:--:--\u001b[0m\r\u001b[2K     \u001b[91m━\u001b[0m\u001b[90m╺\u001b[0m\u001b[90m━━━━━━━━━━━━━━━━━━━━━━━━━━━━━━━━━━━━━━\u001b[0m \u001b[32m0.1/2.0 MB\u001b[0m \u001b[31m1.7 MB/s\u001b[0m eta \u001b[36m0:00:02\u001b[0m\r\u001b[2K     \u001b[91m━━━━━━━\u001b[0m\u001b[91m╸\u001b[0m\u001b[90m━━━━━━━━━━━━━━━━━━━━━━━━━━━━━━━━\u001b[0m \u001b[32m0.4/2.0 MB\u001b[0m \u001b[31m5.3 MB/s\u001b[0m eta \u001b[36m0:00:01\u001b[0m\r\u001b[2K     \u001b[91m━━━━━━━━━━━━━━━━━━━━━━━━━━━━━━━━━━━━━━━\u001b[0m\u001b[91m╸\u001b[0m \u001b[32m2.0/2.0 MB\u001b[0m \u001b[31m20.9 MB/s\u001b[0m eta \u001b[36m0:00:01\u001b[0m\r\u001b[2K     \u001b[90m━━━━━━━━━━━━━━━━━━━━━━━━━━━━━━━━━━━━━━━━\u001b[0m \u001b[32m2.0/2.0 MB\u001b[0m \u001b[31m15.9 MB/s\u001b[0m eta \u001b[36m0:00:00\u001b[0m\n",
            "\u001b[?25hRequirement already satisfied: networkx in /usr/local/lib/python3.10/dist-packages (from pgmpy==0.1.24) (3.2.1)\n",
            "Requirement already satisfied: numpy in /usr/local/lib/python3.10/dist-packages (from pgmpy==0.1.24) (1.25.2)\n",
            "Requirement already satisfied: scipy in /usr/local/lib/python3.10/dist-packages (from pgmpy==0.1.24) (1.11.4)\n",
            "Requirement already satisfied: scikit-learn in /usr/local/lib/python3.10/dist-packages (from pgmpy==0.1.24) (1.2.2)\n",
            "Requirement already satisfied: pandas in /usr/local/lib/python3.10/dist-packages (from pgmpy==0.1.24) (2.0.3)\n",
            "Requirement already satisfied: pyparsing in /usr/local/lib/python3.10/dist-packages (from pgmpy==0.1.24) (3.1.2)\n",
            "Requirement already satisfied: torch in /usr/local/lib/python3.10/dist-packages (from pgmpy==0.1.24) (2.2.1+cu121)\n",
            "Requirement already satisfied: statsmodels in /usr/local/lib/python3.10/dist-packages (from pgmpy==0.1.24) (0.14.1)\n",
            "Requirement already satisfied: tqdm in /usr/local/lib/python3.10/dist-packages (from pgmpy==0.1.24) (4.66.2)\n",
            "Requirement already satisfied: joblib in /usr/local/lib/python3.10/dist-packages (from pgmpy==0.1.24) (1.3.2)\n",
            "Requirement already satisfied: opt-einsum in /usr/local/lib/python3.10/dist-packages (from pgmpy==0.1.24) (3.3.0)\n",
            "Requirement already satisfied: python-dateutil>=2.8.2 in /usr/local/lib/python3.10/dist-packages (from pandas->pgmpy==0.1.24) (2.8.2)\n",
            "Requirement already satisfied: pytz>=2020.1 in /usr/local/lib/python3.10/dist-packages (from pandas->pgmpy==0.1.24) (2023.4)\n",
            "Requirement already satisfied: tzdata>=2022.1 in /usr/local/lib/python3.10/dist-packages (from pandas->pgmpy==0.1.24) (2024.1)\n",
            "Requirement already satisfied: threadpoolctl>=2.0.0 in /usr/local/lib/python3.10/dist-packages (from scikit-learn->pgmpy==0.1.24) (3.4.0)\n",
            "Requirement already satisfied: patsy>=0.5.4 in /usr/local/lib/python3.10/dist-packages (from statsmodels->pgmpy==0.1.24) (0.5.6)\n",
            "Requirement already satisfied: packaging>=21.3 in /usr/local/lib/python3.10/dist-packages (from statsmodels->pgmpy==0.1.24) (24.0)\n",
            "Requirement already satisfied: filelock in /usr/local/lib/python3.10/dist-packages (from torch->pgmpy==0.1.24) (3.13.3)\n",
            "Requirement already satisfied: typing-extensions>=4.8.0 in /usr/local/lib/python3.10/dist-packages (from torch->pgmpy==0.1.24) (4.10.0)\n",
            "Requirement already satisfied: sympy in /usr/local/lib/python3.10/dist-packages (from torch->pgmpy==0.1.24) (1.12)\n",
            "Requirement already satisfied: jinja2 in /usr/local/lib/python3.10/dist-packages (from torch->pgmpy==0.1.24) (3.1.3)\n",
            "Requirement already satisfied: fsspec in /usr/local/lib/python3.10/dist-packages (from torch->pgmpy==0.1.24) (2023.6.0)\n",
            "Collecting nvidia-cuda-nvrtc-cu12==12.1.105 (from torch->pgmpy==0.1.24)\n",
            "  Using cached nvidia_cuda_nvrtc_cu12-12.1.105-py3-none-manylinux1_x86_64.whl (23.7 MB)\n",
            "Collecting nvidia-cuda-runtime-cu12==12.1.105 (from torch->pgmpy==0.1.24)\n",
            "  Using cached nvidia_cuda_runtime_cu12-12.1.105-py3-none-manylinux1_x86_64.whl (823 kB)\n",
            "Collecting nvidia-cuda-cupti-cu12==12.1.105 (from torch->pgmpy==0.1.24)\n",
            "  Using cached nvidia_cuda_cupti_cu12-12.1.105-py3-none-manylinux1_x86_64.whl (14.1 MB)\n",
            "Collecting nvidia-cudnn-cu12==8.9.2.26 (from torch->pgmpy==0.1.24)\n",
            "  Using cached nvidia_cudnn_cu12-8.9.2.26-py3-none-manylinux1_x86_64.whl (731.7 MB)\n",
            "Collecting nvidia-cublas-cu12==12.1.3.1 (from torch->pgmpy==0.1.24)\n",
            "  Using cached nvidia_cublas_cu12-12.1.3.1-py3-none-manylinux1_x86_64.whl (410.6 MB)\n",
            "Collecting nvidia-cufft-cu12==11.0.2.54 (from torch->pgmpy==0.1.24)\n",
            "  Using cached nvidia_cufft_cu12-11.0.2.54-py3-none-manylinux1_x86_64.whl (121.6 MB)\n",
            "Collecting nvidia-curand-cu12==10.3.2.106 (from torch->pgmpy==0.1.24)\n",
            "  Using cached nvidia_curand_cu12-10.3.2.106-py3-none-manylinux1_x86_64.whl (56.5 MB)\n",
            "Collecting nvidia-cusolver-cu12==11.4.5.107 (from torch->pgmpy==0.1.24)\n",
            "  Using cached nvidia_cusolver_cu12-11.4.5.107-py3-none-manylinux1_x86_64.whl (124.2 MB)\n",
            "Collecting nvidia-cusparse-cu12==12.1.0.106 (from torch->pgmpy==0.1.24)\n",
            "  Using cached nvidia_cusparse_cu12-12.1.0.106-py3-none-manylinux1_x86_64.whl (196.0 MB)\n",
            "Collecting nvidia-nccl-cu12==2.19.3 (from torch->pgmpy==0.1.24)\n",
            "  Using cached nvidia_nccl_cu12-2.19.3-py3-none-manylinux1_x86_64.whl (166.0 MB)\n",
            "Collecting nvidia-nvtx-cu12==12.1.105 (from torch->pgmpy==0.1.24)\n",
            "  Using cached nvidia_nvtx_cu12-12.1.105-py3-none-manylinux1_x86_64.whl (99 kB)\n",
            "Requirement already satisfied: triton==2.2.0 in /usr/local/lib/python3.10/dist-packages (from torch->pgmpy==0.1.24) (2.2.0)\n",
            "Collecting nvidia-nvjitlink-cu12 (from nvidia-cusolver-cu12==11.4.5.107->torch->pgmpy==0.1.24)\n",
            "  Using cached nvidia_nvjitlink_cu12-12.4.127-py3-none-manylinux2014_x86_64.whl (21.1 MB)\n",
            "Requirement already satisfied: six in /usr/local/lib/python3.10/dist-packages (from patsy>=0.5.4->statsmodels->pgmpy==0.1.24) (1.16.0)\n",
            "Requirement already satisfied: MarkupSafe>=2.0 in /usr/local/lib/python3.10/dist-packages (from jinja2->torch->pgmpy==0.1.24) (2.1.5)\n",
            "Requirement already satisfied: mpmath>=0.19 in /usr/local/lib/python3.10/dist-packages (from sympy->torch->pgmpy==0.1.24) (1.3.0)\n",
            "Installing collected packages: nvidia-nvtx-cu12, nvidia-nvjitlink-cu12, nvidia-nccl-cu12, nvidia-curand-cu12, nvidia-cufft-cu12, nvidia-cuda-runtime-cu12, nvidia-cuda-nvrtc-cu12, nvidia-cuda-cupti-cu12, nvidia-cublas-cu12, nvidia-cusparse-cu12, nvidia-cudnn-cu12, nvidia-cusolver-cu12, pgmpy\n",
            "Successfully installed nvidia-cublas-cu12-12.1.3.1 nvidia-cuda-cupti-cu12-12.1.105 nvidia-cuda-nvrtc-cu12-12.1.105 nvidia-cuda-runtime-cu12-12.1.105 nvidia-cudnn-cu12-8.9.2.26 nvidia-cufft-cu12-11.0.2.54 nvidia-curand-cu12-10.3.2.106 nvidia-cusolver-cu12-11.4.5.107 nvidia-cusparse-cu12-12.1.0.106 nvidia-nccl-cu12-2.19.3 nvidia-nvjitlink-cu12-12.4.127 nvidia-nvtx-cu12-12.1.105 pgmpy-0.1.24\n",
            "Collecting pyro-ppl==1.8.6\n",
            "  Downloading pyro_ppl-1.8.6-py3-none-any.whl (732 kB)\n",
            "\u001b[2K     \u001b[90m━━━━━━━━━━━━━━━━━━━━━━━━━━━━━━━━━━━━━━━━\u001b[0m \u001b[32m732.8/732.8 kB\u001b[0m \u001b[31m10.0 MB/s\u001b[0m eta \u001b[36m0:00:00\u001b[0m\n",
            "\u001b[?25hRequirement already satisfied: numpy>=1.7 in /usr/local/lib/python3.10/dist-packages (from pyro-ppl==1.8.6) (1.25.2)\n",
            "Requirement already satisfied: opt-einsum>=2.3.2 in /usr/local/lib/python3.10/dist-packages (from pyro-ppl==1.8.6) (3.3.0)\n",
            "Collecting pyro-api>=0.1.1 (from pyro-ppl==1.8.6)\n",
            "  Downloading pyro_api-0.1.2-py3-none-any.whl (11 kB)\n",
            "Requirement already satisfied: torch>=1.11.0 in /usr/local/lib/python3.10/dist-packages (from pyro-ppl==1.8.6) (2.2.1+cu121)\n",
            "Requirement already satisfied: tqdm>=4.36 in /usr/local/lib/python3.10/dist-packages (from pyro-ppl==1.8.6) (4.66.2)\n",
            "Requirement already satisfied: filelock in /usr/local/lib/python3.10/dist-packages (from torch>=1.11.0->pyro-ppl==1.8.6) (3.13.3)\n",
            "Requirement already satisfied: typing-extensions>=4.8.0 in /usr/local/lib/python3.10/dist-packages (from torch>=1.11.0->pyro-ppl==1.8.6) (4.10.0)\n",
            "Requirement already satisfied: sympy in /usr/local/lib/python3.10/dist-packages (from torch>=1.11.0->pyro-ppl==1.8.6) (1.12)\n",
            "Requirement already satisfied: networkx in /usr/local/lib/python3.10/dist-packages (from torch>=1.11.0->pyro-ppl==1.8.6) (3.2.1)\n",
            "Requirement already satisfied: jinja2 in /usr/local/lib/python3.10/dist-packages (from torch>=1.11.0->pyro-ppl==1.8.6) (3.1.3)\n",
            "Requirement already satisfied: fsspec in /usr/local/lib/python3.10/dist-packages (from torch>=1.11.0->pyro-ppl==1.8.6) (2023.6.0)\n",
            "Requirement already satisfied: nvidia-cuda-nvrtc-cu12==12.1.105 in /usr/local/lib/python3.10/dist-packages (from torch>=1.11.0->pyro-ppl==1.8.6) (12.1.105)\n",
            "Requirement already satisfied: nvidia-cuda-runtime-cu12==12.1.105 in /usr/local/lib/python3.10/dist-packages (from torch>=1.11.0->pyro-ppl==1.8.6) (12.1.105)\n",
            "Requirement already satisfied: nvidia-cuda-cupti-cu12==12.1.105 in /usr/local/lib/python3.10/dist-packages (from torch>=1.11.0->pyro-ppl==1.8.6) (12.1.105)\n",
            "Requirement already satisfied: nvidia-cudnn-cu12==8.9.2.26 in /usr/local/lib/python3.10/dist-packages (from torch>=1.11.0->pyro-ppl==1.8.6) (8.9.2.26)\n",
            "Requirement already satisfied: nvidia-cublas-cu12==12.1.3.1 in /usr/local/lib/python3.10/dist-packages (from torch>=1.11.0->pyro-ppl==1.8.6) (12.1.3.1)\n",
            "Requirement already satisfied: nvidia-cufft-cu12==11.0.2.54 in /usr/local/lib/python3.10/dist-packages (from torch>=1.11.0->pyro-ppl==1.8.6) (11.0.2.54)\n",
            "Requirement already satisfied: nvidia-curand-cu12==10.3.2.106 in /usr/local/lib/python3.10/dist-packages (from torch>=1.11.0->pyro-ppl==1.8.6) (10.3.2.106)\n",
            "Requirement already satisfied: nvidia-cusolver-cu12==11.4.5.107 in /usr/local/lib/python3.10/dist-packages (from torch>=1.11.0->pyro-ppl==1.8.6) (11.4.5.107)\n",
            "Requirement already satisfied: nvidia-cusparse-cu12==12.1.0.106 in /usr/local/lib/python3.10/dist-packages (from torch>=1.11.0->pyro-ppl==1.8.6) (12.1.0.106)\n",
            "Requirement already satisfied: nvidia-nccl-cu12==2.19.3 in /usr/local/lib/python3.10/dist-packages (from torch>=1.11.0->pyro-ppl==1.8.6) (2.19.3)\n",
            "Requirement already satisfied: nvidia-nvtx-cu12==12.1.105 in /usr/local/lib/python3.10/dist-packages (from torch>=1.11.0->pyro-ppl==1.8.6) (12.1.105)\n",
            "Requirement already satisfied: triton==2.2.0 in /usr/local/lib/python3.10/dist-packages (from torch>=1.11.0->pyro-ppl==1.8.6) (2.2.0)\n",
            "Requirement already satisfied: nvidia-nvjitlink-cu12 in /usr/local/lib/python3.10/dist-packages (from nvidia-cusolver-cu12==11.4.5.107->torch>=1.11.0->pyro-ppl==1.8.6) (12.4.127)\n",
            "Requirement already satisfied: MarkupSafe>=2.0 in /usr/local/lib/python3.10/dist-packages (from jinja2->torch>=1.11.0->pyro-ppl==1.8.6) (2.1.5)\n",
            "Requirement already satisfied: mpmath>=0.19 in /usr/local/lib/python3.10/dist-packages (from sympy->torch>=1.11.0->pyro-ppl==1.8.6) (1.3.0)\n",
            "Installing collected packages: pyro-api, pyro-ppl\n",
            "Successfully installed pyro-api-0.1.2 pyro-ppl-1.8.6\n",
            "Collecting graphviz==0.20.1\n",
            "  Downloading graphviz-0.20.1-py3-none-any.whl (47 kB)\n",
            "\u001b[2K     \u001b[90m━━━━━━━━━━━━━━━━━━━━━━━━━━━━━━━━━━━━━━━━\u001b[0m \u001b[32m47.0/47.0 kB\u001b[0m \u001b[31m1.7 MB/s\u001b[0m eta \u001b[36m0:00:00\u001b[0m\n",
            "\u001b[?25hInstalling collected packages: graphviz\n",
            "  Attempting uninstall: graphviz\n",
            "    Found existing installation: graphviz 0.20.3\n",
            "    Uninstalling graphviz-0.20.3:\n",
            "      Successfully uninstalled graphviz-0.20.3\n",
            "Successfully installed graphviz-0.20.1\n",
            "Collecting dowhy==0.11.1\n",
            "  Downloading dowhy-0.11.1-py3-none-any.whl (383 kB)\n",
            "\u001b[2K     \u001b[90m━━━━━━━━━━━━━━━━━━━━━━━━━━━━━━━━━━━━━━━━\u001b[0m \u001b[32m383.4/383.4 kB\u001b[0m \u001b[31m8.0 MB/s\u001b[0m eta \u001b[36m0:00:00\u001b[0m\n",
            "\u001b[?25hCollecting causal-learn>=0.1.3.0 (from dowhy==0.11.1)\n",
            "  Downloading causal_learn-0.1.3.8-py3-none-any.whl (174 kB)\n",
            "\u001b[2K     \u001b[90m━━━━━━━━━━━━━━━━━━━━━━━━━━━━━━━━━━━━━━━━\u001b[0m \u001b[32m174.5/174.5 kB\u001b[0m \u001b[31m21.4 MB/s\u001b[0m eta \u001b[36m0:00:00\u001b[0m\n",
            "\u001b[?25hRequirement already satisfied: cvxpy<2.0.0,>=1.2.2 in /usr/local/lib/python3.10/dist-packages (from dowhy==0.11.1) (1.3.3)\n",
            "Requirement already satisfied: cython>=0.29.32 in /usr/local/lib/python3.10/dist-packages (from dowhy==0.11.1) (3.0.10)\n",
            "Requirement already satisfied: joblib>=1.1.0 in /usr/local/lib/python3.10/dist-packages (from dowhy==0.11.1) (1.3.2)\n",
            "Requirement already satisfied: networkx>=2.8.5 in /usr/local/lib/python3.10/dist-packages (from dowhy==0.11.1) (3.2.1)\n",
            "Requirement already satisfied: numpy>=1.20 in /usr/local/lib/python3.10/dist-packages (from dowhy==0.11.1) (1.25.2)\n",
            "Requirement already satisfied: pandas>=1.4.3 in /usr/local/lib/python3.10/dist-packages (from dowhy==0.11.1) (2.0.3)\n",
            "Requirement already satisfied: scikit-learn>1.0 in /usr/local/lib/python3.10/dist-packages (from dowhy==0.11.1) (1.2.2)\n",
            "Requirement already satisfied: scipy>=1.4.1 in /usr/local/lib/python3.10/dist-packages (from dowhy==0.11.1) (1.11.4)\n",
            "Requirement already satisfied: statsmodels>=0.13.5 in /usr/local/lib/python3.10/dist-packages (from dowhy==0.11.1) (0.14.1)\n",
            "Requirement already satisfied: sympy>=1.10.1 in /usr/local/lib/python3.10/dist-packages (from dowhy==0.11.1) (1.12)\n",
            "Requirement already satisfied: tqdm>=4.64.0 in /usr/local/lib/python3.10/dist-packages (from dowhy==0.11.1) (4.66.2)\n",
            "Requirement already satisfied: graphviz in /usr/local/lib/python3.10/dist-packages (from causal-learn>=0.1.3.0->dowhy==0.11.1) (0.20.1)\n",
            "Requirement already satisfied: matplotlib in /usr/local/lib/python3.10/dist-packages (from causal-learn>=0.1.3.0->dowhy==0.11.1) (3.7.1)\n",
            "Requirement already satisfied: pydot in /usr/local/lib/python3.10/dist-packages (from causal-learn>=0.1.3.0->dowhy==0.11.1) (1.4.2)\n",
            "Requirement already satisfied: osqp>=0.4.1 in /usr/local/lib/python3.10/dist-packages (from cvxpy<2.0.0,>=1.2.2->dowhy==0.11.1) (0.6.2.post8)\n",
            "Requirement already satisfied: ecos>=2 in /usr/local/lib/python3.10/dist-packages (from cvxpy<2.0.0,>=1.2.2->dowhy==0.11.1) (2.0.13)\n",
            "Requirement already satisfied: scs>=1.1.6 in /usr/local/lib/python3.10/dist-packages (from cvxpy<2.0.0,>=1.2.2->dowhy==0.11.1) (3.2.4.post1)\n",
            "Requirement already satisfied: setuptools>65.5.1 in /usr/local/lib/python3.10/dist-packages (from cvxpy<2.0.0,>=1.2.2->dowhy==0.11.1) (67.7.2)\n",
            "Requirement already satisfied: python-dateutil>=2.8.2 in /usr/local/lib/python3.10/dist-packages (from pandas>=1.4.3->dowhy==0.11.1) (2.8.2)\n",
            "Requirement already satisfied: pytz>=2020.1 in /usr/local/lib/python3.10/dist-packages (from pandas>=1.4.3->dowhy==0.11.1) (2023.4)\n",
            "Requirement already satisfied: tzdata>=2022.1 in /usr/local/lib/python3.10/dist-packages (from pandas>=1.4.3->dowhy==0.11.1) (2024.1)\n",
            "Requirement already satisfied: threadpoolctl>=2.0.0 in /usr/local/lib/python3.10/dist-packages (from scikit-learn>1.0->dowhy==0.11.1) (3.4.0)\n",
            "Requirement already satisfied: patsy>=0.5.4 in /usr/local/lib/python3.10/dist-packages (from statsmodels>=0.13.5->dowhy==0.11.1) (0.5.6)\n",
            "Requirement already satisfied: packaging>=21.3 in /usr/local/lib/python3.10/dist-packages (from statsmodels>=0.13.5->dowhy==0.11.1) (24.0)\n",
            "Requirement already satisfied: mpmath>=0.19 in /usr/local/lib/python3.10/dist-packages (from sympy>=1.10.1->dowhy==0.11.1) (1.3.0)\n",
            "Requirement already satisfied: qdldl in /usr/local/lib/python3.10/dist-packages (from osqp>=0.4.1->cvxpy<2.0.0,>=1.2.2->dowhy==0.11.1) (0.1.7.post0)\n",
            "Requirement already satisfied: six in /usr/local/lib/python3.10/dist-packages (from patsy>=0.5.4->statsmodels>=0.13.5->dowhy==0.11.1) (1.16.0)\n",
            "Requirement already satisfied: contourpy>=1.0.1 in /usr/local/lib/python3.10/dist-packages (from matplotlib->causal-learn>=0.1.3.0->dowhy==0.11.1) (1.2.1)\n",
            "Requirement already satisfied: cycler>=0.10 in /usr/local/lib/python3.10/dist-packages (from matplotlib->causal-learn>=0.1.3.0->dowhy==0.11.1) (0.12.1)\n",
            "Requirement already satisfied: fonttools>=4.22.0 in /usr/local/lib/python3.10/dist-packages (from matplotlib->causal-learn>=0.1.3.0->dowhy==0.11.1) (4.50.0)\n",
            "Requirement already satisfied: kiwisolver>=1.0.1 in /usr/local/lib/python3.10/dist-packages (from matplotlib->causal-learn>=0.1.3.0->dowhy==0.11.1) (1.4.5)\n",
            "Requirement already satisfied: pillow>=6.2.0 in /usr/local/lib/python3.10/dist-packages (from matplotlib->causal-learn>=0.1.3.0->dowhy==0.11.1) (9.4.0)\n",
            "Requirement already satisfied: pyparsing>=2.3.1 in /usr/local/lib/python3.10/dist-packages (from matplotlib->causal-learn>=0.1.3.0->dowhy==0.11.1) (3.1.2)\n",
            "Installing collected packages: causal-learn, dowhy\n",
            "Successfully installed causal-learn-0.1.3.8 dowhy-0.11.1\n"
          ]
        }
      ],
      "source": [
        "# For stability of this notebook, I install the versions of the libraries that were current at the time of writing.\n",
        "!pip install pgmpy==0.1.24\n",
        "!pip install pyro-ppl==1.8.6\n",
        "!pip install graphviz==0.20.1\n",
        "!pip install dowhy==0.11.1"
      ]
    },
    {
      "cell_type": "markdown",
      "metadata": {
        "id": "l_ioUCQs6zzQ"
      },
      "source": [
        "## Listing 3.1: DAG Rock-throwing example\n",
        "\n",
        "In the rock-throwing DGP from Chapter 2. In that example, Jenny and Bryan are have a certain amount of desire or “inclination” to throw rocks at a windowpane that has a certain amount of strength. If either person's inclination to throw surpasses a threshold, they throw. The window breaks depending on if either or both of them throw and the strength of the window. As a Python function, the DGP is as follows:"
      ]
    },
    {
      "cell_type": "code",
      "execution_count": 2,
      "metadata": {
        "id": "vurkTE0s5oUK"
      },
      "outputs": [],
      "source": [
        "def true_dgp(jenny_inclination, brian_inclination, window_strength):    #A\n",
        "    jenny_throws_rock = jenny_inclination > 0.5    #B\n",
        "    brian_throws_rock = brian_inclination > 0.5    #B\n",
        "    if jenny_throws_rock and brian_throws_rock:    #C\n",
        "        strength_of_impact = 0.8    #C\n",
        "    elif jenny_throws_rock or brian_throws_rock:    #D\n",
        "        strength_of_impact = 0.6    #D\n",
        "    else:    #E\n",
        "        strength_of_impact = 0.0    #E\n",
        "    window_breaks = window_strength < strength_of_impact    #F\n",
        "    return jenny_throws_rock, brian_throws_rock, window_breaks\n",
        "\n",
        "#A Input variables are numbers between 0 and 1\n",
        "#B Jenny and Brian throw the rock if so inclined\n",
        "#C If both throw the rock the strength of impact is .8\n",
        "#D If one of them throws the strength of impact is .6\n",
        "#E If neither throws the strength of impact is 0\n",
        "#F The window breaks if strength of imact is greater than window strength"
      ]
    },
    {
      "cell_type": "markdown",
      "metadata": {
        "id": "t7ncjfFO4W-K"
      },
      "source": [
        "This data generating process implies the following DAG.\n",
        "\n",
        "![Window breaking DGP](https://github.com/altdeep/causalML/blob/master/book/chapter%203/images/window_breaking_DAG.png?raw=1)\n"
      ]
    },
    {
      "cell_type": "markdown",
      "metadata": {
        "id": "kXlxbId87B20"
      },
      "source": [
        "## Listing 3.2: Building the transportation DAG in pgmpy\n",
        "\n",
        "We can build the causal DAG with the following code."
      ]
    },
    {
      "cell_type": "code",
      "execution_count": 3,
      "metadata": {
        "id": "7Xvl8R9j7CBk"
      },
      "outputs": [],
      "source": [
        "from pgmpy.models import BayesianNetwork\n",
        "model = BayesianNetwork(    #A\n",
        "       [\n",
        "        ('A', 'E'),    #B\n",
        "        ('S', 'E'),    #B\n",
        "        ('E', 'O'),    #B\n",
        "        ('E', 'R'),    #B\n",
        "        ('O', 'T'),    #B\n",
        "        ('R', 'T')     #B\n",
        "     ]\n",
        ")\n",
        "#A pgmpy provides a BayesianNetwork class where we add the edges to the model.\n",
        "#B Inut the DAG as a list of edges (tuples)."
      ]
    },
    {
      "cell_type": "markdown",
      "metadata": {
        "id": "c101BY4g4W-L"
      },
      "source": [
        "![transportation DAG](https://github.com/altdeep/causalML/blob/master/book/chapter%203/images/transportation_DAG.png?raw=1)"
      ]
    },
    {
      "cell_type": "markdown",
      "metadata": {
        "id": "FFvQMs-f7GTa"
      },
      "source": [
        "## Listing 3.3: Loading transportation data\n",
        "\n",
        "The variables in the transportation data are all categorical variables. In this simple categorical case, we can rely on a graphical modeling library like pgmpy.\n"
      ]
    },
    {
      "cell_type": "code",
      "execution_count": 4,
      "metadata": {
        "colab": {
          "base_uri": "https://localhost:8080/",
          "height": 424
        },
        "id": "amScTPVM7Gl9",
        "outputId": "9b79f394-80ba-492b-968d-b935454e6377"
      },
      "outputs": [
        {
          "output_type": "execute_result",
          "data": {
            "text/plain": [
              "         A  S     E    O      R      T\n",
              "0    adult  F  high  emp  small  train\n",
              "1    young  M  high  emp    big    car\n",
              "2    adult  M   uni  emp    big  other\n",
              "3      old  F   uni  emp    big    car\n",
              "4    young  F   uni  emp    big    car\n",
              "..     ... ..   ...  ...    ...    ...\n",
              "495  young  M  high  emp    big  other\n",
              "496  adult  M  high  emp    big    car\n",
              "497  young  M  high  emp  small  train\n",
              "498  young  M  high  emp  small    car\n",
              "499  adult  M  high  emp  small  other\n",
              "\n",
              "[500 rows x 6 columns]"
            ],
            "text/html": [
              "\n",
              "  <div id=\"df-ac21f7b3-7ee2-4868-b1f1-86c92c980bd2\" class=\"colab-df-container\">\n",
              "    <div>\n",
              "<style scoped>\n",
              "    .dataframe tbody tr th:only-of-type {\n",
              "        vertical-align: middle;\n",
              "    }\n",
              "\n",
              "    .dataframe tbody tr th {\n",
              "        vertical-align: top;\n",
              "    }\n",
              "\n",
              "    .dataframe thead th {\n",
              "        text-align: right;\n",
              "    }\n",
              "</style>\n",
              "<table border=\"1\" class=\"dataframe\">\n",
              "  <thead>\n",
              "    <tr style=\"text-align: right;\">\n",
              "      <th></th>\n",
              "      <th>A</th>\n",
              "      <th>S</th>\n",
              "      <th>E</th>\n",
              "      <th>O</th>\n",
              "      <th>R</th>\n",
              "      <th>T</th>\n",
              "    </tr>\n",
              "  </thead>\n",
              "  <tbody>\n",
              "    <tr>\n",
              "      <th>0</th>\n",
              "      <td>adult</td>\n",
              "      <td>F</td>\n",
              "      <td>high</td>\n",
              "      <td>emp</td>\n",
              "      <td>small</td>\n",
              "      <td>train</td>\n",
              "    </tr>\n",
              "    <tr>\n",
              "      <th>1</th>\n",
              "      <td>young</td>\n",
              "      <td>M</td>\n",
              "      <td>high</td>\n",
              "      <td>emp</td>\n",
              "      <td>big</td>\n",
              "      <td>car</td>\n",
              "    </tr>\n",
              "    <tr>\n",
              "      <th>2</th>\n",
              "      <td>adult</td>\n",
              "      <td>M</td>\n",
              "      <td>uni</td>\n",
              "      <td>emp</td>\n",
              "      <td>big</td>\n",
              "      <td>other</td>\n",
              "    </tr>\n",
              "    <tr>\n",
              "      <th>3</th>\n",
              "      <td>old</td>\n",
              "      <td>F</td>\n",
              "      <td>uni</td>\n",
              "      <td>emp</td>\n",
              "      <td>big</td>\n",
              "      <td>car</td>\n",
              "    </tr>\n",
              "    <tr>\n",
              "      <th>4</th>\n",
              "      <td>young</td>\n",
              "      <td>F</td>\n",
              "      <td>uni</td>\n",
              "      <td>emp</td>\n",
              "      <td>big</td>\n",
              "      <td>car</td>\n",
              "    </tr>\n",
              "    <tr>\n",
              "      <th>...</th>\n",
              "      <td>...</td>\n",
              "      <td>...</td>\n",
              "      <td>...</td>\n",
              "      <td>...</td>\n",
              "      <td>...</td>\n",
              "      <td>...</td>\n",
              "    </tr>\n",
              "    <tr>\n",
              "      <th>495</th>\n",
              "      <td>young</td>\n",
              "      <td>M</td>\n",
              "      <td>high</td>\n",
              "      <td>emp</td>\n",
              "      <td>big</td>\n",
              "      <td>other</td>\n",
              "    </tr>\n",
              "    <tr>\n",
              "      <th>496</th>\n",
              "      <td>adult</td>\n",
              "      <td>M</td>\n",
              "      <td>high</td>\n",
              "      <td>emp</td>\n",
              "      <td>big</td>\n",
              "      <td>car</td>\n",
              "    </tr>\n",
              "    <tr>\n",
              "      <th>497</th>\n",
              "      <td>young</td>\n",
              "      <td>M</td>\n",
              "      <td>high</td>\n",
              "      <td>emp</td>\n",
              "      <td>small</td>\n",
              "      <td>train</td>\n",
              "    </tr>\n",
              "    <tr>\n",
              "      <th>498</th>\n",
              "      <td>young</td>\n",
              "      <td>M</td>\n",
              "      <td>high</td>\n",
              "      <td>emp</td>\n",
              "      <td>small</td>\n",
              "      <td>car</td>\n",
              "    </tr>\n",
              "    <tr>\n",
              "      <th>499</th>\n",
              "      <td>adult</td>\n",
              "      <td>M</td>\n",
              "      <td>high</td>\n",
              "      <td>emp</td>\n",
              "      <td>small</td>\n",
              "      <td>other</td>\n",
              "    </tr>\n",
              "  </tbody>\n",
              "</table>\n",
              "<p>500 rows × 6 columns</p>\n",
              "</div>\n",
              "    <div class=\"colab-df-buttons\">\n",
              "\n",
              "  <div class=\"colab-df-container\">\n",
              "    <button class=\"colab-df-convert\" onclick=\"convertToInteractive('df-ac21f7b3-7ee2-4868-b1f1-86c92c980bd2')\"\n",
              "            title=\"Convert this dataframe to an interactive table.\"\n",
              "            style=\"display:none;\">\n",
              "\n",
              "  <svg xmlns=\"http://www.w3.org/2000/svg\" height=\"24px\" viewBox=\"0 -960 960 960\">\n",
              "    <path d=\"M120-120v-720h720v720H120Zm60-500h600v-160H180v160Zm220 220h160v-160H400v160Zm0 220h160v-160H400v160ZM180-400h160v-160H180v160Zm440 0h160v-160H620v160ZM180-180h160v-160H180v160Zm440 0h160v-160H620v160Z\"/>\n",
              "  </svg>\n",
              "    </button>\n",
              "\n",
              "  <style>\n",
              "    .colab-df-container {\n",
              "      display:flex;\n",
              "      gap: 12px;\n",
              "    }\n",
              "\n",
              "    .colab-df-convert {\n",
              "      background-color: #E8F0FE;\n",
              "      border: none;\n",
              "      border-radius: 50%;\n",
              "      cursor: pointer;\n",
              "      display: none;\n",
              "      fill: #1967D2;\n",
              "      height: 32px;\n",
              "      padding: 0 0 0 0;\n",
              "      width: 32px;\n",
              "    }\n",
              "\n",
              "    .colab-df-convert:hover {\n",
              "      background-color: #E2EBFA;\n",
              "      box-shadow: 0px 1px 2px rgba(60, 64, 67, 0.3), 0px 1px 3px 1px rgba(60, 64, 67, 0.15);\n",
              "      fill: #174EA6;\n",
              "    }\n",
              "\n",
              "    .colab-df-buttons div {\n",
              "      margin-bottom: 4px;\n",
              "    }\n",
              "\n",
              "    [theme=dark] .colab-df-convert {\n",
              "      background-color: #3B4455;\n",
              "      fill: #D2E3FC;\n",
              "    }\n",
              "\n",
              "    [theme=dark] .colab-df-convert:hover {\n",
              "      background-color: #434B5C;\n",
              "      box-shadow: 0px 1px 3px 1px rgba(0, 0, 0, 0.15);\n",
              "      filter: drop-shadow(0px 1px 2px rgba(0, 0, 0, 0.3));\n",
              "      fill: #FFFFFF;\n",
              "    }\n",
              "  </style>\n",
              "\n",
              "    <script>\n",
              "      const buttonEl =\n",
              "        document.querySelector('#df-ac21f7b3-7ee2-4868-b1f1-86c92c980bd2 button.colab-df-convert');\n",
              "      buttonEl.style.display =\n",
              "        google.colab.kernel.accessAllowed ? 'block' : 'none';\n",
              "\n",
              "      async function convertToInteractive(key) {\n",
              "        const element = document.querySelector('#df-ac21f7b3-7ee2-4868-b1f1-86c92c980bd2');\n",
              "        const dataTable =\n",
              "          await google.colab.kernel.invokeFunction('convertToInteractive',\n",
              "                                                    [key], {});\n",
              "        if (!dataTable) return;\n",
              "\n",
              "        const docLinkHtml = 'Like what you see? Visit the ' +\n",
              "          '<a target=\"_blank\" href=https://colab.research.google.com/notebooks/data_table.ipynb>data table notebook</a>'\n",
              "          + ' to learn more about interactive tables.';\n",
              "        element.innerHTML = '';\n",
              "        dataTable['output_type'] = 'display_data';\n",
              "        await google.colab.output.renderOutput(dataTable, element);\n",
              "        const docLink = document.createElement('div');\n",
              "        docLink.innerHTML = docLinkHtml;\n",
              "        element.appendChild(docLink);\n",
              "      }\n",
              "    </script>\n",
              "  </div>\n",
              "\n",
              "\n",
              "<div id=\"df-9024feec-891a-48d5-9575-bd4832167343\">\n",
              "  <button class=\"colab-df-quickchart\" onclick=\"quickchart('df-9024feec-891a-48d5-9575-bd4832167343')\"\n",
              "            title=\"Suggest charts\"\n",
              "            style=\"display:none;\">\n",
              "\n",
              "<svg xmlns=\"http://www.w3.org/2000/svg\" height=\"24px\"viewBox=\"0 0 24 24\"\n",
              "     width=\"24px\">\n",
              "    <g>\n",
              "        <path d=\"M19 3H5c-1.1 0-2 .9-2 2v14c0 1.1.9 2 2 2h14c1.1 0 2-.9 2-2V5c0-1.1-.9-2-2-2zM9 17H7v-7h2v7zm4 0h-2V7h2v10zm4 0h-2v-4h2v4z\"/>\n",
              "    </g>\n",
              "</svg>\n",
              "  </button>\n",
              "\n",
              "<style>\n",
              "  .colab-df-quickchart {\n",
              "      --bg-color: #E8F0FE;\n",
              "      --fill-color: #1967D2;\n",
              "      --hover-bg-color: #E2EBFA;\n",
              "      --hover-fill-color: #174EA6;\n",
              "      --disabled-fill-color: #AAA;\n",
              "      --disabled-bg-color: #DDD;\n",
              "  }\n",
              "\n",
              "  [theme=dark] .colab-df-quickchart {\n",
              "      --bg-color: #3B4455;\n",
              "      --fill-color: #D2E3FC;\n",
              "      --hover-bg-color: #434B5C;\n",
              "      --hover-fill-color: #FFFFFF;\n",
              "      --disabled-bg-color: #3B4455;\n",
              "      --disabled-fill-color: #666;\n",
              "  }\n",
              "\n",
              "  .colab-df-quickchart {\n",
              "    background-color: var(--bg-color);\n",
              "    border: none;\n",
              "    border-radius: 50%;\n",
              "    cursor: pointer;\n",
              "    display: none;\n",
              "    fill: var(--fill-color);\n",
              "    height: 32px;\n",
              "    padding: 0;\n",
              "    width: 32px;\n",
              "  }\n",
              "\n",
              "  .colab-df-quickchart:hover {\n",
              "    background-color: var(--hover-bg-color);\n",
              "    box-shadow: 0 1px 2px rgba(60, 64, 67, 0.3), 0 1px 3px 1px rgba(60, 64, 67, 0.15);\n",
              "    fill: var(--button-hover-fill-color);\n",
              "  }\n",
              "\n",
              "  .colab-df-quickchart-complete:disabled,\n",
              "  .colab-df-quickchart-complete:disabled:hover {\n",
              "    background-color: var(--disabled-bg-color);\n",
              "    fill: var(--disabled-fill-color);\n",
              "    box-shadow: none;\n",
              "  }\n",
              "\n",
              "  .colab-df-spinner {\n",
              "    border: 2px solid var(--fill-color);\n",
              "    border-color: transparent;\n",
              "    border-bottom-color: var(--fill-color);\n",
              "    animation:\n",
              "      spin 1s steps(1) infinite;\n",
              "  }\n",
              "\n",
              "  @keyframes spin {\n",
              "    0% {\n",
              "      border-color: transparent;\n",
              "      border-bottom-color: var(--fill-color);\n",
              "      border-left-color: var(--fill-color);\n",
              "    }\n",
              "    20% {\n",
              "      border-color: transparent;\n",
              "      border-left-color: var(--fill-color);\n",
              "      border-top-color: var(--fill-color);\n",
              "    }\n",
              "    30% {\n",
              "      border-color: transparent;\n",
              "      border-left-color: var(--fill-color);\n",
              "      border-top-color: var(--fill-color);\n",
              "      border-right-color: var(--fill-color);\n",
              "    }\n",
              "    40% {\n",
              "      border-color: transparent;\n",
              "      border-right-color: var(--fill-color);\n",
              "      border-top-color: var(--fill-color);\n",
              "    }\n",
              "    60% {\n",
              "      border-color: transparent;\n",
              "      border-right-color: var(--fill-color);\n",
              "    }\n",
              "    80% {\n",
              "      border-color: transparent;\n",
              "      border-right-color: var(--fill-color);\n",
              "      border-bottom-color: var(--fill-color);\n",
              "    }\n",
              "    90% {\n",
              "      border-color: transparent;\n",
              "      border-bottom-color: var(--fill-color);\n",
              "    }\n",
              "  }\n",
              "</style>\n",
              "\n",
              "  <script>\n",
              "    async function quickchart(key) {\n",
              "      const quickchartButtonEl =\n",
              "        document.querySelector('#' + key + ' button');\n",
              "      quickchartButtonEl.disabled = true;  // To prevent multiple clicks.\n",
              "      quickchartButtonEl.classList.add('colab-df-spinner');\n",
              "      try {\n",
              "        const charts = await google.colab.kernel.invokeFunction(\n",
              "            'suggestCharts', [key], {});\n",
              "      } catch (error) {\n",
              "        console.error('Error during call to suggestCharts:', error);\n",
              "      }\n",
              "      quickchartButtonEl.classList.remove('colab-df-spinner');\n",
              "      quickchartButtonEl.classList.add('colab-df-quickchart-complete');\n",
              "    }\n",
              "    (() => {\n",
              "      let quickchartButtonEl =\n",
              "        document.querySelector('#df-9024feec-891a-48d5-9575-bd4832167343 button');\n",
              "      quickchartButtonEl.style.display =\n",
              "        google.colab.kernel.accessAllowed ? 'block' : 'none';\n",
              "    })();\n",
              "  </script>\n",
              "</div>\n",
              "    </div>\n",
              "  </div>\n"
            ],
            "application/vnd.google.colaboratory.intrinsic+json": {
              "type": "dataframe",
              "variable_name": "data",
              "summary": "{\n  \"name\": \"data\",\n  \"rows\": 500,\n  \"fields\": [\n    {\n      \"column\": \"A\",\n      \"properties\": {\n        \"dtype\": \"category\",\n        \"num_unique_values\": 3,\n        \"samples\": [\n          \"adult\",\n          \"young\",\n          \"old\"\n        ],\n        \"semantic_type\": \"\",\n        \"description\": \"\"\n      }\n    },\n    {\n      \"column\": \"S\",\n      \"properties\": {\n        \"dtype\": \"category\",\n        \"num_unique_values\": 2,\n        \"samples\": [\n          \"M\",\n          \"F\"\n        ],\n        \"semantic_type\": \"\",\n        \"description\": \"\"\n      }\n    },\n    {\n      \"column\": \"E\",\n      \"properties\": {\n        \"dtype\": \"category\",\n        \"num_unique_values\": 2,\n        \"samples\": [\n          \"uni\",\n          \"high\"\n        ],\n        \"semantic_type\": \"\",\n        \"description\": \"\"\n      }\n    },\n    {\n      \"column\": \"O\",\n      \"properties\": {\n        \"dtype\": \"category\",\n        \"num_unique_values\": 2,\n        \"samples\": [\n          \"self\",\n          \"emp\"\n        ],\n        \"semantic_type\": \"\",\n        \"description\": \"\"\n      }\n    },\n    {\n      \"column\": \"R\",\n      \"properties\": {\n        \"dtype\": \"category\",\n        \"num_unique_values\": 2,\n        \"samples\": [\n          \"big\",\n          \"small\"\n        ],\n        \"semantic_type\": \"\",\n        \"description\": \"\"\n      }\n    },\n    {\n      \"column\": \"T\",\n      \"properties\": {\n        \"dtype\": \"category\",\n        \"num_unique_values\": 3,\n        \"samples\": [\n          \"train\",\n          \"car\"\n        ],\n        \"semantic_type\": \"\",\n        \"description\": \"\"\n      }\n    }\n  ]\n}"
            }
          },
          "metadata": {},
          "execution_count": 4
        }
      ],
      "source": [
        "import pandas as pd\n",
        "url='https://raw.githubusercontent.com/altdeep/causalML/master/datasets/transportation_survey.csv'    #A\n",
        "data = pd.read_csv(url)\n",
        "data"
      ]
    },
    {
      "cell_type": "markdown",
      "metadata": {
        "id": "bvr9LhbW7SEd"
      },
      "source": [
        "## Listing 3.4: Learning parameters for the causal Markov kernels in the transportation model\n",
        "\n",
        "The `BayesianNetwork` class we initialized has a fit method that will learn the parameters of our causal Markov kernels. Since our variables are categorical, our causal Markov kernels will be in the form of conditional probability tables represented by pgmpy's TabularCPD class. The fit method will fit (“learn”) estimates of the parameters of those conditional probability tables using the data.\n"
      ]
    },
    {
      "cell_type": "code",
      "execution_count": 5,
      "metadata": {
        "colab": {
          "base_uri": "https://localhost:8080/"
        },
        "id": "9rzqtLUm7Tib",
        "outputId": "aa6b4389-21d3-4d1b-b6d1-c62d852c323e"
      },
      "outputs": [
        {
          "output_type": "stream",
          "name": "stdout",
          "text": [
            "[<TabularCPD representing P(A:3) at 0x7e84a58f36d0>, <TabularCPD representing P(E:2 | A:3, S:2) at 0x7e83bafbe260>, <TabularCPD representing P(S:2) at 0x7e83bafbdde0>, <TabularCPD representing P(O:2 | E:2) at 0x7e83bafbdf60>, <TabularCPD representing P(R:2 | E:2) at 0x7e83bafbdd20>, <TabularCPD representing P(T:3 | O:2, R:2) at 0x7e83bafbc490>]\n"
          ]
        }
      ],
      "source": [
        "from pgmpy.models import BayesianNetwork\n",
        "model = BayesianNetwork(\n",
        "      [\n",
        "        ('A', 'E'),\n",
        "        ('S', 'E'),\n",
        "        ('E', 'O'),\n",
        "        ('E', 'R'),\n",
        "        ('O', 'T'),\n",
        "        ('R', 'T')\n",
        "     ]\n",
        ")\n",
        "\n",
        "# The fit method on the BayesianNetwork object will estimate parameters from data (a pandas DataFrame).\n",
        "model.fit(data)\n",
        "\n",
        "# Retrieve and view the causal Markov kernels learned by fit.\n",
        "causal_markov_kernels = model.get_cpds()\n",
        "print(causal_markov_kernels)"
      ]
    },
    {
      "cell_type": "markdown",
      "metadata": {
        "id": "26h6WRcB4W-M"
      },
      "source": [
        "Let's look at the structure of the causal Markov kernel for the transportation variable T and gender S. Again, these are conditional probability tables."
      ]
    },
    {
      "cell_type": "code",
      "execution_count": 6,
      "metadata": {
        "id": "1WjTCbYc4W-N",
        "outputId": "727b10e1-ae9e-4653-f778-83790ba5ad2f",
        "colab": {
          "base_uri": "https://localhost:8080/"
        }
      },
      "outputs": [
        {
          "output_type": "stream",
          "name": "stdout",
          "text": [
            "+----------+---------------------+---------------------+--------------------+----------+\n",
            "| O        | O(emp)              | O(emp)              | O(self)            | O(self)  |\n",
            "+----------+---------------------+---------------------+--------------------+----------+\n",
            "| R        | R(big)              | R(small)            | R(big)             | R(small) |\n",
            "+----------+---------------------+---------------------+--------------------+----------+\n",
            "| T(car)   | 0.7034313725490197  | 0.524390243902439   | 0.4444444444444444 | 1.0      |\n",
            "+----------+---------------------+---------------------+--------------------+----------+\n",
            "| T(other) | 0.13480392156862744 | 0.08536585365853659 | 0.3333333333333333 | 0.0      |\n",
            "+----------+---------------------+---------------------+--------------------+----------+\n",
            "| T(train) | 0.16176470588235295 | 0.3902439024390244  | 0.2222222222222222 | 0.0      |\n",
            "+----------+---------------------+---------------------+--------------------+----------+\n",
            "+------+-------+\n",
            "| S(F) | 0.522 |\n",
            "+------+-------+\n",
            "| S(M) | 0.478 |\n",
            "+------+-------+\n"
          ]
        }
      ],
      "source": [
        "cmk_T = causal_markov_kernels[-1]\n",
        "print(cmk_T)\n",
        "\n",
        "print(causal_markov_kernels[2])"
      ]
    },
    {
      "cell_type": "markdown",
      "metadata": {
        "id": "OKkTwKKF7ach"
      },
      "source": [
        "## Listing 3.5: Bayesian point estimation with a Dirichlet conjugate prior\n",
        "\n",
        "We can also use a Bayesian technique called conjugate priors to estimate the parameters. Note, how we estimate the parameters of the causal Markov kernel is a statistical and computational question that arises after we select the DAG."
      ]
    },
    {
      "cell_type": "code",
      "execution_count": 7,
      "metadata": {
        "colab": {
          "base_uri": "https://localhost:8080/"
        },
        "id": "7do-dizG7p0-",
        "outputId": "1007d7c4-7048-47f7-be04-15ed495b82fb"
      },
      "outputs": [
        {
          "output_type": "stream",
          "name": "stderr",
          "text": [
            "WARNING:pgmpy:Replacing existing CPD for A\n",
            "WARNING:pgmpy:Replacing existing CPD for E\n",
            "WARNING:pgmpy:Replacing existing CPD for S\n",
            "WARNING:pgmpy:Replacing existing CPD for O\n",
            "WARNING:pgmpy:Replacing existing CPD for R\n",
            "WARNING:pgmpy:Replacing existing CPD for T\n"
          ]
        },
        {
          "output_type": "stream",
          "name": "stdout",
          "text": [
            "+----------+--------------------+---------------------+--------------------+----------+\n",
            "| O        | O(emp)             | O(emp)              | O(self)            | O(self)  |\n",
            "+----------+--------------------+---------------------+--------------------+----------+\n",
            "| R        | R(big)             | R(small)            | R(big)             | R(small) |\n",
            "+----------+--------------------+---------------------+--------------------+----------+\n",
            "| T(car)   | 0.7007299270072993 | 0.5176470588235295  | 0.4166666666666667 | 0.5      |\n",
            "+----------+--------------------+---------------------+--------------------+----------+\n",
            "| T(other) | 0.1362530413625304 | 0.09411764705882353 | 0.3333333333333333 | 0.25     |\n",
            "+----------+--------------------+---------------------+--------------------+----------+\n",
            "| T(train) | 0.1630170316301703 | 0.38823529411764707 | 0.25               | 0.25     |\n",
            "+----------+--------------------+---------------------+--------------------+----------+\n"
          ]
        }
      ],
      "source": [
        "from pgmpy.estimators import BayesianEstimator    #A\n",
        "estimator = BayesianEstimator(model, data)    #A\n",
        "model.fit(\n",
        "    data,\n",
        "    estimator=BayesianEstimator,    #B\n",
        "    prior_type=\"dirichlet\",\n",
        "    pseudo_counts=1    #C\n",
        ")\n",
        "causal_markov_kernels = model.get_cpds()     #D\n",
        "cmk_T = causal_markov_kernels[-1]    #D\n",
        "print(cmk_T)    #D\n",
        "#A Import BayesianEstimator and initialize it on the model and data.\n",
        "#B Pass the estimator object to the fit method.\n",
        "#C pseudo_counts refers to the parameters of the Dirichlet prior.\n",
        "#D Extract the causal Markov kernels (the last element on the list) and view P(T|O,R).\n"
      ]
    },
    {
      "cell_type": "markdown",
      "metadata": {
        "id": "TBwJbZvv7xym"
      },
      "source": [
        "## Listing 3.6: Training a causal graphical model with a latent variable.\n",
        "\n",
        "This is a causal model, but it is also a probabilistic graphical model. Thus we can use techniques in probabilistic graphical modeling, such as inferring parameters when some variables in the DAG are latent (unobserved in the data).\n",
        "\n",
        "To illustrate, suppose the education variable \"E\" in the transformation survey data were not recorded. pgmpy gives us a utility for learning the parameters of the causal Markov kernel for latent E using an algorithm called structural expectation maximization, which is a variant of parameter learning with maximum likelihood."
      ]
    },
    {
      "cell_type": "code",
      "execution_count": 8,
      "metadata": {
        "colab": {
          "base_uri": "https://localhost:8080/",
          "height": 531,
          "referenced_widgets": [
            "a3864206db4b4ff3ada29549349e82b9",
            "9d98fa142ecf44e283095ef1e8fe638f",
            "c286ca4e47bc40c2951389b2fc8313d3",
            "1d0a9c732e3749528c3c587bb7da39d4",
            "fce395ebd7224e2e9afd8d6f78346e42",
            "56dd7e0ea9724fac8d62956e999e5d71",
            "87dd0843125449c9ab8ad86021036dfa",
            "0f15f3fe25e34ee290142bcf87336046",
            "9cc4e346eb2a4d2eb87fc59338724932",
            "f2dfdd5542904a5992129577f260cc40",
            "d8cdf919c24c44a7bafac38ed0fc6ae2"
          ]
        },
        "id": "VDWOW-ll7yED",
        "outputId": "8ac33b03-b9f8-431d-e174-8a30e2d04b3d"
      },
      "outputs": [
        {
          "output_type": "display_data",
          "data": {
            "text/plain": [
              "  0%|          | 0/100 [00:00<?, ?it/s]"
            ],
            "application/vnd.jupyter.widget-view+json": {
              "version_major": 2,
              "version_minor": 0,
              "model_id": "a3864206db4b4ff3ada29549349e82b9"
            }
          },
          "metadata": {}
        },
        {
          "output_type": "stream",
          "name": "stdout",
          "text": [
            "+------+----------+------+--------------+\n",
            "| E    | A        | S    |   phi(E,A,S) |\n",
            "+======+==========+======+==============+\n",
            "| E(0) | A(adult) | S(F) |       0.5000 |\n",
            "+------+----------+------+--------------+\n",
            "| E(0) | A(adult) | S(M) |       0.5000 |\n",
            "+------+----------+------+--------------+\n",
            "| E(0) | A(old)   | S(F) |       0.5000 |\n",
            "+------+----------+------+--------------+\n",
            "| E(0) | A(old)   | S(M) |       0.5000 |\n",
            "+------+----------+------+--------------+\n",
            "| E(0) | A(young) | S(F) |       0.5000 |\n",
            "+------+----------+------+--------------+\n",
            "| E(0) | A(young) | S(M) |       0.5000 |\n",
            "+------+----------+------+--------------+\n",
            "| E(1) | A(adult) | S(F) |       0.5000 |\n",
            "+------+----------+------+--------------+\n",
            "| E(1) | A(adult) | S(M) |       0.5000 |\n",
            "+------+----------+------+--------------+\n",
            "| E(1) | A(old)   | S(F) |       0.5000 |\n",
            "+------+----------+------+--------------+\n",
            "| E(1) | A(old)   | S(M) |       0.5000 |\n",
            "+------+----------+------+--------------+\n",
            "| E(1) | A(young) | S(F) |       0.5000 |\n",
            "+------+----------+------+--------------+\n",
            "| E(1) | A(young) | S(M) |       0.5000 |\n",
            "+------+----------+------+--------------+\n"
          ]
        }
      ],
      "source": [
        "import pandas as pd\n",
        "from pgmpy.models import BayesianNetwork\n",
        "from pgmpy.estimators import ExpectationMaximization as EM\n",
        "url='https://raw.githubusercontent.com/altdeep/causalML/master/datasets/transportation_survey.csv'    #A\n",
        "data = pd.read_csv(url)    #A\n",
        "data_sans_E = data[['A', 'S', 'O', 'R', 'T']]    #B\n",
        "model_with_latent = BayesianNetwork(\n",
        "       [\n",
        "        ('A', 'E'),\n",
        "        ('S', 'E'),\n",
        "        ('E', 'O'),\n",
        "        ('E', 'R'),\n",
        "        ('O', 'T'),\n",
        "        ('R', 'T')\n",
        "     ],\n",
        "     latents={\"E\"}    #C\n",
        ")\n",
        "estimator = EM(model_with_latent, data_sans_E)    #D\n",
        "cmks_with_latent = estimator.get_parameters(latent_card={'E': 2})    #D\n",
        "print(cmks_with_latent[1].to_factor())    #E\n",
        "#A Download the data and convert to a pandas data frame.\n",
        "#B Keep all the columns except education E.\n",
        "#C Indicate which variables are latent when training the model.\n",
        "#D Run the structural expectation maximization algorithm to learn the causal Markov kernel for E.  You have to indicated the cardinality of the latent variable.\n",
        "#E Print out the learned causal Markov kernel for E.  Print it as a factor object for legibility.\n"
      ]
    },
    {
      "cell_type": "markdown",
      "metadata": {
        "id": "pps5wZki4W-N"
      },
      "source": [
        "One has to be careful about making causal inferences when some variables are unobserved in the data (e.g., \"latent confounders\"). We address this later chapters."
      ]
    },
    {
      "cell_type": "markdown",
      "metadata": {
        "id": "TT4kdobC749Y"
      },
      "source": [
        "## Listing 3.7: Inference on the trained causal graphical model\n",
        "\n",
        "The benefit of implementing a probabilistic graphical model (PGM) on the causal DAG is that we can use the inference tools in PGM libraries. For example, we can use the inference algorithms such as [variable elimination](https://en.wikipedia.org/wiki/Variable_elimination) to infer any conditional and marginal probability of interest. These algorithms more or less just \"work\" without our having to understand their mechanics. This contrasts with more free-form probabilistic ML libraries such as Pyro, where we typically have to write the inference procedure explicitly."
      ]
    },
    {
      "cell_type": "code",
      "execution_count": 9,
      "metadata": {
        "colab": {
          "base_uri": "https://localhost:8080/"
        },
        "id": "STcTW75t75FM",
        "outputId": "530acc1a-3adb-4b15-843a-26657ae46545"
      },
      "outputs": [
        {
          "output_type": "stream",
          "name": "stdout",
          "text": [
            "train\n",
            "+---------+----------+\n",
            "| E       |   phi(E) |\n",
            "+=========+==========+\n",
            "| E(high) |   0.6162 |\n",
            "+---------+----------+\n",
            "| E(uni)  |   0.3838 |\n",
            "+---------+----------+\n",
            "car\n",
            "+---------+----------+\n",
            "| E       |   phi(E) |\n",
            "+=========+==========+\n",
            "| E(high) |   0.5586 |\n",
            "+---------+----------+\n",
            "| E(uni)  |   0.4414 |\n",
            "+---------+----------+\n"
          ]
        }
      ],
      "source": [
        "from pgmpy.inference import VariableElimination     #A\n",
        "inference = VariableElimination(model)\n",
        "query1 = inference.query(['E'], evidence={\"T\": \"train\"})\n",
        "query2 = inference.query(['E'], evidence={\"T\": \"car\"})\n",
        "print(\"train\")\n",
        "print(query1)\n",
        "print(\"car\")\n",
        "print(query2)\n",
        "#A VariableElimination is an inference algorithm specific to graphical models.\n"
      ]
    },
    {
      "cell_type": "markdown",
      "metadata": {
        "id": "cyz8hkgn8An5"
      },
      "source": [
        "## Listing 3.8: Implementing the trained causal model in Pyro\n",
        "\n",
        "In a tool like pyro, you have to be a bit more hands-on with the inference algorithm. The following illustrates the inference of P(E|T=”train”) using a probabilistic inference algorithm called importance sampling. First, we’ll implement the model in Pyro. Rather than fit the parameters, we’ll explicitly specify the parameter values we fit with pgmpy.\n"
      ]
    },
    {
      "cell_type": "code",
      "execution_count": 10,
      "metadata": {
        "colab": {
          "base_uri": "https://localhost:8080/",
          "height": 368
        },
        "id": "dkyLvwtj8Avu",
        "outputId": "5e23b1cb-cd69-4c63-b197-6bcf4cf9082e"
      },
      "outputs": [
        {
          "output_type": "execute_result",
          "data": {
            "image/svg+xml": "<?xml version=\"1.0\" encoding=\"UTF-8\" standalone=\"no\"?>\n<!DOCTYPE svg PUBLIC \"-//W3C//DTD SVG 1.1//EN\"\n \"http://www.w3.org/Graphics/SVG/1.1/DTD/svg11.dtd\">\n<!-- Generated by graphviz version 2.43.0 (0)\n -->\n<!-- Title: %3 Pages: 1 -->\n<svg width=\"214pt\" height=\"260pt\"\n viewBox=\"0.00 0.00 213.59 260.00\" xmlns=\"http://www.w3.org/2000/svg\" xmlns:xlink=\"http://www.w3.org/1999/xlink\">\n<g id=\"graph0\" class=\"graph\" transform=\"scale(1 1) rotate(0) translate(4 256)\">\n<title>%3</title>\n<polygon fill=\"white\" stroke=\"transparent\" points=\"-4,4 -4,-256 209.59,-256 209.59,4 -4,4\"/>\n<!-- age -->\n<g id=\"node1\" class=\"node\">\n<title>age</title>\n<ellipse fill=\"white\" stroke=\"black\" cx=\"66.4\" cy=\"-234\" rx=\"27\" ry=\"18\"/>\n<text text-anchor=\"middle\" x=\"66.4\" y=\"-230.3\" font-family=\"Times,serif\" font-size=\"14.00\">age</text>\n</g>\n<!-- education -->\n<g id=\"node3\" class=\"node\">\n<title>education</title>\n<ellipse fill=\"white\" stroke=\"black\" cx=\"105.4\" cy=\"-162\" rx=\"44.69\" ry=\"18\"/>\n<text text-anchor=\"middle\" x=\"105.4\" y=\"-158.3\" font-family=\"Times,serif\" font-size=\"14.00\">education</text>\n</g>\n<!-- age&#45;&gt;education -->\n<g id=\"edge2\" class=\"edge\">\n<title>age&#45;&gt;education</title>\n<path fill=\"none\" stroke=\"black\" d=\"M75.44,-216.76C80.1,-208.4 85.89,-198.02 91.13,-188.61\"/>\n<polygon fill=\"black\" stroke=\"black\" points=\"94.32,-190.07 96.13,-179.63 88.2,-186.67 94.32,-190.07\"/>\n</g>\n<!-- gender -->\n<g id=\"node2\" class=\"node\">\n<title>gender</title>\n<ellipse fill=\"white\" stroke=\"black\" cx=\"145.4\" cy=\"-234\" rx=\"34.39\" ry=\"18\"/>\n<text text-anchor=\"middle\" x=\"145.4\" y=\"-230.3\" font-family=\"Times,serif\" font-size=\"14.00\">gender</text>\n</g>\n<!-- gender&#45;&gt;education -->\n<g id=\"edge1\" class=\"edge\">\n<title>gender&#45;&gt;education</title>\n<path fill=\"none\" stroke=\"black\" d=\"M135.92,-216.41C131.2,-208.16 125.4,-198.01 120.13,-188.78\"/>\n<polygon fill=\"black\" stroke=\"black\" points=\"123.09,-186.9 115.08,-179.96 117.01,-190.38 123.09,-186.9\"/>\n</g>\n<!-- occupation -->\n<g id=\"node4\" class=\"node\">\n<title>occupation</title>\n<ellipse fill=\"white\" stroke=\"black\" cx=\"49.4\" cy=\"-90\" rx=\"49.29\" ry=\"18\"/>\n<text text-anchor=\"middle\" x=\"49.4\" y=\"-86.3\" font-family=\"Times,serif\" font-size=\"14.00\">occupation</text>\n</g>\n<!-- education&#45;&gt;occupation -->\n<g id=\"edge3\" class=\"edge\">\n<title>education&#45;&gt;occupation</title>\n<path fill=\"none\" stroke=\"black\" d=\"M92.41,-144.76C85.51,-136.14 76.89,-125.36 69.18,-115.73\"/>\n<polygon fill=\"black\" stroke=\"black\" points=\"71.68,-113.26 62.7,-107.63 66.22,-117.63 71.68,-113.26\"/>\n</g>\n<!-- residence -->\n<g id=\"node5\" class=\"node\">\n<title>residence</title>\n<ellipse fill=\"white\" stroke=\"black\" cx=\"161.4\" cy=\"-90\" rx=\"44.39\" ry=\"18\"/>\n<text text-anchor=\"middle\" x=\"161.4\" y=\"-86.3\" font-family=\"Times,serif\" font-size=\"14.00\">residence</text>\n</g>\n<!-- education&#45;&gt;residence -->\n<g id=\"edge4\" class=\"edge\">\n<title>education&#45;&gt;residence</title>\n<path fill=\"none\" stroke=\"black\" d=\"M118.38,-144.76C125.28,-136.14 133.9,-125.36 141.61,-115.73\"/>\n<polygon fill=\"black\" stroke=\"black\" points=\"144.57,-117.63 148.09,-107.63 139.11,-113.26 144.57,-117.63\"/>\n</g>\n<!-- transportation -->\n<g id=\"node6\" class=\"node\">\n<title>transportation</title>\n<ellipse fill=\"white\" stroke=\"black\" cx=\"105.4\" cy=\"-18\" rx=\"59.59\" ry=\"18\"/>\n<text text-anchor=\"middle\" x=\"105.4\" y=\"-14.3\" font-family=\"Times,serif\" font-size=\"14.00\">transportation</text>\n</g>\n<!-- occupation&#45;&gt;transportation -->\n<g id=\"edge6\" class=\"edge\">\n<title>occupation&#45;&gt;transportation</title>\n<path fill=\"none\" stroke=\"black\" d=\"M62.67,-72.41C69.47,-63.91 77.9,-53.37 85.46,-43.91\"/>\n<polygon fill=\"black\" stroke=\"black\" points=\"88.32,-45.95 91.83,-35.96 82.85,-41.58 88.32,-45.95\"/>\n</g>\n<!-- residence&#45;&gt;transportation -->\n<g id=\"edge5\" class=\"edge\">\n<title>residence&#45;&gt;transportation</title>\n<path fill=\"none\" stroke=\"black\" d=\"M148.41,-72.76C141.51,-64.14 132.89,-53.36 125.18,-43.73\"/>\n<polygon fill=\"black\" stroke=\"black\" points=\"127.68,-41.26 118.7,-35.63 122.22,-45.63 127.68,-41.26\"/>\n</g>\n</g>\n</svg>\n",
            "text/plain": [
              "<graphviz.graphs.Digraph at 0x7e83baaf3b80>"
            ]
          },
          "metadata": {},
          "execution_count": 10
        }
      ],
      "source": [
        "import torch\n",
        "import pyro\n",
        "from pyro.distributions import Categorical\n",
        "\n",
        "A_alias = ['young', 'adult', 'old']    #B\n",
        "S_alias = ['M', 'F']    #B\n",
        "E_alias = ['high', 'uni']    #B\n",
        "O_alias = ['emp', 'self']    #B\n",
        "R_alias = ['small', 'big']    #B\n",
        "T_alias = ['car', 'train', 'other']    #B\n",
        "\n",
        "A_prob = torch.tensor([0.3,0.5,0.2])    #C\n",
        "S_prob = torch.tensor([0.6,0.4])    #C\n",
        "E_prob = torch.tensor([[[0.75,0.25], [0.72,0.28], [0.88,0.12]],    #C\n",
        "                     [[0.64,0.36], [0.7,0.3], [0.9,0.1]]])    #C\n",
        "O_prob = torch.tensor([[0.96,0.04], [0.92,0.08]])    #C\n",
        "R_prob = torch.tensor([[0.25,0.75], [0.2,0.8]])    #C\n",
        "T_prob = torch.tensor([[[0.48,0.42,0.1], [0.56,0.36,0.08]],    #C\n",
        "                     [[0.58,0.24,0.18], [0.7,0.21,0.09]]])    #C\n",
        "\n",
        "def model():    #D\n",
        "   A = pyro.sample(\"age\", Categorical(probs=A_prob))    #D\n",
        "   S = pyro.sample(\"gender\", Categorical(probs=S_prob))    #D\n",
        "   E = pyro.sample(\"education\", Categorical(probs=E_prob[S][A]))    #D\n",
        "   O = pyro.sample(\"occupation\", Categorical(probs=O_prob[E]))    #D\n",
        "   R = pyro.sample(\"residence\", Categorical(probs=R_prob[E]))    #D\n",
        "   T = pyro.sample(\"transportation\", Categorical(probs=T_prob[R][O]))    #D\n",
        "   return{'A': A,'S': S,'E': E,'O': O,'R': R,'T': T}    #D\n",
        "\n",
        "pyro.render_model(model)    #E\n",
        "\n",
        "#B The categorical distribution only returns integers, so it’s useful to write the integers’ mapping to categorical outcome names.\n",
        "#C For simplicity I’ll use rounded versions of parameters learned with the “fit” method in pgmpy (Listing 3-4), though I could have learned the parameters in a training procedure.\n",
        "#D When you implement the model in pyro, you specify the causal DAG implicitly using code logic.\n",
        "#E You can then generate a figure of the implied DAG using pyro.render_model().\n"
      ]
    },
    {
      "cell_type": "markdown",
      "metadata": {
        "id": "SmL3KOSd8G9o"
      },
      "source": [
        "## Listing 3.9: Inference on the causal model in pyro\n",
        "\n",
        "In contrast to using variable elimination in pgmpy, we have to explicitly write an inference algorithm to infer probability queries of interest. In this code, we use importance sampling to infer P(E|T=1)."
      ]
    },
    {
      "cell_type": "code",
      "execution_count": 11,
      "metadata": {
        "colab": {
          "base_uri": "https://localhost:8080/",
          "height": 490
        },
        "id": "jw2WgGZ08HFK",
        "outputId": "1cc3180f-2ab5-4b3b-b90b-b1922a8decaa"
      },
      "outputs": [
        {
          "output_type": "execute_result",
          "data": {
            "text/plain": [
              "Text(0.5, 1.0, 'P(E | T = \"train\") - Importance Sampling')"
            ]
          },
          "metadata": {},
          "execution_count": 11
        },
        {
          "output_type": "display_data",
          "data": {
            "text/plain": [
              "<Figure size 640x480 with 1 Axes>"
            ],
            "image/png": "[encoded data removed]"
          },
          "metadata": {}
        }
      ],
      "source": [
        "import numpy as np\n",
        "import pyro\n",
        "from pyro.distributions import Categorical\n",
        "from pyro.infer import Importance, EmpiricalMarginal    #A\n",
        "import matplotlib.pyplot as plt\n",
        "\n",
        "conditioned_model = pyro.condition(    #B\n",
        "    model,    #C\n",
        "    data={'transportation':torch.tensor(1.)}    #D\n",
        ")\n",
        "\n",
        "m = 5000    #E\n",
        "posterior = pyro.infer.Importance(    #F\n",
        "    conditioned_model,    #G\n",
        "    num_samples=m    #H\n",
        ").run()    #I\n",
        "E_marginal = EmpiricalMarginal(posterior, \"education\")    #J\n",
        "E_samples = [E_marginal().item() for _ in range(m)]    #J\n",
        "E_unique, E_counts = np.unique(E_samples, return_counts=True)    #K\n",
        "E_probs = E_counts / m    #K\n",
        "\n",
        "plt.bar(E_unique, E_probs, align='center', alpha=0.5)    #L\n",
        "plt.xticks(E_unique, E_alias)    #L\n",
        "plt.ylabel('probability')    #L\n",
        "plt.xlabel('education')    #L\n",
        "plt.title('P(E | T = \"train\") - Importance Sampling')    #L\n",
        "\n",
        "#A We’ll use two inference related classes, ImportanceSampling and EmpiricalMarginal.\n",
        "#B pyro.condition is a conditioning operation on the model.\n",
        "#C It takes in the model,\n",
        "#D and evidence for conditioning on.  The evidence is a dictionary that maps variable names to values. The need to specify variable names during inference is why we have the name argument in the calls to pyro.sample.  Here we condition on T=”train”.\n",
        "#E I’ll run a inference algorithm that will generate m samples.\n",
        "#F Namely, I use importance sampling. The Importance class constructs this inference algorithm.\n",
        "#G It takes the conditioned model and the number of samples.\n",
        "#I Run the random process algorithm with the run method.  The inference algorithm will generate from the joint probability of the variables we didn’t condition on (everything but T) given the variables we conditioned on (T).\n",
        "#J However, we only care about T, so EmpiricalMarginal operates on the output of algorithm so we obtain only samples of T.\n",
        "#K Based on these samples, I produce a Monte Carlo estimation of the probabilities in P(E|T=”train”).\n",
        "#L Plot a visualization of the learned probabilities.\n"
      ]
    },
    {
      "cell_type": "markdown",
      "metadata": {
        "id": "CRjDV6Hp8POy"
      },
      "source": [
        "## Listing 3.10: Creating a DAG based on roles in causal effect inference\n",
        "\n",
        "Some approaches to causal inference avoid specifying a causal DAG in favor of specifying the variables according to their role in a causal inference query. For example, in a causal effect inference query, a variable could be a \"treatment\" or \"effect\" or \"instrumental variable\" or \"confounder\" or a \"mediator\". But we can see this approach as merely another way of specifying a causal DAG. We can see this with the library DoWhy, which allows us to specify a model in terms of these roles. Once we do that, we can extract and visualize the DAG."
      ]
    },
    {
      "cell_type": "code",
      "execution_count": 12,
      "metadata": {
        "colab": {
          "base_uri": "https://localhost:8080/",
          "height": 406
        },
        "id": "NWoJFO8C8PVZ",
        "outputId": "edcd5e8c-4f28-4e99-8877-3267afb2d764"
      },
      "outputs": [
        {
          "output_type": "display_data",
          "data": {
            "text/plain": [
              "<Figure size 640x480 with 1 Axes>"
            ],
            "image/png": "[encoded data removed]"
          },
          "metadata": {}
        }
      ],
      "source": [
        "from dowhy import datasets\n",
        "\n",
        "import networkx as nx\n",
        "import matplotlib.pyplot as plt\n",
        "\n",
        "sim_data = datasets.linear_dataset(    #A\n",
        "    beta=10.0,\n",
        "    num_treatments=1,    #B\n",
        "    num_instruments=2,    #C\n",
        "    num_effect_modifiers=2,    #D\n",
        "    num_common_causes=5,    #E\n",
        "    num_frontdoor_variables=1,    #F\n",
        "    num_samples=100,\n",
        "\n",
        ")\n",
        "dag = nx.parse_gml(sim_data['gml_graph'])    #G\n",
        "pos = {    #G\n",
        " 'X0': (600, 350),    #G\n",
        " 'X1': (600, 250),    #G\n",
        " 'FD0': (300, 300),    #G\n",
        " 'W0': (0, 400),    #G\n",
        " 'W1': (150, 400),    #G\n",
        " 'W2': (300, 400),    #G\n",
        " 'W3': (450, 400),    #G\n",
        " 'W4': (600, 400),    #G\n",
        " 'Z0': (10, 250),    #G\n",
        " 'Z1': (10, 350),    #G\n",
        " 'v0': (100, 300),    #G\n",
        " 'y': (500, 300)    #G\n",
        "}    #G\n",
        "options = {    #G\n",
        "    \"font_size\": 12,    #G\n",
        "    \"node_size\": 800,    #G\n",
        "    \"node_color\": \"white\",    #G\n",
        "    \"edgecolors\": \"black\",    #G\n",
        "    \"linewidths\": 1,    #G\n",
        "    \"width\": 1,    #G\n",
        "}    #G\n",
        "nx.draw_networkx(dag, pos, **options)    #G\n",
        "ax = plt.gca()    #G\n",
        "ax.margins(x=0.40)    #G\n",
        "plt.axis(\"off\")    #G\n",
        "plt.show()    #G\n",
        "\n",
        "#A datasets.linear_dataset generates a DAG from the specified variables.\n",
        "#B I add one treatment variable, like V in Figure 3 - 18.\n",
        "#C Z in Figure 3 - 18 is an example of an instrumental variable; a variable that is a cause of the treatment but its only causal path to the outcome is through the treatment.  Here I create two instruments.\n",
        "#D X0 and X1 are in Figure 3 - 18 are examples of “effect modifiers” that help model heterogeneity in the causal effect.  Dowhy defines these as other causes of the outcome (though they needn’t be).  Here I create two effect modifiers.\n",
        "#E I add 5 common causes, like the three W0, W1, and W2 in Figure 3 - 18.  Unlike the nuanced structure between in Figure 3 - 18, the structure here will be simple.\n",
        "#F Front door variables are on the path between the treatment and the effect, like U in Figure 3 - 18.  Here I add one.\n",
        "#G This code extracts the graph, creates a plotting layout, and plots the graph."
      ]
    }
  ],
  "metadata": {
    "colab": {
      "provenance": []
    },
    "kernelspec": {
      "display_name": "Python 3 (ipykernel)",
      "language": "python",
      "name": "python3"
    },
    "language_info": {
      "codemirror_mode": {
        "name": "ipython",
        "version": 3
      },
      "file_extension": ".py",
      "mimetype": "text/x-python",
      "name": "python",
      "nbconvert_exporter": "python",
      "pygments_lexer": "ipython3",
      "version": "3.11.7"
    },
    "widgets": {
      "application/vnd.jupyter.widget-state+json": {
        "a3864206db4b4ff3ada29549349e82b9": {
          "model_module": "@jupyter-widgets/controls",
          "model_name": "HBoxModel",
          "model_module_version": "1.5.0",
          "state": {
            "_dom_classes": [],
            "_model_module": "@jupyter-widgets/controls",
            "_model_module_version": "1.5.0",
            "_model_name": "HBoxModel",
            "_view_count": null,
            "_view_module": "@jupyter-widgets/controls",
            "_view_module_version": "1.5.0",
            "_view_name": "HBoxView",
            "box_style": "",
            "children": [
              "IPY_MODEL_9d98fa142ecf44e283095ef1e8fe638f",
              "IPY_MODEL_c286ca4e47bc40c2951389b2fc8313d3",
              "IPY_MODEL_1d0a9c732e3749528c3c587bb7da39d4"
            ],
            "layout": "IPY_MODEL_fce395ebd7224e2e9afd8d6f78346e42"
          }
        },
        "9d98fa142ecf44e283095ef1e8fe638f": {
          "model_module": "@jupyter-widgets/controls",
          "model_name": "HTMLModel",
          "model_module_version": "1.5.0",
          "state": {
            "_dom_classes": [],
            "_model_module": "@jupyter-widgets/controls",
            "_model_module_version": "1.5.0",
            "_model_name": "HTMLModel",
            "_view_count": null,
            "_view_module": "@jupyter-widgets/controls",
            "_view_module_version": "1.5.0",
            "_view_name": "HTMLView",
            "description": "",
            "description_tooltip": null,
            "layout": "IPY_MODEL_56dd7e0ea9724fac8d62956e999e5d71",
            "placeholder": "​",
            "style": "IPY_MODEL_87dd0843125449c9ab8ad86021036dfa",
            "value": " 12%"
          }
        },
        "c286ca4e47bc40c2951389b2fc8313d3": {
          "model_module": "@jupyter-widgets/controls",
          "model_name": "FloatProgressModel",
          "model_module_version": "1.5.0",
          "state": {
            "_dom_classes": [],
            "_model_module": "@jupyter-widgets/controls",
            "_model_module_version": "1.5.0",
            "_model_name": "FloatProgressModel",
            "_view_count": null,
            "_view_module": "@jupyter-widgets/controls",
            "_view_module_version": "1.5.0",
            "_view_name": "ProgressView",
            "bar_style": "danger",
            "description": "",
            "description_tooltip": null,
            "layout": "IPY_MODEL_0f15f3fe25e34ee290142bcf87336046",
            "max": 100,
            "min": 0,
            "orientation": "horizontal",
            "style": "IPY_MODEL_9cc4e346eb2a4d2eb87fc59338724932",
            "value": 12
          }
        },
        "1d0a9c732e3749528c3c587bb7da39d4": {
          "model_module": "@jupyter-widgets/controls",
          "model_name": "HTMLModel",
          "model_module_version": "1.5.0",
          "state": {
            "_dom_classes": [],
            "_model_module": "@jupyter-widgets/controls",
            "_model_module_version": "1.5.0",
            "_model_name": "HTMLModel",
            "_view_count": null,
            "_view_module": "@jupyter-widgets/controls",
            "_view_module_version": "1.5.0",
            "_view_name": "HTMLView",
            "description": "",
            "description_tooltip": null,
            "layout": "IPY_MODEL_f2dfdd5542904a5992129577f260cc40",
            "placeholder": "​",
            "style": "IPY_MODEL_d8cdf919c24c44a7bafac38ed0fc6ae2",
            "value": " 12/100 [00:05&lt;00:27,  3.20it/s]"
          }
        },
        "fce395ebd7224e2e9afd8d6f78346e42": {
          "model_module": "@jupyter-widgets/base",
          "model_name": "LayoutModel",
          "model_module_version": "1.2.0",
          "state": {
            "_model_module": "@jupyter-widgets/base",
            "_model_module_version": "1.2.0",
            "_model_name": "LayoutModel",
            "_view_count": null,
            "_view_module": "@jupyter-widgets/base",
            "_view_module_version": "1.2.0",
            "_view_name": "LayoutView",
            "align_content": null,
            "align_items": null,
            "align_self": null,
            "border": null,
            "bottom": null,
            "display": null,
            "flex": null,
            "flex_flow": null,
            "grid_area": null,
            "grid_auto_columns": null,
            "grid_auto_flow": null,
            "grid_auto_rows": null,
            "grid_column": null,
            "grid_gap": null,
            "grid_row": null,
            "grid_template_areas": null,
            "grid_template_columns": null,
            "grid_template_rows": null,
            "height": null,
            "justify_content": null,
            "justify_items": null,
            "left": null,
            "margin": null,
            "max_height": null,
            "max_width": null,
            "min_height": null,
            "min_width": null,
            "object_fit": null,
            "object_position": null,
            "order": null,
            "overflow": null,
            "overflow_x": null,
            "overflow_y": null,
            "padding": null,
            "right": null,
            "top": null,
            "visibility": null,
            "width": null
          }
        },
        "56dd7e0ea9724fac8d62956e999e5d71": {
          "model_module": "@jupyter-widgets/base",
          "model_name": "LayoutModel",
          "model_module_version": "1.2.0",
          "state": {
            "_model_module": "@jupyter-widgets/base",
            "_model_module_version": "1.2.0",
            "_model_name": "LayoutModel",
            "_view_count": null,
            "_view_module": "@jupyter-widgets/base",
            "_view_module_version": "1.2.0",
            "_view_name": "LayoutView",
            "align_content": null,
            "align_items": null,
            "align_self": null,
            "border": null,
            "bottom": null,
            "display": null,
            "flex": null,
            "flex_flow": null,
            "grid_area": null,
            "grid_auto_columns": null,
            "grid_auto_flow": null,
            "grid_auto_rows": null,
            "grid_column": null,
            "grid_gap": null,
            "grid_row": null,
            "grid_template_areas": null,
            "grid_template_columns": null,
            "grid_template_rows": null,
            "height": null,
            "justify_content": null,
            "justify_items": null,
            "left": null,
            "margin": null,
            "max_height": null,
            "max_width": null,
            "min_height": null,
            "min_width": null,
            "object_fit": null,
            "object_position": null,
            "order": null,
            "overflow": null,
            "overflow_x": null,
            "overflow_y": null,
            "padding": null,
            "right": null,
            "top": null,
            "visibility": null,
            "width": null
          }
        },
        "87dd0843125449c9ab8ad86021036dfa": {
          "model_module": "@jupyter-widgets/controls",
          "model_name": "DescriptionStyleModel",
          "model_module_version": "1.5.0",
          "state": {
            "_model_module": "@jupyter-widgets/controls",
            "_model_module_version": "1.5.0",
            "_model_name": "DescriptionStyleModel",
            "_view_count": null,
            "_view_module": "@jupyter-widgets/base",
            "_view_module_version": "1.2.0",
            "_view_name": "StyleView",
            "description_width": ""
          }
        },
        "0f15f3fe25e34ee290142bcf87336046": {
          "model_module": "@jupyter-widgets/base",
          "model_name": "LayoutModel",
          "model_module_version": "1.2.0",
          "state": {
            "_model_module": "@jupyter-widgets/base",
            "_model_module_version": "1.2.0",
            "_model_name": "LayoutModel",
            "_view_count": null,
            "_view_module": "@jupyter-widgets/base",
            "_view_module_version": "1.2.0",
            "_view_name": "LayoutView",
            "align_content": null,
            "align_items": null,
            "align_self": null,
            "border": null,
            "bottom": null,
            "display": null,
            "flex": null,
            "flex_flow": null,
            "grid_area": null,
            "grid_auto_columns": null,
            "grid_auto_flow": null,
            "grid_auto_rows": null,
            "grid_column": null,
            "grid_gap": null,
            "grid_row": null,
            "grid_template_areas": null,
            "grid_template_columns": null,
            "grid_template_rows": null,
            "height": null,
            "justify_content": null,
            "justify_items": null,
            "left": null,
            "margin": null,
            "max_height": null,
            "max_width": null,
            "min_height": null,
            "min_width": null,
            "object_fit": null,
            "object_position": null,
            "order": null,
            "overflow": null,
            "overflow_x": null,
            "overflow_y": null,
            "padding": null,
            "right": null,
            "top": null,
            "visibility": null,
            "width": null
          }
        },
        "9cc4e346eb2a4d2eb87fc59338724932": {
          "model_module": "@jupyter-widgets/controls",
          "model_name": "ProgressStyleModel",
          "model_module_version": "1.5.0",
          "state": {
            "_model_module": "@jupyter-widgets/controls",
            "_model_module_version": "1.5.0",
            "_model_name": "ProgressStyleModel",
            "_view_count": null,
            "_view_module": "@jupyter-widgets/base",
            "_view_module_version": "1.2.0",
            "_view_name": "StyleView",
            "bar_color": null,
            "description_width": ""
          }
        },
        "f2dfdd5542904a5992129577f260cc40": {
          "model_module": "@jupyter-widgets/base",
          "model_name": "LayoutModel",
          "model_module_version": "1.2.0",
          "state": {
            "_model_module": "@jupyter-widgets/base",
            "_model_module_version": "1.2.0",
            "_model_name": "LayoutModel",
            "_view_count": null,
            "_view_module": "@jupyter-widgets/base",
            "_view_module_version": "1.2.0",
            "_view_name": "LayoutView",
            "align_content": null,
            "align_items": null,
            "align_self": null,
            "border": null,
            "bottom": null,
            "display": null,
            "flex": null,
            "flex_flow": null,
            "grid_area": null,
            "grid_auto_columns": null,
            "grid_auto_flow": null,
            "grid_auto_rows": null,
            "grid_column": null,
            "grid_gap": null,
            "grid_row": null,
            "grid_template_areas": null,
            "grid_template_columns": null,
            "grid_template_rows": null,
            "height": null,
            "justify_content": null,
            "justify_items": null,
            "left": null,
            "margin": null,
            "max_height": null,
            "max_width": null,
            "min_height": null,
            "min_width": null,
            "object_fit": null,
            "object_position": null,
            "order": null,
            "overflow": null,
            "overflow_x": null,
            "overflow_y": null,
            "padding": null,
            "right": null,
            "top": null,
            "visibility": null,
            "width": null
          }
        },
        "d8cdf919c24c44a7bafac38ed0fc6ae2": {
          "model_module": "@jupyter-widgets/controls",
          "model_name": "DescriptionStyleModel",
          "model_module_version": "1.5.0",
          "state": {
            "_model_module": "@jupyter-widgets/controls",
            "_model_module_version": "1.5.0",
            "_model_name": "DescriptionStyleModel",
            "_view_count": null,
            "_view_module": "@jupyter-widgets/base",
            "_view_module_version": "1.2.0",
            "_view_name": "StyleView",
            "description_width": ""
          }
        }
      }
    }
  },
  "nbformat": 4,
  "nbformat_minor": 0
}