{
  "nbformat": 4,
  "nbformat_minor": 0,
  "metadata": {
    "colab": {
      "provenance": []
    },
    "kernelspec": {
      "name": "python3",
      "display_name": "Python 3"
    },
    "language_info": {
      "name": "python"
    }
  },
  "cells": [
    {
      "cell_type": "markdown",
      "source": [
        "# Chapter 6 - Structural Causal Models\n",
        "\n",
        "The notebook is a code companion to chapter 6 of the book [Causal AI](https://www.manning.com/books/causal-ai) by [Robert Osazuwa Ness](https://www.linkedin.com/in/osazuwa/). <a href=\"https://colab.research.google.com/github/altdeep/causalML/blob/master/book/chapter%206/chapter_6_notebook.ipynb\" target=\"_parent\"><img src=\"https://colab.research.google.com/assets/colab-badge.svg\" alt=\"Open In Colab\"/></a>\n",
        "\n",
        "This notebook was written in Google Colab using Python version 3.10.12, pyro version 1.9.0, pgmpy version 0.1.25, and torch 2.3.0."
      ],
      "metadata": {
        "id": "HZk5tKUPWCz1"
      }
    },
    {
      "cell_type": "code",
      "source": [
        "!pip install pyro-ppl==1.9.0\n",
        "!pip install pgmpy==0.1.25"
      ],
      "metadata": {
        "colab": {
          "base_uri": "https://localhost:8080/"
        },
        "id": "k5t759R1OOsm",
        "outputId": "54c32342-ab31-4d97-c127-28c0cd538bb1"
      },
      "execution_count": 1,
      "outputs": [
        {
          "output_type": "stream",
          "name": "stdout",
          "text": [
            "Requirement already satisfied: pyro-ppl==1.9.0 in /usr/local/lib/python3.10/dist-packages (1.9.0)\n",
            "Requirement already satisfied: numpy>=1.7 in /usr/local/lib/python3.10/dist-packages (from pyro-ppl==1.9.0) (1.25.2)\n",
            "Requirement already satisfied: opt-einsum>=2.3.2 in /usr/local/lib/python3.10/dist-packages (from pyro-ppl==1.9.0) (3.3.0)\n",
            "Requirement already satisfied: pyro-api>=0.1.1 in /usr/local/lib/python3.10/dist-packages (from pyro-ppl==1.9.0) (0.1.2)\n",
            "Requirement already satisfied: torch>=2.0 in /usr/local/lib/python3.10/dist-packages (from pyro-ppl==1.9.0) (2.3.0+cu121)\n",
            "Requirement already satisfied: tqdm>=4.36 in /usr/local/lib/python3.10/dist-packages (from pyro-ppl==1.9.0) (4.66.4)\n",
            "Requirement already satisfied: filelock in /usr/local/lib/python3.10/dist-packages (from torch>=2.0->pyro-ppl==1.9.0) (3.14.0)\n",
            "Requirement already satisfied: typing-extensions>=4.8.0 in /usr/local/lib/python3.10/dist-packages (from torch>=2.0->pyro-ppl==1.9.0) (4.11.0)\n",
            "Requirement already satisfied: sympy in /usr/local/lib/python3.10/dist-packages (from torch>=2.0->pyro-ppl==1.9.0) (1.12)\n",
            "Requirement already satisfied: networkx in /usr/local/lib/python3.10/dist-packages (from torch>=2.0->pyro-ppl==1.9.0) (3.3)\n",
            "Requirement already satisfied: jinja2 in /usr/local/lib/python3.10/dist-packages (from torch>=2.0->pyro-ppl==1.9.0) (3.1.4)\n",
            "Requirement already satisfied: fsspec in /usr/local/lib/python3.10/dist-packages (from torch>=2.0->pyro-ppl==1.9.0) (2023.6.0)\n",
            "Requirement already satisfied: nvidia-cuda-nvrtc-cu12==12.1.105 in /usr/local/lib/python3.10/dist-packages (from torch>=2.0->pyro-ppl==1.9.0) (12.1.105)\n",
            "Requirement already satisfied: nvidia-cuda-runtime-cu12==12.1.105 in /usr/local/lib/python3.10/dist-packages (from torch>=2.0->pyro-ppl==1.9.0) (12.1.105)\n",
            "Requirement already satisfied: nvidia-cuda-cupti-cu12==12.1.105 in /usr/local/lib/python3.10/dist-packages (from torch>=2.0->pyro-ppl==1.9.0) (12.1.105)\n",
            "Requirement already satisfied: nvidia-cudnn-cu12==8.9.2.26 in /usr/local/lib/python3.10/dist-packages (from torch>=2.0->pyro-ppl==1.9.0) (8.9.2.26)\n",
            "Requirement already satisfied: nvidia-cublas-cu12==12.1.3.1 in /usr/local/lib/python3.10/dist-packages (from torch>=2.0->pyro-ppl==1.9.0) (12.1.3.1)\n",
            "Requirement already satisfied: nvidia-cufft-cu12==11.0.2.54 in /usr/local/lib/python3.10/dist-packages (from torch>=2.0->pyro-ppl==1.9.0) (11.0.2.54)\n",
            "Requirement already satisfied: nvidia-curand-cu12==10.3.2.106 in /usr/local/lib/python3.10/dist-packages (from torch>=2.0->pyro-ppl==1.9.0) (10.3.2.106)\n",
            "Requirement already satisfied: nvidia-cusolver-cu12==11.4.5.107 in /usr/local/lib/python3.10/dist-packages (from torch>=2.0->pyro-ppl==1.9.0) (11.4.5.107)\n",
            "Requirement already satisfied: nvidia-cusparse-cu12==12.1.0.106 in /usr/local/lib/python3.10/dist-packages (from torch>=2.0->pyro-ppl==1.9.0) (12.1.0.106)\n",
            "Requirement already satisfied: nvidia-nccl-cu12==2.20.5 in /usr/local/lib/python3.10/dist-packages (from torch>=2.0->pyro-ppl==1.9.0) (2.20.5)\n",
            "Requirement already satisfied: nvidia-nvtx-cu12==12.1.105 in /usr/local/lib/python3.10/dist-packages (from torch>=2.0->pyro-ppl==1.9.0) (12.1.105)\n",
            "Requirement already satisfied: triton==2.3.0 in /usr/local/lib/python3.10/dist-packages (from torch>=2.0->pyro-ppl==1.9.0) (2.3.0)\n",
            "Requirement already satisfied: nvidia-nvjitlink-cu12 in /usr/local/lib/python3.10/dist-packages (from nvidia-cusolver-cu12==11.4.5.107->torch>=2.0->pyro-ppl==1.9.0) (12.5.40)\n",
            "Requirement already satisfied: MarkupSafe>=2.0 in /usr/local/lib/python3.10/dist-packages (from jinja2->torch>=2.0->pyro-ppl==1.9.0) (2.1.5)\n",
            "Requirement already satisfied: mpmath>=0.19 in /usr/local/lib/python3.10/dist-packages (from sympy->torch>=2.0->pyro-ppl==1.9.0) (1.3.0)\n",
            "Requirement already satisfied: pgmpy==0.1.25 in /usr/local/lib/python3.10/dist-packages (0.1.25)\n",
            "Requirement already satisfied: networkx in /usr/local/lib/python3.10/dist-packages (from pgmpy==0.1.25) (3.3)\n",
            "Requirement already satisfied: numpy in /usr/local/lib/python3.10/dist-packages (from pgmpy==0.1.25) (1.25.2)\n",
            "Requirement already satisfied: scipy in /usr/local/lib/python3.10/dist-packages (from pgmpy==0.1.25) (1.11.4)\n",
            "Requirement already satisfied: scikit-learn in /usr/local/lib/python3.10/dist-packages (from pgmpy==0.1.25) (1.2.2)\n",
            "Requirement already satisfied: pandas in /usr/local/lib/python3.10/dist-packages (from pgmpy==0.1.25) (2.0.3)\n",
            "Requirement already satisfied: pyparsing in /usr/local/lib/python3.10/dist-packages (from pgmpy==0.1.25) (3.1.2)\n",
            "Requirement already satisfied: torch in /usr/local/lib/python3.10/dist-packages (from pgmpy==0.1.25) (2.3.0+cu121)\n",
            "Requirement already satisfied: statsmodels in /usr/local/lib/python3.10/dist-packages (from pgmpy==0.1.25) (0.14.2)\n",
            "Requirement already satisfied: tqdm in /usr/local/lib/python3.10/dist-packages (from pgmpy==0.1.25) (4.66.4)\n",
            "Requirement already satisfied: joblib in /usr/local/lib/python3.10/dist-packages (from pgmpy==0.1.25) (1.4.2)\n",
            "Requirement already satisfied: opt-einsum in /usr/local/lib/python3.10/dist-packages (from pgmpy==0.1.25) (3.3.0)\n",
            "Requirement already satisfied: python-dateutil>=2.8.2 in /usr/local/lib/python3.10/dist-packages (from pandas->pgmpy==0.1.25) (2.8.2)\n",
            "Requirement already satisfied: pytz>=2020.1 in /usr/local/lib/python3.10/dist-packages (from pandas->pgmpy==0.1.25) (2023.4)\n",
            "Requirement already satisfied: tzdata>=2022.1 in /usr/local/lib/python3.10/dist-packages (from pandas->pgmpy==0.1.25) (2024.1)\n",
            "Requirement already satisfied: threadpoolctl>=2.0.0 in /usr/local/lib/python3.10/dist-packages (from scikit-learn->pgmpy==0.1.25) (3.5.0)\n",
            "Requirement already satisfied: patsy>=0.5.6 in /usr/local/lib/python3.10/dist-packages (from statsmodels->pgmpy==0.1.25) (0.5.6)\n",
            "Requirement already satisfied: packaging>=21.3 in /usr/local/lib/python3.10/dist-packages (from statsmodels->pgmpy==0.1.25) (24.0)\n",
            "Requirement already satisfied: filelock in /usr/local/lib/python3.10/dist-packages (from torch->pgmpy==0.1.25) (3.14.0)\n",
            "Requirement already satisfied: typing-extensions>=4.8.0 in /usr/local/lib/python3.10/dist-packages (from torch->pgmpy==0.1.25) (4.11.0)\n",
            "Requirement already satisfied: sympy in /usr/local/lib/python3.10/dist-packages (from torch->pgmpy==0.1.25) (1.12)\n",
            "Requirement already satisfied: jinja2 in /usr/local/lib/python3.10/dist-packages (from torch->pgmpy==0.1.25) (3.1.4)\n",
            "Requirement already satisfied: fsspec in /usr/local/lib/python3.10/dist-packages (from torch->pgmpy==0.1.25) (2023.6.0)\n",
            "Requirement already satisfied: nvidia-cuda-nvrtc-cu12==12.1.105 in /usr/local/lib/python3.10/dist-packages (from torch->pgmpy==0.1.25) (12.1.105)\n",
            "Requirement already satisfied: nvidia-cuda-runtime-cu12==12.1.105 in /usr/local/lib/python3.10/dist-packages (from torch->pgmpy==0.1.25) (12.1.105)\n",
            "Requirement already satisfied: nvidia-cuda-cupti-cu12==12.1.105 in /usr/local/lib/python3.10/dist-packages (from torch->pgmpy==0.1.25) (12.1.105)\n",
            "Requirement already satisfied: nvidia-cudnn-cu12==8.9.2.26 in /usr/local/lib/python3.10/dist-packages (from torch->pgmpy==0.1.25) (8.9.2.26)\n",
            "Requirement already satisfied: nvidia-cublas-cu12==12.1.3.1 in /usr/local/lib/python3.10/dist-packages (from torch->pgmpy==0.1.25) (12.1.3.1)\n",
            "Requirement already satisfied: nvidia-cufft-cu12==11.0.2.54 in /usr/local/lib/python3.10/dist-packages (from torch->pgmpy==0.1.25) (11.0.2.54)\n",
            "Requirement already satisfied: nvidia-curand-cu12==10.3.2.106 in /usr/local/lib/python3.10/dist-packages (from torch->pgmpy==0.1.25) (10.3.2.106)\n",
            "Requirement already satisfied: nvidia-cusolver-cu12==11.4.5.107 in /usr/local/lib/python3.10/dist-packages (from torch->pgmpy==0.1.25) (11.4.5.107)\n",
            "Requirement already satisfied: nvidia-cusparse-cu12==12.1.0.106 in /usr/local/lib/python3.10/dist-packages (from torch->pgmpy==0.1.25) (12.1.0.106)\n",
            "Requirement already satisfied: nvidia-nccl-cu12==2.20.5 in /usr/local/lib/python3.10/dist-packages (from torch->pgmpy==0.1.25) (2.20.5)\n",
            "Requirement already satisfied: nvidia-nvtx-cu12==12.1.105 in /usr/local/lib/python3.10/dist-packages (from torch->pgmpy==0.1.25) (12.1.105)\n",
            "Requirement already satisfied: triton==2.3.0 in /usr/local/lib/python3.10/dist-packages (from torch->pgmpy==0.1.25) (2.3.0)\n",
            "Requirement already satisfied: nvidia-nvjitlink-cu12 in /usr/local/lib/python3.10/dist-packages (from nvidia-cusolver-cu12==11.4.5.107->torch->pgmpy==0.1.25) (12.5.40)\n",
            "Requirement already satisfied: six in /usr/local/lib/python3.10/dist-packages (from patsy>=0.5.6->statsmodels->pgmpy==0.1.25) (1.16.0)\n",
            "Requirement already satisfied: MarkupSafe>=2.0 in /usr/local/lib/python3.10/dist-packages (from jinja2->torch->pgmpy==0.1.25) (2.1.5)\n",
            "Requirement already satisfied: mpmath>=0.19 in /usr/local/lib/python3.10/dist-packages (from sympy->torch->pgmpy==0.1.25) (1.3.0)\n"
          ]
        }
      ]
    },
    {
      "cell_type": "markdown",
      "source": [
        "## Listing 6.1 Pyro pseudocode of the causal graphical model in Figure 6.1\n",
        "\n",
        "Figure 6.1 in the book is a causal DAG relating femur length to height.\n",
        "\n",
        "![A DAG mapping femur length to height](https://github.com/altdeep/causalML/blob/master/book/chapter%206/images/Figure%206_1%20femur-height-DAG.png?raw=true)\n",
        "\n",
        "Here is how we'd model it in Pyro."
      ],
      "metadata": {
        "id": "EKPeuhZDAsyH"
      }
    },
    {
      "cell_type": "code",
      "execution_count": 2,
      "metadata": {
        "colab": {
          "base_uri": "https://localhost:8080/"
        },
        "id": "b583pQrCAQPY",
        "outputId": "501b233f-825a-4b9b-b11f-6c6a906daa2c"
      },
      "outputs": [
        {
          "output_type": "execute_result",
          "data": {
            "text/plain": [
              "(tensor(47.8206), tensor(164.5030))"
            ]
          },
          "metadata": {},
          "execution_count": 2
        }
      ],
      "source": [
        "from pyro.distributions import Normal\n",
        "from pyro import sample\n",
        "\n",
        "def cgm_model():    #A\n",
        "    x = sample(\"x\", Normal(47., 2.3))    #A\n",
        "    y = sample(\"y\", Normal(25. + 3*x, 3.3))    #A\n",
        "    return x, y    #B\n",
        "\n",
        "#A x and y are sampled from their causal Markov kernels, in this case Normal distributions.\n",
        "#B Repeatedly calling cgm_model will return samples from P(X, Y).\n",
        "\n",
        "cgm_model()"
      ]
    },
    {
      "cell_type": "markdown",
      "source": [
        "## Listing 6.2: CGM rewritten as a SCM\n",
        "\n",
        "\n",
        "\n",
        "We convert this model to an SCM using the following algorithm.\n",
        "1.  Introduce a new latent cause parent for X called Nx and a new latent causal parent for Y called Ny with distributions P(Nx) and P(Ny)\n",
        "2.  Make X and Y deterministic functions of Nx and Ny such that P(X, Y) in this new model is the same as the old model.\n",
        "\n",
        "To convert the CGM to an SCM, we introduce a latent “exogenous” parents, Nx for X and Ny for Y, and probability distributions P(Nx) and P(Ny) for these latents. We then set X and Y deterministically given their parents via functions fx and fy.\n",
        "We have two new latent variables Nx and Ny with distributions P(Nx) and P(Ny). X and Y each have their own functions fx and fy that that deterministically set X and Y given their parents in the graph. This difference is key; X and Y are generated in the model described in Figure 6.1 but set deterministically in this new model. To emphasize this, I use the assignment operator “:=”, instead of the equal sign “=” to emphasize that fx and fy assign the values of x and y.\n",
        "To meet our goal of converting our CGM to an SCM, we want P(X) and P(Y|X=x) to be the same across both models. To achieve this, we have to choose P(Nx), P(Ny), fx, and fy such that P(X) is still Normal(47, 2.3) and P(Y|X=x) is still Normal(25 + 3.3x, 3.3). One option is to do a simple reparameterization. Linear functions of normally distributed random variables are also normally distributed. So we can implement the model in Figure 6.3.\n",
        "\n",
        "![A DAG mapping femur length to height](https://github.com/altdeep/causalML/blob/master/book/chapter%206/images/Figure%206_3_rewrite_as_SCM.png?raw=true)\n",
        "\n",
        "In code, we rewrite this as:"
      ],
      "metadata": {
        "id": "Nb5IPa95Akh3"
      }
    },
    {
      "cell_type": "code",
      "source": [
        "from pyro.distributions import Normal\n",
        "from pyro import sample\n",
        "\n",
        "def scm_model():\n",
        "    n_x = sample(\"n_x\", Normal(0., 2.3))    #A\n",
        "    n_y = sample(\"n_y\", Normal(0., 3.3))    #A\n",
        "    x = 47. + n_x    #B\n",
        "    y = 25. + 3.*x + n_y    #B\n",
        "    return x, y    #C\n",
        "\n",
        "#A We sample these new latent variables from a standard normal distribution.\n",
        "#B X and Y are calculated deterministically as linear transformations of the n_x and n_y\n",
        "#C The returned samples of P(X, Y) match the first model.\n",
        "\n",
        "scm_model()"
      ],
      "metadata": {
        "colab": {
          "base_uri": "https://localhost:8080/"
        },
        "id": "1ha4VYBrAY2Z",
        "outputId": "71f074c7-b438-40c0-8001-f155c859cc13"
      },
      "execution_count": 3,
      "outputs": [
        {
          "output_type": "execute_result",
          "data": {
            "text/plain": [
              "(tensor(51.6914), tensor(185.1815))"
            ]
          },
          "metadata": {},
          "execution_count": 3
        }
      ]
    },
    {
      "cell_type": "markdown",
      "source": [
        "## Listing 6.3: The rock-throwing example from chapter 2 is an SCM\n",
        "\n",
        "Consider the example our rock-throwing example from chapter 2. In this example, either Jenny or Brian or both throw a rock at window if they are inclined to do so. The window breaks depending on if either or both Jenny and Brian throw and the strength of the windowpane.\n",
        "How might we convert this model to an SCM? In fact, this model is already an SCM. We captured this with the following code:\n"
      ],
      "metadata": {
        "id": "NMsI-S47CfM4"
      }
    },
    {
      "cell_type": "code",
      "source": [
        "import pandas as pd\n",
        "import random\n",
        "\n",
        "def true_dgp(jenny_inclination, brian_inclination, window_strength):\n",
        "    jenny_throws_rock = jenny_inclination > 0.5\n",
        "    brian_throws_rock = brian_inclination > 0.5\n",
        "    if jenny_throws_rock and brian_throws_rock:\n",
        "        strength_of_impact = 0.8\n",
        "    elif jenny_throws_rock or brian_throws_rock:\n",
        "        strength_of_impact = 0.6\n",
        "    else:\n",
        "        strength_of_impact = 0.0\n",
        "    window_breaks = window_strength < strength_of_impact\n",
        "    return jenny_throws_rock, brian_throws_rock, window_breaks\n",
        "\n",
        "generated_outcome = true_dgp(\n",
        "    jenny_inclination=random.uniform(0, 1),\n",
        "    brian_inclination=random.uniform(0, 1),\n",
        "    window_strength=random.uniform(0, 1)\n",
        ")\n",
        "#A The input values are instances of \"exogenous\" variables.\n",
        "#B Jenny and Brian throw the rock if so inclined. jenny_throws_rock and brian_throws_rock are endogenous variables.\n",
        "#B The assignment functions of jenny_throws_rock and brian_throws_rock are both `lambda inclination: inclination > .05`\n",
        "#C strength_of_impact is an endogenous variable. This entire if-then expression is the assignment function for strength of impact.\n",
        "#D window_breaks is an endogenous variable. The assignment function is `lambda strength_of_impact, window_strength: strength_of_impact > window_strength`\n",
        "#E Each exogenous variable has a Uniform(0, 1) distribution.\n",
        "\n",
        "generated_outcome"
      ],
      "metadata": {
        "colab": {
          "base_uri": "https://localhost:8080/"
        },
        "id": "-qdwoljNCfUc",
        "outputId": "e113443b-bfd7-4e30-9ecf-0892a571c0cd"
      },
      "execution_count": 4,
      "outputs": [
        {
          "output_type": "execute_result",
          "data": {
            "text/plain": [
              "(False, False, False)"
            ]
          },
          "metadata": {},
          "execution_count": 4
        }
      ]
    },
    {
      "cell_type": "markdown",
      "source": [
        "## Modeling the Monte Hall problem\n",
        "\n",
        "A particularly useful application for SCMs is modeling rule-based systems. By “rule-based,” I mean that known rules, often set by humans, determine the “how” of causality. Games are a good example.\n",
        "To illustrate, consider the Monte Hall problem. The Monty Hall problem is a probability-based brain teaser named after the host of a 1960’s game show with a similar setup.\n",
        "\n",
        "A contestant on a game show is asked to choose between three closed doors. Behind one door is a car; behind the others, goats. The player picks the 1st door. Then the host, who knows what's behind the doors, opens another door, for example the 3rd door, which has a goat. The host then asks the contestant, \"Do you want to switch to the second door, or do you want to stay with your original choice?\" The question is which is the better strategy, switching doors or staying?\n",
        "The correct answer is to switch doors. This question appeared in a column in Parade magazine in 1990, with the correct answer. Thousands of readers mailed in, including many with graduate-level mathematical training, to refute the answer and say that there is no advantage to switching, that staying or switching have the same probability of winning.\n",
        "\n",
        "The following figure illustrates the intuition behind why switching is better.\n",
        "![Illustration of Monte Hall Problem](https://github.com/altdeep/causalML/blob/master/book/chapter%206/images/monty_hall_illustration.png?raw=true)\n",
        "\n",
        "Switching doors is the correct answer because under the standard assumptions, the “switch” strategy has a probability of 2/3 of winning the car, while the “stay” strategy has only a 1/3 probability. It seems counterintuitive because each door has an equal chance of having the car when the game starts. It seems as if once the host eliminates one door, each remaining door should have a 50-50 chance. This logic is false because the host doesn’t eliminate a door at random. He only eliminates a door that isn’t the players initial selection and doesn’t have the car. 1/3 of the time those are the same door, and 2/3 of that time they are different doors; that 1/3-2/3 asymmetry is why the remaining doors don’t each have a 50-50 chance of having the car.\n",
        "\n",
        "But causal modeling makes the problem much more intuitive. We can represent this game with the following causal DAG.\n",
        "![monte hall DAG](https://github.com/altdeep/causalML/blob/master/book/chapter%206/images/monte_hall_dag.png?raw=true)\n",
        "\n",
        "The possible outcomes for each variable are as follows:\n",
        "\n",
        "* Door with Car: Indicates the door which has the car behind it. “1st” for first door, “2nd” for the second door, “3rd” for the third door.\n",
        "* Player first Choice: Indicates which door the player chooses first. “1st” for first door, “2nd” for the second door, “3rd” for the third door.\n",
        "* Host Inclination: Suppose the host is facing the doors, such that from left to right they are ordered 1st, 2nd, 3rd. This Host Inclination variable has two outcomes, “Left” and “Right”. When the outcome is “Left”, the host is inclined to choose the left-most available door, otherwise he’ll be inclined to choose the right-most available door.\n",
        "* Host Door Selection: The outcomes are again 1st, 2nd, and 3rd.\n",
        "* Strategy: The outcomes are “switch” if the strategy is to switch doors from the first choice, or “stay” if the strategy is to stay with the first choice.\n",
        "* Player Second Choice: Indicates which door the player chooses after asked by the host if they want to switch or not. The outcomes again are 1st, 2nd, and 3rd.\n",
        "* Win or Lose: Indicates whether the player wins, the outcomes are “win” or “lose.” Winning occurs when Player Second Choice == Door with Car.\n",
        "\n",
        "Next, we see how to implement this as an SCM in pgmpy. The rules of the game give us clear logic for the assignment functions. Consider for example, we can represent the assignment function for Host Door Selection with a lookup table.\n",
        "\n",
        "When the door with the car and the player’s first choice are different doors, the host can only choose the remaining door. But if the door with the car and the player’s first choice are the same door, the host has two doors to choose from. He will choose the left most door if Host Inclination is “left.” For example, if “Door with Car” and “Player First Choice” are both 1st, the host must choose between the 2nd and 3rd door. He will choose the 2nd door if “Host Inclination”==“Left” and 3rd if “Host Inclination” == “Right”.\n",
        "This logic would be straightforward to write using if-then logic with a library like Pyro. But since the rules are simple, we can use the far more constrained pgmpy library to write this function as a conditional probability table.\n",
        "Conditional probability table representing functional assignment for Host Door Selection. Each probability outcome is either 0 or 1 given the causal parents, i.e., the outcome is completely deterministic given the parents."
      ],
      "metadata": {
        "id": "UvdnAhuMg8sI"
      }
    },
    {
      "cell_type": "code",
      "source": [
        "from pgmpy.factors.discrete.CPD import TabularCPD\n",
        "f_host_door_selection = TabularCPD(\n",
        "    variable='Host Door Selection',    #A\n",
        "    variable_card=3,    #B\n",
        "    values=[    #C\n",
        "        [0,0,0,0,1,1,0,1,1,0,0,0,0,0,1,0,1,0],    #C\n",
        "        [1,0,1,0,0,0,1,0,0,0,0,1,0,0,0,1,0,1],    #C\n",
        "        [0,1,0,1,0,0,0,0,0,1,1,0,1,1,0,0,0,0]    #C\n",
        "    ],    #C\n",
        "    evidence=['Host Inclination', 'Door with Car', 'Player First Choice'],    #D\n",
        "    evidence_card=[2, 3, 3],    #E\n",
        "    state_names={    #F\n",
        "        'Host Door Selection':['1st', '2nd', '3rd'],    #F\n",
        "        'Host Inclination': ['left', 'right'],    #F\n",
        "        'Door with Car': ['1st', '2nd', '3rd'],    #F\n",
        "        'Player First Choice': ['1st', '2nd', '3rd']            #F\n",
        "    }    #F\n",
        ")    #F\n",
        "#A The name of the variable.\n",
        "#B The cardinality (number of outcomes).\n",
        "#C The probability table. The values match the value in the above table, as long as the ordering of the causal variables in the evidence argument matches the top-down ordering of causal variable names in the table.\n",
        "#D The conditioning (causal) variables.\n",
        "#E The cardinality (number of outcomes) for each conditioning (causal) variable.\n",
        "#F The state names of each the variables.\n"
      ],
      "metadata": {
        "id": "84uuWOxOg814"
      },
      "execution_count": 5,
      "outputs": []
    },
    {
      "cell_type": "markdown",
      "source": [
        "This code produces f_host_door_selection , a TabularCPD object we can add to a model of the class BayesianNetwork. We can then use this as in a causal graphical model as we would a more typical TabularCPD object."
      ],
      "metadata": {
        "id": "7Fzjx7Ng6kgK"
      }
    },
    {
      "cell_type": "markdown",
      "source": [
        "## Listing 6.5 Implementation of Player Second Choice assignment function in pgmpy\n",
        "\n",
        "Similarly, we can create a look-up table for “Player Second Choice.”"
      ],
      "metadata": {
        "id": "E-eb9dlXhD7g"
      }
    },
    {
      "cell_type": "code",
      "source": [
        "from pgmpy.factors.discrete.CPD import TabularCPD\n",
        "f_second_choice = TabularCPD(\n",
        "    variable='Player Second Choice',\n",
        "    variable_card=3,\n",
        "    values=[\n",
        "        [1,0,0,1,0,0,1,0,0,0,0,0,0,0,1,0,1,0],    #A\n",
        "        [0,1,0,0,1,0,0,1,0,1,0,1,0,1,0,1,0,1],    #A\n",
        "        [0,0,1,0,0,1,0,0,1,0,1,0,1,0,0,0,0,0]    #A\n",
        "    ],\n",
        "    evidence=['Strategy', 'Host Door Selection', 'Player First Choice'],\n",
        "    evidence_card=[2, 3, 3],\n",
        "    state_names={\n",
        "        'Player Second Choice': ['1st', '2nd', '3rd'],\n",
        "        'Strategy': ['stay', 'switch'],\n",
        "        'Host Door Selection': ['1st', '2nd', '3rd'],\n",
        "        'Player First Choice': ['1st', '2nd', '3rd']\n",
        "    }\n",
        ")\n",
        "#A Again, the probability values are 0 or 1, so the assignment function is deterministic. In cases where the parent combinations are impossible, we still have to assign a value."
      ],
      "metadata": {
        "id": "n7Doyfi1hEDu"
      },
      "execution_count": 6,
      "outputs": []
    },
    {
      "cell_type": "markdown",
      "source": [
        "## Listing 6.6 Implementing the full Monty Hall SCM\n",
        "\n",
        "That gives us a second TabularCPD object. We create one for each node. First, let’s setup the causal DAG.\n"
      ],
      "metadata": {
        "id": "c6galsxYhKaP"
      }
    },
    {
      "cell_type": "code",
      "source": [
        "from pgmpy.models import BayesianNetwork\n",
        "from pgmpy.factors.discrete.CPD import TabularCPD\n",
        "\n",
        "monty_hall_model = BayesianNetwork([    #A\n",
        "    ('Host Inclination', 'Host Door Selection'),    #A\n",
        "    ('Door with Car', 'Host Door Selection'),    #A\n",
        "    ('Player First Choice', 'Host Door Selection'),    #A\n",
        "    ('Player First Choice', 'Player Second Choice'),    #A\n",
        "    ('Host Door Selection', 'Player Second Choice'),    #A\n",
        "    ('Strategy', 'Player Second Choice'),    #A\n",
        "    ('Player Second Choice', 'Win or Lose'),    #A\n",
        "    ('Door with Car', 'Win or Lose')    #A\n",
        "])    #A\n",
        "#A Build the causal DAG."
      ],
      "metadata": {
        "id": "hNGtshHehKg5"
      },
      "execution_count": 7,
      "outputs": []
    },
    {
      "cell_type": "markdown",
      "source": [
        "## Create the exogenous variable distributions\n",
        "\n",
        "`monty_hall_model` is now just a causal DAG. It will become an SCM after we add the exogenous variable distributions and assignment functions. First, we will add the exogenous variable distribution."
      ],
      "metadata": {
        "id": "j38hiE-5hSP9"
      }
    },
    {
      "cell_type": "code",
      "source": [
        "p_host_inclination = TabularCPD(       #B\n",
        "    variable='Host Inclination',    #B\n",
        "    variable_card=2,    #B\n",
        "    values=[[.5], [.5]],    #B\n",
        "    state_names={'Host Inclination': ['left', 'right']}    #B\n",
        ")    #B\n",
        "\n",
        "p_door_with_car = TabularCPD(    #C\n",
        "    variable='Door with Car',    #C\n",
        "    variable_card=3,    #C\n",
        "    values=[[1/3], [1/3], [1/3]],    #C\n",
        "    state_names={'Door with Car': ['1st', '2nd', '3rd']}    #C\n",
        ")    #C\n",
        "\n",
        "p_player_first_choice = TabularCPD(    #D\n",
        "    variable='Player First Choice',    #D\n",
        "    variable_card=3,    #D\n",
        "    values=[[1/3], [1/3], [1/3]],    #D\n",
        "    state_names={'Player First Choice': ['1st', '2nd', '3rd']}    #D\n",
        ")    #D\n",
        "\n",
        "p_host_strategy = TabularCPD(    #E\n",
        "    variable='Strategy',    #E\n",
        "    variable_card=2,    #E\n",
        "    values=[[.5], [.5]],    #E\n",
        "    state_names={'Strategy': ['stay', 'switch']}    #E\n",
        ")    #E\n",
        "#B A CPD for the variable Host Inclination. In cases when the player chooses the door with the car, the host has a choice between the two other doors. This variable is \"left\" when the host is inclined to choose the left-most door, and \"right\" if the host is inclined to choose the right-most door.\n",
        "#C A CPD for the variable representing which door has the prize card. Assume each door has equal probability of having the car.\n",
        "#D A CPD for variable representing the player's first door choice. Each door has equal probability of being chosen.\n",
        "#E A CPD for variable representing the player's strategy. \"Stay\" is the strategy of staying with the first choice, and \"switch\" is the strategy of switching doors.\n"
      ],
      "metadata": {
        "id": "6LsD6Zg1hSYZ"
      },
      "execution_count": 8,
      "outputs": []
    },
    {
      "cell_type": "markdown",
      "source": [
        "## Create the assignment functions\n",
        "\n",
        "Having created the exogenous distributions, we now create the assignment functions. We’ve already created `f_host_door_selection` and `f_second_choice`, so we add `f_win_or_lose`, the assign function determining whether the player wins or loses."
      ],
      "metadata": {
        "id": "UU3GI-21heXX"
      }
    },
    {
      "cell_type": "code",
      "source": [
        "f_win_or_lose = TabularCPD(    #H\n",
        "    variable='Win or Lose',    #H\n",
        "    variable_card=2,    #H\n",
        "    values=[    #H\n",
        "        [1,0,0,0,1,0,0,0,1],    #H\n",
        "        [0,1,1,1,0,1,1,1,0],    #H\n",
        "    ],    #H\n",
        "    evidence=['Player Second Choice', 'Door with Car'],    #H\n",
        "    evidence_card=[3, 3],    #H\n",
        "    state_names={    #H\n",
        "        'Win or Lose': ['win', 'lose'],    #H\n",
        "        'Player Second Choice': ['1st', '2nd', '3rd'],    #H\n",
        "        'Door with Car': ['1st', '2nd', '3rd']    #H\n",
        "    }    #H\n",
        ")    #H\n",
        "#H Structural assignment function for whether the player wins or loses."
      ],
      "metadata": {
        "id": "W7DzpT1Qheeg"
      },
      "execution_count": 9,
      "outputs": []
    },
    {
      "cell_type": "markdown",
      "source": [
        "## Create the SCM for the Monty Hall problem\n",
        "\n",
        "Finally, we add the exogenous distribution and the assignment functions to monty_hall_model and creating the SCM."
      ],
      "metadata": {
        "id": "IkkA76m2hiLa"
      }
    },
    {
      "cell_type": "code",
      "source": [
        "monty_hall_model.add_cpds(    #I\n",
        "    p_host_inclination,    #I\n",
        "    p_door_with_car,    #I\n",
        "    p_player_first_choice,    #I\n",
        "    p_host_strategy,    #I\n",
        "    f_host_door_selection,    #I\n",
        "    f_second_choice,    #I\n",
        "    f_win_or_lose    #I\n",
        ")    #I\n",
        "#I Add the CPDs to the causal DAG."
      ],
      "metadata": {
        "id": "lR0aKgWQhiTJ"
      },
      "execution_count": 10,
      "outputs": []
    },
    {
      "cell_type": "markdown",
      "source": [
        "## Listing 6.7 Inferring the winning strategy\n",
        "\n",
        "We can run the variable elimination inference algorithm to verify the results of the algorithm. We can query the probability of winning given the player takes the “stay” strategy. The probability of winning and losing under the “stay” strategy is 1/3 and 2/3, respectively. In contrast, the probability of winning and losing under the “switch” strategy is 2/3 and 1/3, respectively. Related we can condition on the outcome and infer the probability that each strategy leads to that outcome. The switch strategy has a 2/3 probability of having been the strategy the player chose.\n"
      ],
      "metadata": {
        "id": "d7zL5VnjhoPi"
      }
    },
    {
      "cell_type": "code",
      "source": [
        "from pgmpy.inference import VariableElimination    #A\n",
        "\n",
        "inference_engine = VariableElimination(monty_hall_model)\n",
        "print(inference_engine.query(['Win or Lose'], evidence={'Strategy': 'stay'}))    #B\n",
        "print(inference_engine.query(['Win or Lose'], evidence={'Strategy': 'switch'}))    #C\n",
        "print(inference_engine.query(['Strategy'], evidence={'Win or Lose': 'win'}))    #D\n",
        "#A We’ll use the graphical inference algorithm variable elimination for inference.\n",
        "#B Print the probabilities of winning and losing given the player uses the “stay” strategy.\n",
        "#C Print the probabilities of winning and losing given the player uses the “switch” strategy.\n",
        "#D Print the probabilities that the player used a stay strategy versus a switch strategy, given the player won."
      ],
      "metadata": {
        "id": "gKjhvAYWhoZD",
        "colab": {
          "base_uri": "https://localhost:8080/"
        },
        "outputId": "a665bb7f-55e5-462b-dd0f-1c55e93b3228"
      },
      "execution_count": 11,
      "outputs": [
        {
          "output_type": "stream",
          "name": "stdout",
          "text": [
            "+-------------------+--------------------+\n",
            "| Win or Lose       |   phi(Win or Lose) |\n",
            "+===================+====================+\n",
            "| Win or Lose(win)  |             0.3333 |\n",
            "+-------------------+--------------------+\n",
            "| Win or Lose(lose) |             0.6667 |\n",
            "+-------------------+--------------------+\n",
            "+-------------------+--------------------+\n",
            "| Win or Lose       |   phi(Win or Lose) |\n",
            "+===================+====================+\n",
            "| Win or Lose(win)  |             0.6667 |\n",
            "+-------------------+--------------------+\n",
            "| Win or Lose(lose) |             0.3333 |\n",
            "+-------------------+--------------------+\n",
            "+------------------+-----------------+\n",
            "| Strategy         |   phi(Strategy) |\n",
            "+==================+=================+\n",
            "| Strategy(stay)   |          0.3333 |\n",
            "+------------------+-----------------+\n",
            "| Strategy(switch) |          0.6667 |\n",
            "+------------------+-----------------+\n"
          ]
        }
      ]
    },
    {
      "cell_type": "markdown",
      "source": [
        "## Listing 6.8 Pyro example of a linear Gaussian model\n",
        "\n",
        "In a linear Gaussian additive model, the assignment functions are linear functions of the parents, and the exogenous variables have a normal distribution. In our enzyme example, $N_y$ and Y are given as follows:\n",
        "\n",
        "$$n_y \\sim N(0, \\sigma_y)$$\n",
        "$$y:=\\beta_0 + \\beta_x + n_y$$\n",
        "\n",
        "Here $\\beta_0$ is an intercept term and $\\beta_x$ is a coefficient for X. Here, we are assuming that for every unit increase in the amount of enzyme X, there is an βx increase in the expected amount of the measured protein. $N_y$ accounts for variation around that expected amount due to exogenous causal factors, and we assume it has a normal distribution with mean 0 and scale parameter $\\sigma_y$. For example, we might assume that $N_y$ is comprised mostly of technical noise from the measurement device, such as dust particles that interfere with the sensors. We might know from experience with this device that this noise has a normal distribution.\n",
        "\n",
        "In general, for variable V with a set of K parents $V_{PA} = \\{ V_{\\text{pa},1}, …,  V_{\\text{pa},k} \\} $:\n",
        "\n",
        "$$n_y \\sim N(0\\sigma_y)$$\n",
        "\n",
        "$$ v:= \\beta_0 + \\sum_j \\beta_x v_{\\text{pa},j} + n_y $$\n",
        "\n",
        "This model defines parameters $\\beta_0$ is an intercept term, the $\\beta_j$ is the coefficient attached to the jth parent. $\\sigma_v$ is the scale parameter of the $N_v$’s normal distribution.\n",
        "\n"
      ],
      "metadata": {
        "id": "DKeb7BG4izNz"
      }
    },
    {
      "cell_type": "code",
      "source": [
        "from pyro import sample\n",
        "from pyro.distributions import Normal\n",
        "\n",
        "def linear_gaussian():\n",
        "    n_x = sample(\"N_x\", Normal(9., 3.))\n",
        "    n_y = sample(\"N_y\", Normal(9., 3.))\n",
        "    x = 10. + n_x    #A\n",
        "    y = 2. * x + n_y    #B\n",
        "    return x, y\n",
        "#A The distributions of the exogenous variables are normal (Gaussian)\n",
        "#B The functional assignments are linear."
      ],
      "metadata": {
        "id": "F0vZ52TwizYK"
      },
      "execution_count": 12,
      "outputs": []
    },
    {
      "cell_type": "markdown",
      "source": [
        "\n",
        "## Listing 6.9: Pyro example of a LiNGAM model\n",
        "\n",
        "LiNGAM models are useful when the Gaussian assumption on exogenous variables is not appropriate. In our example, the amount of protein Y cannot be negative, but in a linear model that can easily occur if $\\beta_0$, x, and $n_x$ have low values. LiNGAM models remedy this by allowing the exogenous variable to have a non-normal distribution.\n"
      ],
      "metadata": {
        "id": "VKjyEuw1nW-c"
      }
    },
    {
      "cell_type": "code",
      "source": [
        "from pyro import sample\n",
        "from pyro.distributions import Gamma\n",
        "\n",
        "def LiNGAM():\n",
        "    n_x = sample(\"N_x\", Gamma(9., 1.))    #A\n",
        "    n_y = sample(\"N_y\", Gamma(9., 1.))    #A\n",
        "    x = 10. + n_x    #B\n",
        "    y = 2. * x + n_y    #B\n",
        "    return x, y\n",
        "#A Instead of a normal (Gaussian) distribution, the exogenous variables have a gamma distribution with the same mean and variance."
      ],
      "metadata": {
        "id": "HdyR1orSnXHk"
      },
      "execution_count": 13,
      "outputs": []
    },
    {
      "cell_type": "markdown",
      "source": [
        "## Listing 6.10 Fitting enzyme data with PyTorch\n",
        "\n",
        "Let’s try to learn $\\beta$ from this data using a basic PyTorch workflow.\n",
        "\n"
      ],
      "metadata": {
        "id": "OR0LDp-jswFz"
      }
    },
    {
      "cell_type": "code",
      "source": [
        "from torch import nn\n",
        "import pandas as pd\n",
        "from torch import tensor\n",
        "import torch\n",
        "\n",
        "df = pd.read_csv(\"https://raw.githubusercontent.com/altdeep/causalML/master/datasets/enzyme-data.csv\")   #A\n",
        "\n",
        "X = torch.tensor(df['x'].values).unsqueeze(1).float()    #B\n",
        "Y = torch.tensor(df['y'].values).unsqueeze(1).float()    #B\n",
        "\n",
        "class EnzymeModel(nn.Module):    #C\n",
        "    def __init__(self):\n",
        "        super().__init__()\n",
        "        self.β = nn.Parameter(torch.randn(1, 1))    #D\n",
        "\n",
        "    def forward(self, x):\n",
        "        x = torch.mul(x, self.β)    #E\n",
        "        x = x.log().sigmoid()    #F\n",
        "        x = torch.mul(x, 100.)    #G\n",
        "        return x.squeeze()\n",
        "\n",
        "def train(X, Y, model, loss_function, optim, num_epochs):    #H\n",
        "    loss_history = []    #H\n",
        "    for epoch in range(num_epochs):    #H\n",
        "        Y_pred = model(X)    #H\n",
        "        loss = loss_function(Y_pred, Y)    #H\n",
        "        loss.backward()    #H\n",
        "        optim.step()    #H\n",
        "        optim.zero_grad()    #H\n",
        "        if epoch % 1000 == 0:    #I\n",
        "            print(round(loss.data.item(), 6))    #I\n",
        "\n",
        "torch.manual_seed(1)    #J\n",
        "enzyme_model = EnzymeModel()\n",
        "optim = torch.optim.Adam(enzyme_model.parameters(), lr=0.00001)    #K\n",
        "loss_function = nn.MSELoss()    #L\n",
        "\n",
        "train(X, Y, enzyme_model, loss_function, optim, num_epochs=60000)\n",
        "#A Load the enzyme data from Github.\n",
        "#B Convert the data to tensors.\n",
        "#C Create the enzyme model.\n",
        "#D Initialize the parameter β.\n",
        "#E Multiple enzyme amount X and β.\n",
        "#F Implement the function u / (u + 1) as sigmoid(log(u)), since the sigmoid and log functions are native Pytorch transforms.\n",
        "#G Multiply by T = 100.\n",
        "#H Create the training algorithm.\n",
        "#I Print out losses during training.\n",
        "#J Set a random seed for reproducibility\n",
        "#K Initialize an instance of Adam optimizer. Use a low value of the learning rate because loss is very sensitive to small changes in β.\n",
        "#L Using mean squared loss error is equivalent to assuming Ny is additive and symetric.\n"
      ],
      "metadata": {
        "id": "gzC5hPusswd7",
        "colab": {
          "base_uri": "https://localhost:8080/"
        },
        "outputId": "d7f3eaf7-62cf-4f54-e4c3-c29d427cfe09"
      },
      "execution_count": 14,
      "outputs": [
        {
          "output_type": "stream",
          "name": "stderr",
          "text": [
            "/usr/local/lib/python3.10/dist-packages/torch/nn/modules/loss.py:535: UserWarning: Using a target size (torch.Size([100, 1])) that is different to the input size (torch.Size([100])). This will likely lead to incorrect results due to broadcasting. Please ensure they have the same size.\n",
            "  return F.mse_loss(input, target, reduction=self.reduction)\n"
          ]
        },
        {
          "output_type": "stream",
          "name": "stdout",
          "text": [
            "915.746521\n",
            "913.875793\n",
            "911.953918\n",
            "909.985229\n",
            "907.966675\n",
            "905.905273\n",
            "903.799377\n",
            "901.647583\n",
            "899.448181\n",
            "897.199585\n",
            "894.900085\n",
            "892.547791\n",
            "890.127808\n",
            "887.649292\n",
            "885.111389\n",
            "882.511902\n",
            "879.848511\n",
            "877.118774\n",
            "874.320007\n",
            "871.449707\n",
            "868.505127\n",
            "865.483215\n",
            "862.380981\n",
            "859.195618\n",
            "855.923096\n",
            "852.560791\n",
            "849.099609\n",
            "845.535522\n",
            "841.869812\n",
            "838.098145\n",
            "834.21698\n",
            "830.222107\n",
            "826.109314\n",
            "821.874878\n",
            "817.514526\n",
            "813.024902\n",
            "808.402527\n",
            "803.64447\n",
            "798.748901\n",
            "793.714966\n",
            "788.549805\n",
            "783.257507\n",
            "777.841919\n",
            "772.317871\n",
            "766.703918\n",
            "761.027649\n",
            "755.327576\n",
            "749.658203\n",
            "744.092773\n",
            "738.730774\n",
            "733.704346\n",
            "729.182495\n",
            "725.369446\n",
            "722.480835\n",
            "720.670715\n",
            "719.876831\n",
            "719.701538\n",
            "719.690308\n",
            "719.690308\n",
            "719.690369\n"
          ]
        }
      ]
    },
    {
      "cell_type": "markdown",
      "source": [
        "## Listing 6.11 Fitting β in the enzyme model with a probabilistic model and Bayesian inference\n",
        "\n",
        "The problem with this approach is that the SCM should encode a distribution P(X, Y). So we can turn to a probabilistic modeling approach to fit this model.\n"
      ],
      "metadata": {
        "id": "pQZa4R3qs4zJ"
      }
    },
    {
      "cell_type": "code",
      "source": [
        "import pyro\n",
        "from pyro.distributions import Beta, Normal, Uniform\n",
        "from pyro.infer.mcmc import NUTS, MCMC\n",
        "from pyro.infer.mcmc.mcmc_kernel import MCMCKernel\n",
        "from torch import sigmoid\n",
        "\n",
        "def g(u):    #A\n",
        "  return u / (1 + u)    #A\n",
        "\n",
        "def model(N):    #B\n",
        "    β = pyro.sample(\"β\", Beta(0.5, 5.0))    #C\n",
        "    with pyro.plate(\"data\", N):    #D\n",
        "        x = pyro.sample(\"X\", Uniform(0.0, 101.0))     #E\n",
        "        y = pyro.sample(\"Y\", Normal(100.0 * g(β * x), x**.5))    #F\n",
        "    return x, y\n",
        "\n",
        "conditioned_model = pyro.condition(    #G\n",
        "    model,    #G\n",
        "    data={\"X\": X.squeeze(1), \"Y\":  Y.squeeze(1)}    #G\n",
        ")    #G\n",
        "\n",
        "N = X.shape[0]    #H\n",
        "pyro.set_rng_seed(526)    #I\n",
        "nuts_kernel = NUTS(conditioned_model, adapt_step_size=True)    #J\n",
        "mcmc = MCMC(nuts_kernel, num_samples=1500, warmup_steps=500)    #J\n",
        "mcmc.run(N)    #J\n",
        "#A The simple transform used in the assignment function for Y (amount of target protein).\n",
        "#B The probabilistic model.\n",
        "#C A prior on the parameter β that we mean to fit with this model\n",
        "#D A “plate” for the N=100 identical and independently distributed object.\n",
        "#E The marginal probability of the enzyme P(X) is a uniform distribution between 0 and 101.\n",
        "#F P(Y|X), the conditional distribution of Y (protein concentration) given X (and β). I model P(Y|X) with a normal distribution with both a mean and variance that depends on Y.\n",
        "#G Condition the model on the observed evidence.\n",
        "#H Get the number of examples in the data (100).\n",
        "#I Set a random seed for reproducibility.\n",
        "#J To learn β, I use a gradient-based MCMC algorithm called a No-U-Turn Sampler (NUTS). Note this algorithm is one of many probabilistic approaches for parameter learning, and this choice is independent of the causal elements of your model.\n"
      ],
      "metadata": {
        "id": "IuhQtLy2s5aP",
        "colab": {
          "base_uri": "https://localhost:8080/"
        },
        "outputId": "3c7a506b-f707-432d-85a7-7b6563e4b3f0"
      },
      "execution_count": 21,
      "outputs": [
        {
          "output_type": "stream",
          "name": "stderr",
          "text": [
            "Sample: 100%|██████████| 2000/2000 [00:19, 100.30it/s, step size=8.86e-01, acc. prob=0.945]\n"
          ]
        }
      ]
    },
    {
      "cell_type": "markdown",
      "source": [
        "## Listing 6.12 Initializing splines for assignment functions\n",
        "\n",
        "Next, we model the SCM using normalizing flows. Normalizing flows model a complex probability density as an invertible transformation of a simple base density. I’m going to use flows to model the distribution of endogenous variables as invertible transformations of exogenous variable distributions. There are many different transformations, I’m going to use neural splines. Splines are a decades-old approach to curve-fitting using piece-wise polynomials, a neural spline is the neural network version of a spline."
      ],
      "metadata": {
        "id": "zg_k9zEys8ll"
      }
    },
    {
      "cell_type": "code",
      "source": [
        "from pyro.distributions.transforms import conditional_spline\n",
        "print(conditional_spline(input_dim=1, context_dim=1))    #A\n",
        "#A A neural spline transform is a type of invertible PyTorch neural network module"
      ],
      "metadata": {
        "id": "OIA7Hj9Ws0Lt",
        "colab": {
          "base_uri": "https://localhost:8080/"
        },
        "outputId": "8fc87494-e37e-4932-f393-5bf1c118aa8a"
      },
      "execution_count": 22,
      "outputs": [
        {
          "output_type": "stream",
          "name": "stdout",
          "text": [
            "ConditionalSpline(\n",
            "  (nn): DenseNN(\n",
            "    (layers): ModuleList(\n",
            "      (0): Linear(in_features=1, out_features=10, bias=True)\n",
            "      (1): Linear(in_features=10, out_features=10, bias=True)\n",
            "      (2): Linear(in_features=10, out_features=31, bias=True)\n",
            "    )\n",
            "    (f): ReLU()\n",
            "  )\n",
            ")\n"
          ]
        }
      ]
    },
    {
      "cell_type": "markdown",
      "source": [
        "## Listing 6.13: Transforming distribution of Nx to distribution of X\n",
        "\n",
        "Normalizing flows solve our problem of not having a likelihood value for `y = f(x, ny)`. Like other probabilistic machine learning models, they allow you to connect an input random variable (like an exogenous variable) to an output variable (like an endogenous variable) using layers of transformations. The key difference is normalizing flow models automatically calculate the probability values of instances of the output variable in the data (using the change-of-variable formula from probability theory). For example, in the following code, `NxDist` is the distribution of exogenous variable Nx. I set the distribution as a `Uniform(0, 1)`. `f_x` is the assignment function for X, implemented as an `AffineTransformation` that maps this distribution to `Uniform(1, 101)`."
      ],
      "metadata": {
        "id": "Jc7fmqjNtE5o"
      }
    },
    {
      "cell_type": "code",
      "source": [
        "from pyro.distributions import TransformedDistribution\n",
        "from pyro.distributions.transforms import AffineTransform\n",
        "\n",
        "\n",
        "NxDist = Uniform(torch.zeros(1), torch.ones(1))     #A\n",
        "f_x = AffineTransform(loc=1., scale=100.0)    #B\n",
        "XDist = TransformedDistribution(NxDist, [f_x])    #C\n",
        "#A The exogenous distribution of X is Uniform(0, 1).\n",
        "#B The assignment function for f_x. The AffineTransform multiplies Nx by 100 and adds 1.\n",
        "#C XDist is an explicit representation of P(X). Multiplying by 100 and adding 1 gives you a Uniform(1, 101).\n"
      ],
      "metadata": {
        "id": "WmyxmSXttHwH"
      },
      "execution_count": 23,
      "outputs": []
    },
    {
      "cell_type": "markdown",
      "source": [
        "## Listing 6.14: Specify the Flow-based SCM\n",
        "\n",
        "Let's specify the full model."
      ],
      "metadata": {
        "id": "f0pbEK6HtKGN"
      }
    },
    {
      "cell_type": "code",
      "source": [
        "import pyro\n",
        "from pyro.distributions import (\n",
        "    ConditionalTransformedDistribution,\n",
        "    Normal,\n",
        "    Uniform,\n",
        "    TransformedDistribution\n",
        ")\n",
        "from pyro.distributions.transforms import conditional_spline, spline\n",
        "import torch\n",
        "from torch.distributions.transforms import AffineTransform\n",
        "\n",
        "pyro.set_rng_seed(348)\n",
        "\n",
        "NxDist = Uniform(torch.zeros(1), torch.ones(1))     #A\n",
        "f_x = AffineTransform(loc=1., scale=100.0)    #B\n",
        "XDist = TransformedDistribution(NxDist, [f_x])    #C\n",
        "\n",
        "NyDist = Normal(torch.zeros(1), torch.ones(1))    #D\n",
        "f_y = conditional_spline(input_dim=1, context_dim=1)    #E\n",
        "YDist = ConditionalTransformedDistribution(NyDist, [f_y])    #F\n",
        "#A The exogenous distribution of X is Uniform(0, 1).\n",
        "#B The assignment function for f_x. The AffineTransform multiplies Nx by 100 and adds 1.\n",
        "#C XDist is an explicit representation of P(X). Multiplying by 100 and adding 1 gives you a Uniform(1, 101).\n",
        "#D The exogenous distribution of Y is Normal(0, 1).\n",
        "#E We implement the assignment function for f_y with a neural spline. Optimization will optimize the parameters of this spline.\n",
        "#F YDist is an explicit representation of P(Y|X)."
      ],
      "metadata": {
        "id": "eYtUXxg_tMgk"
      },
      "execution_count": 24,
      "outputs": []
    },
    {
      "cell_type": "markdown",
      "source": [
        "## Listing 6.15: Train the SCM\n",
        "\n",
        "Now run the training."
      ],
      "metadata": {
        "id": "NDCiRo_QtQ21"
      }
    },
    {
      "cell_type": "code",
      "source": [
        "import matplotlib.pyplot as plt\n",
        "\n",
        "modules = torch.nn.ModuleList([f_y])    #A\n",
        "optimizer = torch.optim.Adam(modules.parameters(), lr=3e-3)    #B\n",
        "losses = []\n",
        "maxY = max(Y)    #C\n",
        "Ynorm = Y / maxY    #C\n",
        "for step in range(800):\n",
        "    optimizer.zero_grad()    #D\n",
        "    log_prob_x = XDist.log_prob(X)    #E\n",
        "    log_prob_y = YDist.condition(X).log_prob(Ynorm)    #F\n",
        "    loss = -(log_prob_x + log_prob_y).mean()    #G\n",
        "    loss.backward()    #G\n",
        "    optimizer.step()    #G\n",
        "    XDist.clear_cache()\n",
        "    YDist.clear_cache()\n",
        "    losses.append(loss.item())\n",
        "\n",
        "plt.plot(losses[1:])    #H\n",
        "plt.title(\"Loss\")    #H\n",
        "plt.xlabel(\"step\")    #H\n",
        "plt.ylabel(\"loss\")    #H\n",
        "\n",
        "#A Register the neural spline functional assignment function for Y.\n",
        "#B Initialize the optimizer.\n",
        "#C Normalize Y since the assignment function is working with neural networks.\n",
        "#D Set all gradients to 0.\n",
        "#E Use P(X) to calculate a log likelihood value for each value of X.\n",
        "#F Use P(Y|X) to calculate a log likelihood value for each value of Y given X.\n",
        "#G Fit the parameters of the neural network modules using maximum likelihood as an objective.\n",
        "#H Visualize losses during training.\n"
      ],
      "metadata": {
        "id": "dgWKSwAttRSY",
        "colab": {
          "base_uri": "https://localhost:8080/",
          "height": 490
        },
        "outputId": "c78875fb-e653-4f5b-c3e8-01dc78bd6c34"
      },
      "execution_count": 25,
      "outputs": [
        {
          "output_type": "execute_result",
          "data": {
            "text/plain": [
              "Text(0, 0.5, 'loss')"
            ]
          },
          "metadata": {},
          "execution_count": 25
        },
        {
          "output_type": "display_data",
          "data": {
            "text/plain": [
              "<Figure size 640x480 with 1 Axes>"
            ],
            "image/png": "[encoded data removed]"
          },
          "metadata": {}
        }
      ]
    },
    {
      "cell_type": "markdown",
      "source": [
        "## Listing 6.16: Generate from the trained model\n",
        "\n",
        "Now we generate samples from the model and compare them to the training data."
      ],
      "metadata": {
        "id": "MrKhD3SatXRE"
      }
    },
    {
      "cell_type": "code",
      "source": [
        "x_flow = XDist.sample(torch.Size([100,]))    #A\n",
        "y_flow = YDist.condition(x_flow).sample(torch.Size([100,])) * maxY    #A\n",
        "\n",
        "plt.title('Observed values of enzyme concentration X\\n and protein concentration Y')    #B\n",
        "plt.xlabel('X')    #B\n",
        "plt.ylabel('Y')    #B\n",
        "plt.xlim(0, 105)    #B\n",
        "plt.ylim(0, 120)    #B\n",
        "plt.scatter(X.squeeze(1), Y.squeeze(1), color='firebrick', label='Actual Data', alpha=0.5)    #B\n",
        "plt.scatter(x_flow.squeeze(1), y_flow.squeeze(), label='Generated values from trained model', alpha=0.5)    #B\n",
        "plt.legend()    #B\n",
        "plt.show()    #B\n",
        "#A Generate synthetic examples from the trained model.\n",
        "#B Visualize the synthetic examples over the examples in the training data to validate model fit."
      ],
      "metadata": {
        "id": "dQ8bdAANtaUB",
        "colab": {
          "base_uri": "https://localhost:8080/",
          "height": 493
        },
        "outputId": "99f70034-12f0-4f9f-f2fa-296591cd0ecd"
      },
      "execution_count": 20,
      "outputs": [
        {
          "output_type": "display_data",
          "data": {
            "text/plain": [
              "<Figure size 640x480 with 1 Axes>"
            ],
            "image/png": "[encoded data removed]"
          },
          "metadata": {}
        }
      ]
    }
  ]
}