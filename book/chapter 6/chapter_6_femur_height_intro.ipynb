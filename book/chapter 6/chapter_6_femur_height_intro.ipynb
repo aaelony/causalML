{
  "nbformat": 4,
  "nbformat_minor": 0,
  "metadata": {
    "colab": {
      "provenance": []
    },
    "kernelspec": {
      "name": "python3",
      "display_name": "Python 3"
    },
    "language_info": {
      "name": "python"
    }
  },
  "cells": [
    {
      "cell_type": "markdown",
      "source": [
        "# Chapter 6 - Connecting Causality and Deep Learning\n",
        "### Introductory examples on femur-height model and rock throwing example\n",
        "\n",
        "The notebook is a code companion to chapter 5 of the book [Causal AI](https://www.manning.com/books/causal-ai) by [Robert Osazuwa Ness](https://www.linkedin.com/in/osazuwa/). <a href=\"https://colab.research.google.com/github/altdeep/causalML/blob/master/book/chapter%206/chapter_6_femur_height_intro.ipynb\" target=\"_parent\"><img src=\"https://colab.research.google.com/assets/colab-badge.svg\" alt=\"Open In Colab\"/></a>\n",
        "\n",
        "This notebook was written in Google Colab using Python version 3.10.12. It was written in pyro version 1.84, and was recently tested win 1.9."
      ],
      "metadata": {
        "id": "HZk5tKUPWCz1"
      }
    },
    {
      "cell_type": "code",
      "source": [
        "!pip install pyro-ppl==1.8.4"
      ],
      "metadata": {
        "colab": {
          "base_uri": "https://localhost:8080/"
        },
        "id": "k5t759R1OOsm",
        "outputId": "f5aa1075-6e7a-4878-bde1-79cd9ebf18d3"
      },
      "execution_count": 1,
      "outputs": [
        {
          "output_type": "stream",
          "name": "stdout",
          "text": [
            "Requirement already satisfied: pyro-ppl==1.8.4 in /usr/local/lib/python3.10/dist-packages (1.8.4)\n",
            "Requirement already satisfied: numpy>=1.7 in /usr/local/lib/python3.10/dist-packages (from pyro-ppl==1.8.4) (1.25.2)\n",
            "Requirement already satisfied: opt-einsum>=2.3.2 in /usr/local/lib/python3.10/dist-packages (from pyro-ppl==1.8.4) (3.3.0)\n",
            "Requirement already satisfied: pyro-api>=0.1.1 in /usr/local/lib/python3.10/dist-packages (from pyro-ppl==1.8.4) (0.1.2)\n",
            "Requirement already satisfied: torch>=1.11.0 in /usr/local/lib/python3.10/dist-packages (from pyro-ppl==1.8.4) (2.3.0+cu121)\n",
            "Requirement already satisfied: tqdm>=4.36 in /usr/local/lib/python3.10/dist-packages (from pyro-ppl==1.8.4) (4.66.4)\n",
            "Requirement already satisfied: filelock in /usr/local/lib/python3.10/dist-packages (from torch>=1.11.0->pyro-ppl==1.8.4) (3.14.0)\n",
            "Requirement already satisfied: typing-extensions>=4.8.0 in /usr/local/lib/python3.10/dist-packages (from torch>=1.11.0->pyro-ppl==1.8.4) (4.11.0)\n",
            "Requirement already satisfied: sympy in /usr/local/lib/python3.10/dist-packages (from torch>=1.11.0->pyro-ppl==1.8.4) (1.12)\n",
            "Requirement already satisfied: networkx in /usr/local/lib/python3.10/dist-packages (from torch>=1.11.0->pyro-ppl==1.8.4) (3.3)\n",
            "Requirement already satisfied: jinja2 in /usr/local/lib/python3.10/dist-packages (from torch>=1.11.0->pyro-ppl==1.8.4) (3.1.4)\n",
            "Requirement already satisfied: fsspec in /usr/local/lib/python3.10/dist-packages (from torch>=1.11.0->pyro-ppl==1.8.4) (2023.6.0)\n",
            "Requirement already satisfied: nvidia-cuda-nvrtc-cu12==12.1.105 in /usr/local/lib/python3.10/dist-packages (from torch>=1.11.0->pyro-ppl==1.8.4) (12.1.105)\n",
            "Requirement already satisfied: nvidia-cuda-runtime-cu12==12.1.105 in /usr/local/lib/python3.10/dist-packages (from torch>=1.11.0->pyro-ppl==1.8.4) (12.1.105)\n",
            "Requirement already satisfied: nvidia-cuda-cupti-cu12==12.1.105 in /usr/local/lib/python3.10/dist-packages (from torch>=1.11.0->pyro-ppl==1.8.4) (12.1.105)\n",
            "Requirement already satisfied: nvidia-cudnn-cu12==8.9.2.26 in /usr/local/lib/python3.10/dist-packages (from torch>=1.11.0->pyro-ppl==1.8.4) (8.9.2.26)\n",
            "Requirement already satisfied: nvidia-cublas-cu12==12.1.3.1 in /usr/local/lib/python3.10/dist-packages (from torch>=1.11.0->pyro-ppl==1.8.4) (12.1.3.1)\n",
            "Requirement already satisfied: nvidia-cufft-cu12==11.0.2.54 in /usr/local/lib/python3.10/dist-packages (from torch>=1.11.0->pyro-ppl==1.8.4) (11.0.2.54)\n",
            "Requirement already satisfied: nvidia-curand-cu12==10.3.2.106 in /usr/local/lib/python3.10/dist-packages (from torch>=1.11.0->pyro-ppl==1.8.4) (10.3.2.106)\n",
            "Requirement already satisfied: nvidia-cusolver-cu12==11.4.5.107 in /usr/local/lib/python3.10/dist-packages (from torch>=1.11.0->pyro-ppl==1.8.4) (11.4.5.107)\n",
            "Requirement already satisfied: nvidia-cusparse-cu12==12.1.0.106 in /usr/local/lib/python3.10/dist-packages (from torch>=1.11.0->pyro-ppl==1.8.4) (12.1.0.106)\n",
            "Requirement already satisfied: nvidia-nccl-cu12==2.20.5 in /usr/local/lib/python3.10/dist-packages (from torch>=1.11.0->pyro-ppl==1.8.4) (2.20.5)\n",
            "Requirement already satisfied: nvidia-nvtx-cu12==12.1.105 in /usr/local/lib/python3.10/dist-packages (from torch>=1.11.0->pyro-ppl==1.8.4) (12.1.105)\n",
            "Requirement already satisfied: triton==2.3.0 in /usr/local/lib/python3.10/dist-packages (from torch>=1.11.0->pyro-ppl==1.8.4) (2.3.0)\n",
            "Requirement already satisfied: nvidia-nvjitlink-cu12 in /usr/local/lib/python3.10/dist-packages (from nvidia-cusolver-cu12==11.4.5.107->torch>=1.11.0->pyro-ppl==1.8.4) (12.5.40)\n",
            "Requirement already satisfied: MarkupSafe>=2.0 in /usr/local/lib/python3.10/dist-packages (from jinja2->torch>=1.11.0->pyro-ppl==1.8.4) (2.1.5)\n",
            "Requirement already satisfied: mpmath>=0.19 in /usr/local/lib/python3.10/dist-packages (from sympy->torch>=1.11.0->pyro-ppl==1.8.4) (1.3.0)\n"
          ]
        }
      ]
    },
    {
      "cell_type": "markdown",
      "source": [
        "## Listing 6.1 Pyro pseudocode of the causal graphical model in Figure 6.1\n",
        "\n",
        "Figure 6.1 in the book is a causal DAG relating femur length to height.\n",
        "\n",
        "![A DAG mapping femur length to height](https://github.com/altdeep/causalML/blob/master/book/chapter%206/images/Figure%206_1%20femur-height-DAG.png?raw=true)\n",
        "\n",
        "Here is how we'd model it in Pyro."
      ],
      "metadata": {
        "id": "EKPeuhZDAsyH"
      }
    },
    {
      "cell_type": "code",
      "execution_count": 2,
      "metadata": {
        "colab": {
          "base_uri": "https://localhost:8080/"
        },
        "id": "b583pQrCAQPY",
        "outputId": "c15ee4c3-e11e-4edb-ff26-7d453740552a"
      },
      "outputs": [
        {
          "output_type": "execute_result",
          "data": {
            "text/plain": [
              "(tensor(46.8180), tensor(166.1476))"
            ]
          },
          "metadata": {},
          "execution_count": 2
        }
      ],
      "source": [
        "from pyro.distributions import Normal\n",
        "from pyro import sample\n",
        "\n",
        "def cgm_model():    #A\n",
        "    x = sample(\"x\", Normal(47., 2.3))    #A\n",
        "    y = sample(\"y\", Normal(25. + 3*x, 3.3))    #A\n",
        "    return x, y    #B\n",
        "\n",
        "#A x and y are sampled from their causal Markov kernels, in this case Normal distributions.\n",
        "#B Repeatedly calling cgm_model will return samples from P(X, Y).\n",
        "\n",
        "cgm_model()"
      ]
    },
    {
      "cell_type": "markdown",
      "source": [
        "## Listing 6.2: CGM rewritten as a SCM\n",
        "\n",
        "\n",
        "\n",
        "We convert this model to an SCM using the following algorithm.\n",
        "1.  Introduce a new latent cause parent for X called Nx and a new latent causal parent for Y called Ny with distributions P(Nx) and P(Ny)\n",
        "2.  Make X and Y deterministic functions of Nx and Ny such that P(X, Y) in this new model is the same as the old model.\n",
        "\n",
        "To convert the CGM to an SCM, we introduce a latent “exogenous” parents, Nx for X and Ny for Y, and probability distributions P(Nx) and P(Ny) for these latents. We then set X and Y deterministically given their parents via functions fx and fy.\n",
        "We have two new latent variables Nx and Ny with distributions P(Nx) and P(Ny). X and Y each have their own functions fx and fy that that deterministically set X and Y given their parents in the graph. This difference is key; X and Y are generated in the model described in Figure 6.1 but set deterministically in this new model. To emphasize this, I use the assignment operator “:=”, instead of the equal sign “=” to emphasize that fx and fy assign the values of x and y.\n",
        "To meet our goal of converting our CGM to an SCM, we want P(X) and P(Y|X=x) to be the same across both models. To achieve this, we have to choose P(Nx), P(Ny), fx, and fy such that P(X) is still Normal(47, 2.3) and P(Y|X=x) is still Normal(25 + 3.3x, 3.3). One option is to do a simple reparameterization. Linear functions of normally distributed random variables are also normally distributed. So we can implement the model in Figure 6.3.\n",
        "\n",
        "![A DAG mapping femur length to height](https://github.com/altdeep/causalML/blob/master/book/chapter%206/images/Figure%206_3_rewrite_as_SCM.png?raw=true)\n",
        "\n",
        "In code, we rewrite this as:"
      ],
      "metadata": {
        "id": "Nb5IPa95Akh3"
      }
    },
    {
      "cell_type": "code",
      "source": [
        "from pyro.distributions import Normal\n",
        "from pyro import sample\n",
        "\n",
        "def scm_model():\n",
        "    n_x = sample(\"n_x\", Normal(0., 2.3))    #A\n",
        "    n_y = sample(\"n_y\", Normal(0., 3.3))    #A\n",
        "    x = 47. + n_x    #B\n",
        "    y = 25. + 3.*x + n_y    #B\n",
        "    return x, y    #C\n",
        "\n",
        "#A We sample these new latent variables from a standard normal distribution.\n",
        "#B X and Y are calculated deterministically as linear transformations of the n_x and n_y\n",
        "#C The returned samples of P(X, Y) match the first model.\n",
        "\n",
        "scm_model()"
      ],
      "metadata": {
        "colab": {
          "base_uri": "https://localhost:8080/"
        },
        "id": "1ha4VYBrAY2Z",
        "outputId": "8566cb2c-4af3-4f0f-e1a4-7048c21af19e"
      },
      "execution_count": 3,
      "outputs": [
        {
          "output_type": "execute_result",
          "data": {
            "text/plain": [
              "(tensor(47.6776), tensor(165.9406))"
            ]
          },
          "metadata": {},
          "execution_count": 3
        }
      ]
    },
    {
      "cell_type": "markdown",
      "source": [
        "## Listing 6.3: The rock-throwing example from chapter 2 is an SCM\n",
        "\n",
        "Consider the example our rock-throwing example from chapter 2. In this example, either Jenny or Brian or both throw a rock at window if they are inclined to do so. The window breaks depending on if either or both Jenny and Brian throw and the strength of the windowpane.\n",
        "How might we convert this model to an SCM? In fact, this model is already an SCM. We captured this with the following code:\n"
      ],
      "metadata": {
        "id": "NMsI-S47CfM4"
      }
    },
    {
      "cell_type": "code",
      "source": [
        "import pandas as pd\n",
        "import random\n",
        "\n",
        "def true_dgp(jenny_inclination, brian_inclination, window_strength):\n",
        "    jenny_throws_rock = jenny_inclination > 0.5\n",
        "    brian_throws_rock = brian_inclination > 0.5\n",
        "    if jenny_throws_rock and brian_throws_rock:\n",
        "        strength_of_impact = 0.8\n",
        "    elif jenny_throws_rock or brian_throws_rock:\n",
        "        strength_of_impact = 0.6\n",
        "    else:\n",
        "        strength_of_impact = 0.0\n",
        "    window_breaks = window_strength < strength_of_impact\n",
        "    return jenny_throws_rock, brian_throws_rock, window_breaks\n",
        "\n",
        "generated_outcome = true_dgp(\n",
        "    jenny_inclination=random.uniform(0, 1),\n",
        "    brian_inclination=random.uniform(0, 1),\n",
        "    window_strength=random.uniform(0, 1)\n",
        ")\n",
        "#A The input values are instances of \"exogenous\" variables.\n",
        "#B Jenny and Brian throw the rock if so inclined. jenny_throws_rock and brian_throws_rock are endogenous variables.\n",
        "#B The assignment functions of jenny_throws_rock and brian_throws_rock are both `lambda inclination: inclination > .05`\n",
        "#C strength_of_impact is an endogenous variable. This entire if-then expression is the assignment function for strength of impact.\n",
        "#D window_breaks is an endogenous variable. The assignment function is `lambda strength_of_impact, window_strength: strength_of_impact > window_strength`\n",
        "#E Each exogenous variable has a Uniform(0, 1) distribution.\n",
        "\n",
        "generated_outcome"
      ],
      "metadata": {
        "colab": {
          "base_uri": "https://localhost:8080/"
        },
        "id": "-qdwoljNCfUc",
        "outputId": "c2b6c3e2-c365-4f9c-df40-60b23d5708b7"
      },
      "execution_count": 4,
      "outputs": [
        {
          "output_type": "execute_result",
          "data": {
            "text/plain": [
              "(False, False, False)"
            ]
          },
          "metadata": {},
          "execution_count": 4
        }
      ]
    }
  ]
}