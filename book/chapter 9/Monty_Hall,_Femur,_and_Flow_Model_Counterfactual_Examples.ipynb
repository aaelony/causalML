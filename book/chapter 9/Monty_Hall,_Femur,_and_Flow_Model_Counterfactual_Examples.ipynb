{
  "nbformat": 4,
  "nbformat_minor": 0,
  "metadata": {
    "colab": {
      "provenance": []
    },
    "kernelspec": {
      "name": "python3",
      "display_name": "Python 3"
    },
    "language_info": {
      "name": "python"
    }
  },
  "cells": [
    {
      "cell_type": "code",
      "execution_count": 1,
      "metadata": {
        "colab": {
          "base_uri": "https://localhost:8080/"
        },
        "id": "74-7IkZ5eNRd",
        "outputId": "6727799a-4d0f-4bba-d753-a7a6d5a7c94d"
      },
      "outputs": [
        {
          "output_type": "stream",
          "name": "stdout",
          "text": [
            "Requirement already satisfied: pgmpy in /usr/local/lib/python3.10/dist-packages (0.1.24)\n",
            "Requirement already satisfied: networkx in /usr/local/lib/python3.10/dist-packages (from pgmpy) (3.1)\n",
            "Requirement already satisfied: numpy in /usr/local/lib/python3.10/dist-packages (from pgmpy) (1.23.5)\n",
            "Requirement already satisfied: scipy in /usr/local/lib/python3.10/dist-packages (from pgmpy) (1.11.3)\n",
            "Requirement already satisfied: scikit-learn in /usr/local/lib/python3.10/dist-packages (from pgmpy) (1.2.2)\n",
            "Requirement already satisfied: pandas in /usr/local/lib/python3.10/dist-packages (from pgmpy) (1.5.3)\n",
            "Requirement already satisfied: pyparsing in /usr/local/lib/python3.10/dist-packages (from pgmpy) (3.1.1)\n",
            "Requirement already satisfied: torch in /usr/local/lib/python3.10/dist-packages (from pgmpy) (2.1.0+cu118)\n",
            "Requirement already satisfied: statsmodels in /usr/local/lib/python3.10/dist-packages (from pgmpy) (0.14.0)\n",
            "Requirement already satisfied: tqdm in /usr/local/lib/python3.10/dist-packages (from pgmpy) (4.66.1)\n",
            "Requirement already satisfied: joblib in /usr/local/lib/python3.10/dist-packages (from pgmpy) (1.3.2)\n",
            "Requirement already satisfied: opt-einsum in /usr/local/lib/python3.10/dist-packages (from pgmpy) (3.3.0)\n",
            "Requirement already satisfied: python-dateutil>=2.8.1 in /usr/local/lib/python3.10/dist-packages (from pandas->pgmpy) (2.8.2)\n",
            "Requirement already satisfied: pytz>=2020.1 in /usr/local/lib/python3.10/dist-packages (from pandas->pgmpy) (2023.3.post1)\n",
            "Requirement already satisfied: threadpoolctl>=2.0.0 in /usr/local/lib/python3.10/dist-packages (from scikit-learn->pgmpy) (3.2.0)\n",
            "Requirement already satisfied: patsy>=0.5.2 in /usr/local/lib/python3.10/dist-packages (from statsmodels->pgmpy) (0.5.3)\n",
            "Requirement already satisfied: packaging>=21.3 in /usr/local/lib/python3.10/dist-packages (from statsmodels->pgmpy) (23.2)\n",
            "Requirement already satisfied: filelock in /usr/local/lib/python3.10/dist-packages (from torch->pgmpy) (3.12.4)\n",
            "Requirement already satisfied: typing-extensions in /usr/local/lib/python3.10/dist-packages (from torch->pgmpy) (4.5.0)\n",
            "Requirement already satisfied: sympy in /usr/local/lib/python3.10/dist-packages (from torch->pgmpy) (1.12)\n",
            "Requirement already satisfied: jinja2 in /usr/local/lib/python3.10/dist-packages (from torch->pgmpy) (3.1.2)\n",
            "Requirement already satisfied: fsspec in /usr/local/lib/python3.10/dist-packages (from torch->pgmpy) (2023.6.0)\n",
            "Requirement already satisfied: triton==2.1.0 in /usr/local/lib/python3.10/dist-packages (from torch->pgmpy) (2.1.0)\n",
            "Requirement already satisfied: six in /usr/local/lib/python3.10/dist-packages (from patsy>=0.5.2->statsmodels->pgmpy) (1.16.0)\n",
            "Requirement already satisfied: MarkupSafe>=2.0 in /usr/local/lib/python3.10/dist-packages (from jinja2->torch->pgmpy) (2.1.3)\n",
            "Requirement already satisfied: mpmath>=0.19 in /usr/local/lib/python3.10/dist-packages (from sympy->torch->pgmpy) (1.3.0)\n",
            "Requirement already satisfied: graphviz in /usr/local/lib/python3.10/dist-packages (0.20.1)\n",
            "Reading package lists... Done\n",
            "Building dependency tree... Done\n",
            "Reading state information... Done\n",
            "libgraphviz-dev is already the newest version (2.42.2-6).\n",
            "0 upgraded, 0 newly installed, 0 to remove and 18 not upgraded.\n",
            "Requirement already satisfied: pygraphviz in /usr/local/lib/python3.10/dist-packages (1.11)\n"
          ]
        }
      ],
      "source": [
        "!pip install pgmpy\n",
        "!pip install graphviz    #A\n",
        "!apt install libgraphviz-dev    #A\n",
        "!pip install pygraphviz    #A\n",
        "\n",
        "import graphviz    #A\n",
        "def plot_graph(G):    #A\n",
        "    write_dot(G, 'graph.dot')    #A\n",
        "    with open('graph.dot') as f:    #A\n",
        "        dot_graph = f.read()    #A\n",
        "    return graphviz.Source(dot_graph)    #A\n",
        "\n",
        "\n",
        "import requests\n",
        "url1 = \"https://raw.githubusercontent.com/altdeep/causalML/master/book/pgmpy_do.py\"     #B\n",
        "response1 = requests.get(url1)     #B\n",
        "exec(response1.text)     #B\n",
        "url2 = \"https://raw.githubusercontent.com/altdeep/causalML/master/book/chapter%209/hyp_function.py\"     #C\n",
        "response2 = requests.get(url2)     #C\n",
        "exec(response2.text)     #C\n",
        "\n",
        "#A Install raphviz for visualization and create a graphviz helper function. Graphviz installation may vary across environments.\n",
        "#B Import a function for an ideal intervention.\n",
        "#C Import a helper function for cloning assignment functions across worlds."
      ]
    },
    {
      "cell_type": "markdown",
      "source": [
        "We start by revisiting the SCM for the Monte Hall problem. Summarizing again, there is a game show where the player starts with a choice of three doors. Behind one door is a car. The player picks a door, say No. 1, and the host, who knows what's behind the doors, opens another door, say No. 3, which does not have the car. The host gives the player the opportunity to switch doors.  In this case since the player picked No. 1 and the host revealed the car is not behind door No. 3, the player can switch to door No. 2. The question is whether a strategy of staying with the original choice or switching doors is better. The answer is, counterintuitively to many, that a switching strategy is better -- two times out of three, the switching strategy leads to a win.\n",
        "\n",
        "We'll modify this game to have random inputs to the system that will behave as endogenous variables with prior distributions.  Specifically, we'll introduce two rolls of three-sided dice and a coin flip.\n",
        "\n",
        "We'll call the first die roll \"Car Door Die Roll\", it selects a door for placement of the car.  The player rolls the second die, a variable we'll call \"1st Choice Die Roll\", to select the player's first door selection.  Both dice rolls assign a 1/3 probability to each outcome.\n",
        "\n",
        "Next we have a coin flip, which will drive two outcomes.  Firstly, the host will use the outcome of the coin flip to select which door to open.  If the player selects the door with the car, when the host goes to reveal a carless door to the player, the host has two carless doors to choose from.  In this case, the host selects the right-most available door if he flips a heads, the left-most if he flips a tails.\n",
        "Similarly, we'll assume the player leaves their decision of whether to switch doors or to stay with the original choice up to the coin flip as well.  If the coin flips heads, they switch, otherwise they stay."
      ],
      "metadata": {
        "id": "rg0mr6GnUWTJ"
      }
    },
    {
      "cell_type": "code",
      "source": [
        "import networkx as nx\n",
        "from networkx.drawing.nx_agraph import write_dot\n",
        "from pgmpy.factors.discrete.CPD import TabularCPD\n",
        "from pgmpy.inference import VariableElimination\n",
        "from pgmpy.models import BayesianNetwork\n",
        "\n",
        "\n",
        "p_door_with_car = TabularCPD(    #A\n",
        "    variable='Car Door Die Roll',    #A\n",
        "    variable_card=3,    #A\n",
        "    values=[[1/3], [1/3], [1/3]],    #A\n",
        "    state_names={'Car Door Die Roll': ['1st', '2nd', '3rd']}    #A\n",
        ")    #A\n",
        "\n",
        "p_player_first_choice = TabularCPD(    #B\n",
        "    variable='1st Choice Die Roll',    #B\n",
        "    variable_card=3,    #B\n",
        "    values=[[1/3], [1/3], [1/3]],    #B\n",
        "    state_names={'1st Choice Die Roll': ['1st', '2nd', '3rd']}    #B\n",
        ")    #B\n",
        "\n",
        "p_coin_flip = TabularCPD(       #C\n",
        "    variable='Coin Flip',    #C\n",
        "    variable_card=2,    #C\n",
        "    values=[[.5], [.5]],    #C\n",
        "    state_names={'Coin Flip': ['tails', 'heads']}    #C\n",
        ")    #C\n",
        "\n",
        "#A Prior distribution on exogenous variable for the three-sided die roll that selects which door gets the car.\n",
        "#B Prior distribution on the exogenous variable for the three-sided die roll that selects the player's first choice of door.\n",
        "#C Prior distribution on the exogenous variable for the coin flip.  The host flips a coin. The coin flip impacts which door the host chooses to reveal as carless, and whether the player chooses a stay or switch strategy."
      ],
      "metadata": {
        "id": "HccOxMc8gtSJ"
      },
      "execution_count": 2,
      "outputs": []
    },
    {
      "cell_type": "code",
      "source": [
        "f_strategy = TabularCPD(    #A\n",
        "    variable='Strategy',    #A\n",
        "    variable_card=2,    #A\n",
        "    values=[[1, 0], [0, 1]],    #A\n",
        "    evidence=['Coin Flip'],    #A\n",
        "    evidence_card=[2],    #A\n",
        "    state_names={    #A\n",
        "        'Strategy': ['stay', 'switch'],    #A\n",
        "        'Coin Flip': ['tails', 'heads']}    #A\n",
        ")    #A\n",
        "\n",
        "f_host_door_selection = TabularCPD(    #B\n",
        "    variable='Host Door Selection',    #B\n",
        "    variable_card=3,    #B\n",
        "    values=[    #B\n",
        "        [0,0,0,0,1,1,0,1,1,0,0,0,0,0,1,0,1,0],    #B\n",
        "        [1,0,1,0,0,0,1,0,0,0,0,1,0,0,0,1,0,1],    #B\n",
        "        [0,1,0,1,0,0,0,0,0,1,1,0,1,1,0,0,0,0]    #B\n",
        "    ],    #B\n",
        "    evidence=['Coin Flip', 'Car Door Die Roll', '1st Choice Die Roll'],    #B\n",
        "    evidence_card=[2, 3, 3],    #B\n",
        "    state_names={    #B\n",
        "        'Host Door Selection':['1st', '2nd', '3rd'],    #B\n",
        "        'Coin Flip': ['tails', 'heads'],    #B\n",
        "        'Car Door Die Roll': ['1st', '2nd', '3rd'],    #B\n",
        "        '1st Choice Die Roll': ['1st', '2nd', '3rd']    #B\n",
        "    }    #B\n",
        ")    #B\n",
        "\n",
        "f_second_choice = TabularCPD(    #C\n",
        "    variable='2nd Choice',    #C\n",
        "    variable_card=3,    #C\n",
        "    values=[    #C\n",
        "        [1,0,0,1,0,0,1,0,0,0,0,0,0,0,1,0,1,0],    #C\n",
        "        [0,1,0,0,1,0,0,1,0,1,0,1,0,1,0,1,0,1],    #C\n",
        "        [0,0,1,0,0,1,0,0,1,0,1,0,1,0,0,0,0,0]    #C\n",
        "    ],    #C\n",
        "    evidence=['Strategy', 'Host Door Selection', '1st Choice Die Roll'],    #C\n",
        "    evidence_card=[2, 3, 3],    #C\n",
        "    state_names={    #C\n",
        "        '2nd Choice': ['1st', '2nd', '3rd'],    #C\n",
        "        'Strategy': ['stay', 'switch'],    #C\n",
        "        'Host Door Selection': ['1st', '2nd', '3rd'],    #C\n",
        "        '1st Choice Die Roll': ['1st', '2nd', '3rd']    #C\n",
        "    }    #C\n",
        ")    #C\n",
        "\n",
        "f_win_or_lose = TabularCPD(    #D\n",
        "    variable='Win or Lose',    #D\n",
        "    variable_card=2,    #D\n",
        "    values=[    #D\n",
        "        [1,0,0,0,1,0,0,0,1],    #D\n",
        "        [0,1,1,1,0,1,1,1,0],    #D\n",
        "    ],    #D\n",
        "    evidence=['2nd Choice', 'Car Door Die Roll'],    #D\n",
        "    evidence_card=[3, 3],    #D\n",
        "    state_names={    #D\n",
        "        'Win or Lose': ['win', 'lose'],    #D\n",
        "        '2nd Choice': ['1st', '2nd', '3rd'],    #D\n",
        "        'Car Door Die Roll': ['1st', '2nd', '3rd']    #D\n",
        "    }    #D\n",
        ")    #D\n",
        "#A If the outcome of the coin flip was a heads, the player switches doors from their initial selection. Otherwise, they stay.\n",
        "#B Host selects the door to reveal as carless based on the player's choice of door and the door with the car.  If those are the same door, the host has two doors to chose from.  If this case, if the coin fipped tails, the host chooses the left-most door, otherwise the right-most door.\n",
        "#C The player chooses which door to select in the second round based on the choice in the first round (outcome of 1st Choice Die Roll), the door opened by the host, and whether the player's coin flip told them to stay or switch doors from their initial selection.\n",
        "#D The player wins or loses based on their choice of door in the second round and the door with the car.\n"
      ],
      "metadata": {
        "id": "uMwRBO9r26Ye"
      },
      "execution_count": 3,
      "outputs": []
    },
    {
      "cell_type": "code",
      "source": [
        "exogenous_vars = [\"Car Door Die Roll\", \"Coin Flip\", \"1st Choice Die Roll\"]    #A\n",
        "endogenous_vars = [\"Host Door Selection\", \"Strategy\", \"2nd Choice\", \"Win or Lose\"]    #A\n",
        "\n",
        "actual_world_edges = [    #B\n",
        "    ('Coin Flip', 'Host Door Selection'),    #B\n",
        "    ('Coin Flip', 'Strategy'),    #B\n",
        "    ('Car Door Die Roll', 'Host Door Selection'),    #B\n",
        "    ('1st Choice Die Roll', 'Host Door Selection'),    #B\n",
        "    ('1st Choice Die Roll', '2nd Choice'),    #B\n",
        "    ('Host Door Selection', '2nd Choice'),    #B\n",
        "    ('Strategy', '2nd Choice'),    #B\n",
        "    ('2nd Choice', 'Win or Lose'),    #B\n",
        "    ('Car Door Die Roll', 'Win or Lose')    #B\n",
        "]    #B\n",
        "\n",
        "possible_world_edges = [    #C\n",
        "    (a + \" Hyp\" if a in endogenous_vars else a,    #C\n",
        "     b + \" Hyp\" if b in endogenous_vars else b)    #C\n",
        "    for a, b in actual_world_edges    #C\n",
        "]    #C\n",
        "\n",
        "twin_world_graph = BayesianNetwork(    #D\n",
        "    actual_world_edges +    #D\n",
        "    possible_world_edges    #D\n",
        ")    #D\n",
        "\n",
        "twin_world_graph.add_cpds(    #E\n",
        "    p_door_with_car,    #F\n",
        "    p_player_first_choice,    #F\n",
        "    p_coin_flip,    #F\n",
        "    f_strategy,    #G\n",
        "    f_host_door_selection,    #G\n",
        "    f_second_choice,    #G\n",
        "    f_win_or_lose,    #G\n",
        "    clone(f_strategy),    #H\n",
        "    clone(f_host_door_selection),    #H\n",
        "    clone(f_second_choice),    #H\n",
        "    clone(f_win_or_lose),    #H\n",
        ")\n",
        "\n",
        "plot_graph(twin_world_graph)\n",
        "\n",
        "#A Specify lists of the exogenous and endogenous variables in the causal DAG.\n",
        "#B Specify the edges of the SCM\n",
        "#C Clone the edges for the hypothetical world\n",
        "#D Create parallel world graph\n",
        "#E Plot the parallel world graph\n",
        "#F Add probability distributions on exogenous variables.\n",
        "#G Add assignment functions from the SCM\n",
        "#H Clone assignment functions"
      ],
      "metadata": {
        "id": "dTG4rjEEuhDo",
        "colab": {
          "base_uri": "https://localhost:8080/",
          "height": 368
        },
        "outputId": "92ecc9a5-764b-468d-cf67-ed3874f3db3c"
      },
      "execution_count": 4,
      "outputs": [
        {
          "output_type": "execute_result",
          "data": {
            "image/svg+xml": "<?xml version=\"1.0\" encoding=\"UTF-8\" standalone=\"no\"?>\n<!DOCTYPE svg PUBLIC \"-//W3C//DTD SVG 1.1//EN\"\n \"http://www.w3.org/Graphics/SVG/1.1/DTD/svg11.dtd\">\n<!-- Generated by graphviz version 2.43.0 (0)\n -->\n<!-- Pages: 1 -->\n<svg width=\"777pt\" height=\"260pt\"\n viewBox=\"0.00 0.00 776.99 260.00\" xmlns=\"http://www.w3.org/2000/svg\" xmlns:xlink=\"http://www.w3.org/1999/xlink\">\n<g id=\"graph0\" class=\"graph\" transform=\"scale(1 1) rotate(0) translate(4 256)\">\n<polygon fill=\"white\" stroke=\"transparent\" points=\"-4,4 -4,-256 772.99,-256 772.99,4 -4,4\"/>\n<!-- Coin Flip -->\n<g id=\"node1\" class=\"node\">\n<title>Coin Flip</title>\n<ellipse fill=\"none\" stroke=\"black\" cx=\"250.3\" cy=\"-234\" rx=\"44.39\" ry=\"18\"/>\n<text text-anchor=\"middle\" x=\"250.3\" y=\"-230.3\" font-family=\"Times,serif\" font-size=\"14.00\">Coin Flip</text>\n</g>\n<!-- Host Door Selection -->\n<g id=\"node2\" class=\"node\">\n<title>Host Door Selection</title>\n<ellipse fill=\"none\" stroke=\"black\" cx=\"315.3\" cy=\"-162\" rx=\"83.39\" ry=\"18\"/>\n<text text-anchor=\"middle\" x=\"315.3\" y=\"-158.3\" font-family=\"Times,serif\" font-size=\"14.00\">Host Door Selection</text>\n</g>\n<!-- Coin Flip&#45;&gt;Host Door Selection -->\n<g id=\"edge1\" class=\"edge\">\n<title>Coin Flip&#45;&gt;Host Door Selection</title>\n<path fill=\"none\" stroke=\"black\" d=\"M265.37,-216.76C273.42,-208.1 283.49,-197.25 292.48,-187.57\"/>\n<polygon fill=\"black\" stroke=\"black\" points=\"295.16,-189.83 299.4,-180.12 290.03,-185.07 295.16,-189.83\"/>\n</g>\n<!-- Strategy -->\n<g id=\"node3\" class=\"node\">\n<title>Strategy</title>\n<ellipse fill=\"none\" stroke=\"black\" cx=\"40.3\" cy=\"-162\" rx=\"40.09\" ry=\"18\"/>\n<text text-anchor=\"middle\" x=\"40.3\" y=\"-158.3\" font-family=\"Times,serif\" font-size=\"14.00\">Strategy</text>\n</g>\n<!-- Coin Flip&#45;&gt;Strategy -->\n<g id=\"edge2\" class=\"edge\">\n<title>Coin Flip&#45;&gt;Strategy</title>\n<path fill=\"none\" stroke=\"black\" d=\"M216.63,-222.09C184.02,-211.48 133.2,-194.84 89.3,-180 86.54,-179.07 83.69,-178.1 80.83,-177.12\"/>\n<polygon fill=\"black\" stroke=\"black\" points=\"81.71,-173.72 71.11,-173.78 79.43,-180.34 81.71,-173.72\"/>\n</g>\n<!-- Host Door Selection Hyp -->\n<g id=\"node4\" class=\"node\">\n<title>Host Door Selection Hyp</title>\n<ellipse fill=\"none\" stroke=\"black\" cx=\"555.3\" cy=\"-162\" rx=\"100.98\" ry=\"18\"/>\n<text text-anchor=\"middle\" x=\"555.3\" y=\"-158.3\" font-family=\"Times,serif\" font-size=\"14.00\">Host Door Selection Hyp</text>\n</g>\n<!-- Coin Flip&#45;&gt;Host Door Selection Hyp -->\n<g id=\"edge3\" class=\"edge\">\n<title>Coin Flip&#45;&gt;Host Door Selection Hyp</title>\n<path fill=\"none\" stroke=\"black\" d=\"M288,-224.35C337.29,-213.03 424.57,-193 485.95,-178.91\"/>\n<polygon fill=\"black\" stroke=\"black\" points=\"486.99,-182.27 495.95,-176.62 485.42,-175.45 486.99,-182.27\"/>\n</g>\n<!-- Strategy Hyp -->\n<g id=\"node5\" class=\"node\">\n<title>Strategy Hyp</title>\n<ellipse fill=\"none\" stroke=\"black\" cx=\"156.3\" cy=\"-162\" rx=\"57.69\" ry=\"18\"/>\n<text text-anchor=\"middle\" x=\"156.3\" y=\"-158.3\" font-family=\"Times,serif\" font-size=\"14.00\">Strategy Hyp</text>\n</g>\n<!-- Coin Flip&#45;&gt;Strategy Hyp -->\n<g id=\"edge4\" class=\"edge\">\n<title>Coin Flip&#45;&gt;Strategy Hyp</title>\n<path fill=\"none\" stroke=\"black\" d=\"M229.9,-217.81C216.99,-208.2 200.09,-195.61 185.74,-184.92\"/>\n<polygon fill=\"black\" stroke=\"black\" points=\"187.74,-182.05 177.63,-178.89 183.56,-187.67 187.74,-182.05\"/>\n</g>\n<!-- 2nd Choice -->\n<g id=\"node6\" class=\"node\">\n<title>2nd Choice</title>\n<ellipse fill=\"none\" stroke=\"black\" cx=\"396.3\" cy=\"-90\" rx=\"51.19\" ry=\"18\"/>\n<text text-anchor=\"middle\" x=\"396.3\" y=\"-86.3\" font-family=\"Times,serif\" font-size=\"14.00\">2nd Choice</text>\n</g>\n<!-- Host Door Selection&#45;&gt;2nd Choice -->\n<g id=\"edge5\" class=\"edge\">\n<title>Host Door Selection&#45;&gt;2nd Choice</title>\n<path fill=\"none\" stroke=\"black\" d=\"M334.49,-144.41C345.14,-135.21 358.52,-123.64 370.11,-113.63\"/>\n<polygon fill=\"black\" stroke=\"black\" points=\"372.52,-116.17 377.8,-106.99 367.94,-110.88 372.52,-116.17\"/>\n</g>\n<!-- Strategy&#45;&gt;2nd Choice -->\n<g id=\"edge6\" class=\"edge\">\n<title>Strategy&#45;&gt;2nd Choice</title>\n<path fill=\"none\" stroke=\"black\" d=\"M70.12,-149.79C76.4,-147.67 83.02,-145.62 89.3,-144 174.88,-121.92 276.28,-106.44 338.45,-98.12\"/>\n<polygon fill=\"black\" stroke=\"black\" points=\"339,-101.58 348.45,-96.8 338.08,-94.64 339,-101.58\"/>\n</g>\n<!-- 2nd Choice Hyp -->\n<g id=\"node11\" class=\"node\">\n<title>2nd Choice Hyp</title>\n<ellipse fill=\"none\" stroke=\"black\" cx=\"585.3\" cy=\"-90\" rx=\"68.79\" ry=\"18\"/>\n<text text-anchor=\"middle\" x=\"585.3\" y=\"-86.3\" font-family=\"Times,serif\" font-size=\"14.00\">2nd Choice Hyp</text>\n</g>\n<!-- Host Door Selection Hyp&#45;&gt;2nd Choice Hyp -->\n<g id=\"edge16\" class=\"edge\">\n<title>Host Door Selection Hyp&#45;&gt;2nd Choice Hyp</title>\n<path fill=\"none\" stroke=\"black\" d=\"M562.71,-143.7C566.09,-135.81 570.17,-126.3 573.92,-117.55\"/>\n<polygon fill=\"black\" stroke=\"black\" points=\"577.24,-118.67 577.97,-108.1 570.81,-115.92 577.24,-118.67\"/>\n</g>\n<!-- Strategy Hyp&#45;&gt;2nd Choice Hyp -->\n<g id=\"edge17\" class=\"edge\">\n<title>Strategy Hyp&#45;&gt;2nd Choice Hyp</title>\n<path fill=\"none\" stroke=\"black\" d=\"M198.68,-149.54C206.82,-147.54 215.29,-145.6 223.3,-144 277.73,-133.14 426.55,-112.41 515.52,-100.34\"/>\n<polygon fill=\"black\" stroke=\"black\" points=\"516.09,-103.8 525.53,-98.99 515.15,-96.86 516.09,-103.8\"/>\n</g>\n<!-- Win or Lose -->\n<g id=\"node8\" class=\"node\">\n<title>Win or Lose</title>\n<ellipse fill=\"none\" stroke=\"black\" cx=\"494.3\" cy=\"-18\" rx=\"55.49\" ry=\"18\"/>\n<text text-anchor=\"middle\" x=\"494.3\" y=\"-14.3\" font-family=\"Times,serif\" font-size=\"14.00\">Win or Lose</text>\n</g>\n<!-- 2nd Choice&#45;&gt;Win or Lose -->\n<g id=\"edge15\" class=\"edge\">\n<title>2nd Choice&#45;&gt;Win or Lose</title>\n<path fill=\"none\" stroke=\"black\" d=\"M418.05,-73.46C431.53,-63.84 449.04,-51.32 463.89,-40.72\"/>\n<polygon fill=\"black\" stroke=\"black\" points=\"466.17,-43.39 472.27,-34.73 462.1,-37.7 466.17,-43.39\"/>\n</g>\n<!-- Car Door Die Roll -->\n<g id=\"node7\" class=\"node\">\n<title>Car Door Die Roll</title>\n<ellipse fill=\"none\" stroke=\"black\" cx=\"692.3\" cy=\"-234\" rx=\"76.89\" ry=\"18\"/>\n<text text-anchor=\"middle\" x=\"692.3\" y=\"-230.3\" font-family=\"Times,serif\" font-size=\"14.00\">Car Door Die Roll</text>\n</g>\n<!-- Car Door Die Roll&#45;&gt;Host Door Selection -->\n<g id=\"edge7\" class=\"edge\">\n<title>Car Door Die Roll&#45;&gt;Host Door Selection</title>\n<path fill=\"none\" stroke=\"black\" d=\"M634.22,-222.22C567.44,-209.82 457.84,-189.47 386.12,-176.15\"/>\n<polygon fill=\"black\" stroke=\"black\" points=\"386.73,-172.7 376.26,-174.32 385.45,-179.59 386.73,-172.7\"/>\n</g>\n<!-- Car Door Die Roll&#45;&gt;Host Door Selection Hyp -->\n<g id=\"edge9\" class=\"edge\">\n<title>Car Door Die Roll&#45;&gt;Host Door Selection Hyp</title>\n<path fill=\"none\" stroke=\"black\" d=\"M661.89,-217.46C642.53,-207.57 617.21,-194.63 596.1,-183.85\"/>\n<polygon fill=\"black\" stroke=\"black\" points=\"597.54,-180.65 587.04,-179.22 594.36,-186.89 597.54,-180.65\"/>\n</g>\n<!-- Car Door Die Roll&#45;&gt;Win or Lose -->\n<g id=\"edge8\" class=\"edge\">\n<title>Car Door Die Roll&#45;&gt;Win or Lose</title>\n<path fill=\"none\" stroke=\"black\" d=\"M694.74,-216C698.4,-183.39 701.25,-111.74 663.3,-72 636.04,-43.46 593.64,-30.22 558.13,-24.11\"/>\n<polygon fill=\"black\" stroke=\"black\" points=\"558.26,-20.58 547.84,-22.5 557.18,-27.5 558.26,-20.58\"/>\n</g>\n<!-- Win or Lose Hyp -->\n<g id=\"node9\" class=\"node\">\n<title>Win or Lose Hyp</title>\n<ellipse fill=\"none\" stroke=\"black\" cx=\"689.3\" cy=\"-18\" rx=\"72.59\" ry=\"18\"/>\n<text text-anchor=\"middle\" x=\"689.3\" y=\"-14.3\" font-family=\"Times,serif\" font-size=\"14.00\">Win or Lose Hyp</text>\n</g>\n<!-- Car Door Die Roll&#45;&gt;Win or Lose Hyp -->\n<g id=\"edge10\" class=\"edge\">\n<title>Car Door Die Roll&#45;&gt;Win or Lose Hyp</title>\n<path fill=\"none\" stroke=\"black\" d=\"M711.31,-216.38C720.78,-206.82 731.26,-193.95 736.3,-180 752.59,-134.85 753.33,-116.88 736.3,-72 732.15,-61.08 724.62,-50.98 716.78,-42.58\"/>\n<polygon fill=\"black\" stroke=\"black\" points=\"719.12,-39.97 709.58,-35.37 714.17,-44.92 719.12,-39.97\"/>\n</g>\n<!-- 1st Choice Die Roll -->\n<g id=\"node10\" class=\"node\">\n<title>1st Choice Die Roll</title>\n<ellipse fill=\"none\" stroke=\"black\" cx=\"456.3\" cy=\"-234\" rx=\"81.49\" ry=\"18\"/>\n<text text-anchor=\"middle\" x=\"456.3\" y=\"-230.3\" font-family=\"Times,serif\" font-size=\"14.00\">1st Choice Die Roll</text>\n</g>\n<!-- 1st Choice Die Roll&#45;&gt;Host Door Selection -->\n<g id=\"edge11\" class=\"edge\">\n<title>1st Choice Die Roll&#45;&gt;Host Door Selection</title>\n<path fill=\"none\" stroke=\"black\" d=\"M424.65,-217.29C404.33,-207.2 377.75,-194.01 355.89,-183.15\"/>\n<polygon fill=\"black\" stroke=\"black\" points=\"357.35,-179.97 346.83,-178.66 354.23,-186.24 357.35,-179.97\"/>\n</g>\n<!-- 1st Choice Die Roll&#45;&gt;Host Door Selection Hyp -->\n<g id=\"edge13\" class=\"edge\">\n<title>1st Choice Die Roll&#45;&gt;Host Door Selection Hyp</title>\n<path fill=\"none\" stroke=\"black\" d=\"M479.51,-216.59C492.57,-207.35 509.07,-195.68 523.34,-185.59\"/>\n<polygon fill=\"black\" stroke=\"black\" points=\"525.74,-188.18 531.89,-179.55 521.7,-182.47 525.74,-188.18\"/>\n</g>\n<!-- 1st Choice Die Roll&#45;&gt;2nd Choice -->\n<g id=\"edge12\" class=\"edge\">\n<title>1st Choice Die Roll&#45;&gt;2nd Choice</title>\n<path fill=\"none\" stroke=\"black\" d=\"M449.06,-215.87C438.74,-191.46 419.72,-146.43 407.55,-117.64\"/>\n<polygon fill=\"black\" stroke=\"black\" points=\"410.68,-116.04 403.56,-108.19 404.23,-118.76 410.68,-116.04\"/>\n</g>\n<!-- 1st Choice Die Roll&#45;&gt;2nd Choice Hyp -->\n<g id=\"edge14\" class=\"edge\">\n<title>1st Choice Die Roll&#45;&gt;2nd Choice Hyp</title>\n<path fill=\"none\" stroke=\"black\" d=\"M525.79,-224.58C579.72,-216.45 648.11,-202.08 665.3,-180 675.12,-167.37 672.87,-158.1 665.3,-144 657.67,-129.79 644.37,-118.75 630.78,-110.51\"/>\n<polygon fill=\"black\" stroke=\"black\" points=\"632.3,-107.35 621.87,-105.5 628.87,-113.45 632.3,-107.35\"/>\n</g>\n<!-- 2nd Choice Hyp&#45;&gt;Win or Lose Hyp -->\n<g id=\"edge18\" class=\"edge\">\n<title>2nd Choice Hyp&#45;&gt;Win or Lose Hyp</title>\n<path fill=\"none\" stroke=\"black\" d=\"M609.16,-72.94C623.19,-63.49 641.14,-51.41 656.5,-41.08\"/>\n<polygon fill=\"black\" stroke=\"black\" points=\"658.85,-43.71 665.19,-35.23 654.94,-37.91 658.85,-43.71\"/>\n</g>\n</g>\n</svg>\n",
            "text/plain": [
              "<graphviz.sources.Source at 0x7b050a3543a0>"
            ]
          },
          "metadata": {},
          "execution_count": 4
        }
      ]
    },
    {
      "cell_type": "markdown",
      "source": [
        "This creates are SCM, which we can use to generate samples."
      ],
      "metadata": {
        "id": "dwGK1vPVto2R"
      }
    },
    {
      "cell_type": "markdown",
      "source": [
        "As a sanity check, we confirm the result that the probability of winning is 2/3 if the player uses the switch strategy.\n"
      ],
      "metadata": {
        "id": "H2xJfbYYvm-t"
      }
    },
    {
      "cell_type": "code",
      "source": [
        "infer = VariableElimination(twin_world_graph)\n",
        "\n",
        "strategy_outcome = infer.query(\n",
        "    ['Win or Lose'],\n",
        "    evidence={\"Strategy\": \"switch\"}\n",
        ")\n",
        "print(strategy_outcome)\n"
      ],
      "metadata": {
        "colab": {
          "base_uri": "https://localhost:8080/"
        },
        "id": "wmj11A6Qvsyt",
        "outputId": "bca55fb6-9fcc-4e60-ef4a-62f89fb9150d"
      },
      "execution_count": 5,
      "outputs": [
        {
          "output_type": "stream",
          "name": "stdout",
          "text": [
            "+-------------------+--------------------+\n",
            "| Win or Lose       |   phi(Win or Lose) |\n",
            "+===================+====================+\n",
            "| Win or Lose(win)  |             0.6667 |\n",
            "+-------------------+--------------------+\n",
            "| Win or Lose(lose) |             0.3333 |\n",
            "+-------------------+--------------------+\n"
          ]
        }
      ]
    },
    {
      "cell_type": "markdown",
      "source": [
        "Now, we explore how to run the counterfactual inference algorithm using this SCM.  Firstly, we need to apply an ideal intervention to implement the hypothetical condition of using the \"switch\" strategy.  The \"do\"-method of the BayesianNetwork object applies graph surgery.  To implement a full ideal intervention, we need to augment the method so that it additionally modifies the distribution to put all the probability on the intervention value."
      ],
      "metadata": {
        "id": "sB3bpvQv5nNG"
      }
    },
    {
      "cell_type": "markdown",
      "source": [
        "We'll explore two counterfactual questions:\n",
        "\n",
        "\n",
        "\n",
        "1.   For a player who stayed with their first door and lost, what is the probability that they would have won if they switched doors?\n",
        "2.   For a player who lost, what is the probability they would have won if they switched doors?\n",
        "\n",
        "In the *abduction step* of the counterfactual inference algorithm, we infer the exogenous variables given the actual conditions.  Let's confirm that we can infer"
      ],
      "metadata": {
        "id": "vyaZAOfZ8acD"
      }
    },
    {
      "cell_type": "markdown",
      "source": [
        "However, with the variable elimination inference algorithm, we need not do infer the exogenous variables directly.  Rather, we can implement a parallel world graph directly.  Then, when we condition on actual variables, the variable elimination algorithm will \"eliminate\" (meaning \"sum over\") all the exogenous variables (and any other latent variables) as it calculates the probabilities of outcomes for the hypothetical outcomes of interest.\n",
        "\n",
        "Let's start by creating assignment functions for variables in the hypothetical world.  These will be the same as the original assignment functions, except we'll modify the names with \"Hyp\" to index the hypothetical world."
      ],
      "metadata": {
        "id": "_x_DULVL87VJ"
      }
    },
    {
      "cell_type": "markdown",
      "source": [
        "Finally, we use inference to answer the counterfactual questions.  Again, we use variable elimination as our choice of inference algorithm.\n",
        "\n"
      ],
      "metadata": {
        "id": "VnHLutJ5BWYd"
      }
    },
    {
      "cell_type": "code",
      "source": [
        "infer = VariableElimination(twin_world_graph)    #A\n",
        "\n",
        "cf_dist1 = infer.query(    #B\n",
        "    ['Win or Lose Hyp'],    #B\n",
        "    evidence={'Strategy': 'stay', 'Win or Lose': 'lose'}    #B\n",
        ")    #B\n",
        "print(cf_dist1)\n",
        "\n",
        "cf_dist2 = infer.query(    #C\n",
        "    ['Win or Lose Hyp'],    #C\n",
        "    evidence={'Win or Lose': 'lose'}    #C\n",
        ")    #C\n",
        "print(cf_dist2)\n",
        "\n",
        "#A We apply variable elimination as our inference algorithm on the parallel world graph.\n",
        "#B The inference query that answers \"For a player who used the \"stay\" strategy and lost, would they have won if they used the \"switch\" strategy.  Conditional on Strategy == stay and 'Win or Lose' == lose, we infer the probability distribution of 'Win or Lose Hyp' on the parallel world graph.\n",
        "#C The inference query that answers \"For a player who lost, would they have won if they used the \"switch\" strategy.  Conditional on 'Win or Lose' == lose, we infer the probability distribution of 'Win or Lose Hyp' on the parallel world graph."
      ],
      "metadata": {
        "id": "BgzocHMclW-r",
        "colab": {
          "base_uri": "https://localhost:8080/"
        },
        "outputId": "37961471-eef3-4a4c-a562-1eb7eb7c220d"
      },
      "execution_count": 6,
      "outputs": [
        {
          "output_type": "stream",
          "name": "stdout",
          "text": [
            "+-----------------------+------------------------+\n",
            "| Win or Lose Hyp       |   phi(Win or Lose Hyp) |\n",
            "+=======================+========================+\n",
            "| Win or Lose Hyp(win)  |                 0.0000 |\n",
            "+-----------------------+------------------------+\n",
            "| Win or Lose Hyp(lose) |                 1.0000 |\n",
            "+-----------------------+------------------------+\n",
            "+-----------------------+------------------------+\n",
            "| Win or Lose Hyp       |   phi(Win or Lose Hyp) |\n",
            "+=======================+========================+\n",
            "| Win or Lose Hyp(win)  |                 0.0000 |\n",
            "+-----------------------+------------------------+\n",
            "| Win or Lose Hyp(lose) |                 1.0000 |\n",
            "+-----------------------+------------------------+\n"
          ]
        }
      ]
    },
    {
      "cell_type": "markdown",
      "source": [
        "We can validate these answers with a bit of simple reasoning.\n",
        "\n",
        "The answer to the first question is perhaps obvious.  If the player lost on a \"stay\" strategy, then the their first choice did not have the car.  Then one of the other two doors must have had the car.  Of those two, the host would have had to open the one without the car.  The remain door has the car, and that is the only door the player can switch to on a switch strategy.  So, conditional on having lost with a stay strategy, the chances they would have won with a switch strategy are 100%.\n",
        "\n",
        "The answer to the second question extends from the first.  If we know a player lost but didn't know which strategy they used, then there is a 2/3 chance it was a stay strategy.  As we saw from the first question, in this case flipping to a \"switch\" has 100% chance of winning.  There is a 1/3 chance it was a switch strategy, in which case, by the consistency rule, there is 100% chance of losing."
      ],
      "metadata": {
        "id": "VsS3eXu6GLz2"
      }
    },
    {
      "cell_type": "code",
      "source": [
        "!pip install pyro-ppl"
      ],
      "metadata": {
        "id": "AFF9m_3Tsgcx",
        "colab": {
          "base_uri": "https://localhost:8080/"
        },
        "outputId": "4dab5661-a592-4b44-d45c-5821b70152f5"
      },
      "execution_count": 7,
      "outputs": [
        {
          "output_type": "stream",
          "name": "stdout",
          "text": [
            "Collecting pyro-ppl\n",
            "  Downloading pyro_ppl-1.8.6-py3-none-any.whl (732 kB)\n",
            "\u001b[2K     \u001b[90m━━━━━━━━━━━━━━━━━━━━━━━━━━━━━━━━━━━━━━━━\u001b[0m \u001b[32m732.8/732.8 kB\u001b[0m \u001b[31m6.5 MB/s\u001b[0m eta \u001b[36m0:00:00\u001b[0m\n",
            "\u001b[?25hRequirement already satisfied: numpy>=1.7 in /usr/local/lib/python3.10/dist-packages (from pyro-ppl) (1.23.5)\n",
            "Requirement already satisfied: opt-einsum>=2.3.2 in /usr/local/lib/python3.10/dist-packages (from pyro-ppl) (3.3.0)\n",
            "Collecting pyro-api>=0.1.1 (from pyro-ppl)\n",
            "  Downloading pyro_api-0.1.2-py3-none-any.whl (11 kB)\n",
            "Requirement already satisfied: torch>=1.11.0 in /usr/local/lib/python3.10/dist-packages (from pyro-ppl) (2.1.0+cu118)\n",
            "Requirement already satisfied: tqdm>=4.36 in /usr/local/lib/python3.10/dist-packages (from pyro-ppl) (4.66.1)\n",
            "Requirement already satisfied: filelock in /usr/local/lib/python3.10/dist-packages (from torch>=1.11.0->pyro-ppl) (3.12.4)\n",
            "Requirement already satisfied: typing-extensions in /usr/local/lib/python3.10/dist-packages (from torch>=1.11.0->pyro-ppl) (4.5.0)\n",
            "Requirement already satisfied: sympy in /usr/local/lib/python3.10/dist-packages (from torch>=1.11.0->pyro-ppl) (1.12)\n",
            "Requirement already satisfied: networkx in /usr/local/lib/python3.10/dist-packages (from torch>=1.11.0->pyro-ppl) (3.1)\n",
            "Requirement already satisfied: jinja2 in /usr/local/lib/python3.10/dist-packages (from torch>=1.11.0->pyro-ppl) (3.1.2)\n",
            "Requirement already satisfied: fsspec in /usr/local/lib/python3.10/dist-packages (from torch>=1.11.0->pyro-ppl) (2023.6.0)\n",
            "Requirement already satisfied: triton==2.1.0 in /usr/local/lib/python3.10/dist-packages (from torch>=1.11.0->pyro-ppl) (2.1.0)\n",
            "Requirement already satisfied: MarkupSafe>=2.0 in /usr/local/lib/python3.10/dist-packages (from jinja2->torch>=1.11.0->pyro-ppl) (2.1.3)\n",
            "Requirement already satisfied: mpmath>=0.19 in /usr/local/lib/python3.10/dist-packages (from sympy->torch>=1.11.0->pyro-ppl) (1.3.0)\n",
            "Installing collected packages: pyro-api, pyro-ppl\n",
            "Successfully installed pyro-api-0.1.2 pyro-ppl-1.8.6\n"
          ]
        }
      ]
    },
    {
      "cell_type": "markdown",
      "source": [
        "Recall the forensic SCM relating femur length to human height.  Here, we modify the model by adding for biological sex, which drives both femur length and height.\n",
        "\n",
        "![forensic DAG](https://i.imgur.com/RTxf20m.png)"
      ],
      "metadata": {
        "id": "88VJ2A_3UGYb"
      }
    },
    {
      "cell_type": "code",
      "source": [
        "#!pip install pyro-ppl\n",
        "import matplotlib.pyplot as plt\n",
        "from torch import tensor\n",
        "import torch.distributions.constraints as constraints\n",
        "\n",
        "import pyro\n",
        "from pyro.distributions import Bernoulli, Delta, Normal\n",
        "from pyro.infer import SVI, Trace_ELBO\n",
        "from pyro import sample\n",
        "from pyro.optim import Adam\n",
        "from pyro.primitives import param\n",
        "\n",
        "from functools import partial    #A\n",
        "PseudoDelta = partial(Normal, scale=.01)    #A\n",
        "\n",
        "def f_sex(N_sex):    #B\n",
        "    return sample(\"sex\", Bernoulli(N_sex))    #B\n",
        "\n",
        "def f_femur(sex, N_femur):    #C\n",
        "    if sex == tensor(1.0):    #C\n",
        "        μ = 43.7 + 2.3 * N_femur    #C\n",
        "    else:    #C\n",
        "        μ = 40.238 + 1.9 * N_femur    #C\n",
        "    return sample(\"femur\", PseudoDelta(μ))    #C\n",
        "\n",
        "def f_height(femur, sex, N_height):    #D\n",
        "    if sex == tensor(1.0):    #D\n",
        "        μ = 61.41 + 2.21 * femur + 7.62 * N_height    #D\n",
        "    else:    #D\n",
        "        μ = 54.1 + 2.47 * femur + 7 * N_height    #D\n",
        "    return sample(\"height\", PseudoDelta(μ))    #D\n",
        "\n",
        "def model(exogenous):\n",
        "    N_sex = sample(\"N_sex\", exogenous['N_sex'])    #E\n",
        "    N_femur = sample(\"N_femur\", exogenous['N_femur'])    #E\n",
        "    N_height = sample(\"N_height\", exogenous['N_height'])    #E\n",
        "\n",
        "    sex = f_sex(N_sex)    #F\n",
        "    femur = f_femur(sex, N_femur)    #F\n",
        "    height = f_height(femur, sex, N_height)    #F\n",
        "    return sex, femur, height\n",
        "\n",
        "exogenous = {    #G\n",
        "    'N_sex': Bernoulli(.5),    #G\n",
        "    'N_femur': Normal(0., 1.),    #G\n",
        "    'N_height': Normal(0., 1.),    #G\n",
        "}    #G\n",
        "\n",
        "#A Endogenous variables are deterministic functions of the exogenous variables. But for variational inference to work, we need to assign the endogenous variables a distribution using pyro.sample. We could use the Dirac delta distribution, which would assign all probability value to the output of a variable's assignment function. But gradient-based optimization won't work in this case. So instead, we do approximate inference with a \"pseudo-delta\" distribution, which is a Normal distribution with a very small scale parameter.\n",
        "#B The assignment function for biological sex.\n",
        "#C The assignment function for femur length in cm. Assignment is comprised of two linear functions, one for each sex.\n",
        "#D  The assignment function for height.  Again, it is comprised of two linear functions, one for each sex.\n",
        "#E Sample from the exogenous variable prior distributions.\n",
        "#F Obtain the endogenous variables given the exogenous variables.\n",
        "#G Specify the prior distributions for the exogenous variables."
      ],
      "metadata": {
        "id": "dpmFjxzzsB6h"
      },
      "execution_count": 8,
      "outputs": []
    },
    {
      "cell_type": "markdown",
      "source": [
        "Now, let's pose the conditional hypothetical \"what would height be if femur length was 46cm?\"\n",
        "\n",
        "![int_dag](https://i.imgur.com/5zG2fTn.png)"
      ],
      "metadata": {
        "id": "BEI5lk9oTjVB"
      }
    },
    {
      "cell_type": "code",
      "source": [
        "int_model = pyro.do(model, data={\"femur\": tensor(46.0)})    #A\n",
        "\n",
        "int_samples = []    #B\n",
        "for _ in range(10000):    #B\n",
        "    _, _, int_height = int_model(exogenous)    #B\n",
        "    int_samples.append(float(int_height))    #B\n",
        "\n",
        "plt.hist(    #C\n",
        "    int_samples,    #C\n",
        "    bins=20,    #C\n",
        "    alpha=0.5,    #C\n",
        "    label=\"Intervention Samples\",    #C\n",
        "    density=True    #C\n",
        ")\n",
        "plt.ylim(0., .35)    #C\n",
        "plt.legend()    #C\n",
        "plt.xlabel(\"Height\")    #C\n",
        "plt.show()    #C\n",
        "\n",
        "#A Implement the hypothetical condition \"...if femur length were 46cm\" with pyro.do, which returns a new model that implements the intervention.\n",
        "#B Sample from the intervention distribution.\n",
        "#C Visualize the intervention distribution with a histogram of samples."
      ],
      "metadata": {
        "colab": {
          "base_uri": "https://localhost:8080/",
          "height": 455
        },
        "id": "Wmtbqf_bAElZ",
        "outputId": "b463416b-fcaf-48af-943d-1cbafab62e32"
      },
      "execution_count": 9,
      "outputs": [
        {
          "output_type": "display_data",
          "data": {
            "text/plain": [
              "<Figure size 640x480 with 1 Axes>"
            ],
            "image/png": "[encoded data removed]"
          },
          "metadata": {}
        }
      ]
    },
    {
      "cell_type": "markdown",
      "source": [
        "We compare this to the counterfactual \"An individual's femur is 44cm and their height is 165cm.  What would the height be if femur length was 46cm?\"\n",
        "\n",
        "![cf distribution](https://i.imgur.com/5KaSxnw.png)"
      ],
      "metadata": {
        "id": "ejVdSm7BvTUr"
      }
    },
    {
      "cell_type": "code",
      "source": [
        "conditioned_model = pyro.condition(    #A\n",
        "    model,    #A\n",
        "    data={\"femur\": tensor(44.0), \"height\": tensor(165.0)}    #A\n",
        ")    #A\n",
        "\n",
        "def guide(exogenous):    #B\n",
        "    p = param(\"p\", tensor(.5), constraint=constraints.unit_interval)    #C\n",
        "    n_sex = sample(\"N_sex\", Bernoulli(p))    #C\n",
        "    sex = sample(\"sex\", Bernoulli(n_sex))    #D\n",
        "    n_femur_loc = param(\"n_femur_loc\", tensor(0.0))    #E\n",
        "    n_femur_scale = param(    #E\n",
        "        \"n_femur_scale\",    #E\n",
        "        tensor(1.0),    #E\n",
        "        constraint=constraints.positive    #E\n",
        "    )    #E\n",
        "    n_femur = sample(\"N_femur\", Normal(n_femur_loc, n_femur_scale))    #F\n",
        "    n_height_loc = param(\"n_height_loc\", tensor(0.0))    #F\n",
        "    n_height_scale = param(    #F\n",
        "        \"n_height_scale\",    #F\n",
        "        tensor(1.0),    #F\n",
        "        constraint=constraints.positive    #F\n",
        "    )    #F\n",
        "    n_height = sample(\"N_height\", Normal(n_height_loc, n_height_scale))    #F\n",
        "    femur = sample(\"femur\", Delta(n_femur))    #G\n",
        "    height = sample(\"height\", Delta(n_height))    #G\n",
        "\n",
        "pyro.util.set_rng_seed(123)    #H\n",
        "pyro.clear_param_store()    #I\n",
        "svi = SVI(    #J\n",
        "          model=conditioned_model,\n",
        "          guide=guide,\n",
        "          optim=Adam({\"lr\": 0.003}),    #K\n",
        "          loss=Trace_ELBO()    #L\n",
        ")\n",
        "\n",
        "losses = []    #M\n",
        "num_steps = 5000    #N\n",
        "for t in range(num_steps):    #N\n",
        "    losses.append(svi.step(exogenous))    #N\n",
        "\n",
        "plt.plot(losses)    #O\n",
        "plt.title(\"Loss During Training\")    #O\n",
        "plt.xlabel(\"step\")    #O\n",
        "plt.ylabel(\"loss\")    #O\n",
        "\n",
        "n_sex_p = param(\"p\").item()    #P\n",
        "n_femur_loc = param(\"n_femur_loc\").item()    #P\n",
        "n_femur_scale = param(\"n_femur_scale\").item()    #P\n",
        "n_height_loc = param(\"n_height_loc\").item()    #P\n",
        "n_height_scale = param(\"n_height_scale\").item()    #P\n",
        "\n",
        "exogenous_posterior = {    #Q\n",
        "    'N_sex': Bernoulli(n_sex_p),    #Q\n",
        "    'N_femur': Normal(n_femur_loc, n_femur_scale),    #Q\n",
        "    'N_height': Normal(n_height_loc, n_height_scale),    #Q\n",
        "}    #Q\n",
        "\n",
        "#A Condition on actual world outcomes of a 58cm femur and 160cm height.\n",
        "#B The exogenous prior distribution is passed to the guide function. The function won't use this argument, but the signatures of the guide and the model functions must match.\n",
        "#C The guide function tries to approximate P(N_sex|femur, height) from a Bernoulli distribution.  Optimization targets the parameter of this Bernoulli distribution.\n",
        "#D n_sex is either 0 or 1. When passed as a parameter to a Bernoulli, the outcome is deterministic.\n",
        "#E The guide function tries to approximate P(N_femur|femur, height) from a Normal distribution.  Optimization targets the location and scale parameters of this Normal distribution.\n",
        "#F The guide function tries to approximate P(N_height|femur, height) also from a Normal distribution.\n",
        "#G Since we condition on femur and height, they are not needed in the guide function. But it is useful to have them in case we want to condition on different outcomes.\n",
        "#H Set seed for reproducibility\n",
        "#I Clear any current parameter values\n",
        "#J Initialize the stochastic variational inference algorithm.\n",
        "#K Optimize the parameters with a learning rate of .003.\n",
        "#L Use evidence lower bound (ELBO) as the loss function.\n",
        "#M Initialize a list to store loss values for plotting.\n",
        "#N Run the optimization for 5000 steps.\n",
        "#O Plot the loss during training.\n",
        "#P Extract the parameter values.\n",
        "#Q Do the abduction step by using the optimized parameters to create a new exogenous variable distributions."
      ],
      "metadata": {
        "colab": {
          "base_uri": "https://localhost:8080/"
        },
        "id": "PgTgW78HKEX-",
        "outputId": "d848a828-098f-41fd-d844-f89b24c9a6f4"
      },
      "execution_count": null,
      "outputs": [
        {
          "output_type": "stream",
          "name": "stderr",
          "text": [
            "/usr/local/lib/python3.10/dist-packages/pyro/util.py:288: UserWarning: Found non-auxiliary vars in guide but not model, consider marking these infer={'is_auxiliary': True}:\n",
            "{'femur', 'height'}\n",
            "  warnings.warn(\n",
            "/usr/local/lib/python3.10/dist-packages/pyro/util.py:288: UserWarning: Found non-auxiliary vars in guide but not model, consider marking these infer={'is_auxiliary': True}:\n",
            "{'femur', 'height'}\n",
            "  warnings.warn(\n"
          ]
        }
      ]
    },
    {
      "cell_type": "markdown",
      "source": [
        "Finally, I forward simulate from the counterfactual distribution by passing the exogenous distributions into the intervened-upon model.\n",
        "\n",
        "![parallel world graph](https://i.imgur.com/5KaSxnw.png)"
      ],
      "metadata": {
        "id": "7NhfVAXz1aa1"
      }
    },
    {
      "cell_type": "code",
      "source": [
        "cf_samples = []    #A\n",
        "for _ in range(10000):    #A\n",
        "    _, _, cf_height = int_model(exogenous_posterior)    #A\n",
        "    cf_samples.append(float(cf_height))    #A\n",
        "\n",
        "plt.hist(    #B\n",
        "    int_samples,    #B\n",
        "    bins=20,    #B\n",
        "    alpha=0.5,    #B\n",
        "    label=\"Intervention Samples\",    #B\n",
        "    density=True    #B\n",
        ")\n",
        "plt.hist(    #B\n",
        "    cf_samples,    #B\n",
        "    bins=20,    #B\n",
        "    alpha=0.5,    #B\n",
        "    label=\"Counterfactual Samples\",    #B\n",
        "    density=True    #B\n",
        ")    #B\n",
        "plt.ylim(0., .35)\n",
        "plt.legend()    #B\n",
        "plt.xlabel(\"Height\")    #B\n",
        "plt.show()    #B\n",
        "\n",
        "#A Generate counterfactual samples by passing the posterior on noise variables to the intervention model.\n",
        "#B Overlay both the interventional and counterfactual histograms."
      ],
      "metadata": {
        "id": "xp97FPHIKX7a"
      },
      "execution_count": null,
      "outputs": []
    },
    {
      "cell_type": "markdown",
      "source": [
        "# Normalizing flows example"
      ],
      "metadata": {
        "id": "qDGIGp12RrV6"
      }
    },
    {
      "cell_type": "code",
      "source": [
        "from torch import nn\n",
        "import pandas as pd\n",
        "from torch import tensor\n",
        "import torch\n",
        "\n",
        "df = pd.read_csv(\"https://raw.githubusercontent.com/altdeep/causalML/master/datasets/enzyme-data.csv\")   #A\n",
        "\n",
        "X = torch.tensor(df['x'].values).unsqueeze(1).float()    #B\n",
        "Y = torch.tensor(df['y'].values).unsqueeze(1).float()    #B\n",
        "\n",
        "\n",
        "from pyro.distributions import (\n",
        "    ConditionalTransformedDistribution,\n",
        "    Normal,\n",
        "    Uniform,\n",
        "    TransformedDistribution\n",
        ")\n",
        "from pyro.distributions.transforms import conditional_spline, spline\n",
        "import torch\n",
        "from torch.distributions.transforms import AffineTransform\n",
        "\n",
        "pyro.set_rng_seed(348)\n",
        "\n",
        "NxDist = Uniform(torch.zeros(1), torch.ones(1))     #A\n",
        "f_x = AffineTransform(loc=1., scale=100.0)    #B\n",
        "XDist = TransformedDistribution(NxDist, [f_x])    #C\n",
        "\n",
        "NyDist = Normal(torch.zeros(1), torch.ones(1))    #D\n",
        "f_y = conditional_spline(input_dim=1, context_dim=1)    #E\n",
        "YDist = ConditionalTransformedDistribution(NyDist, [f_y])    #F\n",
        "\n",
        "modules = torch.nn.ModuleList([f_y])    #H\n",
        "optimizer = torch.optim.Adam(modules.parameters(), lr=3e-3)    #H\n",
        "losses = []\n",
        "maxY = max(Y)    #I\n",
        "Ynorm = Y / maxY    #I\n",
        "for step in range(800):\n",
        "    optimizer.zero_grad()    #J\n",
        "    log_prob_x = XDist.log_prob(X)    #K\n",
        "    log_prob_y = YDist.condition(X).log_prob(Ynorm)    #L\n",
        "    loss = -(log_prob_x + log_prob_y).mean()    #M\n",
        "    loss.backward()    #M\n",
        "    optimizer.step()    #M\n",
        "    XDist.clear_cache()\n",
        "    YDist.clear_cache()\n",
        "    losses.append(loss.item())\n",
        "\n",
        "plt.plot(losses[1:])    #N\n",
        "plt.title(\"Loss\")    #N\n",
        "plt.xlabel(\"step\")    #N\n",
        "plt.ylabel(\"loss\")    #N\n",
        "\n",
        "x_flow = XDist.sample(torch.Size([100,]))    #0\n",
        "y_flow = YDist.condition(x_flow).sample(torch.Size([100,])) * maxY    #0\n",
        "\n",
        "plt.title('Observed values of enzyme concentration X\\n and protein concentration Y')    #P\n",
        "plt.xlabel('X')    #P\n",
        "plt.ylabel('Y')    #P\n",
        "plt.xlim(0, 105)    #P\n",
        "plt.ylim(0, 120)    #P\n",
        "plt.scatter(X.squeeze(1), Y.squeeze(1), color='firebrick', label='Actual Data', alpha=0.5)  #P\n",
        "plt.scatter(x_flow.squeeze(1), y_flow.squeeze(), label='Generated values from trained model', alpha=0.5)    #P\n",
        "plt.legend()    #P\n",
        "plt.show()    #P\n"
      ],
      "metadata": {
        "id": "KRTV7rytRtnL"
      },
      "execution_count": null,
      "outputs": []
    },
    {
      "cell_type": "code",
      "source": [
        "f_x.inv(torch.tensor([23.]))\n",
        "f_y.condition(torch.tensor([23.])).inv(torch.tensor([77.]))"
      ],
      "metadata": {
        "id": "QCwcpHOoWjOT"
      },
      "execution_count": null,
      "outputs": []
    }
  ]
}