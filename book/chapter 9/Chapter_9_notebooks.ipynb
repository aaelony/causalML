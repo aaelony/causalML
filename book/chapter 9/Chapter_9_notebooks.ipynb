{
  "nbformat": 4,
  "nbformat_minor": 0,
  "metadata": {
    "colab": {
      "provenance": []
    },
    "kernelspec": {
      "name": "python3",
      "display_name": "Python 3"
    },
    "language_info": {
      "name": "python"
    }
  },
  "cells": [
    {
      "cell_type": "markdown",
      "source": [
        "# Chapter 9 - The General Counterfactual Inference Algorithm\n",
        "\n",
        "The notebook is a code companion to chapter 9 of the book [Causal AI](https://www.manning.com/books/causal-ai) by [Robert Osazuwa Ness](https://www.linkedin.com/in/osazuwa/). View the [book resources](https://www.altdeep.ai/causalaibook) to see other tutorials and book-related links.\n",
        "\n",
        "<a href=\"https://colab.research.google.com/github/altdeep/causalML/blob/master/book/chapter%209/Chapter_9_notebooks.ipynb\" target=\"_parent\"><img src=\"https://colab.research.google.com/assets/colab-badge.svg\" alt=\"Open In Colab\"/></a>"
      ],
      "metadata": {
        "id": "9jBwRpVVsmtu"
      }
    },
    {
      "cell_type": "markdown",
      "source": [
        "## Listing 9.1 Installing graphviz and helper functions\n",
        "\n",
        "We start by loading some helper functions. A `plot_graph` helper function will help us visualize the graphs. Graphviz installation depends on your environment, this code worked for Ubuntu 22.04. If you get stuck, you can always run the rest of the code without the graph plots.\n",
        "\n",
        "We also download some utilities from Github. `download_code` will fetch the code as a string without executing. It is good security practice to inspect code you download from the Internet before executing. After inspection, uncomment the `exec` calls to load the utilities."
      ],
      "metadata": {
        "id": "7mE6UyH9URQm"
      }
    },
    {
      "cell_type": "code",
      "source": [
        "!pip install pgmpy==0.1.25\n",
        "!pip install graphviz==0.20.3    #A\n",
        "!apt install libgraphviz-dev    #A\n",
        "!pip install pygraphviz==1.13    #A\n",
        "!pip install networkx==2.8.8    #A\n",
        "import graphviz    #A\n",
        "import networkx as nx    #A\n",
        "from networkx.drawing.nx_agraph import write_dot    #A\n",
        "def plot_graph(G):    #A\n",
        "    dot_format = nx.nx_pydot.to_pydot(G).to_string()    #A\n",
        "    return graphviz.Source(dot_format)    #A\n",
        "\n",
        "import requests    #B\n",
        "def download_code(url):    #B\n",
        "    response = requests.get(url)    #B\n",
        "    if response.status_code == 200:    #B\n",
        "        code_content = response.text    #B\n",
        "        print(\"Code fetched successfully.\")    #B\n",
        "        return code_content    #B\n",
        "    else:    #B\n",
        "        print(\"Failed to fetch code.\")    #B\n",
        "        return None    #B\n",
        "\n",
        "url_do = \"https://raw.githubusercontent.com/altdeep/causalML/master/book/pgmpy_do.py\"     #C\n",
        "code_do = download_code(url_do)     #C\n",
        "\n",
        "url_clone = \"https://raw.githubusercontent.com/altdeep/causalML/master/book/chapter%209/hyp_function.py\"     #D\n",
        "code_clone = download_code(url_clone)     #D\n",
        "\n",
        "print(code_do)     #E\n",
        "print(code_clone)     #E\n",
        "exec(code_do)     #E\n",
        "exec(code_clone)     #E\n",
        "\n",
        "#A Install graphviz libraries for visualization and create a helper function for plotting graphs. This was tested in Ubuntu 22.04.3, but may depend on your environment. If you have trouble, you can forgo graph plotting and run the rest of the code.\n",
        "#B Helper function for downloading some utilities from Github.\n",
        "#C Download code for a function “do” for apply ideal interventions.\n",
        "#D Download code for a helper function “clone” for cloning assignment functions across worlds.\n",
        "#E It's good security practice to inspect the downloaded code before executing. Uncomment the `exec` calls execute the downloaded code."
      ],
      "metadata": {
        "colab": {
          "base_uri": "https://localhost:8080/"
        },
        "id": "5_P8FI8fSP1k",
        "outputId": "3ee96e12-8831-4681-c7c4-a8e50897af81"
      },
      "execution_count": 1,
      "outputs": [
        {
          "output_type": "stream",
          "name": "stdout",
          "text": [
            "Requirement already satisfied: pgmpy==0.1.25 in /usr/local/lib/python3.10/dist-packages (0.1.25)\n",
            "Requirement already satisfied: networkx in /usr/local/lib/python3.10/dist-packages (from pgmpy==0.1.25) (2.8.8)\n",
            "Requirement already satisfied: numpy in /usr/local/lib/python3.10/dist-packages (from pgmpy==0.1.25) (1.25.2)\n",
            "Requirement already satisfied: scipy in /usr/local/lib/python3.10/dist-packages (from pgmpy==0.1.25) (1.11.4)\n",
            "Requirement already satisfied: scikit-learn in /usr/local/lib/python3.10/dist-packages (from pgmpy==0.1.25) (1.2.2)\n",
            "Requirement already satisfied: pandas in /usr/local/lib/python3.10/dist-packages (from pgmpy==0.1.25) (2.0.3)\n",
            "Requirement already satisfied: pyparsing in /usr/local/lib/python3.10/dist-packages (from pgmpy==0.1.25) (3.1.2)\n",
            "Requirement already satisfied: torch in /usr/local/lib/python3.10/dist-packages (from pgmpy==0.1.25) (2.3.0+cu121)\n",
            "Requirement already satisfied: statsmodels in /usr/local/lib/python3.10/dist-packages (from pgmpy==0.1.25) (0.14.2)\n",
            "Requirement already satisfied: tqdm in /usr/local/lib/python3.10/dist-packages (from pgmpy==0.1.25) (4.66.4)\n",
            "Requirement already satisfied: joblib in /usr/local/lib/python3.10/dist-packages (from pgmpy==0.1.25) (1.4.2)\n",
            "Requirement already satisfied: opt-einsum in /usr/local/lib/python3.10/dist-packages (from pgmpy==0.1.25) (3.3.0)\n",
            "Requirement already satisfied: python-dateutil>=2.8.2 in /usr/local/lib/python3.10/dist-packages (from pandas->pgmpy==0.1.25) (2.8.2)\n",
            "Requirement already satisfied: pytz>=2020.1 in /usr/local/lib/python3.10/dist-packages (from pandas->pgmpy==0.1.25) (2023.4)\n",
            "Requirement already satisfied: tzdata>=2022.1 in /usr/local/lib/python3.10/dist-packages (from pandas->pgmpy==0.1.25) (2024.1)\n",
            "Requirement already satisfied: threadpoolctl>=2.0.0 in /usr/local/lib/python3.10/dist-packages (from scikit-learn->pgmpy==0.1.25) (3.5.0)\n",
            "Requirement already satisfied: patsy>=0.5.6 in /usr/local/lib/python3.10/dist-packages (from statsmodels->pgmpy==0.1.25) (0.5.6)\n",
            "Requirement already satisfied: packaging>=21.3 in /usr/local/lib/python3.10/dist-packages (from statsmodels->pgmpy==0.1.25) (24.1)\n",
            "Requirement already satisfied: filelock in /usr/local/lib/python3.10/dist-packages (from torch->pgmpy==0.1.25) (3.15.1)\n",
            "Requirement already satisfied: typing-extensions>=4.8.0 in /usr/local/lib/python3.10/dist-packages (from torch->pgmpy==0.1.25) (4.12.2)\n",
            "Requirement already satisfied: sympy in /usr/local/lib/python3.10/dist-packages (from torch->pgmpy==0.1.25) (1.12.1)\n",
            "Requirement already satisfied: jinja2 in /usr/local/lib/python3.10/dist-packages (from torch->pgmpy==0.1.25) (3.1.4)\n",
            "Requirement already satisfied: fsspec in /usr/local/lib/python3.10/dist-packages (from torch->pgmpy==0.1.25) (2023.6.0)\n",
            "Requirement already satisfied: nvidia-cuda-nvrtc-cu12==12.1.105 in /usr/local/lib/python3.10/dist-packages (from torch->pgmpy==0.1.25) (12.1.105)\n",
            "Requirement already satisfied: nvidia-cuda-runtime-cu12==12.1.105 in /usr/local/lib/python3.10/dist-packages (from torch->pgmpy==0.1.25) (12.1.105)\n",
            "Requirement already satisfied: nvidia-cuda-cupti-cu12==12.1.105 in /usr/local/lib/python3.10/dist-packages (from torch->pgmpy==0.1.25) (12.1.105)\n",
            "Requirement already satisfied: nvidia-cudnn-cu12==8.9.2.26 in /usr/local/lib/python3.10/dist-packages (from torch->pgmpy==0.1.25) (8.9.2.26)\n",
            "Requirement already satisfied: nvidia-cublas-cu12==12.1.3.1 in /usr/local/lib/python3.10/dist-packages (from torch->pgmpy==0.1.25) (12.1.3.1)\n",
            "Requirement already satisfied: nvidia-cufft-cu12==11.0.2.54 in /usr/local/lib/python3.10/dist-packages (from torch->pgmpy==0.1.25) (11.0.2.54)\n",
            "Requirement already satisfied: nvidia-curand-cu12==10.3.2.106 in /usr/local/lib/python3.10/dist-packages (from torch->pgmpy==0.1.25) (10.3.2.106)\n",
            "Requirement already satisfied: nvidia-cusolver-cu12==11.4.5.107 in /usr/local/lib/python3.10/dist-packages (from torch->pgmpy==0.1.25) (11.4.5.107)\n",
            "Requirement already satisfied: nvidia-cusparse-cu12==12.1.0.106 in /usr/local/lib/python3.10/dist-packages (from torch->pgmpy==0.1.25) (12.1.0.106)\n",
            "Requirement already satisfied: nvidia-nccl-cu12==2.20.5 in /usr/local/lib/python3.10/dist-packages (from torch->pgmpy==0.1.25) (2.20.5)\n",
            "Requirement already satisfied: nvidia-nvtx-cu12==12.1.105 in /usr/local/lib/python3.10/dist-packages (from torch->pgmpy==0.1.25) (12.1.105)\n",
            "Requirement already satisfied: triton==2.3.0 in /usr/local/lib/python3.10/dist-packages (from torch->pgmpy==0.1.25) (2.3.0)\n",
            "Requirement already satisfied: nvidia-nvjitlink-cu12 in /usr/local/lib/python3.10/dist-packages (from nvidia-cusolver-cu12==11.4.5.107->torch->pgmpy==0.1.25) (12.5.40)\n",
            "Requirement already satisfied: six in /usr/local/lib/python3.10/dist-packages (from patsy>=0.5.6->statsmodels->pgmpy==0.1.25) (1.16.0)\n",
            "Requirement already satisfied: MarkupSafe>=2.0 in /usr/local/lib/python3.10/dist-packages (from jinja2->torch->pgmpy==0.1.25) (2.1.5)\n",
            "Requirement already satisfied: mpmath<1.4.0,>=1.1.0 in /usr/local/lib/python3.10/dist-packages (from sympy->torch->pgmpy==0.1.25) (1.3.0)\n",
            "Requirement already satisfied: graphviz==0.20.3 in /usr/local/lib/python3.10/dist-packages (0.20.3)\n",
            "Reading package lists... Done\n",
            "Building dependency tree... Done\n",
            "Reading state information... Done\n",
            "libgraphviz-dev is already the newest version (2.42.2-6).\n",
            "0 upgraded, 0 newly installed, 0 to remove and 45 not upgraded.\n",
            "Requirement already satisfied: pygraphviz==1.13 in /usr/local/lib/python3.10/dist-packages (1.13)\n",
            "Requirement already satisfied: networkx==2.8.8 in /usr/local/lib/python3.10/dist-packages (2.8.8)\n",
            "Code fetched successfully.\n",
            "Code fetched successfully.\n",
            "from pgmpy.models import BayesianNetwork\n",
            "from pgmpy.factors.discrete import TabularCPD\n",
            "\n",
            "\n",
            "def do(model: BayesianNetwork, interventions: dict):\n",
            "    \"\"\" \n",
            "    Implement an ideal intervention for discrete variables. Modifies pgmpy's\n",
            "    `do` method so it is a `do`-operator, meaning a function that takes in a\n",
            "    model, modifies it with an ideal intervention, and returns a new model.\n",
            "    Note that this code would need to be modified to work for continuous\n",
            "    variables.\n",
            "    \"\"\"\n",
            "    def _mod_kernel(kernel: TabularCPD, int_val):\n",
            "        \"\"\"\n",
            "        Modify a causal Markov kernel so all probability is on the state fixed\n",
            "        by the intervention.\n",
            "        \"\"\" \n",
            "        var_name = kernel.variable\n",
            "        card = kernel.get_cardinality([var_name])[var_name]\n",
            "        states = [kernel.get_state_names(var_name, i) for i in range(card)]\n",
            "        non_int_states = set(states) - {int_val,}\n",
            "        unordered_prob_vals = [[1.0]] + [[0.0] for _ in range(card - 1)]\n",
            "        unordered_states = [int_val] + list(non_int_states)\n",
            "        # Reorder so it matches original\n",
            "        dict_ = dict(zip(unordered_states, unordered_prob_vals))\n",
            "        ordered_prob_values = [dict_[k] for k in states]\n",
            "        intervention_kernel = TabularCPD(\n",
            "            var_name, card, ordered_prob_values,\n",
            "            state_names = {var_name: states}\n",
            "        )\n",
            "        return intervention_kernel\n",
            "\n",
            "    kernels = {kern.variable: kern for kern in model.get_cpds()}\n",
            "    new_model = model.copy()\n",
            "    for var, int_val in interventions.items():\n",
            "        new_model = new_model.do(var)\n",
            "        new_kernel = _mod_kernel(kernels[var], int_val)\n",
            "        new_model.add_cpds(new_kernel)\n",
            "    return new_model\n",
            "    \n",
            "\n",
            "from copy import deepcopy\n",
            "from pgmpy.factors.discrete.CPD import TabularCPD\n",
            "\n",
            "\n",
            "ENDOGENOUS_VARS = [\"Host Door Selection\", \"Strategy\", \"2nd Choice\", \"Win or Lose\"]\n",
            "\n",
            "def clone(cpd: TabularCPD, suffix: str=\"Hyp\"):\n",
            "    \"\"\"\n",
            "    This is a helper function for use in copying TabularCPD objects. It is used\n",
            "    to implement a parallel world graphical model for counterfactual reasoning\n",
            "    in Chapter 9 of the book Causal AI. https://www.manning.com/books/causal-ai\n",
            "    It assumes there are a set of endogenous variables that are meant to be\n",
            "    copied.  For those variables, a suffix is added to the name to distinquish\n",
            "    those variables from their original. The code works by apply deepcopy, then\n",
            "    changing the \"variable\", \"variables\", \"state_names\", \"name_to_no\", and\n",
            "    \"no_to_name\" attributes of the TabularCPD class.\n",
            "    \"\"\"\n",
            "    suffix = \" \" + suffix\n",
            "    endogenous_vars = ENDOGENOUS_VARS\n",
            "    cpd_hyp = deepcopy(cpd)\n",
            "    cpd_hyp.variable += suffix\n",
            "    variables = cpd_hyp.variables\n",
            "    new_variables = []\n",
            "    new_state_names = {}\n",
            "    new_name_to_no = {}\n",
            "    new_no_to_name = {}\n",
            "    for var_name, val in cpd_hyp.state_names.items():\n",
            "        if var_name in endogenous_vars:\n",
            "            new_variables.append(var_name + suffix)\n",
            "            new_state_names[var_name + suffix] = val\n",
            "        else:\n",
            "            new_variables.append(var_name)\n",
            "            new_state_names[var_name] = val\n",
            "    for var_name, val in cpd_hyp.name_to_no.items():\n",
            "        if var_name in endogenous_vars:\n",
            "            new_name_to_no[var_name + suffix] = val\n",
            "        else:\n",
            "            new_name_to_no[var_name] = val\n",
            "    for var_name, val in cpd_hyp.no_to_name.items():\n",
            "        if var_name in endogenous_vars:\n",
            "            new_no_to_name[var_name + suffix] = val\n",
            "        else:\n",
            "            new_no_to_name[var_name] = val\n",
            "    cpd_hyp.variables = new_variables\n",
            "    cpd_hyp.state_names = new_state_names\n",
            "    cpd_hyp.name_to_no = new_name_to_no\n",
            "    cpd_hyp.no_to_name = new_no_to_name\n",
            "    return cpd_hyp\n",
            "\n"
          ]
        }
      ]
    },
    {
      "cell_type": "markdown",
      "source": [
        "# Monte Hall Problem\n",
        "\n",
        "We start by revisiting the SCM for the Monte Hall problem. Summarizing again, there is a game show where the player starts with a choice of three doors. Behind one door is a car. The player picks a door, say No. 1, and the host, who knows what's behind the doors, opens another door, say No. 3, which does not have the car. The host gives the player the opportunity to switch doors. In this case since the player picked No. 1 and the host revealed the car is not behind door No. 3, the player can switch to door No. 2. The question is whether a strategy of staying with the original choice or switching doors is better. The answer is, counterintuitively to many, that a switching strategy is better -- two times out of three, the switching strategy leads to a win.\n",
        "\n",
        "![monte hall image](https://github.com/altdeep/causalML/blob/master/book/chapter%209/images/monty_hall.png?raw=true)\n",
        "\n",
        "We'll call the first die roll \"Car Door Die Roll\", it selects a door for placement of the car. The player rolls the second die, a variable we'll call \"1st Choice Die Roll\", to select the player's first door selection. Both dice rolls assign a 1/3 probability to each outcome.\n",
        "\n",
        "## Listing 9.2 Model building: Specify distributions for exogenous variables\n",
        "\n",
        "We'll modify this game to exogenous variables with distributions that entail all the random elements of the game. In other words, given the outcomes of these random elements and the host's and player's choices, the outcome of the game will be deterministic.\n",
        "\n",
        "Next we have a coin flip, which will drive two outcomes. Firstly, the host will use the outcome of the coin flip to select which door to open. If the player selects the door with the car, when the host goes to reveal a carless door to the player, the host has two carless doors to choose from. In this case, the host selects the right-most available door if he flips a heads, the left-most if he flips a tails. Similarly, we'll assume the player leaves their decision of whether to switch doors or to stay with the original choice up to the coin flip as well. If the coin flips heads, they switch, otherwise they stay."
      ],
      "metadata": {
        "id": "ng0kbczNUYNv"
      }
    },
    {
      "cell_type": "code",
      "source": [
        "from pgmpy.factors.discrete.CPD import TabularCPD\n",
        "\n",
        "p_door_with_car = TabularCPD(    #A\n",
        "    variable='Car Door Die Roll',    #A\n",
        "    variable_card=3,    #A\n",
        "    values=[[1/3], [1/3], [1/3]],    #A\n",
        "    state_names={'Car Door Die Roll': ['1st', '2nd', '3rd']}    #A\n",
        ")    #A\n",
        "\n",
        "p_player_first_choice = TabularCPD(    #B\n",
        "    variable='1st Choice Die Roll',    #B\n",
        "    variable_card=3,    #B\n",
        "    values=[[1/3], [1/3], [1/3]],    #B\n",
        "    state_names={'1st Choice Die Roll': ['1st', '2nd', '3rd']}    #B\n",
        ")    #B\n",
        "\n",
        "p_coin_flip = TabularCPD(       #C\n",
        "    variable='Coin Flip',    #C\n",
        "    variable_card=2,    #C\n",
        "    values=[[.5], [.5]],    #C\n",
        "    state_names={'Coin Flip': ['tails', 'heads']}    #C\n",
        ")    #C\n",
        "#A Prior distribution on exogenous variable for the three-sided die roll that selects which door gets the car.\n",
        "#B Prior distribution on the exogenous variable for the three-sided die roll that selects the player's first choice of door.\n",
        "#C Prior distribution on the exogenous variable for the coin flip. The host flips a coin. The coin flip impacts which door the host chooses to reveal as carless, and whether the player chooses a stay or switch strategy."
      ],
      "metadata": {
        "id": "KnaOGdNhSoRl"
      },
      "execution_count": 2,
      "outputs": []
    },
    {
      "cell_type": "markdown",
      "source": [
        "Our endogenous variables will be \"Host Door Selection\", \"Strategy\" (whether taking a switch or stay strategy), \"2nd Choice\" (choosing door 1, 2, 3 based on one's strategy), \"Win or Lose\" (outcome of the game).\n",
        "Our definition of the SCM called for a one-to-one pairing between endogenous and exogenous variables. Here, we'll deviate from that definition and match each exogenous variable to two endogenous variables.\n",
        "* '1st Choice Die Roll' will drive 'Host Door Selection' and '2nd Choice'\n",
        "* 'Coin Flip' will drive 'Host Door Selection' and 'Strategy'\n",
        "* 'Car Door Die Roll' will drive 'Host Door Selection' and 'Win or Lose'\n",
        "\n",
        "I'll use this simplified approach of matching one exogenous variable to two endogenous variables because it will require less code. This shortcut works well in this case because the exogenous variables precisely encode all the exogenous random elements of the game – these elements completely determine the game's outcome. We could use the traditional formulation (where each endogenous variable has a unique exogenous variable) and get the same results.\n",
        "Let's wall through the steps of the game, then construct the DAG.\n",
        "\n",
        "##  Listing 9.3 Create assignment function for strategy\n",
        "\n",
        "The player will use 'Coin Flip' as the basis of their 'Strategy' decision – if the host flips heads, the player will adopt a switch door strategy. Otherwise, they'd adopt a strategy of keeping their original choice.\n"
      ],
      "metadata": {
        "id": "diktnrtGUpCM"
      }
    },
    {
      "cell_type": "code",
      "source": [
        "f_strategy = TabularCPD(    #A\n",
        "    variable='Strategy',    #A\n",
        "    variable_card=2,    #A\n",
        "    values=[[1, 0], [0, 1]],    #A\n",
        "    evidence=['Coin Flip'],    #A\n",
        "    evidence_card=[2],    #A\n",
        "    state_names={    #A\n",
        "        'Strategy': ['stay', 'switch'],    #A\n",
        "        'Coin Flip': ['tails', 'heads']}    #A\n",
        ")    #A\n",
        "#A If the outcome of the coin flip was a heads, the player switches doors from their initial selection. Otherwise, they stay."
      ],
      "metadata": {
        "id": "jttEi4zVTQtJ"
      },
      "execution_count": 3,
      "outputs": []
    },
    {
      "cell_type": "markdown",
      "source": [
        "## Listing 9.4 Create assignment function for host door selection\n",
        "\n",
        "'Host Door Selection' depends on which door has the car (\"Car Door Die Roll') and the player's initial choice of door (\"1st Choice Die Roll\"). The host will use 'Coin Flip' to select a door from two available doors in the event they have that the winning door and the first choice door are the same. If \"Coin Flip\" is heads, they'll choose the left-most door, otherwise the right."
      ],
      "metadata": {
        "id": "ySM0gr5OUznD"
      }
    },
    {
      "cell_type": "code",
      "source": [
        "f_host_door_selection = TabularCPD(    #A\n",
        "    variable='Host Door Selection',    #A\n",
        "    variable_card=3,    #A\n",
        "    values=[    #A\n",
        "        [0,0,0,0,1,1,0,1,1,0,0,0,0,0,1,0,1,0],    #A\n",
        "        [1,0,1,0,0,0,1,0,0,0,0,1,0,0,0,1,0,1],    #A\n",
        "        [0,1,0,1,0,0,0,0,0,1,1,0,1,1,0,0,0,0]    #A\n",
        "    ],    #A\n",
        "    evidence=['Coin Flip', 'Car Door Die Roll', '1st Choice Die Roll'],  #A\n",
        "    evidence_card=[2, 3, 3],    #A\n",
        "    state_names={    #A\n",
        "        'Host Door Selection':['1st', '2nd', '3rd'],    #A\n",
        "        'Coin Flip': ['tails', 'heads'],    #A\n",
        "        'Car Door Die Roll': ['1st', '2nd', '3rd'],    #A\n",
        "        '1st Choice Die Roll': ['1st', '2nd', '3rd']    #A\n",
        "    }    #A\n",
        ")    #A\n",
        "#A Host selects the door to reveal as carless based on the player's choice of door and the door with the car. If those are the same door, the host has two doors to chose from. If this case, if the coin fipped tails, the host chooses the left-most door, otherwise the right-most door."
      ],
      "metadata": {
        "id": "gStcx0kPU0RI"
      },
      "execution_count": 4,
      "outputs": []
    },
    {
      "cell_type": "markdown",
      "source": [
        "## Listing 9.5 Create assignment function for 2nd Choice\n",
        "\n",
        "'2nd Choice', the player's choice of which door to pick in the second round, depends on 'Strategy', 'Host Door Selection' (the player can't switch to the door the host opened), and '1st Choice Die Roll' (the player must stay with or switch from the door selected in the first round)."
      ],
      "metadata": {
        "id": "IlT-XebZU-no"
      }
    },
    {
      "cell_type": "code",
      "source": [
        "f_second_choice = TabularCPD(    #A\n",
        "    variable='2nd Choice',    #A\n",
        "    variable_card=3,    #A\n",
        "    values=[    #A\n",
        "        [1,0,0,1,0,0,1,0,0,0,0,0,0,0,1,0,1,0],    #A\n",
        "        [0,1,0,0,1,0,0,1,0,1,0,1,0,1,0,1,0,1],    #A\n",
        "        [0,0,1,0,0,1,0,0,1,0,1,0,1,0,0,0,0,0]    #A\n",
        "    ],    #A\n",
        "    evidence=['Strategy', 'Host Door Selection', '1st Choice Die Roll'],    #A\n",
        "    evidence_card=[2, 3, 3],    #A\n",
        "    state_names={    #A\n",
        "        '2nd Choice': ['1st', '2nd', '3rd'],    #A\n",
        "        'Strategy': ['stay', 'switch'],    #A\n",
        "        'Host Door Selection': ['1st', '2nd', '3rd'],    #A\n",
        "        '1st Choice Die Roll': ['1st', '2nd', '3rd']    #A\n",
        "    }    #A\n",
        ")    #A\n",
        "#A The player chooses which door to select in the second round based on the choice in the first round (outcome of 1st Choice Die Roll), the door opened by the host, and whether the player's coin flip told them to stay or switch doors from their initial selection."
      ],
      "metadata": {
        "id": "19XfoiHyU-yl"
      },
      "execution_count": 5,
      "outputs": []
    },
    {
      "cell_type": "markdown",
      "source": [
        "## Listing 9.6 Create assignment function for Win or Lose\n",
        "\n",
        "'Win or Lose' depends on the door the player picked in '2nd Choice' and whether that door is the winning door ('Car Door Die Roll').\n"
      ],
      "metadata": {
        "id": "KOHBX8q3Y9CV"
      }
    },
    {
      "cell_type": "code",
      "source": [
        "f_win_or_lose = TabularCPD(    #A\n",
        "    variable='Win or Lose',    #A\n",
        "    variable_card=2,    #A\n",
        "    values=[    #A\n",
        "        [1,0,0,0,1,0,0,0,1],    #A\n",
        "        [0,1,1,1,0,1,1,1,0],    #A\n",
        "    ],    #A\n",
        "    evidence=['2nd Choice', 'Car Door Die Roll'],    #A\n",
        "    evidence_card=[3, 3],    #A\n",
        "    state_names={    #A\n",
        "        'Win or Lose': ['win', 'lose'],    #A\n",
        "        '2nd Choice': ['1st', '2nd', '3rd'],    #A\n",
        "        'Car Door Die Roll': ['1st', '2nd', '3rd']    #A\n",
        "    }    #A\n",
        ")    #A\n",
        "#A The player wins or loses based on their choice of door in the second round and the door with the car."
      ],
      "metadata": {
        "id": "gfbqJ1ZLY9ZT"
      },
      "execution_count": 6,
      "outputs": []
    },
    {
      "cell_type": "markdown",
      "source": [
        "## Listing 9.7 Build the parallel world graphical model\n",
        "\n",
        "We build the full parallel world model with these relationships in the following code."
      ],
      "metadata": {
        "id": "LM_KT3UGZM7F"
      }
    },
    {
      "cell_type": "code",
      "source": [
        "from pgmpy.models import BayesianNetwork\n",
        "\n",
        "exogenous_vars = [\"Car Door Die Roll\", \"Coin Flip\", \"1st Choice Die Roll\"]    #A\n",
        "endogenous_vars = [\"Host Door Selection\", \"Strategy\", \"2nd Choice\", \"Win or Lose\"]    #A\n",
        "\n",
        "actual_world_edges = [    #B\n",
        "    ('Coin Flip', 'Host Door Selection'),    #B\n",
        "    ('Coin Flip', 'Strategy'),    #B\n",
        "    ('Car Door Die Roll', 'Host Door Selection'),    #B\n",
        "    ('1st Choice Die Roll', 'Host Door Selection'),    #B\n",
        "    ('1st Choice Die Roll', '2nd Choice'),    #B\n",
        "    ('Host Door Selection', '2nd Choice'),    #B\n",
        "    ('Strategy', '2nd Choice'),    #B\n",
        "    ('2nd Choice', 'Win or Lose'),    #B\n",
        "    ('Car Door Die Roll', 'Win or Lose')    #B\n",
        "]    #B\n",
        "\n",
        "possible_world_edges = [    #C\n",
        "    (a + \" Hyp\" if a in endogenous_vars else a,    #C\n",
        "     b + \" Hyp\" if b in endogenous_vars else b)    #C\n",
        "    for a, b in actual_world_edges    #C\n",
        "]    #C\n",
        "\n",
        "twin_world_graph = BayesianNetwork(    #D\n",
        "    actual_world_edges +    #D\n",
        "    possible_world_edges    #D\n",
        ")    #D\n",
        "\n",
        "twin_world_graph.add_cpds(    #E\n",
        "    p_door_with_car,    #F\n",
        "    p_player_first_choice,    #F\n",
        "    p_coin_flip,    #F\n",
        "    f_strategy,    #G\n",
        "    f_host_door_selection,    #G\n",
        "    f_second_choice,    #G\n",
        "    f_win_or_lose,    #G\n",
        "    clone(f_strategy),    #H\n",
        "    clone(f_host_door_selection),    #H\n",
        "    clone(f_second_choice),    #H\n",
        "    clone(f_win_or_lose),    #H\n",
        ")\n",
        "\n",
        "plot_graph(twin_world_graph)\n",
        "#A Specify lists of the exogenous and endogenous variables in the causal DAG.\n",
        "#B Specify the edges of the SCM\n",
        "#C Clone the edges for the hypothetical world\n",
        "#D Create parallel world graph\n",
        "#E Plot the parallel world graph\n",
        "#F Add probability distributions on exogenous variables\n",
        "#G Add assignment functions from the SCM\n",
        "#H Clone assignment functions"
      ],
      "metadata": {
        "colab": {
          "base_uri": "https://localhost:8080/",
          "height": 368
        },
        "id": "_iC_rKM2ZN3w",
        "outputId": "8551d459-dcf6-4736-9082-8ed0e63ce2ac"
      },
      "execution_count": 7,
      "outputs": [
        {
          "output_type": "execute_result",
          "data": {
            "image/svg+xml": "<?xml version=\"1.0\" encoding=\"UTF-8\" standalone=\"no\"?>\n<!DOCTYPE svg PUBLIC \"-//W3C//DTD SVG 1.1//EN\"\n \"http://www.w3.org/Graphics/SVG/1.1/DTD/svg11.dtd\">\n<!-- Generated by graphviz version 2.43.0 (0)\n -->\n<!-- Title: %3 Pages: 1 -->\n<svg width=\"777pt\" height=\"260pt\"\n viewBox=\"0.00 0.00 776.99 260.00\" xmlns=\"http://www.w3.org/2000/svg\" xmlns:xlink=\"http://www.w3.org/1999/xlink\">\n<g id=\"graph0\" class=\"graph\" transform=\"scale(1 1) rotate(0) translate(4 256)\">\n<title>%3</title>\n<polygon fill=\"white\" stroke=\"transparent\" points=\"-4,4 -4,-256 772.99,-256 772.99,4 -4,4\"/>\n<!-- Coin Flip -->\n<g id=\"node1\" class=\"node\">\n<title>Coin Flip</title>\n<ellipse fill=\"none\" stroke=\"black\" cx=\"250.3\" cy=\"-234\" rx=\"44.39\" ry=\"18\"/>\n<text text-anchor=\"middle\" x=\"250.3\" y=\"-230.3\" font-family=\"Times,serif\" font-size=\"14.00\">Coin Flip</text>\n</g>\n<!-- Host Door Selection -->\n<g id=\"node2\" class=\"node\">\n<title>Host Door Selection</title>\n<ellipse fill=\"none\" stroke=\"black\" cx=\"315.3\" cy=\"-162\" rx=\"83.39\" ry=\"18\"/>\n<text text-anchor=\"middle\" x=\"315.3\" y=\"-158.3\" font-family=\"Times,serif\" font-size=\"14.00\">Host Door Selection</text>\n</g>\n<!-- Coin Flip&#45;&gt;Host Door Selection -->\n<g id=\"edge1\" class=\"edge\">\n<title>Coin Flip&#45;&gt;Host Door Selection</title>\n<path fill=\"none\" stroke=\"black\" d=\"M265.37,-216.76C273.42,-208.1 283.49,-197.25 292.48,-187.57\"/>\n<polygon fill=\"black\" stroke=\"black\" points=\"295.16,-189.83 299.4,-180.12 290.03,-185.07 295.16,-189.83\"/>\n</g>\n<!-- Strategy -->\n<g id=\"node3\" class=\"node\">\n<title>Strategy</title>\n<ellipse fill=\"none\" stroke=\"black\" cx=\"40.3\" cy=\"-162\" rx=\"40.09\" ry=\"18\"/>\n<text text-anchor=\"middle\" x=\"40.3\" y=\"-158.3\" font-family=\"Times,serif\" font-size=\"14.00\">Strategy</text>\n</g>\n<!-- Coin Flip&#45;&gt;Strategy -->\n<g id=\"edge2\" class=\"edge\">\n<title>Coin Flip&#45;&gt;Strategy</title>\n<path fill=\"none\" stroke=\"black\" d=\"M216.63,-222.09C184.02,-211.48 133.2,-194.84 89.3,-180 86.54,-179.07 83.69,-178.1 80.83,-177.12\"/>\n<polygon fill=\"black\" stroke=\"black\" points=\"81.71,-173.72 71.11,-173.78 79.43,-180.34 81.71,-173.72\"/>\n</g>\n<!-- Host Door Selection Hyp -->\n<g id=\"node8\" class=\"node\">\n<title>Host Door Selection Hyp</title>\n<ellipse fill=\"none\" stroke=\"black\" cx=\"555.3\" cy=\"-162\" rx=\"100.98\" ry=\"18\"/>\n<text text-anchor=\"middle\" x=\"555.3\" y=\"-158.3\" font-family=\"Times,serif\" font-size=\"14.00\">Host Door Selection Hyp</text>\n</g>\n<!-- Coin Flip&#45;&gt;Host Door Selection Hyp -->\n<g id=\"edge3\" class=\"edge\">\n<title>Coin Flip&#45;&gt;Host Door Selection Hyp</title>\n<path fill=\"none\" stroke=\"black\" d=\"M288,-224.35C337.29,-213.03 424.57,-193 485.95,-178.91\"/>\n<polygon fill=\"black\" stroke=\"black\" points=\"486.99,-182.27 495.95,-176.62 485.42,-175.45 486.99,-182.27\"/>\n</g>\n<!-- Strategy Hyp -->\n<g id=\"node9\" class=\"node\">\n<title>Strategy Hyp</title>\n<ellipse fill=\"none\" stroke=\"black\" cx=\"156.3\" cy=\"-162\" rx=\"57.69\" ry=\"18\"/>\n<text text-anchor=\"middle\" x=\"156.3\" y=\"-158.3\" font-family=\"Times,serif\" font-size=\"14.00\">Strategy Hyp</text>\n</g>\n<!-- Coin Flip&#45;&gt;Strategy Hyp -->\n<g id=\"edge4\" class=\"edge\">\n<title>Coin Flip&#45;&gt;Strategy Hyp</title>\n<path fill=\"none\" stroke=\"black\" d=\"M229.9,-217.81C216.99,-208.2 200.09,-195.61 185.74,-184.92\"/>\n<polygon fill=\"black\" stroke=\"black\" points=\"187.74,-182.05 177.63,-178.89 183.56,-187.67 187.74,-182.05\"/>\n</g>\n<!-- 2nd Choice -->\n<g id=\"node6\" class=\"node\">\n<title>2nd Choice</title>\n<ellipse fill=\"none\" stroke=\"black\" cx=\"396.3\" cy=\"-90\" rx=\"51.19\" ry=\"18\"/>\n<text text-anchor=\"middle\" x=\"396.3\" y=\"-86.3\" font-family=\"Times,serif\" font-size=\"14.00\">2nd Choice</text>\n</g>\n<!-- Host Door Selection&#45;&gt;2nd Choice -->\n<g id=\"edge5\" class=\"edge\">\n<title>Host Door Selection&#45;&gt;2nd Choice</title>\n<path fill=\"none\" stroke=\"black\" d=\"M334.49,-144.41C345.14,-135.21 358.52,-123.64 370.11,-113.63\"/>\n<polygon fill=\"black\" stroke=\"black\" points=\"372.52,-116.17 377.8,-106.99 367.94,-110.88 372.52,-116.17\"/>\n</g>\n<!-- Strategy&#45;&gt;2nd Choice -->\n<g id=\"edge6\" class=\"edge\">\n<title>Strategy&#45;&gt;2nd Choice</title>\n<path fill=\"none\" stroke=\"black\" d=\"M70.12,-149.79C76.4,-147.67 83.02,-145.62 89.3,-144 174.88,-121.92 276.28,-106.44 338.45,-98.12\"/>\n<polygon fill=\"black\" stroke=\"black\" points=\"339,-101.58 348.45,-96.8 338.08,-94.64 339,-101.58\"/>\n</g>\n<!-- Car Door Die Roll -->\n<g id=\"node4\" class=\"node\">\n<title>Car Door Die Roll</title>\n<ellipse fill=\"none\" stroke=\"black\" cx=\"692.3\" cy=\"-234\" rx=\"76.89\" ry=\"18\"/>\n<text text-anchor=\"middle\" x=\"692.3\" y=\"-230.3\" font-family=\"Times,serif\" font-size=\"14.00\">Car Door Die Roll</text>\n</g>\n<!-- Car Door Die Roll&#45;&gt;Host Door Selection -->\n<g id=\"edge7\" class=\"edge\">\n<title>Car Door Die Roll&#45;&gt;Host Door Selection</title>\n<path fill=\"none\" stroke=\"black\" d=\"M634.22,-222.22C567.44,-209.82 457.84,-189.47 386.12,-176.15\"/>\n<polygon fill=\"black\" stroke=\"black\" points=\"386.73,-172.7 376.26,-174.32 385.45,-179.59 386.73,-172.7\"/>\n</g>\n<!-- Win or Lose -->\n<g id=\"node7\" class=\"node\">\n<title>Win or Lose</title>\n<ellipse fill=\"none\" stroke=\"black\" cx=\"494.3\" cy=\"-18\" rx=\"55.49\" ry=\"18\"/>\n<text text-anchor=\"middle\" x=\"494.3\" y=\"-14.3\" font-family=\"Times,serif\" font-size=\"14.00\">Win or Lose</text>\n</g>\n<!-- Car Door Die Roll&#45;&gt;Win or Lose -->\n<g id=\"edge8\" class=\"edge\">\n<title>Car Door Die Roll&#45;&gt;Win or Lose</title>\n<path fill=\"none\" stroke=\"black\" d=\"M694.74,-216C698.4,-183.39 701.25,-111.74 663.3,-72 636.04,-43.46 593.64,-30.22 558.13,-24.11\"/>\n<polygon fill=\"black\" stroke=\"black\" points=\"558.26,-20.58 547.84,-22.5 557.18,-27.5 558.26,-20.58\"/>\n</g>\n<!-- Car Door Die Roll&#45;&gt;Host Door Selection Hyp -->\n<g id=\"edge9\" class=\"edge\">\n<title>Car Door Die Roll&#45;&gt;Host Door Selection Hyp</title>\n<path fill=\"none\" stroke=\"black\" d=\"M661.89,-217.46C642.53,-207.57 617.21,-194.63 596.1,-183.85\"/>\n<polygon fill=\"black\" stroke=\"black\" points=\"597.54,-180.65 587.04,-179.22 594.36,-186.89 597.54,-180.65\"/>\n</g>\n<!-- Win or Lose Hyp -->\n<g id=\"node11\" class=\"node\">\n<title>Win or Lose Hyp</title>\n<ellipse fill=\"none\" stroke=\"black\" cx=\"689.3\" cy=\"-18\" rx=\"72.59\" ry=\"18\"/>\n<text text-anchor=\"middle\" x=\"689.3\" y=\"-14.3\" font-family=\"Times,serif\" font-size=\"14.00\">Win or Lose Hyp</text>\n</g>\n<!-- Car Door Die Roll&#45;&gt;Win or Lose Hyp -->\n<g id=\"edge10\" class=\"edge\">\n<title>Car Door Die Roll&#45;&gt;Win or Lose Hyp</title>\n<path fill=\"none\" stroke=\"black\" d=\"M711.31,-216.38C720.78,-206.82 731.26,-193.95 736.3,-180 752.59,-134.85 753.33,-116.88 736.3,-72 732.15,-61.08 724.62,-50.98 716.78,-42.58\"/>\n<polygon fill=\"black\" stroke=\"black\" points=\"719.12,-39.97 709.58,-35.37 714.17,-44.92 719.12,-39.97\"/>\n</g>\n<!-- 1st Choice Die Roll -->\n<g id=\"node5\" class=\"node\">\n<title>1st Choice Die Roll</title>\n<ellipse fill=\"none\" stroke=\"black\" cx=\"456.3\" cy=\"-234\" rx=\"81.49\" ry=\"18\"/>\n<text text-anchor=\"middle\" x=\"456.3\" y=\"-230.3\" font-family=\"Times,serif\" font-size=\"14.00\">1st Choice Die Roll</text>\n</g>\n<!-- 1st Choice Die Roll&#45;&gt;Host Door Selection -->\n<g id=\"edge11\" class=\"edge\">\n<title>1st Choice Die Roll&#45;&gt;Host Door Selection</title>\n<path fill=\"none\" stroke=\"black\" d=\"M424.65,-217.29C404.33,-207.2 377.75,-194.01 355.89,-183.15\"/>\n<polygon fill=\"black\" stroke=\"black\" points=\"357.35,-179.97 346.83,-178.66 354.23,-186.24 357.35,-179.97\"/>\n</g>\n<!-- 1st Choice Die Roll&#45;&gt;2nd Choice -->\n<g id=\"edge12\" class=\"edge\">\n<title>1st Choice Die Roll&#45;&gt;2nd Choice</title>\n<path fill=\"none\" stroke=\"black\" d=\"M449.06,-215.87C438.74,-191.46 419.72,-146.43 407.55,-117.64\"/>\n<polygon fill=\"black\" stroke=\"black\" points=\"410.68,-116.04 403.56,-108.19 404.23,-118.76 410.68,-116.04\"/>\n</g>\n<!-- 1st Choice Die Roll&#45;&gt;Host Door Selection Hyp -->\n<g id=\"edge13\" class=\"edge\">\n<title>1st Choice Die Roll&#45;&gt;Host Door Selection Hyp</title>\n<path fill=\"none\" stroke=\"black\" d=\"M479.51,-216.59C492.57,-207.35 509.07,-195.68 523.34,-185.59\"/>\n<polygon fill=\"black\" stroke=\"black\" points=\"525.74,-188.18 531.89,-179.55 521.7,-182.47 525.74,-188.18\"/>\n</g>\n<!-- 2nd Choice Hyp -->\n<g id=\"node10\" class=\"node\">\n<title>2nd Choice Hyp</title>\n<ellipse fill=\"none\" stroke=\"black\" cx=\"585.3\" cy=\"-90\" rx=\"68.79\" ry=\"18\"/>\n<text text-anchor=\"middle\" x=\"585.3\" y=\"-86.3\" font-family=\"Times,serif\" font-size=\"14.00\">2nd Choice Hyp</text>\n</g>\n<!-- 1st Choice Die Roll&#45;&gt;2nd Choice Hyp -->\n<g id=\"edge14\" class=\"edge\">\n<title>1st Choice Die Roll&#45;&gt;2nd Choice Hyp</title>\n<path fill=\"none\" stroke=\"black\" d=\"M525.79,-224.58C579.72,-216.45 648.11,-202.08 665.3,-180 675.12,-167.37 672.87,-158.1 665.3,-144 657.67,-129.79 644.37,-118.75 630.78,-110.51\"/>\n<polygon fill=\"black\" stroke=\"black\" points=\"632.3,-107.35 621.87,-105.5 628.87,-113.45 632.3,-107.35\"/>\n</g>\n<!-- 2nd Choice&#45;&gt;Win or Lose -->\n<g id=\"edge15\" class=\"edge\">\n<title>2nd Choice&#45;&gt;Win or Lose</title>\n<path fill=\"none\" stroke=\"black\" d=\"M418.05,-73.46C431.53,-63.84 449.04,-51.32 463.89,-40.72\"/>\n<polygon fill=\"black\" stroke=\"black\" points=\"466.17,-43.39 472.27,-34.73 462.1,-37.7 466.17,-43.39\"/>\n</g>\n<!-- Host Door Selection Hyp&#45;&gt;2nd Choice Hyp -->\n<g id=\"edge16\" class=\"edge\">\n<title>Host Door Selection Hyp&#45;&gt;2nd Choice Hyp</title>\n<path fill=\"none\" stroke=\"black\" d=\"M562.71,-143.7C566.09,-135.81 570.17,-126.3 573.92,-117.55\"/>\n<polygon fill=\"black\" stroke=\"black\" points=\"577.24,-118.67 577.97,-108.1 570.81,-115.92 577.24,-118.67\"/>\n</g>\n<!-- Strategy Hyp&#45;&gt;2nd Choice Hyp -->\n<g id=\"edge17\" class=\"edge\">\n<title>Strategy Hyp&#45;&gt;2nd Choice Hyp</title>\n<path fill=\"none\" stroke=\"black\" d=\"M198.68,-149.54C206.82,-147.54 215.29,-145.6 223.3,-144 277.73,-133.14 426.55,-112.41 515.52,-100.34\"/>\n<polygon fill=\"black\" stroke=\"black\" points=\"516.09,-103.8 525.53,-98.99 515.15,-96.86 516.09,-103.8\"/>\n</g>\n<!-- 2nd Choice Hyp&#45;&gt;Win or Lose Hyp -->\n<g id=\"edge18\" class=\"edge\">\n<title>2nd Choice Hyp&#45;&gt;Win or Lose Hyp</title>\n<path fill=\"none\" stroke=\"black\" d=\"M609.16,-72.94C623.19,-63.49 641.14,-51.41 656.5,-41.08\"/>\n<polygon fill=\"black\" stroke=\"black\" points=\"658.85,-43.71 665.19,-35.23 654.94,-37.91 658.85,-43.71\"/>\n</g>\n</g>\n</svg>\n",
            "text/plain": [
              "<graphviz.sources.Source at 0x7b2588ae51e0>"
            ]
          },
          "metadata": {},
          "execution_count": 7
        }
      ]
    },
    {
      "cell_type": "markdown",
      "source": [
        "# Listing 9.8 Confirm correct probability of winning given a switch strategy\n",
        "\n",
        "Before we answer our counterfactual questions, we’ll do a quick sanity check to confirm our model can generate the result that the switching strategy leads to a win 2/3s of the time."
      ],
      "metadata": {
        "id": "FSpHBS4tZpVF"
      }
    },
    {
      "cell_type": "code",
      "source": [
        "from pgmpy.inference import VariableElimination    #A\n",
        "infer = VariableElimination(twin_world_graph)    #A\n",
        "strategy_outcome = infer.query(    #B\n",
        "    ['Win or Lose'],    #B\n",
        "    evidence={\"Strategy\": \"switch\"}    #B\n",
        ")    #B\n",
        "print(strategy_outcome)\n",
        "#A Instantiate inference algorithm with variable elimination\n",
        "#B Infer the probability distribution “Win or Lose” given the player uses a switch strategy."
      ],
      "metadata": {
        "colab": {
          "base_uri": "https://localhost:8080/"
        },
        "id": "mPaiAc5TZplK",
        "outputId": "54a876ee-22f9-4fe6-c058-bebf70fe88be"
      },
      "execution_count": 8,
      "outputs": [
        {
          "output_type": "stream",
          "name": "stdout",
          "text": [
            "+-------------------+--------------------+\n",
            "| Win or Lose       |   phi(Win or Lose) |\n",
            "+===================+====================+\n",
            "| Win or Lose(win)  |             0.6667 |\n",
            "+-------------------+--------------------+\n",
            "| Win or Lose(lose) |             0.3333 |\n",
            "+-------------------+--------------------+\n"
          ]
        }
      ]
    },
    {
      "cell_type": "markdown",
      "source": [
        "# Listing 9.9 Infer the counterfactual distributions\n",
        "\n",
        "Finally, we use inference to answer our counterfactual questions.\n",
        "\n",
        "* For a player who stayed with their first door and lost, what is the probability that they would have won if they switched doors?\n",
        "* For a player who lost, what is the probability they would have won if they switched doors?\n",
        "\n",
        "Again, we use variable elimination as our choice of inference algorithm. We’ll use the do function to do the action step and implement the hypothetical condition of switching. Then, we’ll use the inference algorithm VariableElimination to do the abduction and prediction steps all in one go."
      ],
      "metadata": {
        "id": "Ygyd4c2nZ_S9"
      }
    },
    {
      "cell_type": "code",
      "source": [
        "cf_model = do(twin_world_graph, {'Strategy Hyp': 'switch'})    #A\n",
        "infer = VariableElimination(cf_model)    #B\n",
        "\n",
        "cf_dist1 = infer.query(    #C\n",
        "    ['Win or Lose Hyp'],    #C\n",
        "    evidence={'Strategy': 'stay', 'Win or Lose': 'lose'}    #C\n",
        ")    #C\n",
        "print(cf_dist1)\n",
        "\n",
        "cf_dist2 = infer.query(    #D\n",
        "    ['Win or Lose Hyp'],    #D\n",
        "    evidence={'Win or Lose': 'lose'}    #D\n",
        ")    #D\n",
        "print(cf_dist2)\n",
        "#A Action Step: Set \"Strategy Hyp\" to \"switch\" using “do”, and implementation of an ideal intervention.\n",
        "#B We apply variable elimination as our inference algorithm on the parallel world graph.\n",
        "#C The inference query that answers \"For a player who used the 'stay' strategy and lost, would they have won if they used the \"switch\" strategy? Conditional on Strategy == stay and 'Win or Lose' == lose, we infer the probability distribution of 'Win or Lose Hyp' on the parallel world graph.\n",
        "#D The inference query that answers \"For a player who lost, would they have won if they used the \"switch\" strategy. Conditional on 'Win or Lose' == lose, we infer the probability distribution of 'Win or Lose Hyp' on the parallel world graph.\n"
      ],
      "metadata": {
        "colab": {
          "base_uri": "https://localhost:8080/"
        },
        "id": "xh7avBKqZ_dG",
        "outputId": "f52936bf-112e-47b9-c029-ea22c73b0122"
      },
      "execution_count": 9,
      "outputs": [
        {
          "output_type": "stream",
          "name": "stderr",
          "text": [
            "WARNING:pgmpy:Replacing existing CPD for Strategy Hyp\n"
          ]
        },
        {
          "output_type": "stream",
          "name": "stdout",
          "text": [
            "+-----------------------+------------------------+\n",
            "| Win or Lose Hyp       |   phi(Win or Lose Hyp) |\n",
            "+=======================+========================+\n",
            "| Win or Lose Hyp(win)  |                 1.0000 |\n",
            "+-----------------------+------------------------+\n",
            "| Win or Lose Hyp(lose) |                 0.0000 |\n",
            "+-----------------------+------------------------+\n",
            "+-----------------------+------------------------+\n",
            "| Win or Lose Hyp       |   phi(Win or Lose Hyp) |\n",
            "+=======================+========================+\n",
            "| Win or Lose Hyp(win)  |                 0.6667 |\n",
            "+-----------------------+------------------------+\n",
            "| Win or Lose Hyp(lose) |                 0.3333 |\n",
            "+-----------------------+------------------------+\n"
          ]
        }
      ]
    },
    {
      "cell_type": "markdown",
      "source": [
        "# Femur and Height Model\n",
        "\n",
        "We turn back to our femur and height model. To make things more interesting, we'll modify the model by adding a variable for biological sex, which drives both femur length and height. The following image illustrates the new causal DAG.\n",
        "\n",
        "![DAG](https://github.com/altdeep/causalML/blob/master/book/chapter%209/images/causalDAG.png?raw=true)\n",
        "\n",
        "## Listing 9.10 Implement the femur SCM in pyro\n",
        "\n",
        "Notice our questions do not mention anything about sex, so we'll expect to see sex-related variance in our distributions $P(H_{F=46})$ and $P(H_{F=46}|F=44, H=165)$."
      ],
      "metadata": {
        "id": "8tOKlSFoaRyl"
      }
    },
    {
      "cell_type": "code",
      "source": [
        "!pip install pyro-ppl"
      ],
      "metadata": {
        "colab": {
          "base_uri": "https://localhost:8080/"
        },
        "id": "_uTOveS43vA9",
        "outputId": "435ad841-6a0e-46b8-ddea-aaae17a4b0ca"
      },
      "execution_count": 10,
      "outputs": [
        {
          "output_type": "stream",
          "name": "stdout",
          "text": [
            "Requirement already satisfied: pyro-ppl in /usr/local/lib/python3.10/dist-packages (1.9.1)\n",
            "Requirement already satisfied: numpy>=1.7 in /usr/local/lib/python3.10/dist-packages (from pyro-ppl) (1.25.2)\n",
            "Requirement already satisfied: opt-einsum>=2.3.2 in /usr/local/lib/python3.10/dist-packages (from pyro-ppl) (3.3.0)\n",
            "Requirement already satisfied: pyro-api>=0.1.1 in /usr/local/lib/python3.10/dist-packages (from pyro-ppl) (0.1.2)\n",
            "Requirement already satisfied: torch>=2.0 in /usr/local/lib/python3.10/dist-packages (from pyro-ppl) (2.3.0+cu121)\n",
            "Requirement already satisfied: tqdm>=4.36 in /usr/local/lib/python3.10/dist-packages (from pyro-ppl) (4.66.4)\n",
            "Requirement already satisfied: filelock in /usr/local/lib/python3.10/dist-packages (from torch>=2.0->pyro-ppl) (3.15.1)\n",
            "Requirement already satisfied: typing-extensions>=4.8.0 in /usr/local/lib/python3.10/dist-packages (from torch>=2.0->pyro-ppl) (4.12.2)\n",
            "Requirement already satisfied: sympy in /usr/local/lib/python3.10/dist-packages (from torch>=2.0->pyro-ppl) (1.12.1)\n",
            "Requirement already satisfied: networkx in /usr/local/lib/python3.10/dist-packages (from torch>=2.0->pyro-ppl) (2.8.8)\n",
            "Requirement already satisfied: jinja2 in /usr/local/lib/python3.10/dist-packages (from torch>=2.0->pyro-ppl) (3.1.4)\n",
            "Requirement already satisfied: fsspec in /usr/local/lib/python3.10/dist-packages (from torch>=2.0->pyro-ppl) (2023.6.0)\n",
            "Requirement already satisfied: nvidia-cuda-nvrtc-cu12==12.1.105 in /usr/local/lib/python3.10/dist-packages (from torch>=2.0->pyro-ppl) (12.1.105)\n",
            "Requirement already satisfied: nvidia-cuda-runtime-cu12==12.1.105 in /usr/local/lib/python3.10/dist-packages (from torch>=2.0->pyro-ppl) (12.1.105)\n",
            "Requirement already satisfied: nvidia-cuda-cupti-cu12==12.1.105 in /usr/local/lib/python3.10/dist-packages (from torch>=2.0->pyro-ppl) (12.1.105)\n",
            "Requirement already satisfied: nvidia-cudnn-cu12==8.9.2.26 in /usr/local/lib/python3.10/dist-packages (from torch>=2.0->pyro-ppl) (8.9.2.26)\n",
            "Requirement already satisfied: nvidia-cublas-cu12==12.1.3.1 in /usr/local/lib/python3.10/dist-packages (from torch>=2.0->pyro-ppl) (12.1.3.1)\n",
            "Requirement already satisfied: nvidia-cufft-cu12==11.0.2.54 in /usr/local/lib/python3.10/dist-packages (from torch>=2.0->pyro-ppl) (11.0.2.54)\n",
            "Requirement already satisfied: nvidia-curand-cu12==10.3.2.106 in /usr/local/lib/python3.10/dist-packages (from torch>=2.0->pyro-ppl) (10.3.2.106)\n",
            "Requirement already satisfied: nvidia-cusolver-cu12==11.4.5.107 in /usr/local/lib/python3.10/dist-packages (from torch>=2.0->pyro-ppl) (11.4.5.107)\n",
            "Requirement already satisfied: nvidia-cusparse-cu12==12.1.0.106 in /usr/local/lib/python3.10/dist-packages (from torch>=2.0->pyro-ppl) (12.1.0.106)\n",
            "Requirement already satisfied: nvidia-nccl-cu12==2.20.5 in /usr/local/lib/python3.10/dist-packages (from torch>=2.0->pyro-ppl) (2.20.5)\n",
            "Requirement already satisfied: nvidia-nvtx-cu12==12.1.105 in /usr/local/lib/python3.10/dist-packages (from torch>=2.0->pyro-ppl) (12.1.105)\n",
            "Requirement already satisfied: triton==2.3.0 in /usr/local/lib/python3.10/dist-packages (from torch>=2.0->pyro-ppl) (2.3.0)\n",
            "Requirement already satisfied: nvidia-nvjitlink-cu12 in /usr/local/lib/python3.10/dist-packages (from nvidia-cusolver-cu12==11.4.5.107->torch>=2.0->pyro-ppl) (12.5.40)\n",
            "Requirement already satisfied: MarkupSafe>=2.0 in /usr/local/lib/python3.10/dist-packages (from jinja2->torch>=2.0->pyro-ppl) (2.1.5)\n",
            "Requirement already satisfied: mpmath<1.4.0,>=1.1.0 in /usr/local/lib/python3.10/dist-packages (from sympy->torch>=2.0->pyro-ppl) (1.3.0)\n"
          ]
        }
      ]
    },
    {
      "cell_type": "code",
      "source": [
        "import matplotlib.pyplot as plt\n",
        "from torch import tensor\n",
        "import torch.distributions.constraints as constraints\n",
        "\n",
        "import pyro\n",
        "from pyro.distributions import Bernoulli, Delta, Normal\n",
        "from pyro.infer import SVI, Trace_ELBO\n",
        "from pyro import sample\n",
        "from pyro.optim import Adam\n",
        "from pyro.primitives import param\n",
        "\n",
        "from functools import partial    #A\n",
        "PseudoDelta = partial(Normal, scale=.01)    #A\n",
        "\n",
        "def f_sex(N_sex):    #B\n",
        "    return sample(\"sex\", Bernoulli(N_sex))    #B\n",
        "\n",
        "def f_femur(sex, N_femur):    #C\n",
        "    if sex == tensor(1.0):    #C\n",
        "        μ = 43.7 + 2.3 * N_femur    #C\n",
        "    else:    #C\n",
        "        μ = 40.238 + 1.9 * N_femur    #C\n",
        "    return sample(\"femur\", PseudoDelta(μ))    #C\n",
        "\n",
        "def f_height(femur, sex, N_height):    #D\n",
        "    if sex == tensor(1.0):    #D\n",
        "        μ = 61.41 + 2.21 * femur + 7.62 * N_height    #D\n",
        "    else:    #D\n",
        "        μ = 54.1 + 2.47 * femur + 7 * N_height    #D\n",
        "    return sample(\"height\", PseudoDelta(μ))    #D\n",
        "\n",
        "def model(exogenous):\n",
        "    N_sex = sample(\"N_sex\", exogenous['N_sex'])    #E\n",
        "    N_femur = sample(\"N_femur\", exogenous['N_femur'])    #E\n",
        "    N_height = sample(\"N_height\", exogenous['N_height'])    #E\n",
        "\n",
        "    sex = f_sex(N_sex)    #F\n",
        "    femur = f_femur(sex, N_femur)    #F\n",
        "    height = f_height(femur, sex, N_height)    #F\n",
        "    return sex, femur, height\n",
        "\n",
        "exogenous = {    #G\n",
        "    'N_sex': Bernoulli(.5),    #G\n",
        "    'N_femur': Normal(0., 1.),    #G\n",
        "    'N_height': Normal(0., 1.),    #G\n",
        "}    #G\n",
        "\n",
        "#A Endogenous variables are deterministic functions of the exogenous variables. But for variational inference to work, we must assign the endogenous variables a distribution using pyro.sample. We could use the Dirac delta distribution, which would assign all probability value to the output of a variable's assignment function. But gradient-based optimization won't work in this case. So instead, we do approximate inference with a \"pseudo-delta\" distribution, a Normal distribution with a very small scale parameter.\n",
        "#B The assignment function for biological sex.\n",
        "#C The assignment function for femur length in cm. The assignment uses two linear functions, one for each sex.\n",
        "#D The assignment function for height. Again, it uses two linear functions, one for each sex.\n",
        "#E Sample from the exogenous variable prior distributions.\n",
        "#F Obtain the endogenous variables given the exogenous variables.\n",
        "#G Specify the prior distributions for the exogenous variables."
      ],
      "metadata": {
        "id": "X3cdv7fsaWe5"
      },
      "execution_count": 11,
      "outputs": []
    },
    {
      "cell_type": "markdown",
      "source": [
        "## Listing 9.11 Sampling from the intervention distribution representing “if femur length were 46cm”\n",
        "\n",
        "Now, let's pose the conditional hypothetical \"What would height be if femur length was 46cm?\" The following figure illustrates the mutilated DAG representing the ideal intervention that sets femur length to 46.\n",
        "\n",
        "![femur](https://github.com/altdeep/causalML/blob/master/book/chapter%209/images/causalDAG_int.png?raw=true)\n"
      ],
      "metadata": {
        "id": "5suBXKqTamED"
      }
    },
    {
      "cell_type": "code",
      "source": [
        "int_model = pyro.do(model, data={\"femur\": tensor(46.0)})    #A\n",
        "\n",
        "int_samples = []    #B\n",
        "for _ in range(10000):    #B\n",
        "    _, _, int_height = int_model(exogenous)    #B\n",
        "    int_samples.append(float(int_height))    #B\n",
        "\n",
        "plt.hist(    #C\n",
        "    int_samples,    #C\n",
        "    bins=20,    #C\n",
        "    alpha=0.5,    #C\n",
        "    label=\"Intervention Samples\",    #C\n",
        "    density=True    #C\n",
        ")\n",
        "plt.ylim(0., .35)    #C\n",
        "plt.legend()    #C\n",
        "plt.xlabel(\"Height\")    #C\n",
        "plt.show()    #C\n",
        "\n",
        "#A Implement the hypothetical condition \"...if femur length were 46cm\" with pyro.do, which returns a new model that implements the intervention.\n",
        "#B Sample from the intervention distribution.\n",
        "#C Visualize the intervention distribution with a histogram of samples."
      ],
      "metadata": {
        "colab": {
          "base_uri": "https://localhost:8080/",
          "height": 455
        },
        "id": "1vcxBbnVamPO",
        "outputId": "1e238183-b5f5-4bc4-b95a-549194976bc1"
      },
      "execution_count": 12,
      "outputs": [
        {
          "output_type": "display_data",
          "data": {
            "text/plain": [
              "<Figure size 640x480 with 1 Axes>"
            ],
            "image/png": "[encoded data removed]"
          },
          "metadata": {}
        }
      ]
    },
    {
      "cell_type": "markdown",
      "source": [
        "## Listing 9.12 Specifying the guide function for variational inference\n",
        "\n",
        "Our conditional hypothetical question was, \"What would an individual's height be if their femur length was 46cm?\" Now we want to answer the counterfactual: \"An individual's femur is 44cm, and their height is 165cm. What would their height be if femur length was 46cm?\" I.e., we want to extend P(H_{F=46}) to P(H_{F=46}|F=44, H=165).\n",
        "\n",
        "The following image illustrates the corresponding parallel world graph.\n",
        "\n",
        "![counterfactual parallel world graph](https://github.com/altdeep/causalML/blob/master/book/chapter%209/images/causalDAG_cf.png?raw=true)"
      ],
      "metadata": {
        "id": "hczkmOgQa_mj"
      }
    },
    {
      "cell_type": "code",
      "source": [
        "def guide(exogenous):    #A\n",
        "    p = param(\"p\", tensor(.5), constraint=constraints.unit_interval)    #B\n",
        "    n_sex = sample(\"N_sex\", Bernoulli(p))    #B\n",
        "    sex = sample(\"sex\", Bernoulli(n_sex))    #C\n",
        "    n_femur_loc = param(\"n_femur_loc\", tensor(0.0))    #D\n",
        "    n_femur_scale = param(    #D\n",
        "        \"n_femur_scale\",    #D\n",
        "        tensor(1.0),    #D\n",
        "        constraint=constraints.positive    #D\n",
        "    )    #D\n",
        "    n_femur = sample(\"N_femur\", Normal(n_femur_loc, n_femur_scale))    #E\n",
        "    n_height_loc = param(\"n_height_loc\", tensor(0.0))    #E\n",
        "    n_height_scale = param(    #E\n",
        "        \"n_height_scale\",    #E\n",
        "        tensor(1.0),    #E\n",
        "        constraint=constraints.positive    #E\n",
        "    )    #E\n",
        "    n_height = sample(\"N_height\", Normal(n_height_loc, n_height_scale))    #E\n",
        "    femur = sample(\"femur\", Delta(n_femur))    #F\n",
        "    height = sample(\"height\", Delta(n_height))    #F\n",
        "#A The exogenous prior distribution is passed to the guide function. The function won't use this argument, but the signatures of the guide and the model functions must match.\n",
        "#B The guide function tries to approximate P(N_sex|femur, height) from a Bernoulli distribution. Optimization targets the parameter of this Bernoulli distribution.\n",
        "#C n_sex is either 0 or 1. When passed as a parameter to a Bernoulli, the outcome is deterministic.\n",
        "#D The guide function tries to approximate P(N_femur|femur, height) from a Normal distribution. Optimization targets the location and scale parameters of this Normal distribution.\n",
        "#E The guide function tries to approximate P(N_height|femur, height) also from a Normal distribution.\n",
        "#F Since we condition on femur and height, they are not needed in the guide function. But it is useful to have them in case we want to condition on different outcomes in a new analysis.\n"
      ],
      "metadata": {
        "id": "9QET0nsAbG9-"
      },
      "execution_count": 13,
      "outputs": []
    },
    {
      "cell_type": "markdown",
      "source": [
        "## Listing 9.13 Conditioning on actual values of femur and height\n",
        "\n",
        "In our abduction step, first, we condition the model on observed values of femur and height."
      ],
      "metadata": {
        "id": "IFxcpRfsvX4i"
      }
    },
    {
      "cell_type": "code",
      "source": [
        "conditioned_model = pyro.condition(    #A\n",
        "    model,    #A\n",
        "    data={\"femur\": tensor(44.0), \"height\": tensor(165.0)}    #A\n",
        ")    #A\n",
        "#A Condition on actual world outcomes of a 44 cm femur and 165 cm height."
      ],
      "metadata": {
        "id": "rVRX1Q0Kvgs2"
      },
      "execution_count": 14,
      "outputs": []
    },
    {
      "cell_type": "markdown",
      "source": [
        "## Listing 9.14 Implementing the abduction step with variational inference\n",
        "\n",
        "And next, we infer the exogenous variable given femur and height using variational inference."
      ],
      "metadata": {
        "id": "jt67uth0vtfC"
      }
    },
    {
      "cell_type": "code",
      "source": [
        "pyro.util.set_rng_seed(123)    #A\n",
        "pyro.clear_param_store()    #B\n",
        "svi = SVI(    #C\n",
        "          model=conditioned_model,\n",
        "          guide=guide,\n",
        "          optim=Adam({\"lr\": 0.003}),    #D\n",
        "          loss=Trace_ELBO()    #E\n",
        ")\n",
        "\n",
        "losses = []    #F\n",
        "num_steps = 5000    #G\n",
        "for t in range(num_steps):    #G\n",
        "    losses.append(svi.step(exogenous))    #G\n",
        "\n",
        "plt.plot(losses)    #H\n",
        "plt.title(\"Loss During Training\")    #H\n",
        "plt.xlabel(\"step\")    #H\n",
        "plt.ylabel(\"loss\")    #H\n",
        "#A Set seed for reproducibility\n",
        "#B Clear any current parameter values\n",
        "#C Initialize the stochastic variational inference algorithm.\n",
        "#D Optimize the parameters with a learning rate of .003.\n",
        "#E Use (negative) evidence lower bound (ELBO) as the loss function.\n",
        "#F Initialize a list to store loss values for plotting.\n",
        "#G Run the optimization for 5000 steps. The SVI’s step object has the same signature as the model and the guide, so any model/guide arguments must be passed in here.\n",
        "#H Plot the loss during training."
      ],
      "metadata": {
        "colab": {
          "base_uri": "https://localhost:8080/",
          "height": 597
        },
        "id": "cg3rzqLxv3Ro",
        "outputId": "f216c8e0-e7f8-4e4d-89b4-e78746863b01"
      },
      "execution_count": 15,
      "outputs": [
        {
          "output_type": "stream",
          "name": "stderr",
          "text": [
            "/usr/local/lib/python3.10/dist-packages/pyro/util.py:288: UserWarning: Found non-auxiliary vars in guide but not model, consider marking these infer={'is_auxiliary': True}:\n",
            "{'femur', 'height'}\n",
            "  warnings.warn(\n",
            "/usr/local/lib/python3.10/dist-packages/pyro/util.py:288: UserWarning: Found non-auxiliary vars in guide but not model, consider marking these infer={'is_auxiliary': True}:\n",
            "{'femur', 'height'}\n",
            "  warnings.warn(\n"
          ]
        },
        {
          "output_type": "execute_result",
          "data": {
            "text/plain": [
              "Text(0, 0.5, 'loss')"
            ]
          },
          "metadata": {},
          "execution_count": 15
        },
        {
          "output_type": "display_data",
          "data": {
            "text/plain": [
              "<Figure size 640x480 with 1 Axes>"
            ],
            "image/png": "[encoded data removed]"
          },
          "metadata": {}
        }
      ]
    },
    {
      "cell_type": "markdown",
      "source": [
        "## Listing 9.15 Extract parameters of updated exogenous distribution\n",
        "\n",
        "After training is completed, we extract the optimized parameters for our updated exogenous variable distribution."
      ],
      "metadata": {
        "id": "zagdPm2DwGcu"
      }
    },
    {
      "cell_type": "code",
      "source": [
        "n_sex_p = param(\"p\").item()    #A\n",
        "n_femur_loc = param(\"n_femur_loc\").item()    #A\n",
        "n_femur_scale = param(\"n_femur_scale\").item()    #A\n",
        "n_height_loc = param(\"n_height_loc\").item()    #A\n",
        "n_height_scale = param(\"n_height_scale\").item()    #A\n",
        "\n",
        "exogenous_posterior = {    #B\n",
        "    'N_sex': Bernoulli(n_sex_p),    #B\n",
        "    'N_femur': Normal(n_femur_loc, n_femur_scale),    #B\n",
        "    'N_height': Normal(n_height_loc, n_height_scale),    #B\n",
        "}    #B\n",
        "#A Extract the parameter values.\n",
        "#B Do the abduction step by using the optimized parameters to create new “posterior” exogenous variable distributions."
      ],
      "metadata": {
        "id": "Qgaa-yfvwWwP"
      },
      "execution_count": 16,
      "outputs": []
    },
    {
      "cell_type": "markdown",
      "source": [
        "## Listing 9.16 Sampling from the counterfactual distribution.\n",
        "\n",
        "In the Monty Hall example, we built the parallel world model explicitly. In this example, we can just do the action step by using `pyro.do` to get the hypothetical world model and sample from this model using the updated exogenous variable distribution.\n",
        "I repeat the procedure of generating samples from the intervention model that set femur length to 46cm. Only we already did this in Listing 9.11 with the line:\n",
        "\n",
        "`int_model = pyro.do(model, data={\"femur\": tensor(46.0)})`\n",
        "\n",
        "To sample from intervention distribution, we called int_model on our original exogenous variable distribution. Now, for the prediction step, we'll call it again, this time with `exogenous_posterior` instead of exogenous, as `exogenous_posterior` encodes all the information from the \"actual world.\"\n"
      ],
      "metadata": {
        "id": "dZUkOTivwaFE"
      }
    },
    {
      "cell_type": "code",
      "source": [
        "cf_samples = []    #A\n",
        "for _ in range(10000):    #A\n",
        "    _, _, cf_height = int_model(exogenous_posterior)    #A\n",
        "    cf_samples.append(float(cf_height))    #A\n",
        "#A Generate counterfactual samples by passing the posterior on noise variables to the intervention model."
      ],
      "metadata": {
        "id": "JNRm7SoFzUHN"
      },
      "execution_count": 17,
      "outputs": []
    },
    {
      "cell_type": "markdown",
      "source": [
        "## Listing 9.17 Comparing the interventional and counterfactual distibutions\n",
        "\n",
        "Finally, we overlay a histogram of samples from the counterfactual distribution against the interventional distribution histogram and see the clear differences between these distributions.\n"
      ],
      "metadata": {
        "id": "Xx1XD1ZUzfOH"
      }
    },
    {
      "cell_type": "code",
      "source": [
        "plt.hist(    #A\n",
        "    int_samples,    #A\n",
        "    bins=20,    #A\n",
        "    alpha=0.5,    #A\n",
        "    label=\"Intervention Samples\",    #A\n",
        "    density=True    #A\n",
        ")\n",
        "plt.hist(    #A\n",
        "    cf_samples,    #A\n",
        "    bins=20,    #A\n",
        "    alpha=0.5,    #A\n",
        "    label=\"Counterfactual Samples\",    #A\n",
        "    density=True    #A\n",
        ")    #A\n",
        "plt.ylim(0., .35)    #A\n",
        "plt.legend()    #A\n",
        "plt.xlabel(\"Height\")    #A\n",
        "plt.show()    #A\n",
        "#A Overlay both the interventional and counterfactual histograms.\n"
      ],
      "metadata": {
        "colab": {
          "base_uri": "https://localhost:8080/",
          "height": 455
        },
        "id": "dooKckKIznA_",
        "outputId": "d6d69751-ab23-4507-c44e-7c63f57a091c"
      },
      "execution_count": 18,
      "outputs": [
        {
          "output_type": "display_data",
          "data": {
            "text/plain": [
              "<Figure size 640x480 with 1 Axes>"
            ],
            "image/png": "[encoded data removed]"
          },
          "metadata": {}
        }
      ]
    },
    {
      "cell_type": "markdown",
      "source": [
        "# Counterfactual reasoning with an dSprites VAE\n",
        "\n",
        "The dSprites dataset consists of 2D shapes, each rendered in eight possible positions, six possible scales, and forty possible rotations. The shapes are composed of five independent factors: shape, scale, rotation, x-position, and y-position.\n",
        "\n",
        "![dsprites DAG](https://github.com/altdeep/causalML/blob/master/book/chapter%209/images/dsprites_parallel.png?raw=true)\n",
        "\n",
        "## Listing 9.18 Load a dSprites image\n",
        "\n",
        "Let's start by loading an image from the dataset.\n"
      ],
      "metadata": {
        "id": "mToiyu9fzycv"
      }
    },
    {
      "cell_type": "code",
      "source": [
        "import io    #A\n",
        "import urllib.request    #A\n",
        "import numpy as np    #A\n",
        "import torch\n",
        "from matplotlib import pyplot as plt\n",
        "\n",
        "\n",
        "url = 'https://github.com/altdeep/causalML/blob/master/book/chapter%209/sprites_example.npz?raw=true'    #A\n",
        "with urllib.request.urlopen(url) as response:    #A\n",
        "    data = response.read()    #A\n",
        "file = io.BytesIO(data)    #A\n",
        "npzfile = np.load(file)    #A\n",
        "img_dict = dict(npzfile)    #A\n",
        "img = torch.tensor(img_dict['image'].astype(np.float32) )   #B\n",
        "plt.imshow(img, cmap='Greys_r', interpolation='nearest')    #B\n",
        "plt.axis('off')    #B\n",
        "plt.title('original')    #B\n",
        "plt.show()    #B\n",
        "causal_factor = torch.from_numpy(img_dict['label']).unsqueeze(0)    #C\n",
        "print(causal_factor)    #C\n",
        "#A Download dSprites example from GitHub and load it.\n",
        "#B Download the dSprites image.\n",
        "#C The causal factors of the example is [0  0  1 13 26 14], the first element is always 0, the second element corresponds to \"square\" and is represented by 0. The remaining elements correspond to scale, orientation, and X and Y positions.\n"
      ],
      "metadata": {
        "colab": {
          "base_uri": "https://localhost:8080/",
          "height": 446
        },
        "id": "RX_TLRgFz21_",
        "outputId": "3cd48ff7-4678-4e70-dbd4-3e2dd6fc273f"
      },
      "execution_count": 19,
      "outputs": [
        {
          "output_type": "display_data",
          "data": {
            "text/plain": [
              "<Figure size 640x480 with 1 Axes>"
            ],
            "image/png": "[encoded data removed]"
          },
          "metadata": {}
        },
        {
          "output_type": "stream",
          "name": "stdout",
          "text": [
            "tensor([[ 0,  0,  1, 13, 26, 14]])\n"
          ]
        }
      ]
    },
    {
      "cell_type": "markdown",
      "source": [
        "## Listing 9.19 Load the encoder of causal factors\n",
        "\n",
        "First, I load a pretrained encoder to map from the image to the exogenous variable for the causal factors. In this simple model, we'll assume the assignment functions for the exogenous variables of the causal factors and the causal factors are identity functions, i.e., the causal factors and their exogenous variables will have the same values."
      ],
      "metadata": {
        "id": "TiyK1XXrz8bG"
      }
    },
    {
      "cell_type": "code",
      "source": [
        "import requests\n",
        "import torch.nn as nn\n",
        "\n",
        "CARDINALITY = [1, 3, 6, 40, 32, 32]    #A\n",
        "\n",
        "class EncoderCausalFactors(nn.Module):    #B\n",
        "    def __init__(self, image_dim, factor_dim):\n",
        "        super(EncoderCausalFactors, self).__init__()\n",
        "        self.image_dim = image_dim\n",
        "        self.factor_dim = factor_dim\n",
        "        hidden_dim = 1000    #C\n",
        "        self.fc1 = nn.Linear(image_dim, hidden_dim)    #D\n",
        "        self.fc2 = nn.Linear(hidden_dim, hidden_dim)    #D\n",
        "        self.fc3 = nn.Linear(hidden_dim, factor_dim)    #D\n",
        "        self.softplus = nn.Softplus()    #D\n",
        "        self.sigmoid = nn.Sigmoid()    #E\n",
        "\n",
        "    def forward(self, img):\n",
        "        img = img.reshape(-1, self.image_dim)    #F\n",
        "        hidden1 = self.softplus(self.fc1(img))    #G\n",
        "        hidden2 = self.softplus(self.fc2(hidden1))    #G\n",
        "        p_loc = self.sigmoid(self.fc3(hidden2))    #H\n",
        "        return p_loc    #H\n",
        "\n",
        "encoder_n_causal_factors = EncoderCausalFactors(    #I\n",
        "    image_dim=64*64,    #I\n",
        "    factor_dim=sum(CARDINALITY)    #I\n",
        ")    #I\n",
        "\n",
        "url = 'https://github.com/altdeep/causalML/raw/master/book/chapter%209/sprites-model-encoder-causal-factors.pt'    #J\n",
        "response = requests.get(url)    #J\n",
        "response.raise_for_status()    #J\n",
        "with open('temp_weights.pt', 'wb') as f:    #J\n",
        "    f.write(response.content)    #J\n",
        "state_dict = torch.load(    #J\n",
        "    'temp_weights.pt',    #J\n",
        "    map_location=torch.device('cpu')    #J\n",
        ")    #J\n",
        "encoder_n_causal_factors.load_state_dict(state_dict)    #J\n",
        "\n",
        "#A Cardinality in each dimensionality of the causal factors\n",
        "#B Encoder for the the vector of exogenous parents of the causal factors.\n",
        "#C The hidden layers have a length of 1000.\n",
        "#D Using linear transforms passed through softplus activation functions.\n",
        "#E The final activation is a sigmoid function.\n",
        "#F Flatten the image.\n",
        "#G Calculate the hidden layers.\n",
        "#H The output layer generates a probability vector passed OneHotCategorical distribution.\n",
        "#I Initialize the encoder. The image dimension is 64x64 pixels and the six elements of the causal factor vector are one-hot encoded into a vector of length 1+3+6+40+32+32=114\n",
        "#J Download the pre-trained weights to a temporary file and load them into the model. You can download the weights from 'https://github.com/altdeep/causalML/blob/master/book/chapter%209/sprites-model-encoder-causal-factors.pt?raw=true'"
      ],
      "metadata": {
        "colab": {
          "base_uri": "https://localhost:8080/"
        },
        "id": "ju9-kjpo0IzW",
        "outputId": "d1944697-8cd9-4f57-d12d-031674d16d56"
      },
      "execution_count": 20,
      "outputs": [
        {
          "output_type": "execute_result",
          "data": {
            "text/plain": [
              "<All keys matched successfully>"
            ]
          },
          "metadata": {},
          "execution_count": 20
        }
      ]
    },
    {
      "cell_type": "markdown",
      "source": [
        "# Listing 9.20 Generate examples of causal exogenous factors\n",
        "\n",
        "First, I test that the encoder can recover the causal factors from the image."
      ],
      "metadata": {
        "id": "uBM6ZPDc03Un"
      }
    },
    {
      "cell_type": "code",
      "source": [
        "from pyro import distributions as dist\n",
        "\n",
        "def decode_one_hot(factor_encoded, cardinality=CARDINALITY):    #A\n",
        "    split = [    #A\n",
        "        torch.split(element, cardinality)     #A\n",
        "        for element in factor_encoded    #A\n",
        "    ]    #A\n",
        "    labels = [[int(torch.argmax(vec)) for vec in item] for item in split]    #A\n",
        "    return torch.tensor(labels)    #A\n",
        "\n",
        "def sample_one_hot(p_encoded, cardinality=CARDINALITY):    #B\n",
        "    split = [torch.split(element, cardinality) for element in p_encoded]    #B\n",
        "    sample_list = [    #B\n",
        "        [    #B\n",
        "            dist.OneHotCategorical(p_vec).sample()    #B\n",
        "            for p_vec in item    #B\n",
        "        ] for item in split    #B\n",
        "    ]    #B\n",
        "    sample = torch.stack([    #B\n",
        "        torch.cat(samples, -1)    #B\n",
        "        for samples in sample_list    #B\n",
        "    ])    #B\n",
        "    return sample    #B\n",
        "\n",
        "inferred_cause_p = encoder_n_causal_factors.forward(img)    #C\n",
        "sampled_factors = sample_one_hot(    #C\n",
        "    inferred_cause_p    #C\n",
        ")    #C\n",
        "print(decode_one_hot(sampled_factors))    #C\n",
        "#A Helper function that decodes the one-hot encoded output of the encoder.\n",
        "#B Samples from the output probability vector of the encoder_causal_factors.\n",
        "#C Use encoder to predict causal factors."
      ],
      "metadata": {
        "colab": {
          "base_uri": "https://localhost:8080/"
        },
        "id": "u31ZhIpG03fE",
        "outputId": "cffe2a48-6d35-45b3-f190-757476e52955"
      },
      "execution_count": 21,
      "outputs": [
        {
          "output_type": "stream",
          "name": "stdout",
          "text": [
            "tensor([[ 0,  0,  1, 13, 26, 14]])\n"
          ]
        }
      ]
    },
    {
      "cell_type": "markdown",
      "source": [
        "## Listing 9.21 An encoder for inference of $N_I$\n",
        "\n",
        "Next, we initialize an encoder that we'll use for inference of NI, the exogenous variable for the image. This encoder takes an image and an instance of the causal factor vector as an input."
      ],
      "metadata": {
        "id": "vxuMCZhj1SoF"
      }
    },
    {
      "cell_type": "code",
      "source": [
        "class EncoderNImage(nn.Module):    #A\n",
        "    def __init__(self, image_dim, factor_dim, n_image_dim):\n",
        "        super(EncoderNImage, self).__init__()\n",
        "        self.image_dim = image_dim\n",
        "        self.factor_dim = factor_dim\n",
        "        self.n_image_dim = n_image_dim\n",
        "        hidden_dim = 1000\n",
        "        self.fc1 = nn.Linear(\n",
        "            self.image_dim + self.factor_dim, hidden_dim    #B\n",
        "        )    #B\n",
        "        self.fc2 = nn.Linear(hidden_dim, hidden_dim)    #B\n",
        "        self.fc31 = nn.Linear(hidden_dim, n_image_dim)    #B\n",
        "        self.fc32 = nn.Linear(hidden_dim, n_image_dim)    #B\n",
        "        self.softplus = nn.Softplus()    #B\n",
        "\n",
        "    def forward(self, img, factor):\n",
        "        img = img.reshape(-1, self.image_dim)    #C\n",
        "        inputs = torch.cat((img, factor), -1)    #D\n",
        "        hidden1 = self.softplus(self.fc1(inputs))    #E\n",
        "        hidden2 = self.softplus(self.fc2(hidden1))    #E\n",
        "        n_image_loc = self.fc31(hidden2)    #F\n",
        "        n_image_scale = torch.exp(self.fc32(hidden2))    #F\n",
        "        return n_image_loc, n_image_scale    #F\n",
        "\n",
        "def encode_one_hot(factor, cardinality=CARDINALITY):    #G\n",
        "    new_factor = []    #G\n",
        "    for i, factor_length in enumerate(cardinality):    #G\n",
        "        new_factor.append(    #G\n",
        "            torch.nn.functional.one_hot(    #G\n",
        "                factor[:,i].to(torch.int64), int(factor_length)    #G\n",
        "            )    #G\n",
        "        )    #G\n",
        "    new_factor = torch.cat(new_factor, -1)    #G\n",
        "    return new_factor.to(torch.float32)    #G\n",
        "\n",
        "encoder_n_image = EncoderNImage(    #H\n",
        "    image_dim=64*64,    #H\n",
        "    factor_dim=sum(CARDINALITY),    #H\n",
        "    n_image_dim=50    #H\n",
        ")    #H\n",
        "url = \"https://github.com/altdeep/causalML/raw/master/book/chapter%209/sprites-model-encoder-n-image.pt\"    #I\n",
        "response = requests.get(url)    #I\n",
        "response.raise_for_status()    #I\n",
        "with open('temp_weights.pt', 'wb') as f:    #I\n",
        "    f.write(response.content)    #I\n",
        "state_dict = torch.load(    #I\n",
        "    'temp_weights.pt',    #I\n",
        "    map_location=torch.device('cpu')    #I\n",
        ")    #I\n",
        "encoder_n_image.load_state_dict(state_dict)    #I\n",
        "\n",
        "n_image_loc, n_image_scale = encoder_n_image.forward(    #J\n",
        "    img,    #J\n",
        "    encode_one_hot(causal_factor)    #J\n",
        ")    #J\n",
        "n_image = torch.normal(n_image_loc, n_image_scale)    #K\n",
        "\n",
        "#A Encoder used for inference of $N_I$, which serves as both the exogenous variable for the image in causal terms, and the encoding of the image in VAE terms.\n",
        "#B Using linear transforms passed into a softplus activation function.\n",
        "#C Flatten the image.\n",
        "#D Concatenate the image and the causal factor vector.\n",
        "#E Calculate the hidden layers.\n",
        "#F Calculate the location and scale parameter of multivariate normal distribution on N_image.\n",
        "#G A helper function one-hot encoding a factor.\n",
        "#H Initialize the encoder.\n",
        "#I Load the pretrained weights. The weights are available from https://github.com/altdeep/causalML/blob/master/book/chapter%209/sprites-model-encoder-n-image.pt\n",
        "#J pass the image and causal factors into the encoder and obtain $N_I$ location and scale parameters\n",
        "#K Generate from the posterior distribution on $N_I$."
      ],
      "metadata": {
        "id": "xR98jsmy1l0v"
      },
      "execution_count": 22,
      "outputs": []
    },
    {
      "cell_type": "markdown",
      "source": [
        "## Listing 9.22 Load and run the decoder that maps causes and $N_I$ to images\n",
        "\n",
        "Finally, we load a decoder that maps from Ni and a causal factor back to an image. In causal terms, the decoder is part of the assignment function for the image."
      ],
      "metadata": {
        "id": "U0P-Sl0i2J-l"
      }
    },
    {
      "cell_type": "code",
      "source": [
        "class Decoder(nn.Module):    #A\n",
        "    def __init__(self, image_dim, factor_dim, n_image_dim):\n",
        "        super(Decoder, self).__init__()\n",
        "        hidden_dim = 1000\n",
        "        self.fc1 = nn.Linear(n_image_dim + factor_dim, hidden_dim)    #B\n",
        "        self.fc2 = nn.Linear(hidden_dim, hidden_dim)    #B\n",
        "        self.fc3 = nn.Linear(hidden_dim, hidden_dim)    #B\n",
        "        self.fc4 = nn.Linear(hidden_dim, image_dim)    #B\n",
        "        self.softplus = nn.Softplus()    #B\n",
        "        self.sigmoid = nn.Sigmoid()    #B\n",
        "\n",
        "    def forward(self, n_image, factor):\n",
        "        inputs = torch.cat((n_image, factor), -1)    #C\n",
        "        hidden1 = self.softplus(self.fc1(inputs))    #D\n",
        "        hidden2 = self.softplus(self.fc2(hidden1))    #D\n",
        "        hidden3 = self.softplus(self.fc3(hidden2))    #D\n",
        "        p_img = self.sigmoid(self.fc4(hidden3))    #E\n",
        "        return p_img    #E\n",
        "\n",
        "decoder = Decoder(    #F\n",
        "    image_dim=64*64,    #F\n",
        "    factor_dim=sum(CARDINALITY),    #F\n",
        "    n_image_dim=50    #F\n",
        ")    #F\n",
        "\n",
        "url = \"https://github.com/altdeep/causalML/raw/master/book/chapter%209/sprites-model-decoder.pt\"    #G\n",
        "response = requests.get(url)    #G\n",
        "response.raise_for_status()    #G\n",
        "with open('temp_weights.pt', 'wb') as f:    #G\n",
        "    f.write(response.content)    #G\n",
        "state_dict = torch.load(    #G\n",
        "    'temp_weights.pt',    #G\n",
        "    map_location=torch.device('cpu')    #G\n",
        ")    #G\n",
        "decoder.load_state_dict(state_dict)    #G\n",
        "#A The decoder maps from causal factors and N_image to generate a parameter for a multivariate Bernoulli distribution on images.\n",
        "#B The model uses linear transforms, a softplus activate for hidden layers, and sigmoid activate on the output layer.\n",
        "#C The network concatenates n_image and factors in the input layer.\n",
        "#D The input is passed through three hidden layers with softplus activation functions.\n",
        "#E The output is a probability parameter passed to a multivariate Bernoulli distribution on image pixels.\n",
        "#F Initialize the decoder.\n",
        "#G Load the pretrained weights. The weights are available at https://github.com/altdeep/causalML/blob/master/book/chapter%209/sprites-model-decoder.pt"
      ],
      "metadata": {
        "id": "BwEE1fDT2S2M",
        "colab": {
          "base_uri": "https://localhost:8080/"
        },
        "outputId": "92ba8bfa-a6a5-4484-c3e5-9d17246de3cf"
      },
      "execution_count": 23,
      "outputs": [
        {
          "output_type": "execute_result",
          "data": {
            "text/plain": [
              "<All keys matched successfully>"
            ]
          },
          "metadata": {},
          "execution_count": 23
        }
      ]
    },
    {
      "cell_type": "markdown",
      "source": [
        "## Listing 9.23 Helper function for plotting counterfactual image\n",
        "\n",
        "Before we generate the counterfactual image, we create a helper function to plot it."
      ],
      "metadata": {
        "id": "7fsuRWqV2bAl"
      }
    },
    {
      "cell_type": "code",
      "source": [
        "def compare_reconstruction(original, generated):    #A\n",
        "    fig = plt.figure()    #A\n",
        "    ax0 = fig.add_subplot(121)    #A\n",
        "    plt.imshow(    #A\n",
        "        original.cpu().reshape(64, 64),    #A\n",
        "        cmap='Greys_r',    #A\n",
        "        interpolation='nearest'    #A\n",
        "    )    #A\n",
        "    plt.axis('off')    #A\n",
        "    plt.title('actual')    #A\n",
        "    ax1 = fig.add_subplot(122)    #A\n",
        "    plt.imshow(    #A\n",
        "        generated.reshape(64, 64),    #A\n",
        "        cmap='Greys_r', interpolation='nearest')    #A\n",
        "    plt.axis('off')    #A\n",
        "    plt.title('counterfactual')    #A\n",
        "    plt.show()    #A\n",
        "#A The help function plots the original and counterfactual image side-by-side"
      ],
      "metadata": {
        "id": "l2D4nJkb2gl8"
      },
      "execution_count": 24,
      "outputs": []
    },
    {
      "cell_type": "markdown",
      "source": [
        "## Listing 9.24 Create exogenous distribution and assignment function for the image\n",
        "\n",
        "Now, we specify the SCM. We write a function `p_n_image` that generates from $P(N_{image})$ and fan assignment function $f_{image}$ for the image.\n"
      ],
      "metadata": {
        "id": "r1WhQ2aE2l1f"
      }
    },
    {
      "cell_type": "code",
      "source": [
        "def p_n_image(n_image_params):    #A\n",
        "    n_image_loc, n_image_scale, n_unif_upper = n_image_params    #B\n",
        "    n_image_norm = dist.Normal(n_image_loc, n_image_scale    #C\n",
        "    ).to_event(1).sample()    #C\n",
        "    n_image_unif = dist.Uniform(0, n_unif_upper).expand(    #D\n",
        "        torch.Size([1, 64*64])    #D\n",
        "    ).sample()    #D\n",
        "    n_image = n_image_norm, n_image_unif    #E\n",
        "    return n_image\n",
        "\n",
        "def f_image(factor, n_image):    #F\n",
        "    n_image_norm, n_image_unif = n_image    #G\n",
        "    p_output = decoder.forward(    #H\n",
        "        n_image_norm,    #H\n",
        "        encode_one_hot(factor)    #H\n",
        "    )    #H\n",
        "    sim_img = (n_image_unif <= p_output).int()    #I\n",
        "    return sim_img\n",
        "#A A function that generates a variate from the N_image exogenous distribution.\n",
        "#B The parameters the N_image's distribution include location and scale parameter for a normal distribution and the upper bound of a uniform distribution.\n",
        "#C Sample a normal random variate from the Normal distribution.\n",
        "#D Sample a uniform random variate from a Uniform distribution.\n",
        "#E We combine these into a single n_image object.\n",
        "#F Assignment function for the image.\n",
        "#G The exogenous noise variable decomposes into one normal and one uniform random variate.\n",
        "#H The normal random variate is passed through the decoder to get a probability vector for the pixels.\n",
        "#I Each pixel is set deterministically with an indicator function that returns 1 if an element of the uniform variate is less than the corresponding element of the probability vector, or otherwise returns 0.\n"
      ],
      "metadata": {
        "id": "cCquV6uO2tQS"
      },
      "execution_count": 25,
      "outputs": []
    },
    {
      "cell_type": "markdown",
      "source": [
        "# Listing 9.25 Generate a counterfactual image\n",
        "\n",
        "Finally, we can run through the steps of the counterfactual inference algorithm to answer the question, \"what would this image look like if it was a heart?\""
      ],
      "metadata": {
        "id": "D6aewwPm23_n"
      }
    },
    {
      "cell_type": "code",
      "source": [
        "def abduct(img, factor, smoother=1e-3):    #A\n",
        "    n_image_loc, n_image_scale = encoder_n_image.forward(    #B\n",
        "        img, encode_one_hot(factor)    #B\n",
        "    )    #B\n",
        "    n_unif_upper = decoder.forward(    #C\n",
        "        n_image_loc,    #C\n",
        "        encode_one_hot(factor)    #C\n",
        "    )    #C\n",
        "    n_unif_upper = n_unif_upper * (1 - 2 * smoother) + smoother    #C\n",
        "    p_image_params = n_image_loc, n_image_scale, n_unif_upper    #D\n",
        "    return p_image_params\n",
        "\n",
        "def do_action(factor, element=1, val=2):    #E\n",
        "    intervened_factor = factor.clone()    #E\n",
        "    intervened_factor[0][element] = val    #E\n",
        "    return intervened_factor    #E\n",
        "\n",
        "def predict(intervened_factor, n_image_params):    #F\n",
        "    n_image = p_n_image(n_image_params)    #F\n",
        "    sim_img = f_image(intervened_factor, n_image)    #F\n",
        "    return sim_img    #F\n",
        "\n",
        "def counterfactual(img, factor):    #G\n",
        "    p_image_params = abduct(img, factor)    #G\n",
        "    intervened_factor = do_action(factor)    #G\n",
        "    pred_recon = predict(intervened_factor, p_image_params)    #G\n",
        "    compare_reconstruction(img, pred_recon)    #G\n",
        "\n",
        "counterfactual(img, causal_factor)    #H\n",
        "#A Abduction step: Infer the exogenous variable given the image.\n",
        "#B Infer the parameters of N_I. First, this includes two parameters of a normal distribution.\n",
        "#C Secondly, we infer the upper bound of a uniform distribution and apply smoothing so it is not exactly 1 or 0.\n",
        "#D Combine these together into one inferred parameter set.\n",
        "#E Action step: Apply the intervention that sets the shape element to \"heart\" (represented by the integer 2).\n",
        "#F Prediction step: Generate n_image from P(N_image), pass this through assignment function to generate an image.\n",
        "#G Apply all three steps, \"abduct\" the n_image, apply the intervention, forward generate the counterfactual image.\n",
        "#H Plot the result."
      ],
      "metadata": {
        "id": "Fr_v-ICe29Eu",
        "colab": {
          "base_uri": "https://localhost:8080/",
          "height": 284
        },
        "outputId": "ca2c5f4b-c1cc-47bb-a85b-95cc3a5e88f3"
      },
      "execution_count": 26,
      "outputs": [
        {
          "output_type": "display_data",
          "data": {
            "text/plain": [
              "<Figure size 640x480 with 2 Axes>"
            ],
            "image/png": "[encoded data removed]"
          },
          "metadata": {}
        }
      ]
    }
  ]
}