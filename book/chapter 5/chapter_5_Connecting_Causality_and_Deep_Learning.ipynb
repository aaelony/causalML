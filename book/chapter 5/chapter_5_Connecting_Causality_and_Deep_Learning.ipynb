{
  "cells": [
    {
      "cell_type": "markdown",
      "metadata": {
        "id": "h1ispDL1G4Fc"
      },
      "source": [
        "# Chapter 5 - Connecting Causality and Deep Learning\n",
        "\n",
        "The notebook is a code companion to chapter 5 of the book [Causal AI](https://www.manning.com/books/causal-ai) by [Robert Osazuwa Ness](https://www.linkedin.com/in/osazuwa/).\n",
        "\n",
        "<a href=\"https://colab.research.google.com/github/altdeep/causalML/blob/master/book/chapter%205/chapter_5_Connecting_Causality_and_Deep_Learning.ipynb\" target=\"_parent\"><img src=\"https://colab.research.google.com/assets/colab-badge.svg\" alt=\"Open In Colab\"/></a>\n",
        "\n",
        "This notebook was written in Google Colab using Python version 3.10.12. The versions of the main libraries include:\n",
        "* pyro version 1.84\n",
        "* torch version 2.2.1\n",
        "* pandas version 2.0.3\n",
        "* torchvision vserions 0.18.0+cu121\n",
        "\n",
        "\n"
      ]
    },
    {
      "cell_type": "markdown",
      "source": [
        "Pgmpy allows us to fit conventional Bayesian networks on a causal DAG. However, with modern deep probabilistic machine learning frameworks like pyro, we can build more nuanced and powerful causal models.  In this tutorial, we fit a variational autoencoder on a causal DAG that represents a dataset that mixes handwritten MNIST digits and typed T-MNIST images.\n",
        "\n",
        "![TMNIST-MNIST](https://github.com/altdeep/causalML/blob/master/book/chapter%205/images/MNIST-TMNIST.png?raw=1)"
      ],
      "metadata": {
        "id": "UVk-jq9hxOYo"
      }
    },
    {
      "cell_type": "code",
      "execution_count": 1,
      "metadata": {
        "id": "a_gEnU8rWN3e",
        "colab": {
          "base_uri": "https://localhost:8080/"
        },
        "outputId": "ddeb6bd9-07ae-4db7-ca56-9c1d2d6a5603"
      },
      "outputs": [
        {
          "output_type": "stream",
          "name": "stdout",
          "text": [
            "Collecting pyro-ppl==1.8.4\n",
            "  Downloading pyro_ppl-1.8.4-py3-none-any.whl (730 kB)\n",
            "\u001b[?25l     \u001b[90m━━━━━━━━━━━━━━━━━━━━━━━━━━━━━━━━━━━━━━━━\u001b[0m \u001b[32m0.0/730.7 kB\u001b[0m \u001b[31m?\u001b[0m eta \u001b[36m-:--:--\u001b[0m\r\u001b[2K     \u001b[91m━━━━━━━━━━━━━━━━━━━━━━━━━━━━━━━━━━━━━━\u001b[0m\u001b[91m╸\u001b[0m\u001b[90m━\u001b[0m \u001b[32m706.6/730.7 kB\u001b[0m \u001b[31m21.0 MB/s\u001b[0m eta \u001b[36m0:00:01\u001b[0m\r\u001b[2K     \u001b[90m━━━━━━━━━━━━━━━━━━━━━━━━━━━━━━━━━━━━━━━━\u001b[0m \u001b[32m730.7/730.7 kB\u001b[0m \u001b[31m15.3 MB/s\u001b[0m eta \u001b[36m0:00:00\u001b[0m\n",
            "\u001b[?25hRequirement already satisfied: numpy>=1.7 in /usr/local/lib/python3.10/dist-packages (from pyro-ppl==1.8.4) (1.25.2)\n",
            "Requirement already satisfied: opt-einsum>=2.3.2 in /usr/local/lib/python3.10/dist-packages (from pyro-ppl==1.8.4) (3.3.0)\n",
            "Collecting pyro-api>=0.1.1 (from pyro-ppl==1.8.4)\n",
            "  Downloading pyro_api-0.1.2-py3-none-any.whl (11 kB)\n",
            "Requirement already satisfied: torch>=1.11.0 in /usr/local/lib/python3.10/dist-packages (from pyro-ppl==1.8.4) (2.3.0+cu121)\n",
            "Requirement already satisfied: tqdm>=4.36 in /usr/local/lib/python3.10/dist-packages (from pyro-ppl==1.8.4) (4.66.4)\n",
            "Requirement already satisfied: filelock in /usr/local/lib/python3.10/dist-packages (from torch>=1.11.0->pyro-ppl==1.8.4) (3.15.4)\n",
            "Requirement already satisfied: typing-extensions>=4.8.0 in /usr/local/lib/python3.10/dist-packages (from torch>=1.11.0->pyro-ppl==1.8.4) (4.12.2)\n",
            "Requirement already satisfied: sympy in /usr/local/lib/python3.10/dist-packages (from torch>=1.11.0->pyro-ppl==1.8.4) (1.13.0)\n",
            "Requirement already satisfied: networkx in /usr/local/lib/python3.10/dist-packages (from torch>=1.11.0->pyro-ppl==1.8.4) (3.3)\n",
            "Requirement already satisfied: jinja2 in /usr/local/lib/python3.10/dist-packages (from torch>=1.11.0->pyro-ppl==1.8.4) (3.1.4)\n",
            "Requirement already satisfied: fsspec in /usr/local/lib/python3.10/dist-packages (from torch>=1.11.0->pyro-ppl==1.8.4) (2023.6.0)\n",
            "Collecting nvidia-cuda-nvrtc-cu12==12.1.105 (from torch>=1.11.0->pyro-ppl==1.8.4)\n",
            "  Using cached nvidia_cuda_nvrtc_cu12-12.1.105-py3-none-manylinux1_x86_64.whl (23.7 MB)\n",
            "Collecting nvidia-cuda-runtime-cu12==12.1.105 (from torch>=1.11.0->pyro-ppl==1.8.4)\n",
            "  Using cached nvidia_cuda_runtime_cu12-12.1.105-py3-none-manylinux1_x86_64.whl (823 kB)\n",
            "Collecting nvidia-cuda-cupti-cu12==12.1.105 (from torch>=1.11.0->pyro-ppl==1.8.4)\n",
            "  Using cached nvidia_cuda_cupti_cu12-12.1.105-py3-none-manylinux1_x86_64.whl (14.1 MB)\n",
            "Collecting nvidia-cudnn-cu12==8.9.2.26 (from torch>=1.11.0->pyro-ppl==1.8.4)\n",
            "  Using cached nvidia_cudnn_cu12-8.9.2.26-py3-none-manylinux1_x86_64.whl (731.7 MB)\n",
            "Collecting nvidia-cublas-cu12==12.1.3.1 (from torch>=1.11.0->pyro-ppl==1.8.4)\n",
            "  Using cached nvidia_cublas_cu12-12.1.3.1-py3-none-manylinux1_x86_64.whl (410.6 MB)\n",
            "Collecting nvidia-cufft-cu12==11.0.2.54 (from torch>=1.11.0->pyro-ppl==1.8.4)\n",
            "  Using cached nvidia_cufft_cu12-11.0.2.54-py3-none-manylinux1_x86_64.whl (121.6 MB)\n",
            "Collecting nvidia-curand-cu12==10.3.2.106 (from torch>=1.11.0->pyro-ppl==1.8.4)\n",
            "  Using cached nvidia_curand_cu12-10.3.2.106-py3-none-manylinux1_x86_64.whl (56.5 MB)\n",
            "Collecting nvidia-cusolver-cu12==11.4.5.107 (from torch>=1.11.0->pyro-ppl==1.8.4)\n",
            "  Using cached nvidia_cusolver_cu12-11.4.5.107-py3-none-manylinux1_x86_64.whl (124.2 MB)\n",
            "Collecting nvidia-cusparse-cu12==12.1.0.106 (from torch>=1.11.0->pyro-ppl==1.8.4)\n",
            "  Using cached nvidia_cusparse_cu12-12.1.0.106-py3-none-manylinux1_x86_64.whl (196.0 MB)\n",
            "Collecting nvidia-nccl-cu12==2.20.5 (from torch>=1.11.0->pyro-ppl==1.8.4)\n",
            "  Using cached nvidia_nccl_cu12-2.20.5-py3-none-manylinux2014_x86_64.whl (176.2 MB)\n",
            "Collecting nvidia-nvtx-cu12==12.1.105 (from torch>=1.11.0->pyro-ppl==1.8.4)\n",
            "  Using cached nvidia_nvtx_cu12-12.1.105-py3-none-manylinux1_x86_64.whl (99 kB)\n",
            "Requirement already satisfied: triton==2.3.0 in /usr/local/lib/python3.10/dist-packages (from torch>=1.11.0->pyro-ppl==1.8.4) (2.3.0)\n",
            "Collecting nvidia-nvjitlink-cu12 (from nvidia-cusolver-cu12==11.4.5.107->torch>=1.11.0->pyro-ppl==1.8.4)\n",
            "  Downloading nvidia_nvjitlink_cu12-12.5.82-py3-none-manylinux2014_x86_64.whl (21.3 MB)\n",
            "\u001b[2K     \u001b[90m━━━━━━━━━━━━━━━━━━━━━━━━━━━━━━━━━━━━━━━━\u001b[0m \u001b[32m21.3/21.3 MB\u001b[0m \u001b[31m64.4 MB/s\u001b[0m eta \u001b[36m0:00:00\u001b[0m\n",
            "\u001b[?25hRequirement already satisfied: MarkupSafe>=2.0 in /usr/local/lib/python3.10/dist-packages (from jinja2->torch>=1.11.0->pyro-ppl==1.8.4) (2.1.5)\n",
            "Requirement already satisfied: mpmath<1.4,>=1.1.0 in /usr/local/lib/python3.10/dist-packages (from sympy->torch>=1.11.0->pyro-ppl==1.8.4) (1.3.0)\n",
            "Installing collected packages: pyro-api, nvidia-nvtx-cu12, nvidia-nvjitlink-cu12, nvidia-nccl-cu12, nvidia-curand-cu12, nvidia-cufft-cu12, nvidia-cuda-runtime-cu12, nvidia-cuda-nvrtc-cu12, nvidia-cuda-cupti-cu12, nvidia-cublas-cu12, nvidia-cusparse-cu12, nvidia-cudnn-cu12, nvidia-cusolver-cu12, pyro-ppl\n",
            "Successfully installed nvidia-cublas-cu12-12.1.3.1 nvidia-cuda-cupti-cu12-12.1.105 nvidia-cuda-nvrtc-cu12-12.1.105 nvidia-cuda-runtime-cu12-12.1.105 nvidia-cudnn-cu12-8.9.2.26 nvidia-cufft-cu12-11.0.2.54 nvidia-curand-cu12-10.3.2.106 nvidia-cusolver-cu12-11.4.5.107 nvidia-cusparse-cu12-12.1.0.106 nvidia-nccl-cu12-2.20.5 nvidia-nvjitlink-cu12-12.5.82 nvidia-nvtx-cu12-12.1.105 pyro-api-0.1.2 pyro-ppl-1.8.4\n",
            "Requirement already satisfied: torchvision in /usr/local/lib/python3.10/dist-packages (0.18.0+cu121)\n",
            "Requirement already satisfied: numpy in /usr/local/lib/python3.10/dist-packages (from torchvision) (1.25.2)\n",
            "Requirement already satisfied: torch==2.3.0 in /usr/local/lib/python3.10/dist-packages (from torchvision) (2.3.0+cu121)\n",
            "Requirement already satisfied: pillow!=8.3.*,>=5.3.0 in /usr/local/lib/python3.10/dist-packages (from torchvision) (9.4.0)\n",
            "Requirement already satisfied: filelock in /usr/local/lib/python3.10/dist-packages (from torch==2.3.0->torchvision) (3.15.4)\n",
            "Requirement already satisfied: typing-extensions>=4.8.0 in /usr/local/lib/python3.10/dist-packages (from torch==2.3.0->torchvision) (4.12.2)\n",
            "Requirement already satisfied: sympy in /usr/local/lib/python3.10/dist-packages (from torch==2.3.0->torchvision) (1.13.0)\n",
            "Requirement already satisfied: networkx in /usr/local/lib/python3.10/dist-packages (from torch==2.3.0->torchvision) (3.3)\n",
            "Requirement already satisfied: jinja2 in /usr/local/lib/python3.10/dist-packages (from torch==2.3.0->torchvision) (3.1.4)\n",
            "Requirement already satisfied: fsspec in /usr/local/lib/python3.10/dist-packages (from torch==2.3.0->torchvision) (2023.6.0)\n",
            "Requirement already satisfied: nvidia-cuda-nvrtc-cu12==12.1.105 in /usr/local/lib/python3.10/dist-packages (from torch==2.3.0->torchvision) (12.1.105)\n",
            "Requirement already satisfied: nvidia-cuda-runtime-cu12==12.1.105 in /usr/local/lib/python3.10/dist-packages (from torch==2.3.0->torchvision) (12.1.105)\n",
            "Requirement already satisfied: nvidia-cuda-cupti-cu12==12.1.105 in /usr/local/lib/python3.10/dist-packages (from torch==2.3.0->torchvision) (12.1.105)\n",
            "Requirement already satisfied: nvidia-cudnn-cu12==8.9.2.26 in /usr/local/lib/python3.10/dist-packages (from torch==2.3.0->torchvision) (8.9.2.26)\n",
            "Requirement already satisfied: nvidia-cublas-cu12==12.1.3.1 in /usr/local/lib/python3.10/dist-packages (from torch==2.3.0->torchvision) (12.1.3.1)\n",
            "Requirement already satisfied: nvidia-cufft-cu12==11.0.2.54 in /usr/local/lib/python3.10/dist-packages (from torch==2.3.0->torchvision) (11.0.2.54)\n",
            "Requirement already satisfied: nvidia-curand-cu12==10.3.2.106 in /usr/local/lib/python3.10/dist-packages (from torch==2.3.0->torchvision) (10.3.2.106)\n",
            "Requirement already satisfied: nvidia-cusolver-cu12==11.4.5.107 in /usr/local/lib/python3.10/dist-packages (from torch==2.3.0->torchvision) (11.4.5.107)\n",
            "Requirement already satisfied: nvidia-cusparse-cu12==12.1.0.106 in /usr/local/lib/python3.10/dist-packages (from torch==2.3.0->torchvision) (12.1.0.106)\n",
            "Requirement already satisfied: nvidia-nccl-cu12==2.20.5 in /usr/local/lib/python3.10/dist-packages (from torch==2.3.0->torchvision) (2.20.5)\n",
            "Requirement already satisfied: nvidia-nvtx-cu12==12.1.105 in /usr/local/lib/python3.10/dist-packages (from torch==2.3.0->torchvision) (12.1.105)\n",
            "Requirement already satisfied: triton==2.3.0 in /usr/local/lib/python3.10/dist-packages (from torch==2.3.0->torchvision) (2.3.0)\n",
            "Requirement already satisfied: nvidia-nvjitlink-cu12 in /usr/local/lib/python3.10/dist-packages (from nvidia-cusolver-cu12==11.4.5.107->torch==2.3.0->torchvision) (12.5.82)\n",
            "Requirement already satisfied: MarkupSafe>=2.0 in /usr/local/lib/python3.10/dist-packages (from jinja2->torch==2.3.0->torchvision) (2.1.5)\n",
            "Requirement already satisfied: mpmath<1.4,>=1.1.0 in /usr/local/lib/python3.10/dist-packages (from sympy->torch==2.3.0->torchvision) (1.3.0)\n"
          ]
        }
      ],
      "source": [
        "!pip install pyro-ppl==1.8.4\n",
        "!pip install torchvision"
      ]
    },
    {
      "cell_type": "markdown",
      "source": [
        "## Listing 5.1: Setup for GPU training\n",
        "\n",
        "The code will run faster if we use CUDA, if it's available."
      ],
      "metadata": {
        "id": "Rsu5QxOW0aAx"
      }
    },
    {
      "cell_type": "code",
      "execution_count": 2,
      "metadata": {
        "id": "lfWTRtPoWF5H"
      },
      "outputs": [],
      "source": [
        "import torch    #A\n",
        "USE_CUDA = False    #A\n",
        "DEVICE_TYPE = torch.device(\"cuda\" if USE_CUDA else \"cpu\")    #A\n",
        "#A Use CUDA if it is available."
      ]
    },
    {
      "cell_type": "markdown",
      "metadata": {
        "id": "6UoHQdJpG4Fe"
      },
      "source": [
        "## Listing 5.2: Combining the data\n",
        "\n",
        "First, we create a Dataset object that will combine our two datasets."
      ]
    },
    {
      "cell_type": "code",
      "execution_count": 3,
      "metadata": {
        "id": "_GoP_qMKWF5I"
      },
      "outputs": [],
      "source": [
        "from torch.utils.data import Dataset\n",
        "\n",
        "import numpy as np\n",
        "import pandas as pd\n",
        "from torchvision import transforms\n",
        "\n",
        "class CombinedDataset(Dataset):    #A\n",
        "    def __init__(self, csv_file):\n",
        "        self.dataset = pd.read_csv(csv_file)\n",
        "\n",
        "    def __len__(self):\n",
        "        return len(self.dataset)\n",
        "\n",
        "    def __getitem__(self, idx):\n",
        "        images = self.dataset.iloc[idx, 3:]    #B\n",
        "        images = np.array(images, dtype='float32')/255.  #B\n",
        "        images = images.reshape(28, 28)    #B\n",
        "        transform = transforms.ToTensor()    #B\n",
        "        images = transform(images)    #B\n",
        "        digits = self.dataset.iloc[idx, 2]    #C\n",
        "        digits = np.array([digits], dtype='int')    #C\n",
        "        is_handwritten = self.dataset.iloc[idx, 1]    #D\n",
        "        is_handwritten = np.array([is_handwritten], dtype='float32')    #D\n",
        "        return images, digits, is_handwritten    #E\n",
        "\n",
        "#A This class loads and processes a dataset that combines the MNIST and Typeface MNIST. The output is a torch.utils.data.Dataset object.\n",
        "#B Load, normalize, and reshape the images to a 28x28 pixel.\n",
        "#C Get and process the digits labels, 0-9.\n",
        "#D 1 for handwritten digits (MNIST) 0 for “typed’ digits (TMNIST).\n",
        "#E Return tuple of the image, the digit label, and the is_handwritten label."
      ]
    },
    {
      "cell_type": "markdown",
      "source": [
        "## Listing 5.3: Downloading, splitting and loading the data\n",
        "\n",
        "Next, we'll download the data and create the combined dataset."
      ],
      "metadata": {
        "id": "6UGXmWzuJlpL"
      }
    },
    {
      "cell_type": "code",
      "source": [
        "from torch.utils.data import DataLoader\n",
        "from torch.utils.data import random_split\n",
        "\n",
        "def setup_dataloaders(batch_size=64, use_cuda=USE_CUDA):    #A\n",
        "    combined_dataset = CombinedDataset(\n",
        "\"https://raw.githubusercontent.com/altdeep/causalML/master/datasets/combined_mnist_tmnist_data.csv\"\n",
        "    )\n",
        "    n = len(combined_dataset)    #B\n",
        "    train_size = int(0.8 * n)    #B\n",
        "    test_size = n - train_size    #B\n",
        "    train_dataset, test_dataset = random_split(    #B\n",
        "        combined_dataset,    #B\n",
        "        [train_size, test_size],    #B\n",
        "        generator=torch.Generator().manual_seed(42)    #B\n",
        "    )    #B\n",
        "    kwargs = {'num_workers': 1, 'pin_memory': use_cuda}\n",
        "    train_loader = DataLoader(    #C\n",
        "        train_dataset,    #C\n",
        "        batch_size=batch_size,    #C\n",
        "        shuffle=True,    #C\n",
        "        **kwargs    #C\n",
        "    )    #C\n",
        "    test_loader = DataLoader(    #C\n",
        "        test_dataset,    #C\n",
        "        batch_size=batch_size,    #C\n",
        "        shuffle=True,    #C\n",
        "        **kwargs    #C\n",
        "    )    #C\n",
        "    return train_loader, test_loader\n",
        "#A Setup data loader that loads the data and splits it into training and test sets\n",
        "#B Allot 80% of the data to training data, the remaining 20% to test data.\n",
        "#C Create training and test loaders."
      ],
      "metadata": {
        "id": "S4jn_XvTJlxH"
      },
      "execution_count": 4,
      "outputs": []
    },
    {
      "cell_type": "markdown",
      "source": [
        "## Listing 5.4: Implement the decoder\n",
        "\n",
        "First, we specify a decoder. The decoder maps the latent variable Z, a variable representing the value of the digit, and a binary variable representing whether the digit is handwritten."
      ],
      "metadata": {
        "id": "fRXUclDPpKpd"
      }
    },
    {
      "cell_type": "code",
      "source": [
        "from torch import nn\n",
        "\n",
        "class Decoder(nn.Module):    #A\n",
        "    def __init__(self, z_dim, hidden_dim):\n",
        "        super().__init__()\n",
        "        img_dim = 28 * 28    #B\n",
        "        digit_dim = 10    #C\n",
        "        is_handwritten_dim = 1    #D\n",
        "        self.softplus = nn.Softplus()    #E\n",
        "        self.sigmoid = nn.Sigmoid()    #E\n",
        "        encoding_dim = z_dim + digit_dim + is_handwritten_dim    #F\n",
        "        self.fc1 = nn.Linear(encoding_dim, hidden_dim)    #F\n",
        "        self.fc2 = nn.Linear(hidden_dim, img_dim)    #G\n",
        "\n",
        "    def forward(self, z, digit, is_handwritten):    #H\n",
        "        input = torch.cat([z, digit, is_handwritten], dim=1)   #I\n",
        "        hidden = self.softplus(self.fc1(input))    #J\n",
        "        img_param = self.sigmoid(self.fc2(hidden))    #K\n",
        "        return img_param\n",
        "#A The decoder method of a VAE class.\n",
        "#B Image is 28 by 28 pixels\n",
        "#C Digit is one-hot encoded digits 0-9, i.e., a vector of length 10.\n",
        "#D An indicator for if the digit is handwritten that has size 1\n",
        "#E The softplus and sigmoid are nonlinear transforms (activation functions) used in mapping between layers.\n",
        "#F fc1 is a linear function that maps Z vector, the digit, and the is_handwritten to a linear out, which is passed through a softplus activation function to create a \"hidden layer\" - a vector whose length is given by hidden_layer.\n",
        "#G The fc2 linearly maps the hidden layer to an output passed to a sigmoid function. The resulting value is a value between 0 and 1.\n",
        "#H Define the forward computation from the latent Z variable value to a generated X variable value.\n",
        "#I First combine Z and the labels.\n",
        "#J Then compute the hidden layer.\n",
        "#K Finally, pass the hidden layer to a linear transform, then to a sigmoid transform to output a parameter vector of length 784. Each element of the vector corresponds to a Bernoulli parameter value for an image pixel.\n"
      ],
      "metadata": {
        "id": "pQEwj1mh-TTj"
      },
      "execution_count": 5,
      "outputs": []
    },
    {
      "cell_type": "markdown",
      "source": [
        "## Listing 5.5: The causal model\n",
        "\n",
        "The `model` method implements the causal model. First it samples the latent variable Z, the digit variable, and the is_handwritten variable. These are passed to the decoder, which generates the image."
      ],
      "metadata": {
        "id": "aYlhi-IlpshP"
      }
    },
    {
      "cell_type": "code",
      "source": [
        "import pyro\n",
        "import pyro.distributions as dist\n",
        "\n",
        "dist.enable_validation(False)    #A\n",
        "def model(self, data_size=1):    #B\n",
        "    pyro.module(\"decoder\", self.decoder)    #B\n",
        "    options = dict(dtype=torch.float32, device=DEVICE_TYPE)\n",
        "    z_loc = torch.zeros(data_size, self.z_dim, **options)    #C\n",
        "    z_scale = torch.ones(data_size, self.z_dim, **options)    #C\n",
        "    z = pyro.sample(\"Z\", dist.Normal(z_loc, z_scale).to_event(1))    #C\n",
        "    p_digit = torch.ones(data_size, 10, **options)/10    #D\n",
        "    digit = pyro.sample(    #D\n",
        "        \"digit\",    #D\n",
        "        dist.OneHotCategorical(p_digit)    #D\n",
        "    )    #D\n",
        "    p_is_handwritten = torch.ones(data_size, 1, **options)/2    #E\n",
        "    is_handwritten = pyro.sample(    #E\n",
        "        \"is_handwritten\",    #E\n",
        "        dist.Bernoulli(p_is_handwritten).to_event(1)    #E\n",
        "    )    #E\n",
        "    img_param = self.decoder(z, digit, is_handwritten)    #F\n",
        "    img = pyro.sample(\"img\", dist.Bernoulli(img_param).to_event(1))  #G\n",
        "    return img, digit, is_handwritten\n",
        "#A Disabling distribution validation lets Pyro calculate loglikelihoods for pixels even though the pixels are not binary values.\n",
        "#B The model of a single image. Within the method we register the decoder, a PyTorch module, with Pyro. This lets Pyro know about the parameters inside of the decoder network.\n",
        "#C We model the joint probability of Z, digit, and is_handwritten sampling each from canonical distributions. We sample Z from a multivariate normal with location parameter z_loc (all zeros) and scale parameter z_scale (all ones).\n",
        "#D We also sample the digit from a one-hot categorical distribution. Equal probability is assigned to each digit.\n",
        "#E We similarly sample the is_handwritten variable from a Bernoulli.\n",
        "#F The decoder maps digit, is_handwritten, and Z to a probability parameter vector.\n",
        "#G That parameter vector is passed to the Bernoulli distribution, which models the pixel values in the data. The pixels are not technically Bernoulli binary variables, but we'll relax this assumption."
      ],
      "metadata": {
        "id": "ndMbxPUfJlqu"
      },
      "execution_count": 6,
      "outputs": []
    },
    {
      "cell_type": "markdown",
      "source": [
        "## Listing 5.6 Method for applying model to N images in data\n",
        "\n",
        "`training_model` extends `model` towards representing each image in the dataset."
      ],
      "metadata": {
        "id": "49xn77L8qCmn"
      }
    },
    {
      "cell_type": "code",
      "source": [
        "def training_model(self, img, digit, is_handwritten, batch_size):    #A\n",
        "    conditioned_on_data = pyro.condition(    #B\n",
        "        self.model,\n",
        "        data={\n",
        "            \"digit\": digit,\n",
        "            \"is_handwritten\": is_handwritten,\n",
        "            \"img\": img\n",
        "        }\n",
        "    )\n",
        "    with pyro.plate(\"data\", batch_size):    #C\n",
        "        img, digit, is_handwritten = conditioned_on_data(batch_size)\n",
        "    return img, digit, is_handwritten\n",
        "#A The model represents the data generating process for one image. The training_model applies that model to the N images in the training data.\n",
        "#B Now we condition the model on the evidence in the training data.\n",
        "#C This context manager represents the N-size plate representing repeating IID examples in the data in Figure 5.9. In this case, N is the batch size. It works like a for loop iterating over each data unit in the batch."
      ],
      "metadata": {
        "id": "RQGgpOPSWOKa"
      },
      "execution_count": 7,
      "outputs": []
    },
    {
      "cell_type": "markdown",
      "source": [
        "## Listing 5.7: Implement the encoder\n",
        "\n",
        "The encoder takes an image, the digit, and whether the variable is handwritten, and infers the latent representation Z."
      ],
      "metadata": {
        "id": "ia-xBsT6qioA"
      }
    },
    {
      "cell_type": "code",
      "source": [
        "class Encoder(nn.Module):    #A\n",
        "    def __init__(self, z_dim, hidden_dim):\n",
        "        super().__init__()\n",
        "        img_dim = 28 * 28    #B\n",
        "        digit_dim = 10    #C\n",
        "        is_handwritten_dim = 1\n",
        "        self.softplus = nn.Softplus()    #D\n",
        "        input_dim = img_dim + digit_dim + is_handwritten_dim    #E\n",
        "        self.fc1 = nn.Linear(input_dim, hidden_dim)    #E\n",
        "        self.fc21 = nn.Linear(hidden_dim, z_dim)    #F\n",
        "        self.fc22 = nn.Linear(hidden_dim, z_dim)    #F\n",
        "\n",
        "    def forward(self, img, digit, is_handwritten):    #G\n",
        "        input = torch.cat([img, digit, is_handwritten], dim=1)    #H\n",
        "        hidden = self.softplus(self.fc1(input))    #I\n",
        "        z_loc = self.fc21(hidden)    #J\n",
        "        z_scale = torch.exp(self.fc22(hidden))    #J\n",
        "        return z_loc, z_scale\n",
        "#A The encoder is an instance of a Pytorch module.\n",
        "#B The input image is 28X28 = 784 pixels.\n",
        "#C The digit dimension is 10.\n",
        "#D In the encoder, we’ll only use the softplus transform (activation function).\n",
        "#E The linear transform fc1 combines with the softplus to map the 784 dimensional pixel vector, 10 dimensional digit label vector, and 2 dimensional is_handwritten vector to the hidden layer.\n",
        "#F The linear transforms fc21 and fc22 will combine with the softplus to map the hidden vector to Z’s vector space.\n",
        "#G Define the reverse computation from an observed X variable value to a latent Z variable value.\n",
        "#H Combine the image vector, digit label, and is-handwritten label into one input.\n",
        "#I Map the input to the hidden layer.\n",
        "#J The VAE framework will sample Z from a Normal distribution that approximates P(Z|img, digit, is_handwritten). The final transforms map the hidden layer to a location and scale parameter for that Normal distribution."
      ],
      "metadata": {
        "id": "UGGxsLWIWkvG"
      },
      "execution_count": 8,
      "outputs": []
    },
    {
      "cell_type": "markdown",
      "source": [
        "## Listing 5.8: The guide function\n",
        "\n",
        "`training_guide` contains the encoder. The purpose of `training_guide` is to approximate P(Z|image, digit, is_handwritten) during training."
      ],
      "metadata": {
        "id": "TP920mmcqtsS"
      }
    },
    {
      "cell_type": "code",
      "source": [
        "def training_guide(self, img, digit, is_handwritten, batch_size):    #A\n",
        "    pyro.module(\"encoder\", self.encoder)    #B\n",
        "    options = dict(dtype=torch.float32, device=DEVICE_TYPE)\n",
        "    with pyro.plate(\"data\", batch_size):    #C\n",
        "        z_loc, z_scale = self.encoder(img, digit, is_handwritten)    #D\n",
        "        normal_dist = dist.Normal(z_loc, z_scale).to_event(1)    #D\n",
        "        z = pyro.sample(\"Z\", normal_dist)    #E\n",
        "#A training_guide is a method of the VAE which will use the encoder.\n",
        "#B Register the encoder so Pyro is aware of its weight parameters.\n",
        "#C This is the same plate context manager for iterating over the batch data that we see in the training_model.\n",
        "#D Use the encoder to map an image and its labels to parameters of a Normal distribution.\n",
        "#E Sample Z from that Normal distribution."
      ],
      "metadata": {
        "id": "xy2T3-CtZp5d"
      },
      "execution_count": 9,
      "outputs": []
    },
    {
      "cell_type": "markdown",
      "source": [
        "## Listing 5.9: The full VAE code\n",
        "\n",
        "Now we implement all the parts in the VAE."
      ],
      "metadata": {
        "id": "Bbit-PBlrayq"
      }
    },
    {
      "cell_type": "code",
      "source": [
        "class VAE(nn.Module):\n",
        "    def __init__(\n",
        "        self,\n",
        "        z_dim=50,    #A\n",
        "        hidden_dim=400,    #B\n",
        "        use_cuda=USE_CUDA,\n",
        "    ):\n",
        "        super().__init__()\n",
        "        self.use_cuda = use_cuda\n",
        "        self.z_dim = z_dim\n",
        "        self.hidden_dim = hidden_dim\n",
        "        self.setup_networks()\n",
        "\n",
        "    def setup_networks(self):    #C\n",
        "        self.encoder = Encoder(self.z_dim, self.hidden_dim)\n",
        "        self.decoder = Decoder(self.z_dim, self.hidden_dim)\n",
        "        if self.use_cuda:\n",
        "            self.cuda()\n",
        "\n",
        "    model = model    #D\n",
        "    training_model = training_model    #D\n",
        "    training_guide = training_guide    #D\n",
        "\n",
        "#A Setting the latent dimension to have a dimension of 50.\n",
        "#B Setting the hidden layers to have a dimension of 400.\n",
        "#C Setup the encoder and decoder.\n",
        "#D Adding in the methods for model, training_model, and training_guide."
      ],
      "metadata": {
        "id": "o5vOr1GXe_3P"
      },
      "execution_count": 10,
      "outputs": []
    },
    {
      "cell_type": "markdown",
      "source": [
        "## Listing 5.10 Helper function for plotting images\n",
        "\n",
        "The following utility functions helps us visualize progress during training."
      ],
      "metadata": {
        "id": "e8_IhBKK0kpO"
      }
    },
    {
      "cell_type": "code",
      "source": [
        "def plot_image(img, title=None):    #A\n",
        "    fig = plt.figure()\n",
        "    plt.imshow(img.cpu(), cmap='Greys_r', interpolation='nearest')\n",
        "    if title is not None:\n",
        "        plt.title(title)\n",
        "    plt.show()\n",
        "#A Helper function for plotting an image"
      ],
      "metadata": {
        "id": "ohxiEjB30lHa"
      },
      "execution_count": 11,
      "outputs": []
    },
    {
      "cell_type": "markdown",
      "source": [
        "## Listing 5.11: Define a helper functions for reconstructing and viewing the images\n",
        "\n",
        "These additional utility functions help us selected and reshape images, as well as generate new images."
      ],
      "metadata": {
        "id": "BTFLSyVW06tr"
      }
    },
    {
      "cell_type": "code",
      "source": [
        "import matplotlib.pyplot as plt\n",
        "\n",
        "def reconstruct_img(vae, img, digit, is_hw, use_cuda=USE_CUDA):    #A\n",
        "    img = img.reshape(-1, 28 * 28)\n",
        "    digit = F.one_hot(torch.tensor(digit), 10)\n",
        "    is_hw = torch.tensor(is_hw).unsqueeze(0)\n",
        "    if use_cuda:\n",
        "        img = img.cuda()\n",
        "        digit = digit.cuda()\n",
        "        is_hw = is_hw.cuda()\n",
        "    z_loc, z_scale = vae.encoder(img, digit, is_hw)\n",
        "    z = dist.Normal(z_loc, z_scale).sample()\n",
        "    img_expectation = vae.decoder(z, digit, is_hw)\n",
        "    return img_expectation.squeeze().view(28, 28).detach()\n",
        "\n",
        "def compare_images(img1, img2):    #B\n",
        "    fig = plt.figure()\n",
        "    ax0 = fig.add_subplot(121)\n",
        "    plt.imshow(img1.cpu(), cmap='Greys_r', interpolation='nearest')\n",
        "    plt.axis('off')\n",
        "    plt.title('original')\n",
        "    ax1 = fig.add_subplot(122)\n",
        "    plt.imshow(img2.cpu(), cmap='Greys_r', interpolation='nearest')\n",
        "    plt.axis('off')\n",
        "    plt.title('reconstruction')\n",
        "    plt.show()\n",
        "#A Given an input image, \"reconstructs\" the image by passing through the encoder then through the decoder.\n",
        "#B Plots two images side by side for comparison."
      ],
      "metadata": {
        "id": "QqBkhFAy066G"
      },
      "execution_count": 12,
      "outputs": []
    },
    {
      "cell_type": "markdown",
      "source": [
        "## Listing 5.12: Data processing helper functions for training\n",
        "\n",
        "Next, we'll create some helper functions for handling the data. We'll use `get_random_example` to grab random images from the dataset. `reshape_data` will convert an image and its labels into input for the encoder. We'll use `generate_data` and `generate_coded_data` will simulate an image from the model."
      ],
      "metadata": {
        "id": "79MHVV7313mT"
      }
    },
    {
      "cell_type": "code",
      "source": [
        "import torch.nn.functional as F\n",
        "\n",
        "def get_random_example(loader):    #A\n",
        "    random_idx = np.random.randint(0, len(loader.dataset))    #A\n",
        "    img, digit, is_handwritten = loader.dataset[random_idx]    #A\n",
        "    return img.squeeze(), digit, is_handwritten    #A\n",
        "\n",
        "def reshape_data(img, digit, is_handwritten):    #B\n",
        "    digit = F.one_hot(digit, 10).squeeze()    #B\n",
        "    img = img.reshape(-1, 28*28)    #B\n",
        "    return img, digit, is_handwritten    #B\n",
        "\n",
        "def generate_coded_data(vae, use_cuda=USE_CUDA):    #C\n",
        "    z_loc = torch.zeros(1, vae.z_dim)    #C\n",
        "    z_scale = torch.ones(1, vae.z_dim)    #C\n",
        "    z = dist.Normal(z_loc, z_scale).to_event(1).sample()    #C\n",
        "    p_digit = torch.ones(1, 10)/10    #C\n",
        "    digit = dist.OneHotCategorical(p_digit).sample()    #C\n",
        "    p_is_handwritten = torch.ones(1, 1)/2    #C\n",
        "    is_handwritten = dist.Bernoulli(p_is_handwritten).sample()    #C\n",
        "    if use_cuda:    #C\n",
        "        z = z.cuda()\n",
        "        digit = digit.cuda()\n",
        "        is_handwritten = is_handwritten.cuda()    #C\n",
        "    img = vae.decoder(z, digit, is_handwritten)    #C\n",
        "    return img, digit, is_handwritten    #C\n",
        "\n",
        "def generate_data(vae, use_cuda=USE_CUDA):    #D\n",
        "    img, digit, is_handwritten = generate_coded_data(vae, use_cuda)    #D\n",
        "    img = img.squeeze().view(28, 28).detach()    #D\n",
        "    digit = torch.argmax(digit, 1)    #D\n",
        "    is_handwritten = torch.argmax(is_handwritten, 1)    #D\n",
        "    return img, digit, is_handwritten    #D\n",
        "#A Chose a random example from the dataset.\n",
        "#B Reshape the data.\n",
        "#C Generate data that is encoded.\n",
        "#D Generate (unencoded) data."
      ],
      "metadata": {
        "id": "fmSgUQrl1tFN"
      },
      "execution_count": 13,
      "outputs": []
    },
    {
      "cell_type": "markdown",
      "source": [
        "## Listing 5.13: Set up the training procedure\n",
        "\n",
        "Next we set up traing. The training objective `Trace_ELBO` simultaneously trains the parameters of the encoder and the decoder. It focuses on minimizing reconstruction error (how much information is lost when an image encoded, and then decoded once again) and [KL-divergence](https://en.wikipedia.org/wiki/Kullback%E2%80%93Leibler_divergence) between the distribution modeled by the guide (the variational distribution) and the P(Z|image, is_handwritten, digit)."
      ],
      "metadata": {
        "id": "wFp3sIBu2-eW"
      }
    },
    {
      "cell_type": "code",
      "source": [
        "from pyro.infer import SVI, Trace_ELBO\n",
        "from pyro.optim import Adam\n",
        "\n",
        "pyro.clear_param_store()    #A\n",
        "vae = VAE()    #B\n",
        "train_loader, test_loader = setup_dataloaders(batch_size=256)    #C\n",
        "svi_adam = Adam({\"lr\": 1.0e-3})    #D\n",
        "model = vae.training_model    #E\n",
        "guide = vae.training_guide    #E\n",
        "svi = SVI(model, guide, svi_adam, loss=Trace_ELBO())    #E\n",
        "#A Clear any values of the parameters in the guide memory.\n",
        "#B Initalize the VAE\n",
        "#C Load the data\n",
        "#D Initialize the optizer\n",
        "#E Initialize the SVI loss calculator. Loss negative \"expected lower bound\" (ELBO)."
      ],
      "metadata": {
        "id": "iEbyt3uo3Fhm"
      },
      "execution_count": 14,
      "outputs": []
    },
    {
      "cell_type": "markdown",
      "source": [
        "## Listing 5.14: Setting up a test evaluation procedure\n",
        "\n",
        "When training generative models, it is useful to setup a procedure that uses test data to evaluate how well training is progressing. You can include anything you think is useful to monitor during training. Here, I calculate and print the loss function on the test data, just to make sure test loss is progressively decreasing along with training loss (a flattening of test loss while training loss continued to decrease would indicate overfitting).\n",
        "\n",
        "But a more direct signal at how well our model is training is to generate and view images. In my test evaluation procedure, I produce two visualizations. First, I inspect how well it can reconstruct a random image from the test data. I pass the image through the encoder then through the decoder, creating a “reconstruction” of the image. Then I plot the original and reconstructed image side-by-side and compare them visually, looking to see that they are close to identical.\n",
        "\n",
        "Next, I visualize how well it is performing as an overall generative model by generating and plotting an image from scratch. I run this code once each time a certain number of epochs are run."
      ],
      "metadata": {
        "id": "klKFXtLpTOos"
      }
    },
    {
      "cell_type": "code",
      "source": [
        "def test_epoch(vae, test_loader):\n",
        "    epoch_loss_test = 0    #A\n",
        "    for img, digit, is_hw in test_loader:    #A\n",
        "        batch_size = img.shape[0]    #A\n",
        "        if USE_CUDA:    #A\n",
        "            img = img.cuda()    #A\n",
        "            digit = digit.cuda()    #A\n",
        "            is_hw = is_hw.cuda()    #A\n",
        "        img, digit, is_hw = reshape_data(    #A\n",
        "            img, digit, is_hw    #A\n",
        "        )    #A\n",
        "        epoch_loss_test += svi.evaluate_loss(    #A\n",
        "            img, digit, is_hw, batch_size    #A\n",
        "        )    #A\n",
        "    test_size = len(test_loader.dataset)    #A\n",
        "    avg_loss = epoch_loss_test/test_size    #A\n",
        "    print(\"Epoch: {} avg. test loss: {}\".format(epoch, avg_loss))    #A\n",
        "    print(\"Comparing a random test image to its reconstruction:\")    #B\n",
        "    random_example = get_random_example(test_loader)    #B\n",
        "    img_r, digit_r, is_hw_r = random_example    #B\n",
        "    img_recon = reconstruct_img(vae, img_r, digit_r, is_hw_r)    #B\n",
        "    compare_images(img_r, img_recon)    #B\n",
        "    print(\"Generate a random image from the model:\")    #C\n",
        "    img_gen, digit_gen, is_hw_gen = generate_data(vae)    #C\n",
        "    plot_image(img_gen, \"Generated Image\")    #C\n",
        "    print(\"Intended digit: \", int(digit_gen))    #C\n",
        "    print(\"Intended as handwritten: \", bool(is_hw_gen == 1))    #C\n",
        "#A Calculate and print test loss.\n",
        "#B Compare a random test image to its reconstruction.\n",
        "#C Generate a random image from the model."
      ],
      "metadata": {
        "id": "XSviOogCTN2d"
      },
      "execution_count": 15,
      "outputs": []
    },
    {
      "cell_type": "markdown",
      "source": [
        "## Listing 5.15: Running training and plotting progress\n",
        "\n",
        "Finally, we run training."
      ],
      "metadata": {
        "id": "pmvAUfzZ3X4M"
      }
    },
    {
      "cell_type": "code",
      "source": [
        "NUM_EPOCHS = 2500\n",
        "TEST_FREQUENCY = 10\n",
        "\n",
        "train_loss = []\n",
        "train_size = len(train_loader.dataset)\n",
        "\n",
        "for epoch in range(0, NUM_EPOCHS+1):    #A\n",
        "    loss = 0\n",
        "    for img, digit, is_handwritten in train_loader:\n",
        "        batch_size = img.shape[0]\n",
        "        if USE_CUDA:\n",
        "            img = img.cuda()\n",
        "            digit = digit.cuda()\n",
        "            is_handwritten = is_handwritten.cuda()\n",
        "        img, digit, is_handwritten = reshape_data(\n",
        "            img, digit, is_handwritten\n",
        "        )\n",
        "        loss += svi.step(    #B\n",
        "            img, digit, is_handwritten, batch_size    #B\n",
        "        )    #B\n",
        "    avg_loss = loss / train_size\n",
        "    print(\"Epoch: {} avgs training loss: {}\".format(epoch, loss))\n",
        "    train_loss.append(avg_loss)\n",
        "    if epoch % TEST_FREQUENCY == 0:    #C\n",
        "        test_epoch(vae, test_loader)    #C\n",
        "#A Run the training procedure for a certain number of epochs.\n",
        "#B Run a training step on one batch in one epoch.\n",
        "#C The test data evaluation procedure runs every 10 epochs."
      ],
      "metadata": {
        "id": "krc0vcPv3Zqx",
        "colab": {
          "base_uri": "https://localhost:8080/",
          "height": 1000
        },
        "outputId": "27747b85-41e6-4a95-abbe-287b9fcfdf59"
      },
      "execution_count": 17,
      "outputs": [
        {
          "output_type": "stream",
          "name": "stdout",
          "text": [
            "Epoch: 0 avgs training loss: 4019819.203689575\n",
            "Epoch: 0 avg. test loss: 101.84467435913086\n",
            "Comparing a random test image to its reconstruction:\n"
          ]
        },
        {
          "output_type": "display_data",
          "data": {
            "text/plain": [
              "<Figure size 640x480 with 2 Axes>"
            ],
            "image/png": "[encoded data removed]"
          },
          "metadata": {}
        },
        {
          "output_type": "stream",
          "name": "stdout",
          "text": [
            "Generate a random image from the model:\n"
          ]
        },
        {
          "output_type": "display_data",
          "data": {
            "text/plain": [
              "<Figure size 640x480 with 1 Axes>"
            ],
            "image/png": "[encoded data removed]"
          },
          "metadata": {}
        },
        {
          "output_type": "stream",
          "name": "stdout",
          "text": [
            "Intended digit:  8\n",
            "Intended as handwritten:  False\n",
            "Epoch: 1 avgs training loss: 4015543.9763946533\n",
            "Epoch: 2 avgs training loss: 4014806.234451294\n",
            "Epoch: 3 avgs training loss: 4011313.3448028564\n",
            "Epoch: 4 avgs training loss: 4010832.078201294\n",
            "Epoch: 5 avgs training loss: 4006672.9878692627\n",
            "Epoch: 6 avgs training loss: 4006353.435623169\n",
            "Epoch: 7 avgs training loss: 4004289.1900177\n",
            "Epoch: 8 avgs training loss: 4001874.8618927\n",
            "Epoch: 9 avgs training loss: 3999677.706375122\n",
            "Epoch: 10 avgs training loss: 3997699.288406372\n",
            "Epoch: 10 avg. test loss: 101.34089661865234\n",
            "Comparing a random test image to its reconstruction:\n"
          ]
        },
        {
          "output_type": "display_data",
          "data": {
            "text/plain": [
              "<Figure size 640x480 with 2 Axes>"
            ],
            "image/png": "[encoded data removed]"
          },
          "metadata": {}
        },
        {
          "output_type": "stream",
          "name": "stdout",
          "text": [
            "Generate a random image from the model:\n"
          ]
        },
        {
          "output_type": "display_data",
          "data": {
            "text/plain": [
              "<Figure size 640x480 with 1 Axes>"
            ],
            "image/png": "[encoded data removed]"
          },
          "metadata": {}
        },
        {
          "output_type": "stream",
          "name": "stdout",
          "text": [
            "Intended digit:  9\n",
            "Intended as handwritten:  False\n",
            "Epoch: 11 avgs training loss: 3994829.5928497314\n",
            "Epoch: 12 avgs training loss: 3993153.805252075\n",
            "Epoch: 13 avgs training loss: 3992091.893875122\n",
            "Epoch: 14 avgs training loss: 3991439.182449341\n",
            "Epoch: 15 avgs training loss: 3988107.4261016846\n",
            "Epoch: 16 avgs training loss: 3987029.8050079346\n",
            "Epoch: 17 avgs training loss: 3984113.448074341\n",
            "Epoch: 18 avgs training loss: 3983580.325515747\n",
            "Epoch: 19 avgs training loss: 3980452.5916290283\n",
            "Epoch: 20 avgs training loss: 3978874.7400665283\n",
            "Epoch: 20 avg. test loss: 101.21306309204101\n",
            "Comparing a random test image to its reconstruction:\n"
          ]
        },
        {
          "output_type": "display_data",
          "data": {
            "text/plain": [
              "<Figure size 640x480 with 2 Axes>"
            ],
            "image/png": "[encoded data removed]"
          },
          "metadata": {}
        },
        {
          "output_type": "stream",
          "name": "stdout",
          "text": [
            "Generate a random image from the model:\n"
          ]
        },
        {
          "output_type": "display_data",
          "data": {
            "text/plain": [
              "<Figure size 640x480 with 1 Axes>"
            ],
            "image/png": "[encoded data removed]"
          },
          "metadata": {}
        },
        {
          "output_type": "stream",
          "name": "stdout",
          "text": [
            "Intended digit:  3\n",
            "Intended as handwritten:  False\n",
            "Epoch: 21 avgs training loss: 3978292.0882110596\n",
            "Epoch: 22 avgs training loss: 3976708.4449005127\n",
            "Epoch: 23 avgs training loss: 3974769.9781036377\n",
            "Epoch: 24 avgs training loss: 3973768.586502075\n",
            "Epoch: 25 avgs training loss: 3973018.3150177\n",
            "Epoch: 26 avgs training loss: 3969929.781814575\n",
            "Epoch: 27 avgs training loss: 3968498.0952911377\n",
            "Epoch: 28 avgs training loss: 3967000.5493927\n",
            "Epoch: 29 avgs training loss: 3965123.9717559814\n",
            "Epoch: 30 avgs training loss: 3965020.067214966\n",
            "Epoch: 30 avg. test loss: 100.91861611938477\n",
            "Comparing a random test image to its reconstruction:\n"
          ]
        },
        {
          "output_type": "display_data",
          "data": {
            "text/plain": [
              "<Figure size 640x480 with 2 Axes>"
            ],
            "image/png": "[encoded data removed]"
          },
          "metadata": {}
        },
        {
          "output_type": "stream",
          "name": "stdout",
          "text": [
            "Generate a random image from the model:\n"
          ]
        },
        {
          "output_type": "display_data",
          "data": {
            "text/plain": [
              "<Figure size 640x480 with 1 Axes>"
            ],
            "image/png": "[encoded data removed]"
          },
          "metadata": {}
        },
        {
          "output_type": "stream",
          "name": "stdout",
          "text": [
            "Intended digit:  7\n",
            "Intended as handwritten:  False\n",
            "Epoch: 31 avgs training loss: 3963955.542312622\n"
          ]
        }
      ]
    },
    {
      "cell_type": "markdown",
      "metadata": {
        "id": "k3m6t3b8G4Fg"
      },
      "source": [
        "We can continue to use `generate_data` to generate from the model once we've trained it. Finally, we can save the resulting model."
      ]
    },
    {
      "cell_type": "code",
      "execution_count": null,
      "metadata": {
        "id": "gxgJvMrecHJ5"
      },
      "outputs": [],
      "source": [
        "#torch.save(vae.state_dict(), 'mnist_tmnist_weights.pt')"
      ]
    }
  ],
  "metadata": {
    "accelerator": "GPU",
    "colab": {
      "provenance": [],
      "machine_shape": "hm",
      "gpuType": "A100"
    },
    "kernelspec": {
      "display_name": "Python 3",
      "name": "python3"
    },
    "language_info": {
      "codemirror_mode": {
        "name": "ipython",
        "version": 3
      },
      "file_extension": ".py",
      "mimetype": "text/x-python",
      "name": "python",
      "nbconvert_exporter": "python",
      "pygments_lexer": "ipython3",
      "version": "3.11.7"
    }
  },
  "nbformat": 4,
  "nbformat_minor": 0
}
