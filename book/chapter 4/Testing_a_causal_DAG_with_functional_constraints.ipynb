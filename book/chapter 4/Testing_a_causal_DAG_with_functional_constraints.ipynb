{
  "cells": [
    {
      "cell_type": "markdown",
      "metadata": {
        "id": "11lFMQh-GA8u"
      },
      "source": [
        "# Chapter 4 - Testing a causal DAG with functional constraints\n",
        "\n",
        "The notebook is a code companion to chapter 4 of the book [Causal AI](https://www.manning.com/books/causal-ai) by [Robert Osazuwa Ness](https://www.linkedin.com/in/osazuwa/).\n",
        "\n",
        "<a href=\"https://colab.research.google.com/github/altdeep/causalML/blob/master/book/chapter%204/Testing_a_causal_DAG_with_functional_constraints.ipynb\" target=\"_parent\"><img src=\"https://colab.research.google.com/assets/colab-badge.svg\" alt=\"Open In Colab\"/></a>"
      ]
    },
    {
      "cell_type": "code",
      "execution_count": 1,
      "metadata": {
        "colab": {
          "base_uri": "https://localhost:8080/"
        },
        "id": "xG2Uj-oSMPbP",
        "outputId": "85f32011-1009-482a-aefc-26d0632d607c"
      },
      "outputs": [
        {
          "output_type": "stream",
          "name": "stdout",
          "text": [
            "Requirement already satisfied: pgmpy==0.1.19 in /usr/local/lib/python3.10/dist-packages (0.1.19)\n",
            "Requirement already satisfied: networkx in /usr/local/lib/python3.10/dist-packages (from pgmpy==0.1.19) (3.3)\n",
            "Requirement already satisfied: numpy in /usr/local/lib/python3.10/dist-packages (from pgmpy==0.1.19) (1.25.2)\n",
            "Requirement already satisfied: scipy in /usr/local/lib/python3.10/dist-packages (from pgmpy==0.1.19) (1.11.4)\n",
            "Requirement already satisfied: scikit-learn in /usr/local/lib/python3.10/dist-packages (from pgmpy==0.1.19) (1.2.2)\n",
            "Requirement already satisfied: pandas in /usr/local/lib/python3.10/dist-packages (from pgmpy==0.1.19) (1.4.3)\n",
            "Requirement already satisfied: pyparsing in /usr/local/lib/python3.10/dist-packages (from pgmpy==0.1.19) (3.1.2)\n",
            "Requirement already satisfied: torch in /usr/local/lib/python3.10/dist-packages (from pgmpy==0.1.19) (2.3.0+cu121)\n",
            "Requirement already satisfied: statsmodels in /usr/local/lib/python3.10/dist-packages (from pgmpy==0.1.19) (0.14.2)\n",
            "Requirement already satisfied: tqdm in /usr/local/lib/python3.10/dist-packages (from pgmpy==0.1.19) (4.66.4)\n",
            "Requirement already satisfied: joblib in /usr/local/lib/python3.10/dist-packages (from pgmpy==0.1.19) (1.4.2)\n",
            "Requirement already satisfied: python-dateutil>=2.8.1 in /usr/local/lib/python3.10/dist-packages (from pandas->pgmpy==0.1.19) (2.8.2)\n",
            "Requirement already satisfied: pytz>=2020.1 in /usr/local/lib/python3.10/dist-packages (from pandas->pgmpy==0.1.19) (2023.4)\n",
            "Requirement already satisfied: threadpoolctl>=2.0.0 in /usr/local/lib/python3.10/dist-packages (from scikit-learn->pgmpy==0.1.19) (3.5.0)\n",
            "Requirement already satisfied: patsy>=0.5.6 in /usr/local/lib/python3.10/dist-packages (from statsmodels->pgmpy==0.1.19) (0.5.6)\n",
            "Requirement already satisfied: packaging>=21.3 in /usr/local/lib/python3.10/dist-packages (from statsmodels->pgmpy==0.1.19) (24.1)\n",
            "Requirement already satisfied: filelock in /usr/local/lib/python3.10/dist-packages (from torch->pgmpy==0.1.19) (3.15.4)\n",
            "Requirement already satisfied: typing-extensions>=4.8.0 in /usr/local/lib/python3.10/dist-packages (from torch->pgmpy==0.1.19) (4.12.2)\n",
            "Requirement already satisfied: sympy in /usr/local/lib/python3.10/dist-packages (from torch->pgmpy==0.1.19) (1.13.0)\n",
            "Requirement already satisfied: jinja2 in /usr/local/lib/python3.10/dist-packages (from torch->pgmpy==0.1.19) (3.1.4)\n",
            "Requirement already satisfied: fsspec in /usr/local/lib/python3.10/dist-packages (from torch->pgmpy==0.1.19) (2023.6.0)\n",
            "Requirement already satisfied: nvidia-cuda-nvrtc-cu12==12.1.105 in /usr/local/lib/python3.10/dist-packages (from torch->pgmpy==0.1.19) (12.1.105)\n",
            "Requirement already satisfied: nvidia-cuda-runtime-cu12==12.1.105 in /usr/local/lib/python3.10/dist-packages (from torch->pgmpy==0.1.19) (12.1.105)\n",
            "Requirement already satisfied: nvidia-cuda-cupti-cu12==12.1.105 in /usr/local/lib/python3.10/dist-packages (from torch->pgmpy==0.1.19) (12.1.105)\n",
            "Requirement already satisfied: nvidia-cudnn-cu12==8.9.2.26 in /usr/local/lib/python3.10/dist-packages (from torch->pgmpy==0.1.19) (8.9.2.26)\n",
            "Requirement already satisfied: nvidia-cublas-cu12==12.1.3.1 in /usr/local/lib/python3.10/dist-packages (from torch->pgmpy==0.1.19) (12.1.3.1)\n",
            "Requirement already satisfied: nvidia-cufft-cu12==11.0.2.54 in /usr/local/lib/python3.10/dist-packages (from torch->pgmpy==0.1.19) (11.0.2.54)\n",
            "Requirement already satisfied: nvidia-curand-cu12==10.3.2.106 in /usr/local/lib/python3.10/dist-packages (from torch->pgmpy==0.1.19) (10.3.2.106)\n",
            "Requirement already satisfied: nvidia-cusolver-cu12==11.4.5.107 in /usr/local/lib/python3.10/dist-packages (from torch->pgmpy==0.1.19) (11.4.5.107)\n",
            "Requirement already satisfied: nvidia-cusparse-cu12==12.1.0.106 in /usr/local/lib/python3.10/dist-packages (from torch->pgmpy==0.1.19) (12.1.0.106)\n",
            "Requirement already satisfied: nvidia-nccl-cu12==2.20.5 in /usr/local/lib/python3.10/dist-packages (from torch->pgmpy==0.1.19) (2.20.5)\n",
            "Requirement already satisfied: nvidia-nvtx-cu12==12.1.105 in /usr/local/lib/python3.10/dist-packages (from torch->pgmpy==0.1.19) (12.1.105)\n",
            "Requirement already satisfied: triton==2.3.0 in /usr/local/lib/python3.10/dist-packages (from torch->pgmpy==0.1.19) (2.3.0)\n",
            "Requirement already satisfied: nvidia-nvjitlink-cu12 in /usr/local/lib/python3.10/dist-packages (from nvidia-cusolver-cu12==11.4.5.107->torch->pgmpy==0.1.19) (12.5.82)\n",
            "Requirement already satisfied: six in /usr/local/lib/python3.10/dist-packages (from patsy>=0.5.6->statsmodels->pgmpy==0.1.19) (1.16.0)\n",
            "Requirement already satisfied: MarkupSafe>=2.0 in /usr/local/lib/python3.10/dist-packages (from jinja2->torch->pgmpy==0.1.19) (2.1.5)\n",
            "Requirement already satisfied: mpmath<1.4,>=1.1.0 in /usr/local/lib/python3.10/dist-packages (from sympy->torch->pgmpy==0.1.19) (1.3.0)\n",
            "Requirement already satisfied: pandas==1.4.3 in /usr/local/lib/python3.10/dist-packages (1.4.3)\n",
            "Requirement already satisfied: python-dateutil>=2.8.1 in /usr/local/lib/python3.10/dist-packages (from pandas==1.4.3) (2.8.2)\n",
            "Requirement already satisfied: pytz>=2020.1 in /usr/local/lib/python3.10/dist-packages (from pandas==1.4.3) (2023.4)\n",
            "Requirement already satisfied: numpy>=1.21.0 in /usr/local/lib/python3.10/dist-packages (from pandas==1.4.3) (1.25.2)\n",
            "Requirement already satisfied: six>=1.5 in /usr/local/lib/python3.10/dist-packages (from python-dateutil>=2.8.1->pandas==1.4.3) (1.16.0)\n"
          ]
        }
      ],
      "source": [
        "# Using pgmpy 0.1.19 because versions 0.1.20 - 0.1.24 (current at time of writing) have a bug that prevents this code from running. An issue has been created on Github.\n",
        "# For stability, I also use the version of pandas that was available when pgmpy 0.1.19 was available.\n",
        "!pip install pgmpy==0.1.19\n",
        "!pip install pandas==1.4.3"
      ]
    },
    {
      "cell_type": "markdown",
      "metadata": {
        "id": "7lfhlmCEGA8y"
      },
      "source": [
        "In this tutorial, we illustrate how to falsify a causal DAG using a functional constraint called a Verma constraints. Verma constraints are like conditional independence constraints -- they are a type of contraint on the joint probability of the observed variables in your model that holds assuming your DAG is correct. But to test a conditional independence constraint, you need to observe all the variables involved in the constraint. Verma constraints are constraints you can test when there are latent variables.\n",
        "\n",
        "We look at the following model:\n",
        "\n",
        "![verma_DAG](https://github.com/altdeep/causalML/blob/master/book/chapter%204/images/verma_DAG.png?raw=1)\n",
        "\n",
        "This DAG implies the following conditional independencies:\n",
        "\n",
        "* S ⊥ L | D, T\n",
        "* T ⊥ C | S\n",
        "* T ⊥ D | S\n",
        "* L ⊥ C | D, S\n",
        "* L ⊥ C | D, T\n",
        "* C ⊥ D\n",
        "\n",
        "These are six conditional independence constraints that we can test. But let's assume genetics (D) is unobserved. Then we can only test T ⊥ C | S. However, the following Verma constraint involving the observed variables is:\n",
        "\n",
        "$h(L, T, C) \\perp C$ where $h(l, t, c) = \\sum_{S=s} P(L=l|C=c, S=s, T=t) P(S=s|C=c)$\n",
        "\n",
        "So in this tutorial, for each row's values of l, s, t, c, we calculate h(L, T, C), then test this quantities independence relative to C."
      ]
    },
    {
      "cell_type": "markdown",
      "source": [
        "First, I'll load the data discretize C to make things easier. With this discretization we will lose some bit of information, but again, the goal is to test our DAG, rather than achieving some ideal level of mathematical precision."
      ],
      "metadata": {
        "id": "1XS66gFuSQWe"
      }
    },
    {
      "cell_type": "code",
      "execution_count": 2,
      "metadata": {
        "colab": {
          "base_uri": "https://localhost:8080/"
        },
        "id": "8qHOago0jluH",
        "outputId": "35c19b26-6d80-405e-b5e1-64e91c450acd"
      },
      "outputs": [
        {
          "output_type": "stream",
          "name": "stdout",
          "text": [
            "       C     S     T      L\n",
            "0   High   Med   Low   True\n",
            "1    Med  High  High  False\n",
            "2    Med  High  High   True\n",
            "3    Med  High  High   True\n",
            "4    Med  High  High   True\n",
            "..   ...   ...   ...    ...\n",
            "95   Low  High  High   True\n",
            "96  High  High  High  False\n",
            "97   Low   Low   Low  False\n",
            "98  High   Low   Low  False\n",
            "99   Low  High  High   True\n",
            "\n",
            "[100 rows x 4 columns]\n"
          ]
        }
      ],
      "source": [
        "from functools import partial\n",
        "import numpy as np\n",
        "import pandas as pd\n",
        "\n",
        "data_url = \"https://raw.githubusercontent.com/altdeep/causalML/master/datasets/cigs_and_cancer.csv\"\n",
        "data = pd.read_csv(data_url)    #A\n",
        "cost_lower = np.quantile(data[\"C\"], 1/3)    #B\n",
        "cost_upper = np.quantile(data[\"C\"], 2/3)    #B\n",
        "def discretize_three(val, lower, upper):    #B\n",
        "    if val < lower:    #B\n",
        "        return \"Low\"    #B\n",
        "    if val < upper:    #B\n",
        "        return \"Med\"    #B\n",
        "    return \"High\"    #B\n",
        "\n",
        "data_disc = data.assign(    #B\n",
        "    C = lambda df: df['C'].map(    #B\n",
        "            partial(    #B\n",
        "                discretize_three,    #B\n",
        "                lower=cost_lower,    #B\n",
        "                upper=cost_upper    #B\n",
        "            )    #B\n",
        "        )    #B\n",
        ")    #B\n",
        "data_disc = data_disc.assign(    #C\n",
        "    L = lambda df: df['L'].map(str),    #C\n",
        ")    #C\n",
        "print(data_disc)\n",
        "#A Load the csv into a Panda data frame.\n",
        "#B Discretize cost (C) into a discrete variable with three levels to facilitate conditional impendence tests.\n",
        "#C Turn lung cancer (L) from a Boolean to a string, so the conditional independence test will treat it as a discrete variable."
      ]
    },
    {
      "cell_type": "markdown",
      "metadata": {
        "id": "oszkvW4_GA8z"
      },
      "source": [
        "## Listing 4.11 Fit naïve Bayes classifier of  for P(l| c, s, t)\n",
        "\n",
        "First, we use a naive Bayes classifier to model the distributions P(L=l|C=c, S=s, T=t) and P(S=s|C=c), the two components of the function g(l, c, s, t)."
      ]
    },
    {
      "cell_type": "code",
      "execution_count": 3,
      "metadata": {
        "id": "21UjYSgSNuRJ"
      },
      "outputs": [],
      "source": [
        "from pgmpy.inference import VariableElimination\n",
        "from pgmpy.models import NaiveBayes\n",
        "\n",
        "model_L_given_CST = NaiveBayes()    #A\n",
        "model_L_given_CST.fit(data_disc, 'L')    #A\n",
        "infer_L_given_CST = VariableElimination(model_L_given_CST)    #A\n",
        "\n",
        "def p_L_given_CST(L_val, C_val, S_val, T_val): #A\n",
        "    result_out = infer_L_given_CST.query(    #A\n",
        "        variables=[\"L\"],    #A\n",
        "        evidence={'C': C_val, 'S': S_val, 'T': T_val},    #A\n",
        "        show_progress=False    #A\n",
        "    )    #A\n",
        "    var_outcomes = result_out.state_names[\"L\"]    #A\n",
        "    var_values = result_out.values    #A\n",
        "    prob = dict(zip(var_outcomes, var_values))    #A\n",
        "    return prob[L_val]    #A\n",
        "#A We’ll use a naïve Bayes classifier in pgmpy to calculate the probability value for a given value of L given values of C, S, and T. In this case I use variable elimination."
      ]
    },
    {
      "cell_type": "markdown",
      "metadata": {
        "id": "LKB8ppj6GA80"
      },
      "source": [
        "## Listing 4.12 Fit naïve Bayes classifier of P(s|c)\n",
        "\n",
        "Simulating results for L=True, C=Low, S=Low, and T=Low."
      ]
    },
    {
      "cell_type": "code",
      "execution_count": 4,
      "metadata": {
        "colab": {
          "base_uri": "https://localhost:8080/"
        },
        "id": "0Wb3rJJ_ZuyA",
        "outputId": "14df5936-ca84-4293-f935-543031f9013e"
      },
      "outputs": [
        {
          "output_type": "execute_result",
          "data": {
            "text/plain": [
              "0.6394905691929905"
            ]
          },
          "metadata": {},
          "execution_count": 4
        }
      ],
      "source": [
        "p_L_given_CST(\"True\", \"Low\", \"Low\", \"Low\")"
      ]
    },
    {
      "cell_type": "code",
      "execution_count": 5,
      "metadata": {
        "id": "SMV0HWodspi9"
      },
      "outputs": [],
      "source": [
        "model_S_given_C = NaiveBayes()    #A\n",
        "model_S_given_C.fit(data_disc, 'S')    #A\n",
        "infer_S_given_C = VariableElimination(model_S_given_C)    #A\n",
        "def p_S_given_C(S_val, C_val):    #A\n",
        "    result_out = infer_S_given_C.query(    #A\n",
        "        variables=['S'],    #A\n",
        "        evidence={'C': C_val},    #A\n",
        "        show_progress=False    #A\n",
        "    )    #A\n",
        "    var_names = result_out.state_names[\"S\"]    #A\n",
        "    var_values = result_out.values    #A\n",
        "    prob = dict(zip(var_names, var_values))    #A\n",
        "    return prob[S_val]    #A\n",
        "#A Fit a naïve Bayes classifier of P(S|C)"
      ]
    },
    {
      "cell_type": "markdown",
      "source": [
        "## Listing 4.13 Combine models to create h(L, C, T)\n",
        "\n",
        "Next, I implement the h(.) function."
      ],
      "metadata": {
        "id": "lhIR7ebcIlEW"
      }
    },
    {
      "cell_type": "code",
      "source": [
        "def h_function(L, C, T):    #A\n",
        "    summ = 0    #B\n",
        "    for s in [\"Low\", \"Med\", \"High\"]:    #B\n",
        "        summ += p_L_given_CST(L, C, s, T) * p_S_given_C(s, C)    #B\n",
        "    return summ\n",
        "#A Implement h(L, C, T)\n",
        "#B Implement summation of P(l|c,s,t) * P(s|c) over s"
      ],
      "metadata": {
        "id": "hauWYTVIGF-j"
      },
      "execution_count": 6,
      "outputs": []
    },
    {
      "cell_type": "markdown",
      "metadata": {
        "id": "HZt_DioPGA80"
      },
      "source": [
        "## Listing 4.14 Calculate outcome combinations of C, T, and L\n",
        "\n",
        "Next, we'll enumerate all combinations of C, T, and L so that we can calculate h(C, L, T) one each of these combinations."
      ]
    },
    {
      "cell_type": "code",
      "execution_count": 7,
      "metadata": {
        "id": "arB79aEcaJJx"
      },
      "outputs": [],
      "source": [
        "ctl_outcomes = pd.DataFrame(\n",
        "    [    #A\n",
        "        (C, T, L)    #A\n",
        "        for C in [\"Low\", \"Med\", \"High\"]    #A\n",
        "        for T in [\"Low\", \"High\"]    #A\n",
        "        for L in [\"False\", \"True\"]    #A\n",
        "    ],    #A\n",
        "    columns = ['C', 'T', 'L']    #A\n",
        ")\n",
        "#A Now I'll calculate these values for each possible combination of outcomes of L, C, and T. First, I use list comprehensions to make a data frame containing all the combinations."
      ]
    },
    {
      "cell_type": "code",
      "source": [
        "print(ctl_outcomes)"
      ],
      "metadata": {
        "id": "SrL2meffYb_n",
        "outputId": "7af08082-a486-4f76-d2cf-6c9e8fae7cae",
        "colab": {
          "base_uri": "https://localhost:8080/"
        }
      },
      "execution_count": 8,
      "outputs": [
        {
          "output_type": "stream",
          "name": "stdout",
          "text": [
            "       C     T      L\n",
            "0    Low   Low  False\n",
            "1    Low   Low   True\n",
            "2    Low  High  False\n",
            "3    Low  High   True\n",
            "4    Med   Low  False\n",
            "5    Med   Low   True\n",
            "6    Med  High  False\n",
            "7    Med  High   True\n",
            "8   High   Low  False\n",
            "9   High   Low   True\n",
            "10  High  High  False\n",
            "11  High  High   True\n"
          ]
        }
      ]
    },
    {
      "cell_type": "markdown",
      "metadata": {
        "id": "GqJpoh4NGA81"
      },
      "source": [
        "## Listing 4.15 Calculate h(L, C, T) for each outcome of C, T, L\n",
        "\n",
        "Next for each combination of {L, C, T} in the dataset, we'll get values of h(L=l, C=c, T=t)."
      ]
    },
    {
      "cell_type": "code",
      "execution_count": 9,
      "metadata": {
        "colab": {
          "base_uri": "https://localhost:8080/"
        },
        "id": "oSX3KkyArFdO",
        "outputId": "ee098d5b-742d-4cdc-bacb-d0f6967a227d"
      },
      "outputs": [
        {
          "output_type": "stream",
          "name": "stdout",
          "text": [
            "       C     T      L    h_func\n",
            "0    Low   Low  False  0.392395\n",
            "1    Low   Low   True  0.607605\n",
            "2    Low  High  False  0.255435\n",
            "3    Low  High   True  0.744565\n",
            "4    Med   Low  False  0.522868\n",
            "5    Med   Low   True  0.477132\n",
            "6    Med  High  False  0.369767\n",
            "7    Med  High   True  0.630233\n",
            "8   High   Low  False  0.495525\n",
            "9   High   Low   True  0.504475\n",
            "10  High  High  False  0.344616\n",
            "11  High  High   True  0.655384\n"
          ]
        }
      ],
      "source": [
        "h_dist = ctl_outcomes.assign(    #A\n",
        "    h_func = ctl_outcomes.apply(    #A\n",
        "        lambda row: h_function(    #A\n",
        "            row['L'], row['C'], row['T']), axis = 1    #A\n",
        "    )    #A\n",
        ")    #A\n",
        "print(h_dist)\n",
        "# Calculate h(L, C, T) for each combination."
      ]
    },
    {
      "cell_type": "markdown",
      "metadata": {
        "id": "k6omw8nyGA81"
      },
      "source": [
        "Finally, we join the sum-product back on the data, so we have its value for each row of the data."
      ]
    },
    {
      "cell_type": "code",
      "execution_count": 10,
      "metadata": {
        "colab": {
          "base_uri": "https://localhost:8080/"
        },
        "id": "VvpWmC9hgWJF",
        "outputId": "ea7dc643-aaff-4f32-d0aa-abc1a50103b5"
      },
      "outputs": [
        {
          "output_type": "stream",
          "name": "stdout",
          "text": [
            "       C     S     T      L    h_func\n",
            "0   High   Med   Low   True  0.504475\n",
            "1    Med  High  High  False  0.369767\n",
            "2    Med  High  High   True  0.630233\n",
            "3    Med  High  High   True  0.630233\n",
            "4    Med  High  High   True  0.630233\n",
            "..   ...   ...   ...    ...       ...\n",
            "95   Low  High  High   True  0.744565\n",
            "96  High  High  High  False  0.344616\n",
            "97   Low   Low   Low  False  0.392395\n",
            "98  High   Low   Low  False  0.495525\n",
            "99   Low  High  High   True  0.744565\n",
            "\n",
            "[100 rows x 5 columns]\n"
          ]
        }
      ],
      "source": [
        "df_mod = data_disc.merge(h_dist, on=['C', 'T', 'L'], how='left')    #A\n",
        "print(df_mod)\n",
        "# Add a column representing the variable h(C, T, L)"
      ]
    },
    {
      "cell_type": "markdown",
      "metadata": {
        "id": "_9FbyToKGA81"
      },
      "source": [
        "To visualize independence of this quantity with C, we can use a boxplot."
      ]
    },
    {
      "cell_type": "code",
      "execution_count": 11,
      "metadata": {
        "colab": {
          "base_uri": "https://localhost:8080/",
          "height": 496
        },
        "id": "ehJpVrPrBTP9",
        "outputId": "6e09c2cd-2a65-4e75-9712-cef8dc300040"
      },
      "outputs": [
        {
          "output_type": "execute_result",
          "data": {
            "text/plain": [
              "<Axes: title={'center': 'h_func'}, xlabel='C'>"
            ]
          },
          "metadata": {},
          "execution_count": 11
        },
        {
          "output_type": "display_data",
          "data": {
            "text/plain": [
              "<Figure size 640x480 with 1 Axes>"
            ],
            "image/png": "[encoded data removed]"
          },
          "metadata": {}
        }
      ],
      "source": [
        "df_mod.boxplot(\"h_func\", \"C\")"
      ]
    },
    {
      "cell_type": "markdown",
      "metadata": {
        "id": "F6PJtmrBGA82"
      },
      "source": [
        "The overlap of the boxes indicates independence.\n",
        "\n",
        "We can also use an [F-test](https://en.wikipedia.org/wiki/F-test) to test independence. The null hypothesis is independence. Let's assume a typical significance threshold of .1. A p-value below the threshold means one should reject the null hypothesis and favor the conclusion of dependence. That doesn't happen in this case."
      ]
    },
    {
      "cell_type": "code",
      "execution_count": 12,
      "metadata": {
        "colab": {
          "base_uri": "https://localhost:8080/"
        },
        "id": "5mnYJyQn6Kbi",
        "outputId": "afb5324a-b93b-450d-baea-69319e207cdf"
      },
      "outputs": [
        {
          "output_type": "execute_result",
          "data": {
            "text/plain": [
              "0.18764827330832057"
            ]
          },
          "metadata": {},
          "execution_count": 12
        }
      ],
      "source": [
        "from statsmodels.formula.api import ols\n",
        "import statsmodels.api as sm\n",
        "\n",
        "model = ols('h_func ~ C', data=df_mod).fit()    #A\n",
        "aov_table = sm.stats.anova_lm(model, typ=2)    #A\n",
        "aov_table[\"PR(>F)\"][\"C\"]    #A"
      ]
    },
    {
      "cell_type": "markdown",
      "metadata": {
        "id": "9YexawRYGA82"
      },
      "source": [
        "As a sanity check, we can test independence with T and L. These have small p-values that fall below a .1 significance threshold."
      ]
    },
    {
      "cell_type": "code",
      "execution_count": 13,
      "metadata": {
        "colab": {
          "base_uri": "https://localhost:8080/"
        },
        "id": "kdd3jGMuAphc",
        "outputId": "434ce5e8-1496-468a-8b54-5b341bdc5b99"
      },
      "outputs": [
        {
          "output_type": "execute_result",
          "data": {
            "text/plain": [
              "0.07635987808881248"
            ]
          },
          "metadata": {},
          "execution_count": 13
        }
      ],
      "source": [
        "model = ols('h_func ~ T', data=df_mod).fit()    #B\n",
        "aov_table = sm.stats.anova_lm(model, typ=2)    #B\n",
        "aov_table[\"PR(>F)\"][\"T\"]    #B"
      ]
    },
    {
      "cell_type": "code",
      "execution_count": 14,
      "metadata": {
        "colab": {
          "base_uri": "https://localhost:8080/"
        },
        "id": "BX1erMulA-Xw",
        "outputId": "0acd11e8-77de-4335-819b-b94399271129"
      },
      "outputs": [
        {
          "output_type": "execute_result",
          "data": {
            "text/plain": [
              "4.700953975260128e-28"
            ]
          },
          "metadata": {},
          "execution_count": 14
        }
      ],
      "source": [
        "model = ols('h_func ~ L', data=df_mod).fit()    #C\n",
        "aov_table = sm.stats.anova_lm(model, typ=2)    #C\n",
        "aov_table[\"PR(>F)\"][\"L\"]    #C"
      ]
    }
  ],
  "metadata": {
    "colab": {
      "provenance": []
    },
    "kernelspec": {
      "display_name": "Python 3 (ipykernel)",
      "language": "python",
      "name": "python3"
    },
    "language_info": {
      "codemirror_mode": {
        "name": "ipython",
        "version": 3
      },
      "file_extension": ".py",
      "mimetype": "text/x-python",
      "name": "python",
      "nbconvert_exporter": "python",
      "pygments_lexer": "ipython3",
      "version": "3.11.7"
    }
  },
  "nbformat": 4,
  "nbformat_minor": 0
}