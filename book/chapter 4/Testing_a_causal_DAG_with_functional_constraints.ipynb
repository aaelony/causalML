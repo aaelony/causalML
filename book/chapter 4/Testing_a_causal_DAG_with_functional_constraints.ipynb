{
  "cells": [
    {
      "cell_type": "markdown",
      "metadata": {
        "id": "11lFMQh-GA8u"
      },
      "source": [
        "# Chapter 4 - Testing a causal DAG with functional constraints\n",
        "\n",
        "The notebook is a code companion to chapter 4 of the book [Causal AI](https://www.manning.com/books/causal-ai) by [Robert Osazuwa Ness](https://www.linkedin.com/in/osazuwa/).\n",
        "\n",
        "<a href=\"https://colab.research.google.com/github/altdeep/causalML/blob/master/book/chapter%204/Testing_a_causal_DAG_with_functional_constraints.ipynb\" target=\"_parent\"><img src=\"https://colab.research.google.com/assets/colab-badge.svg\" alt=\"Open In Colab\"/></a>"
      ]
    },
    {
      "cell_type": "code",
      "execution_count": null,
      "metadata": {
        "colab": {
          "base_uri": "https://localhost:8080/"
        },
        "id": "xG2Uj-oSMPbP",
        "outputId": "6e5b09c8-749b-4167-bd18-e25425d149dd"
      },
      "outputs": [
        {
          "output_type": "stream",
          "name": "stdout",
          "text": [
            "Requirement already satisfied: pgmpy==0.1.19 in /usr/local/lib/python3.10/dist-packages (0.1.19)\n",
            "Requirement already satisfied: networkx in /usr/local/lib/python3.10/dist-packages (from pgmpy==0.1.19) (3.3)\n",
            "Requirement already satisfied: numpy in /usr/local/lib/python3.10/dist-packages (from pgmpy==0.1.19) (1.25.2)\n",
            "Requirement already satisfied: scipy in /usr/local/lib/python3.10/dist-packages (from pgmpy==0.1.19) (1.11.4)\n",
            "Requirement already satisfied: scikit-learn in /usr/local/lib/python3.10/dist-packages (from pgmpy==0.1.19) (1.2.2)\n",
            "Requirement already satisfied: pandas in /usr/local/lib/python3.10/dist-packages (from pgmpy==0.1.19) (1.4.3)\n",
            "Requirement already satisfied: pyparsing in /usr/local/lib/python3.10/dist-packages (from pgmpy==0.1.19) (3.1.2)\n",
            "Requirement already satisfied: torch in /usr/local/lib/python3.10/dist-packages (from pgmpy==0.1.19) (2.2.1+cu121)\n",
            "Requirement already satisfied: statsmodels in /usr/local/lib/python3.10/dist-packages (from pgmpy==0.1.19) (0.14.2)\n",
            "Requirement already satisfied: tqdm in /usr/local/lib/python3.10/dist-packages (from pgmpy==0.1.19) (4.66.2)\n",
            "Requirement already satisfied: joblib in /usr/local/lib/python3.10/dist-packages (from pgmpy==0.1.19) (1.4.0)\n",
            "Requirement already satisfied: python-dateutil>=2.8.1 in /usr/local/lib/python3.10/dist-packages (from pandas->pgmpy==0.1.19) (2.8.2)\n",
            "Requirement already satisfied: pytz>=2020.1 in /usr/local/lib/python3.10/dist-packages (from pandas->pgmpy==0.1.19) (2023.4)\n",
            "Requirement already satisfied: threadpoolctl>=2.0.0 in /usr/local/lib/python3.10/dist-packages (from scikit-learn->pgmpy==0.1.19) (3.4.0)\n",
            "Requirement already satisfied: patsy>=0.5.6 in /usr/local/lib/python3.10/dist-packages (from statsmodels->pgmpy==0.1.19) (0.5.6)\n",
            "Requirement already satisfied: packaging>=21.3 in /usr/local/lib/python3.10/dist-packages (from statsmodels->pgmpy==0.1.19) (24.0)\n",
            "Requirement already satisfied: filelock in /usr/local/lib/python3.10/dist-packages (from torch->pgmpy==0.1.19) (3.13.4)\n",
            "Requirement already satisfied: typing-extensions>=4.8.0 in /usr/local/lib/python3.10/dist-packages (from torch->pgmpy==0.1.19) (4.11.0)\n",
            "Requirement already satisfied: sympy in /usr/local/lib/python3.10/dist-packages (from torch->pgmpy==0.1.19) (1.12)\n",
            "Requirement already satisfied: jinja2 in /usr/local/lib/python3.10/dist-packages (from torch->pgmpy==0.1.19) (3.1.3)\n",
            "Requirement already satisfied: fsspec in /usr/local/lib/python3.10/dist-packages (from torch->pgmpy==0.1.19) (2023.6.0)\n",
            "Requirement already satisfied: nvidia-cuda-nvrtc-cu12==12.1.105 in /usr/local/lib/python3.10/dist-packages (from torch->pgmpy==0.1.19) (12.1.105)\n",
            "Requirement already satisfied: nvidia-cuda-runtime-cu12==12.1.105 in /usr/local/lib/python3.10/dist-packages (from torch->pgmpy==0.1.19) (12.1.105)\n",
            "Requirement already satisfied: nvidia-cuda-cupti-cu12==12.1.105 in /usr/local/lib/python3.10/dist-packages (from torch->pgmpy==0.1.19) (12.1.105)\n",
            "Requirement already satisfied: nvidia-cudnn-cu12==8.9.2.26 in /usr/local/lib/python3.10/dist-packages (from torch->pgmpy==0.1.19) (8.9.2.26)\n",
            "Requirement already satisfied: nvidia-cublas-cu12==12.1.3.1 in /usr/local/lib/python3.10/dist-packages (from torch->pgmpy==0.1.19) (12.1.3.1)\n",
            "Requirement already satisfied: nvidia-cufft-cu12==11.0.2.54 in /usr/local/lib/python3.10/dist-packages (from torch->pgmpy==0.1.19) (11.0.2.54)\n",
            "Requirement already satisfied: nvidia-curand-cu12==10.3.2.106 in /usr/local/lib/python3.10/dist-packages (from torch->pgmpy==0.1.19) (10.3.2.106)\n",
            "Requirement already satisfied: nvidia-cusolver-cu12==11.4.5.107 in /usr/local/lib/python3.10/dist-packages (from torch->pgmpy==0.1.19) (11.4.5.107)\n",
            "Requirement already satisfied: nvidia-cusparse-cu12==12.1.0.106 in /usr/local/lib/python3.10/dist-packages (from torch->pgmpy==0.1.19) (12.1.0.106)\n",
            "Requirement already satisfied: nvidia-nccl-cu12==2.19.3 in /usr/local/lib/python3.10/dist-packages (from torch->pgmpy==0.1.19) (2.19.3)\n",
            "Requirement already satisfied: nvidia-nvtx-cu12==12.1.105 in /usr/local/lib/python3.10/dist-packages (from torch->pgmpy==0.1.19) (12.1.105)\n",
            "Requirement already satisfied: triton==2.2.0 in /usr/local/lib/python3.10/dist-packages (from torch->pgmpy==0.1.19) (2.2.0)\n",
            "Requirement already satisfied: nvidia-nvjitlink-cu12 in /usr/local/lib/python3.10/dist-packages (from nvidia-cusolver-cu12==11.4.5.107->torch->pgmpy==0.1.19) (12.4.127)\n",
            "Requirement already satisfied: six in /usr/local/lib/python3.10/dist-packages (from patsy>=0.5.6->statsmodels->pgmpy==0.1.19) (1.16.0)\n",
            "Requirement already satisfied: MarkupSafe>=2.0 in /usr/local/lib/python3.10/dist-packages (from jinja2->torch->pgmpy==0.1.19) (2.1.5)\n",
            "Requirement already satisfied: mpmath>=0.19 in /usr/local/lib/python3.10/dist-packages (from sympy->torch->pgmpy==0.1.19) (1.3.0)\n",
            "Requirement already satisfied: pandas==1.4.3 in /usr/local/lib/python3.10/dist-packages (1.4.3)\n",
            "Requirement already satisfied: python-dateutil>=2.8.1 in /usr/local/lib/python3.10/dist-packages (from pandas==1.4.3) (2.8.2)\n",
            "Requirement already satisfied: pytz>=2020.1 in /usr/local/lib/python3.10/dist-packages (from pandas==1.4.3) (2023.4)\n",
            "Requirement already satisfied: numpy>=1.21.0 in /usr/local/lib/python3.10/dist-packages (from pandas==1.4.3) (1.25.2)\n",
            "Requirement already satisfied: six>=1.5 in /usr/local/lib/python3.10/dist-packages (from python-dateutil>=2.8.1->pandas==1.4.3) (1.16.0)\n"
          ]
        }
      ],
      "source": [
        "# Using pgmpy 0.1.19 because versions 0.1.20 - 0.1.24 (current at time of writing) have a bug that prevents this code from running. An issue has been created on Github.\n",
        "# For stability, I also use the version of pandas that was available when pgmpy 0.1.19 was available.\n",
        "!pip install pgmpy==0.1.19\n",
        "!pip install pandas==1.4.3"
      ]
    },
    {
      "cell_type": "markdown",
      "metadata": {
        "id": "7lfhlmCEGA8y"
      },
      "source": [
        "In this tutorial, we illustrate how to falsify a causal DAG using a functional constraint called a Verma constraints. Verma constraints are like conditional independence constraints -- they are a type of contraint on the joint probability of the observed variables in your model that holds assuming your DAG is correct. But to test a conditional independence constraint, you need to observe all the variables involved in the constraint. Verma constraints are constraints you can test when there are latent variables.\n",
        "\n",
        "We look at the following model:\n",
        "\n",
        "![verma_DAG](https://github.com/altdeep/causalML/blob/master/book/chapter%204/images/verma_DAG.png?raw=1)\n",
        "\n",
        "This DAG implies the following conditional independencies:\n",
        "\n",
        "* S ⊥ L | D, T\n",
        "* T ⊥ C | S\n",
        "* T ⊥ D | S\n",
        "* L ⊥ C | D, S\n",
        "* L ⊥ C | D, T\n",
        "* C ⊥ D\n",
        "\n",
        "These are six conditional independence constraints that we can test. But let's assume genetics (D) is unobserved. Then we can only test T ⊥ C | S. However, the following Verma constraint involving the observed variables is:\n",
        "\n",
        "$h(L, T, C) \\perp C$ where $h(l, t, c) = \\sum_{S=s} P(L=l|C=c, S=s, T=t) P(S=s|C=c)$\n",
        "\n",
        "So in this tutorial, for each row's values of l, s, t, c, we calculate h(L, T, C), then test this quantities independence relative to C."
      ]
    },
    {
      "cell_type": "markdown",
      "source": [
        "First, I'll load the data discretize C to make things easier. With this discretization we will lose some bit of information, but again, the goal is to test our DAG, rather than achieving some ideal level of mathematical precision."
      ],
      "metadata": {
        "id": "1XS66gFuSQWe"
      }
    },
    {
      "cell_type": "code",
      "execution_count": null,
      "metadata": {
        "colab": {
          "base_uri": "https://localhost:8080/"
        },
        "id": "8qHOago0jluH",
        "outputId": "ac7ae917-50ce-4a63-ec58-e615957f5523"
      },
      "outputs": [
        {
          "output_type": "stream",
          "name": "stdout",
          "text": [
            "       C     S     T      L\n",
            "0   High   Med   Low   True\n",
            "1    Med  High  High  False\n",
            "2    Med  High  High   True\n",
            "3    Med  High  High   True\n",
            "4    Med  High  High   True\n",
            "..   ...   ...   ...    ...\n",
            "95   Low  High  High   True\n",
            "96  High  High  High  False\n",
            "97   Low   Low   Low  False\n",
            "98  High   Low   Low  False\n",
            "99   Low  High  High   True\n",
            "\n",
            "[100 rows x 4 columns]\n"
          ]
        }
      ],
      "source": [
        "from functools import partial\n",
        "import numpy as np\n",
        "import pandas as pd\n",
        "\n",
        "data_url = \"https://raw.githubusercontent.com/altdeep/causalML/master/datasets/cigs_and_cancer.csv\"\n",
        "data = pd.read_csv(data_url)    #A\n",
        "cost_lower = np.quantile(data[\"C\"], 1/3)    #B\n",
        "cost_upper = np.quantile(data[\"C\"], 2/3)    #B\n",
        "def discretize_three(val, lower, upper):    #B\n",
        "   if val < lower:    #B\n",
        "       return \"Low\"    #B\n",
        "   if val < upper:    #B\n",
        "       return \"Med\"    #B\n",
        "   return \"High\"    #B\n",
        "\n",
        "data_disc = data.assign(    #B\n",
        "   C = lambda df: df['C'].map(    #B\n",
        "           partial(    #B\n",
        "               discretize_three,    #B\n",
        "               lower=cost_lower,    #B\n",
        "               upper=cost_upper    #B\n",
        "           )    #B\n",
        "       )    #B\n",
        ")    #B\n",
        "data_disc = data_disc.assign(    #C\n",
        "   L = lambda df: df['L'].map(str),    #C\n",
        ")    #C\n",
        "print(data_disc)\n",
        "\n",
        "#A Load the csv into a Panda data frame.\n",
        "#B Discretize cost (C) into a discrete variable with three levels to facilitate conditional impendence tests.\n",
        "#C Turn lung cancer (L) from a Boolean to a string, so the conditional independence test will treat it as a discrete variable.\n"
      ]
    },
    {
      "cell_type": "markdown",
      "metadata": {
        "id": "oszkvW4_GA8z"
      },
      "source": [
        "First, we use a naive Bayes classifier to model the distributions P(L=l|C=c, S=s, T=t) and P(S=s|C=c), the two components of the function g(l, c, s, t)."
      ]
    },
    {
      "cell_type": "code",
      "execution_count": null,
      "metadata": {
        "id": "21UjYSgSNuRJ"
      },
      "outputs": [],
      "source": [
        "from pgmpy.estimators import BayesianEstimator\n",
        "from pgmpy.inference import VariableElimination\n",
        "from pgmpy.models import NaiveBayes\n",
        "\n",
        "model_L_given_CST = NaiveBayes()    #A\n",
        "model_L_given_CST.fit(data_disc, 'L', estimator=BayesianEstimator)    #A\n",
        "infer_L_given_CST = VariableElimination(model_L_given_CST)    #A\n",
        "\n",
        "def p_L_given_CST(L_val, C_val, S_val, T_val, engine=infer_L_given_CST): #A\n",
        "\n",
        "   result_out = engine.query(    #A\n",
        "       variables=[\"L\"],    #A\n",
        "       evidence={'C': C_val, 'S': S_val, 'T': T_val},    #A\n",
        "       show_progress=False    #A\n",
        "   )    #A\n",
        "   prob = dict(zip(result_out.state_names[\"L\"], result_out.values))    #A\n",
        "   return prob[L_val]    #A\n",
        "#A We’ll use a naïve Bayes classifier in pgmpy to calculate the probability value for a given value of L given values of C, S, and T. In this case I use variable elimination."
      ]
    },
    {
      "cell_type": "markdown",
      "metadata": {
        "id": "LKB8ppj6GA80"
      },
      "source": [
        "Simulating results for L=True, C=Low, S=Low, and T=Low."
      ]
    },
    {
      "cell_type": "code",
      "execution_count": null,
      "metadata": {
        "colab": {
          "base_uri": "https://localhost:8080/"
        },
        "id": "0Wb3rJJ_ZuyA",
        "outputId": "c1abe7bd-f643-44ae-c9f0-3c82ba2c153b"
      },
      "outputs": [
        {
          "output_type": "execute_result",
          "data": {
            "text/plain": [
              "0.6173631165455108"
            ]
          },
          "metadata": {},
          "execution_count": 25
        }
      ],
      "source": [
        "p_L_given_CST(\"True\", \"Low\", \"Low\", \"Low\")"
      ]
    },
    {
      "cell_type": "code",
      "execution_count": null,
      "metadata": {
        "id": "SMV0HWodspi9"
      },
      "outputs": [],
      "source": [
        "model_S_given_C = NaiveBayes()    #A\n",
        "model_S_given_C.fit(data_disc, 'S', estimator=BayesianEstimator)    #A\n",
        "\n",
        "infer_S_given_C = VariableElimination(model_S_given_C)    #A\n",
        "def p_S_given_C(S_val, C_val, engine=infer_S_given_C):    #A\n",
        "    result_out = engine.query(    #A\n",
        "       variables=['S'],    #A\n",
        "       evidence={'C': C_val},    #A\n",
        "       show_progress=False    #A\n",
        "   )    #A\n",
        "   prob = dict(zip(result_out.state_names[\"S\"], result_out.values))    #A\n",
        "   return prob[S_val]    #A\n",
        "#A Fit a naïve Bayes classifier of P(S|C)"
      ]
    },
    {
      "cell_type": "markdown",
      "source": [
        "Next, I implement the h(.) function."
      ],
      "metadata": {
        "id": "lhIR7ebcIlEW"
      }
    },
    {
      "cell_type": "code",
      "source": [
        "def h_function(L, C, T):    #A\n",
        "    summ = 0    #B\n",
        "    for s in [\"Low\", \"Med\", \"High\"]:    #B\n",
        "        summ += p_L_given_CST(L, C, s, T) * p_S_given_C(s, C)    #B\n",
        "    return summ\n",
        "\n",
        "#A Implement h(L, C, T)\n",
        "#B Implement summation of P(l|c,s,t) * P(s|c) over s"
      ],
      "metadata": {
        "id": "hauWYTVIGF-j"
      },
      "execution_count": null,
      "outputs": []
    },
    {
      "cell_type": "markdown",
      "metadata": {
        "id": "HZt_DioPGA80"
      },
      "source": [
        "Next, we'll enumerate all combinations of C, T, and L so that we can calculate h(C, L, T) one each of these combinations."
      ]
    },
    {
      "cell_type": "code",
      "execution_count": null,
      "metadata": {
        "id": "arB79aEcaJJx"
      },
      "outputs": [],
      "source": [
        "ctl_outcomes = pd.DataFrame(\n",
        "    [    #A\n",
        "        (C, T, L)    #A\n",
        "        for C in [\"Low\", \"Med\", \"High\"]    #A\n",
        "        for T in [\"Low\", \"High\"]    #A\n",
        "        for L in [\"False\", \"True\"]    #A\n",
        "    ],    #A\n",
        "    columns = ['C', 'T', 'L']    #A\n",
        ")\n",
        "#A Now I'll calculate these values for each possible combination of outcomes of L, C, and T. First, I use list comprehensions to make a data frame containing all the combinations."
      ]
    },
    {
      "cell_type": "code",
      "source": [
        "print(ctl_outcomes)"
      ],
      "metadata": {
        "id": "SrL2meffYb_n",
        "outputId": "91a63271-4ed8-4f9d-fc16-8e776d7fa93f",
        "colab": {
          "base_uri": "https://localhost:8080/"
        }
      },
      "execution_count": null,
      "outputs": [
        {
          "output_type": "stream",
          "name": "stdout",
          "text": [
            "       C     T      L\n",
            "0    Low   Low  False\n",
            "1    Low   Low   True\n",
            "2    Low  High  False\n",
            "3    Low  High   True\n",
            "4    Med   Low  False\n",
            "5    Med   Low   True\n",
            "6    Med  High  False\n",
            "7    Med  High   True\n",
            "8   High   Low  False\n",
            "9   High   Low   True\n",
            "10  High  High  False\n",
            "11  High  High   True\n"
          ]
        }
      ]
    },
    {
      "cell_type": "markdown",
      "metadata": {
        "id": "GqJpoh4NGA81"
      },
      "source": [
        "Next for each combination of {L, C, T} in the dataset, we'll get values of h(L=l, C=c, T=t)."
      ]
    },
    {
      "cell_type": "code",
      "execution_count": null,
      "metadata": {
        "colab": {
          "base_uri": "https://localhost:8080/"
        },
        "id": "oSX3KkyArFdO",
        "outputId": "820fc65b-78ba-4b88-fbcd-668c7640dbd9"
      },
      "outputs": [
        {
          "output_type": "stream",
          "name": "stdout",
          "text": [
            "       C     T      L    h_func\n",
            "0    Low   Low  False  0.399869\n",
            "1    Low   Low   True  0.600131\n",
            "2    Low  High  False  0.264353\n",
            "3    Low  High   True  0.735647\n",
            "4    Med   Low  False  0.523694\n",
            "5    Med   Low   True  0.476306\n",
            "6    Med  High  False  0.373653\n",
            "7    Med  High   True  0.626347\n",
            "8   High   Low  False  0.496355\n",
            "9   High   Low   True  0.503645\n",
            "10  High  High  False  0.348536\n",
            "11  High  High   True  0.651464\n"
          ]
        }
      ],
      "source": [
        "h_dist = ctl_outcomes.assign(    #A\n",
        "    h_func = ctl_outcomes.apply(    #A\n",
        "        lambda row: h_function(    #A\n",
        "            row['L'], row['C'], row['T']), axis = 1    #A\n",
        "    )    #A\n",
        ")    #A\n",
        "print(h_dist)\n",
        "# Calculate h(L, C, T) for each combination."
      ]
    },
    {
      "cell_type": "markdown",
      "metadata": {
        "id": "k6omw8nyGA81"
      },
      "source": [
        "Finally, we join the sum-product back on the data, so we have its value for each row of the data."
      ]
    },
    {
      "cell_type": "code",
      "execution_count": null,
      "metadata": {
        "colab": {
          "base_uri": "https://localhost:8080/"
        },
        "id": "VvpWmC9hgWJF",
        "outputId": "2ec166ee-df7b-4cb0-9c41-8f5c2804b024"
      },
      "outputs": [
        {
          "output_type": "stream",
          "name": "stdout",
          "text": [
            "       C     S     T      L    h_func\n",
            "0   High   Med   Low   True  0.503645\n",
            "1    Med  High  High  False  0.373653\n",
            "2    Med  High  High   True  0.626347\n",
            "3    Med  High  High   True  0.626347\n",
            "4    Med  High  High   True  0.626347\n",
            "..   ...   ...   ...    ...       ...\n",
            "95   Low  High  High   True  0.735647\n",
            "96  High  High  High  False  0.348536\n",
            "97   Low   Low   Low  False  0.399869\n",
            "98  High   Low   Low  False  0.496355\n",
            "99   Low  High  High   True  0.735647\n",
            "\n",
            "[100 rows x 5 columns]\n"
          ]
        }
      ],
      "source": [
        "df_mod = data_disc.merge(h_dist, on=['C', 'T', 'L'], how='left')    #A\n",
        "print(df_mod)\n",
        "# Add a column representing the variable h(C, T, L)"
      ]
    },
    {
      "cell_type": "markdown",
      "metadata": {
        "id": "_9FbyToKGA81"
      },
      "source": [
        "To visualize independence of this quantity with C, we can use a boxplot."
      ]
    },
    {
      "cell_type": "code",
      "execution_count": null,
      "metadata": {
        "colab": {
          "base_uri": "https://localhost:8080/",
          "height": 496
        },
        "id": "ehJpVrPrBTP9",
        "outputId": "7f291843-443e-4ad6-d24f-fc627d35d13c"
      },
      "outputs": [
        {
          "output_type": "execute_result",
          "data": {
            "text/plain": [
              "<Axes: title={'center': 'h_func'}, xlabel='C'>"
            ]
          },
          "metadata": {},
          "execution_count": 32
        },
        {
          "output_type": "display_data",
          "data": {
            "text/plain": [
              "<Figure size 640x480 with 1 Axes>"
            ],
            "image/png": "[encoded data removed]"
          },
          "metadata": {}
        }
      ],
      "source": [
        "df_mod.boxplot(\"h_func\", \"C\")"
      ]
    },
    {
      "cell_type": "markdown",
      "metadata": {
        "id": "F6PJtmrBGA82"
      },
      "source": [
        "The overlap of the boxes indicates independence.\n",
        "\n",
        "We can also use an [F-test](https://en.wikipedia.org/wiki/F-test) to test independence. The null hypothesis is independence. Let's assume a typical significance threshold of .1. A p-value below the threshold means one should reject the null hypothesis and favor the conclusion of dependence. That doesn't happen in this case."
      ]
    },
    {
      "cell_type": "code",
      "execution_count": null,
      "metadata": {
        "colab": {
          "base_uri": "https://localhost:8080/"
        },
        "id": "5mnYJyQn6Kbi",
        "outputId": "5e6ffdb5-f037-4e44-a9cd-a668dd52ea88"
      },
      "outputs": [
        {
          "output_type": "execute_result",
          "data": {
            "text/plain": [
              "0.19364363417824296"
            ]
          },
          "metadata": {},
          "execution_count": 33
        }
      ],
      "source": [
        "from statsmodels.formula.api import ols\n",
        "import statsmodels.api as sm\n",
        "\n",
        "model = ols('h_func ~ C', data=df_mod).fit()    #A\n",
        "aov_table = sm.stats.anova_lm(model, typ=2)    #A\n",
        "aov_table[\"PR(>F)\"][\"C\"]    #A"
      ]
    },
    {
      "cell_type": "markdown",
      "metadata": {
        "id": "9YexawRYGA82"
      },
      "source": [
        "As a sanity check, we can test independence with T and L. These have small p-values that fall below a .1 significance threshold."
      ]
    },
    {
      "cell_type": "code",
      "execution_count": null,
      "metadata": {
        "colab": {
          "base_uri": "https://localhost:8080/"
        },
        "id": "kdd3jGMuAphc",
        "outputId": "c9c8d75c-0ddd-4aa3-e6ab-4974320cc606"
      },
      "outputs": [
        {
          "output_type": "execute_result",
          "data": {
            "text/plain": [
              "0.07522736142622224"
            ]
          },
          "metadata": {},
          "execution_count": 34
        }
      ],
      "source": [
        "model = ols('h_func ~ T', data=df_mod).fit()    #B\n",
        "aov_table = sm.stats.anova_lm(model, typ=2)    #B\n",
        "aov_table[\"PR(>F)\"][\"T\"]    #B"
      ]
    },
    {
      "cell_type": "code",
      "execution_count": null,
      "metadata": {
        "colab": {
          "base_uri": "https://localhost:8080/"
        },
        "id": "BX1erMulA-Xw",
        "outputId": "57adb798-9117-4edd-dbf9-52cbeb402057"
      },
      "outputs": [
        {
          "output_type": "execute_result",
          "data": {
            "text/plain": [
              "7.054785247783987e-28"
            ]
          },
          "metadata": {},
          "execution_count": 35
        }
      ],
      "source": [
        "model = ols('h_func ~ L', data=df_mod).fit()    #C\n",
        "aov_table = sm.stats.anova_lm(model, typ=2)    #C\n",
        "aov_table[\"PR(>F)\"][\"L\"]    #C"
      ]
    }
  ],
  "metadata": {
    "colab": {
      "provenance": []
    },
    "kernelspec": {
      "display_name": "Python 3 (ipykernel)",
      "language": "python",
      "name": "python3"
    },
    "language_info": {
      "codemirror_mode": {
        "name": "ipython",
        "version": 3
      },
      "file_extension": ".py",
      "mimetype": "text/x-python",
      "name": "python",
      "nbconvert_exporter": "python",
      "pygments_lexer": "ipython3",
      "version": "3.11.7"
    }
  },
  "nbformat": 4,
  "nbformat_minor": 0
}
