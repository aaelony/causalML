{
  "cells": [
    {
      "cell_type": "code",
      "execution_count": 1,
      "metadata": {
        "id": "xQs8VigU0TdV",
        "colab": {
          "base_uri": "https://localhost:8080/"
        },
        "outputId": "cbd3b401-f71f-4a27-f3e1-4ddeb6327e2b"
      },
      "outputs": [
        {
          "output_type": "stream",
          "name": "stdout",
          "text": [
            "Requirement already satisfied: pgmpy==0.1.24 in /usr/local/lib/python3.10/dist-packages (0.1.24)\n",
            "Requirement already satisfied: networkx in /usr/local/lib/python3.10/dist-packages (from pgmpy==0.1.24) (3.3)\n",
            "Requirement already satisfied: numpy in /usr/local/lib/python3.10/dist-packages (from pgmpy==0.1.24) (1.25.2)\n",
            "Requirement already satisfied: scipy in /usr/local/lib/python3.10/dist-packages (from pgmpy==0.1.24) (1.11.4)\n",
            "Requirement already satisfied: scikit-learn in /usr/local/lib/python3.10/dist-packages (from pgmpy==0.1.24) (1.2.2)\n",
            "Requirement already satisfied: pandas in /usr/local/lib/python3.10/dist-packages (from pgmpy==0.1.24) (2.0.3)\n",
            "Requirement already satisfied: pyparsing in /usr/local/lib/python3.10/dist-packages (from pgmpy==0.1.24) (3.1.2)\n",
            "Requirement already satisfied: torch in /usr/local/lib/python3.10/dist-packages (from pgmpy==0.1.24) (2.3.0+cu121)\n",
            "Requirement already satisfied: statsmodels in /usr/local/lib/python3.10/dist-packages (from pgmpy==0.1.24) (0.14.2)\n",
            "Requirement already satisfied: tqdm in /usr/local/lib/python3.10/dist-packages (from pgmpy==0.1.24) (4.66.4)\n",
            "Requirement already satisfied: joblib in /usr/local/lib/python3.10/dist-packages (from pgmpy==0.1.24) (1.4.2)\n",
            "Requirement already satisfied: opt-einsum in /usr/local/lib/python3.10/dist-packages (from pgmpy==0.1.24) (3.3.0)\n",
            "Requirement already satisfied: python-dateutil>=2.8.2 in /usr/local/lib/python3.10/dist-packages (from pandas->pgmpy==0.1.24) (2.8.2)\n",
            "Requirement already satisfied: pytz>=2020.1 in /usr/local/lib/python3.10/dist-packages (from pandas->pgmpy==0.1.24) (2023.4)\n",
            "Requirement already satisfied: tzdata>=2022.1 in /usr/local/lib/python3.10/dist-packages (from pandas->pgmpy==0.1.24) (2024.1)\n",
            "Requirement already satisfied: threadpoolctl>=2.0.0 in /usr/local/lib/python3.10/dist-packages (from scikit-learn->pgmpy==0.1.24) (3.5.0)\n",
            "Requirement already satisfied: patsy>=0.5.6 in /usr/local/lib/python3.10/dist-packages (from statsmodels->pgmpy==0.1.24) (0.5.6)\n",
            "Requirement already satisfied: packaging>=21.3 in /usr/local/lib/python3.10/dist-packages (from statsmodels->pgmpy==0.1.24) (24.1)\n",
            "Requirement already satisfied: filelock in /usr/local/lib/python3.10/dist-packages (from torch->pgmpy==0.1.24) (3.15.4)\n",
            "Requirement already satisfied: typing-extensions>=4.8.0 in /usr/local/lib/python3.10/dist-packages (from torch->pgmpy==0.1.24) (4.12.2)\n",
            "Requirement already satisfied: sympy in /usr/local/lib/python3.10/dist-packages (from torch->pgmpy==0.1.24) (1.13.0)\n",
            "Requirement already satisfied: jinja2 in /usr/local/lib/python3.10/dist-packages (from torch->pgmpy==0.1.24) (3.1.4)\n",
            "Requirement already satisfied: fsspec in /usr/local/lib/python3.10/dist-packages (from torch->pgmpy==0.1.24) (2023.6.0)\n",
            "Requirement already satisfied: nvidia-cuda-nvrtc-cu12==12.1.105 in /usr/local/lib/python3.10/dist-packages (from torch->pgmpy==0.1.24) (12.1.105)\n",
            "Requirement already satisfied: nvidia-cuda-runtime-cu12==12.1.105 in /usr/local/lib/python3.10/dist-packages (from torch->pgmpy==0.1.24) (12.1.105)\n",
            "Requirement already satisfied: nvidia-cuda-cupti-cu12==12.1.105 in /usr/local/lib/python3.10/dist-packages (from torch->pgmpy==0.1.24) (12.1.105)\n",
            "Requirement already satisfied: nvidia-cudnn-cu12==8.9.2.26 in /usr/local/lib/python3.10/dist-packages (from torch->pgmpy==0.1.24) (8.9.2.26)\n",
            "Requirement already satisfied: nvidia-cublas-cu12==12.1.3.1 in /usr/local/lib/python3.10/dist-packages (from torch->pgmpy==0.1.24) (12.1.3.1)\n",
            "Requirement already satisfied: nvidia-cufft-cu12==11.0.2.54 in /usr/local/lib/python3.10/dist-packages (from torch->pgmpy==0.1.24) (11.0.2.54)\n",
            "Requirement already satisfied: nvidia-curand-cu12==10.3.2.106 in /usr/local/lib/python3.10/dist-packages (from torch->pgmpy==0.1.24) (10.3.2.106)\n",
            "Requirement already satisfied: nvidia-cusolver-cu12==11.4.5.107 in /usr/local/lib/python3.10/dist-packages (from torch->pgmpy==0.1.24) (11.4.5.107)\n",
            "Requirement already satisfied: nvidia-cusparse-cu12==12.1.0.106 in /usr/local/lib/python3.10/dist-packages (from torch->pgmpy==0.1.24) (12.1.0.106)\n",
            "Requirement already satisfied: nvidia-nccl-cu12==2.20.5 in /usr/local/lib/python3.10/dist-packages (from torch->pgmpy==0.1.24) (2.20.5)\n",
            "Requirement already satisfied: nvidia-nvtx-cu12==12.1.105 in /usr/local/lib/python3.10/dist-packages (from torch->pgmpy==0.1.24) (12.1.105)\n",
            "Requirement already satisfied: triton==2.3.0 in /usr/local/lib/python3.10/dist-packages (from torch->pgmpy==0.1.24) (2.3.0)\n",
            "Requirement already satisfied: nvidia-nvjitlink-cu12 in /usr/local/lib/python3.10/dist-packages (from nvidia-cusolver-cu12==11.4.5.107->torch->pgmpy==0.1.24) (12.5.82)\n",
            "Requirement already satisfied: six in /usr/local/lib/python3.10/dist-packages (from patsy>=0.5.6->statsmodels->pgmpy==0.1.24) (1.16.0)\n",
            "Requirement already satisfied: MarkupSafe>=2.0 in /usr/local/lib/python3.10/dist-packages (from jinja2->torch->pgmpy==0.1.24) (2.1.5)\n",
            "Requirement already satisfied: mpmath<1.4,>=1.1.0 in /usr/local/lib/python3.10/dist-packages (from sympy->torch->pgmpy==0.1.24) (1.3.0)\n",
            "Requirement already satisfied: pandas==2.0.3 in /usr/local/lib/python3.10/dist-packages (2.0.3)\n",
            "Requirement already satisfied: python-dateutil>=2.8.2 in /usr/local/lib/python3.10/dist-packages (from pandas==2.0.3) (2.8.2)\n",
            "Requirement already satisfied: pytz>=2020.1 in /usr/local/lib/python3.10/dist-packages (from pandas==2.0.3) (2023.4)\n",
            "Requirement already satisfied: tzdata>=2022.1 in /usr/local/lib/python3.10/dist-packages (from pandas==2.0.3) (2024.1)\n",
            "Requirement already satisfied: numpy>=1.21.0 in /usr/local/lib/python3.10/dist-packages (from pandas==2.0.3) (1.25.2)\n",
            "Requirement already satisfied: six>=1.5 in /usr/local/lib/python3.10/dist-packages (from python-dateutil>=2.8.2->pandas==2.0.3) (1.16.0)\n",
            "Requirement already satisfied: networkx==3.3 in /usr/local/lib/python3.10/dist-packages (3.3)\n"
          ]
        }
      ],
      "source": [
        "!pip install pgmpy==0.1.24\n",
        "!pip install pandas==2.0.3\n",
        "!pip install networkx==3.3"
      ]
    },
    {
      "cell_type": "markdown",
      "metadata": {
        "id": "cKRSpaC2PbGs"
      },
      "source": [
        "## Listing 4.1 D-separation analysis of the DAG in Figure 4.15\n",
        "\n",
        "Causal relationships impose conditional independence constraints on the joint probability distribution of the variables in the data generating process. [D-separation](https://networkx.org/documentation/stable/reference/algorithms/d_separation.html) is a graphical criterion used to determine whether a set of variables is independent of another set of variables, given a third set. The causal Markov assumption says that if our selected causal DAG is true, then variables that are d-separated in the graph will be conditionally independent. Let’s revisit the transportation model:\n",
        "\n",
        "![transportation DAG](https://github.com/altdeep/causalML/blob/master/book/chapter%204/images/transportation_DAG.png?raw=1)\n",
        "\n",
        "* Age (A): Recorded as young (young) for individuals up to and including 29 years, adult (adult) for individuals between 30 and 60 years old (inclusive), and old (old) for people 61 and over.\n",
        "* Gender (S): The self-reported gender of an individual, recorded as male (M), female (F), or other (O).\n",
        "* Education (E): The highest level of education or training completed by the individual, recorded either high school (high) or university degree (uni).\n",
        "* Occupation (O): Employee (emp) or a self-employed (self) worker.\n",
        "* Residence (R): The population size of the city the individual lives in, recorded as small (small) or big (big).\n",
        "* Travel (T): The means of transport favored by the individual, recorded as car (car), train (train) or other (other)\n",
        "\n",
        "Age (A) and Gender (S) determine Education (E). Education causes Occupation (O) and Residence (R). Occupation and Residence causes Transportation (T)."
      ]
    },
    {
      "cell_type": "code",
      "execution_count": 2,
      "metadata": {
        "id": "lKE0cLBEyQpc",
        "colab": {
          "base_uri": "https://localhost:8080/"
        },
        "outputId": "5cf9b7bf-d432-47ec-a97a-209e0a71973a"
      },
      "outputs": [
        {
          "output_type": "stream",
          "name": "stdout",
          "text": [
            "False\n",
            "True\n",
            "True\n",
            "True\n"
          ]
        }
      ],
      "source": [
        "from networkx import is_d_separator     #A\n",
        "from pgmpy.base import DAG    #B\n",
        "dag = DAG([    #B\n",
        "    ('I', 'U'),    #B\n",
        "    ('I', 'M'),    #B\n",
        "    ('M', 'U'),    #B\n",
        "    ('J', 'V'),    #B\n",
        "    ('J', 'M'),    #B\n",
        "    ('M', 'V')    #B\n",
        "])    #B\n",
        "print(is_d_separator(dag, {\"U\"}, {\"V\"}, {\"M\"}))    #C\n",
        "print(is_d_separator(dag, {\"U\"}, {\"V\"}, {\"M\", \"I\", \"J\"}))    #D\n",
        "print(is_d_separator(dag, {\"U\"}, {\"V\"}, {\"M\", \"I\"}))    #E\n",
        "print(is_d_separator(dag, {\"U\"}, {\"V\"}, {\"M\", \"J\"}))    #E\n",
        "#A The graph library networkx implements the d-separation algorithm for networkx graph objects such as DiGraph (directed graph).\n",
        "#B DAG is a base class for the BayesianNetwork class. The base class for DAG is networkx’s DiGraph. So d_separated will work on objects of the class DAG (and BayesianNetwork).\n",
        "#C Builds the graph in Figure 4.11. Blocking on a collider M blocks the path U ← M → V but will d-connect the path U ← I → M ← J → V. So this will print False.\n",
        "#D Blocking on M will block U ← M → V and open (d-connect) U ← I → M ← J → V, but we can block that path with I and J. So this evaluates to True.\n",
        "#E But blocking on both I and J is overkill, the minimal d-separating sets are {“M”, “I”} and {“M”, “J”}."
      ]
    },
    {
      "cell_type": "markdown",
      "source": [
        "## Listing 4.2 Enumerating d-separations in pgmpy\n",
        "\n",
        "The method `get_independencies` will enumerate the d-separation statements that hold for this graph. Note that pgmpy attempts to remove redundant d-separations from this enumeration."
      ],
      "metadata": {
        "id": "83VxALQbYwQI"
      }
    },
    {
      "cell_type": "code",
      "source": [
        "from pgmpy.base import DAG\n",
        "dag = DAG([\n",
        "    ('I', 'U'),\n",
        "    ('I', 'M'),\n",
        "    ('M', 'U'),\n",
        "    ('J', 'V'),\n",
        "    ('J', 'M'),\n",
        "    ('M', 'V')\n",
        "])\n",
        "dag.get_independencies()    #A\n",
        "#A Obtain all the minimal d-separations statements that are true in the DAG."
      ],
      "metadata": {
        "colab": {
          "base_uri": "https://localhost:8080/"
        },
        "id": "u1J-kSqXYw1S",
        "outputId": "0a29778c-e9dd-49cb-e5ed-10348766e02d"
      },
      "execution_count": 3,
      "outputs": [
        {
          "output_type": "execute_result",
          "data": {
            "text/plain": [
              "(J ⟂ I)\n",
              "(J ⟂ U | M, I)\n",
              "(J ⟂ U | V, M, I)\n",
              "(I ⟂ J)\n",
              "(I ⟂ V | J, M)\n",
              "(I ⟂ V | J, M, U)\n",
              "(V ⟂ I, U | J, M)\n",
              "(V ⟂ U | M, I)\n",
              "(V ⟂ U | J, M, I)\n",
              "(V ⟂ I | J, M, U)\n",
              "(U ⟂ V | J, M)\n",
              "(U ⟂ J, V | M, I)\n",
              "(U ⟂ V | J, M, I)\n",
              "(U ⟂ J | V, M, I)"
            ]
          },
          "metadata": {},
          "execution_count": 3
        }
      ]
    },
    {
      "cell_type": "markdown",
      "metadata": {
        "id": "CNzAhjzYPbGz"
      },
      "source": [
        "## Listing 4.3 Loading the transportation data\n",
        "\n",
        "First, let's load the data."
      ]
    },
    {
      "cell_type": "code",
      "source": [
        "import pandas as pd\n",
        "survey_url = \"https://raw.githubusercontent.com/altdeep/causalML/master/datasets/transportation_survey.csv\"\n",
        "fulldata = pd.read_csv(survey_url)\n",
        "\n",
        "data = fulldata[0:30]    #A\n",
        "print(data[0:5])\n",
        "\n",
        "#A Subsetting the data to only 30 datapoints for explanation."
      ],
      "metadata": {
        "colab": {
          "base_uri": "https://localhost:8080/"
        },
        "id": "NdwrB2CPZblr",
        "outputId": "1152e3cf-7472-4b1c-adde-ba4ffd6bd4f3"
      },
      "execution_count": 4,
      "outputs": [
        {
          "output_type": "stream",
          "name": "stdout",
          "text": [
            "       A  S     E    O      R      T\n",
            "0  adult  F  high  emp  small  train\n",
            "1  young  M  high  emp    big    car\n",
            "2  adult  M   uni  emp    big  other\n",
            "3    old  F   uni  emp    big    car\n",
            "4  young  F   uni  emp    big    car\n"
          ]
        }
      ]
    },
    {
      "cell_type": "markdown",
      "source": [
        "## Listing 4.4 chi-squared test of conditional independence\n",
        "\n",
        "The easiest way (but not the only way) to test for conditional independence is to run a classical frequentist statistical hypothesis test for independence. Below, I write a function that will run a Chi-square test for independence. The core element of the code is the function:\n",
        "\n",
        "`chi_square(X=X, Y=Y, Z=Z, data=data, boolean=True, significance_level=significance)`\n",
        "\n",
        "If the boolean argument is False, the test returns a tuple containing chi-squared test statistic, the p_value, and the degrees of freedom) used to calculate the test statistic and p-value. In this test, lower p-values are evidence against independence. So lower p-values are evidence against our model.\n",
        "\n",
        "For each of the above d-separation statements, I run the test."
      ],
      "metadata": {
        "id": "gVi7OqdsatW-"
      }
    },
    {
      "cell_type": "code",
      "execution_count": 5,
      "metadata": {
        "id": "me9JRP0hyK3o",
        "outputId": "5ba4f354-ce66-4ba7-d17a-227ff47af09d",
        "colab": {
          "base_uri": "https://localhost:8080/"
        }
      },
      "outputs": [
        {
          "output_type": "stream",
          "name": "stdout",
          "text": [
            "(1.1611111111111112, 0.5595873983053805, 2)\n"
          ]
        }
      ],
      "source": [
        "from pgmpy.estimators.CITests import chi_square    #A\n",
        "significance = .05    #B\n",
        "result = chi_square(    #C\n",
        "    X=\"E\", Y=\"T\", Z=[\"O\", \"R\"],    #C\n",
        "    data=data,    #C\n",
        "    boolean=False,    #C\n",
        "    significance_level=significance    #C\n",
        ")    #C\n",
        "print(result)\n",
        "#A Import the chi square test function.\n",
        "#B Set the significance level to .05.\n",
        "#C When the `boolean` argument is set to false, the test returns a tuple of three elements. The first two are the Chi-square statistic and the corresponding the p-value of 0.56. The last element is a Chi-square distribution parameter called degrees of freedom, which is needed to calculate the p-value."
      ]
    },
    {
      "cell_type": "markdown",
      "source": [
        "## Listing 4.5 Chi-square test with Boolean outcome\n",
        "\n",
        "I can jump directly to the result of the test by setting the chi_square function's boolean argument to True. The function will then return True if the p-value is greater than the significance value (favoring conditional independence) and False otherwise (favoring dependence).\n",
        "\n",
        "To make life a bit easier, we can define a cut-off and evaluate how many tests meet (or fail to meet) the cut-off. Since this is a statistical hypothesis test, the most straightforward cut-off is a [significance level](https://en.wikipedia.org/wiki/Statistical_significance), against which we can directly compare the p-value. If the `boolean` argument in `chi_square` is true and we provide a significance level, then the test will return True if the p_value of the test is greater than  the significance_level (evidence in favor of independence), otherwise it will returns False. Below, we'll look of the proportion of tests that beat this significance level."
      ],
      "metadata": {
        "id": "TG-cx5ZHbc_z"
      }
    },
    {
      "cell_type": "code",
      "source": [
        "from pgmpy.estimators.CITests import chi_square    #A\n",
        "significance = .05    #B\n",
        "result = chi_square(    #C\n",
        "    X=\"E\", Y=\"T\", Z=[\"O\", \"R\"],    #C\n",
        "    data=data,    #C\n",
        "    boolean=True,    #C\n",
        "    significance_level=significance    #C\n",
        ")    #C\n",
        "print(result)\n",
        "#A Import the chi_square test function.\n",
        "#B Set the significance level to .05.\n",
        "#C When the `boolean` argument is set to True, the test returns a simple True or False outcome. It will return True if the p-value is greater than the significance value, which favors conditional independence. It returns False otherwise, favoring dependence."
      ],
      "metadata": {
        "colab": {
          "base_uri": "https://localhost:8080/"
        },
        "id": "0Db_lc3jbdJq",
        "outputId": "0ba8d7fd-ce8a-4ca9-86fc-c5f01a2c1bfd"
      },
      "execution_count": 6,
      "outputs": [
        {
          "output_type": "stream",
          "name": "stdout",
          "text": [
            "True\n"
          ]
        }
      ]
    },
    {
      "cell_type": "markdown",
      "source": [
        "## Listing 4.6 Run a chi-squared test for each d-separation statement\n",
        "\n",
        "Now, let's iterate throw all the d-separation statements we can derive from the transportation graph, and test them one-by-one. The following script will print each d-separation statement along with the outcome of the corresponding conditional independence test."
      ],
      "metadata": {
        "id": "WW5z6fHIcpg4"
      }
    },
    {
      "cell_type": "code",
      "source": [
        "from pprint import pprint\n",
        "\n",
        "from pgmpy.base import DAG\n",
        "from pgmpy.independencies import IndependenceAssertion\n",
        "\n",
        "dag = DAG([\n",
        "    ('A', 'E'),\n",
        "    ('S', 'E'),\n",
        "    ('E', 'O'),\n",
        "    ('E', 'R'),\n",
        "    ('O', 'T'),\n",
        "    ('R', 'T')\n",
        "])\n",
        "dseps = dag.get_independencies()\n",
        "\n",
        "def test_dsep(dsep):\n",
        "    test_outputs = []\n",
        "    for X in list(dsep.get_assertion()[0]):\n",
        "        for Y in list(dsep.get_assertion()[1]):\n",
        "            Z = list(dsep.get_assertion()[2])\n",
        "            test_result = chi_square(\n",
        "                X=X, Y=Y, Z=Z,\n",
        "                data=data,\n",
        "                boolean=True,\n",
        "                significance_level=significance\n",
        "            )\n",
        "            assertion = IndependenceAssertion(X, Y, Z)\n",
        "            test_outputs.append((assertion, test_result))\n",
        "    return test_outputs\n",
        "\n",
        "results = [test_dsep(dsep) for dsep in dseps.get_assertions()]\n",
        "results = dict([item for sublist in results for item in sublist])\n",
        "pprint(results)"
      ],
      "metadata": {
        "colab": {
          "base_uri": "https://localhost:8080/"
        },
        "id": "RM_LX5D9cpqT",
        "outputId": "0b2d94a9-1121-4024-9ce3-6fd6dacd2c38"
      },
      "execution_count": 7,
      "outputs": [
        {
          "output_type": "stream",
          "name": "stdout",
          "text": [
            "{(S ⟂ R | E): True,\n",
            " (T ⟂ A | E, S, R, O): True,\n",
            " (E ⟂ T | S, R, A, O): True,\n",
            " (T ⟂ A | S, R, O): True,\n",
            " (O ⟂ A | E): True,\n",
            " (S ⟂ T | E): True,\n",
            " (S ⟂ O | E, T): True,\n",
            " (S ⟂ R | E, T): True,\n",
            " (S ⟂ R | E, O): True,\n",
            " (E ⟂ T | S, R, O): True,\n",
            " (E ⟂ T | R, O): True,\n",
            " (O ⟂ R | E): False,\n",
            " (S ⟂ O | E): True,\n",
            " (E ⟂ T | R, A, O): True,\n",
            " (S ⟂ T | E, O): True,\n",
            " (S ⟂ A): True,\n",
            " (S ⟂ T | E, R): True,\n",
            " (S ⟂ O | E, A): True,\n",
            " (S ⟂ O | E, R): True,\n",
            " (S ⟂ R | E, T, O): True,\n",
            " (S ⟂ T | R, O): True,\n",
            " (S ⟂ T | E, A): True,\n",
            " (S ⟂ T | E, R, A): True,\n",
            " (S ⟂ R | E, A): True,\n",
            " (O ⟂ R | E, S): False,\n",
            " (S ⟂ T | E, R, O): True,\n",
            " (O ⟂ A | E, R): True,\n",
            " (S ⟂ O | E, R, T): True,\n",
            " (O ⟂ A | E, S, T): True,\n",
            " (S ⟂ O | E, R, A): True,\n",
            " (O ⟂ R | E, A): False,\n",
            " (T ⟂ A | E, R): True,\n",
            " (S ⟂ T | E, A, O): True,\n",
            " (S ⟂ T | E, R, A, O): True,\n",
            " (S ⟂ T | R, A, O): True,\n",
            " (S ⟂ R | E, A, O): True,\n",
            " (O ⟂ A | E, S): True,\n",
            " (O ⟂ A | E, S, R): True,\n",
            " (O ⟂ A | E, T): True,\n",
            " (R ⟂ A | E): True,\n",
            " (T ⟂ A | E, S): True,\n",
            " (T ⟂ A | E, S, R): True,\n",
            " (S ⟂ R | E, T, A, O): True,\n",
            " (T ⟂ A | E): True,\n",
            " (R ⟂ A | E, O): True,\n",
            " (R ⟂ A | E, T): True,\n",
            " (T ⟂ A | R, O): True,\n",
            " (O ⟂ R | E, S, A): False,\n",
            " (S ⟂ O | E, R, T, A): True,\n",
            " (T ⟂ A | E, O): True,\n",
            " (T ⟂ A | E, S, O): True,\n",
            " (R ⟂ A | E, S): True,\n",
            " (R ⟂ A | E, S, T): True,\n",
            " (T ⟂ A | E, R, O): True,\n",
            " (R ⟂ A | E, S, O): True,\n",
            " (R ⟂ A | E, T, O): True,\n",
            " (R ⟂ A | E, S, T, O): True,\n",
            " (S ⟂ O | E, T, A): True,\n",
            " (S ⟂ R | E, T, A): True,\n",
            " (O ⟂ A | E, S, R, T): True,\n",
            " (O ⟂ A | E, R, T): True}\n"
          ]
        }
      ]
    },
    {
      "cell_type": "markdown",
      "source": [
        "## Listing 4.7 Calculate the proportion of d-separations with passing tests"
      ],
      "metadata": {
        "id": "G883fCKWc0Fz"
      }
    },
    {
      "cell_type": "code",
      "source": [
        "num_pass = sum(results.values())\n",
        "num_dseps = len(dseps.independencies)\n",
        "num_fail = num_dseps - num_pass\n",
        "print(num_fail / num_dseps)"
      ],
      "metadata": {
        "colab": {
          "base_uri": "https://localhost:8080/"
        },
        "id": "Wau1NCCqc0NM",
        "outputId": "2a202042-9e7e-4dad-8a10-e004ad3d16c5"
      },
      "execution_count": 8,
      "outputs": [
        {
          "output_type": "stream",
          "name": "stdout",
          "text": [
            "0.2875\n"
          ]
        }
      ]
    },
    {
      "cell_type": "markdown",
      "source": [
        "The conclusion of a traditional conditional independence test depends on a significance threshold. If the p-value falls below this threshold you favor dependence and if it falls above, you favor conditional independence. The choice of threshold is a bit arbitrary; people tend to go with commonly selected values like .1 or .05 or .01.\n",
        "\n",
        "The problem is that the p-value statistic varies with the size of the data. All else equal, as the size of the data increases, the p-value decreases. In other words, the larger the data, the more things start to look dependent. If you have a large dataset, it is more likely that p-values will fall below that arbitrary threshold and the data will look like it's refuting the conditional independence implied by your DAG, even when that conditional independence is true.\n",
        "\n",
        "To illustrate, the above test of E ⟂ T | O, R had 30 data points and produced a p-value of 0.56. Below, I run the following bootstrap statistical analysis to show how the estimate of the p-value falls as the size of the data increases.\n",
        "\n",
        "## Listing 4.8 Bootstrap analysis of sensitivity of test of E ⟂ T | O, R to sample size\n",
        "\n",
        "First we'll create a function that given a size of the dataset, will produce a p-value. It will use a \"[bootstrap](https://en.wikipedia.org/wiki/Bootstrapping_(statistics)#:~:text=Bootstrapping%20is%20any%20test%20or%20metric%20that%20uses,confidence%20intervals%2C%20prediction%20error%2C%20etc.%29%20to%20sample%20estimates.)\" approach to [sample with replacement](https://en.wikipedia.org/wiki/Sampling_(statistics)#Replacement_of_selected_units) from a subset of the data with the given data size, and run the chi-square indepedence test on this sample.\n",
        "\n",
        "The second function , for a given data size, we'll calculate 1000 of these p-values, and calculate the mean, and a 90% confidence interval. We'll plot these for a sequence of data sizes."
      ],
      "metadata": {
        "id": "_jkvftCadATK"
      }
    },
    {
      "cell_type": "code",
      "source": [
        "from numpy import mean, quantile\n",
        "\n",
        "def sample_p_val(data_size, data, alpha):    #A\n",
        "    bootstrap_data = data.sample(n=data_size, replace=True)    #A\n",
        "    result = chi_square(    #A\n",
        "        X=\"E\", Y=\"T\", Z=[\"O\", \"R\"],    #A\n",
        "        data=bootstrap_data,    #A\n",
        "        boolean=False,    #A\n",
        "        significance_level = alpha    #A\n",
        "    )    #A\n",
        "    p_val = result[1]    #A\n",
        "    return p_val    #A\n",
        "\n",
        "def estimate_p_val(data_size, data=fulldata, boot_size=1000, α=.05):    #B\n",
        "    samples = [\n",
        "        sample_p_val(data_size, data=fulldata, alpha=α)    #B\n",
        "        for _ in range(boot_size)    #B\n",
        "    ]    #B\n",
        "    positive_tests = [p_val > significance for p_val in samples]    #C\n",
        "    prob_conclude = mean(positive_tests)    #D\n",
        "    p_estimate = mean(samples)    #D\n",
        "    quantile_05, quantile_95 = quantile(samples, [.05, .95])    #E\n",
        "    lower_error = p_estimate - quantile_05    #E\n",
        "    higher_error = quantile_95 - p_estimate    #E\n",
        "    return p_estimate, lower_error, higher_error, prob_conclude\n",
        "\n",
        "data_size = range(30, 1000, 20)    #F\n",
        "result = list(zip(*[estimate_p_val(size) for size in data_size]))    #F\n",
        "\n",
        "#A Given a certain certain data size, this function randomly samples that number of rows from the full data set. It then runs the chi-squared independence test and returns the p-value.\n",
        "#B This function conducts a “bootstrap” procedure that samples 1000 p-values for a given data size and calculates the mean p-value and 90% p-value confidence interval.\n",
        "#C Calculate the probability of a test concluding in favor of conditional independence.\n",
        "#D Calculate the mean of the p-values to get the bootstrap mean.\n",
        "#E Calculate the 5th and 95th percentiles to get a 90% bootstrap confidence interval\n",
        "#F Run the bootstrap analysis."
      ],
      "metadata": {
        "id": "d3HeU4E0daVi"
      },
      "execution_count": 16,
      "outputs": []
    },
    {
      "cell_type": "markdown",
      "source": [
        "## Listing 4.9 Visualize dependence of conditional independence tests on data size.\n",
        "\n",
        "Finally, we run the bootstrap analysis and plot the results.\n"
      ],
      "metadata": {
        "id": "6reVSvFJJn0w"
      }
    },
    {
      "cell_type": "code",
      "source": [
        "import numpy as np\n",
        "import matplotlib.pyplot as plt\n",
        "\n",
        "p_vals, lower_bars, higher_bars, probs_conclude_indep = result    #A\n",
        "plt.title('Data size vs. p-value (Ind. of E & T | O & R)')    #B\n",
        "plt.xlabel(\"Number of examples in data\")    #B\n",
        "plt.ylabel(\"Expected p-value\")    #B\n",
        "error_bars = np.array([lower_bars, higher_bars])    #B\n",
        "plt.errorbar(    #B\n",
        "    data_size,    #B\n",
        "    p_vals,    #B\n",
        "    yerr=error_bars,    #B\n",
        "    ecolor=\"grey\",    #B\n",
        "    elinewidth=.5    #B\n",
        ")    #B\n",
        "plt.hlines(significance, 0, 1000, linestyles=\"dashed\")    #B\n",
        "plt.show()\n",
        "plt.title('Probability of favoring independence given data size')    #C\n",
        "plt.xlabel(\"Number of examples in data\")    #C\n",
        "plt.ylabel(\"Probability of test favoring conditional independence\")    #C\n",
        "plt.plot(data_size, probs_conclude_indep)    #C\n",
        "#A Run the bootstrap analysis to get quantiles of p-values and probability of concluding in favor of independence.\n",
        "#B Plot the data size vs p-value. At larger data sizes the expected p-value falls below a threshold.\n",
        "#C Plot data size vs the probability of concluding in favor of independence given .05 significance."
      ],
      "metadata": {
        "colab": {
          "base_uri": "https://localhost:8080/",
          "height": 945
        },
        "id": "k3GgxR9GJpwI",
        "outputId": "8b5da849-2b76-4bd1-f983-35306937279d"
      },
      "execution_count": 17,
      "outputs": [
        {
          "output_type": "display_data",
          "data": {
            "text/plain": [
              "<Figure size 640x480 with 1 Axes>"
            ],
            "image/png": "[encoded data removed]"
          },
          "metadata": {}
        },
        {
          "output_type": "execute_result",
          "data": {
            "text/plain": [
              "[<matplotlib.lines.Line2D at 0x78ed03c9e6b0>]"
            ]
          },
          "metadata": {},
          "execution_count": 17
        },
        {
          "output_type": "display_data",
          "data": {
            "text/plain": [
              "<Figure size 640x480 with 1 Axes>"
            ],
            "image/png": "[encoded data removed]"
          },
          "metadata": {}
        }
      ]
    },
    {
      "cell_type": "markdown",
      "source": [
        "The blue line in the above figure is the expected p-values at different data sizes, the grey lines are error bars showing a 90% bootstrap confidence interval. By the time we get to a data set of size 1000, the expected p-value is below the threshold, meaning the test favors the conclusion that E ⟂ T | O, R is false.\n",
        "\n",
        "One might think that as the size of the data increases, the algorithm is detecting subtle dependencies between E and T that were undetectable with small data. Not so, for this transportation data is simulated in such a way that E ⟂ T | O, R is definitely true. So this is a case where more data leads us to rejecting independence because more data leads to more spurious correlation, i.e. patterns that aren't really there.\n",
        "\n",
        "To drive the point home, the following figure shows how the probability of favoring the true hypothesis (E ⟂ T | O, R) decreases as the size of the data increases."
      ],
      "metadata": {
        "id": "iFYclYP-3UCC"
      }
    },
    {
      "cell_type": "markdown",
      "source": [
        "### Alternatives to canonical statistical tests for independence\n",
        "\n",
        "There are alternatives to using traditional \"parametric\" (i.e., use chi-square, Normal distribution, or another canonical distribution to calculate a p-value) statistical hypothesis testing to test the causal Markov assumption. The library [PyWhy-Stats](https://github.com/py-why/pywhy-stats) has some more sophisticated approaches that can be applied towards causal inference. You can also simply try prediction; if (S ⟂ T | E), then a model that predicts S given E and T should not perform much better than an model that predicts S only given E.\n",
        "\n",
        "Don't get too hung up on statistical rigor -- the goal is just to evaluate your causal DAG. You want to quickly <i>falsify</i> your causal DAG if it is a bad model and move on to finding a good one."
      ],
      "metadata": {
        "id": "p-MGqH9439nb"
      }
    }
  ],
  "metadata": {
    "colab": {
      "provenance": []
    },
    "kernelspec": {
      "display_name": "Python 3 (ipykernel)",
      "language": "python",
      "name": "python3"
    },
    "language_info": {
      "codemirror_mode": {
        "name": "ipython",
        "version": 3
      },
      "file_extension": ".py",
      "mimetype": "text/x-python",
      "name": "python",
      "nbconvert_exporter": "python",
      "pygments_lexer": "ipython3",
      "version": "3.11.7"
    }
  },
  "nbformat": 4,
  "nbformat_minor": 0
}