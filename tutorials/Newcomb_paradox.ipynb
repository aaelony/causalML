{
  "cells": [
    {
      "cell_type": "markdown",
      "metadata": {
        "id": "lXKCXk8-fol8"
      },
      "source": [
        "©2022, Altdeep, Inc. All rights   Visit Altdeep.ai for content related to this notebook."
      ]
    },
    {
      "cell_type": "markdown",
      "metadata": {
        "id": "X-3y5XxRWjK7"
      },
      "source": [
        "# Resolving Newcomb's Paradox with a Causal Model\n",
        "\n",
        "A famous thought experiment called [Newcomb's paradox](https://en.wikipedia.org/wiki/Newcomb's_paradox) attempts to show how causal decision theory would produce suboptimal results relative to non-causal methods.  It also shows how a dominant (admissible) decision rule is not necessarily the rule that maximizes expected utility.  In this tutorial, we'll implement the analysis in code and show how to resolve the paradox.\n",
        "\n",
        "First, I install and load the libraries."
      ]
    },
    {
      "cell_type": "code",
      "execution_count": 1,
      "metadata": {
        "colab": {
          "base_uri": "https://localhost:8080/"
        },
        "id": "B-nxldeElyXk",
        "outputId": "91bc720f-966e-4840-8ac1-18332f801f77"
      },
      "outputs": [],
      "source": [
        "# !pip install pgmpy"
      ]
    },
    {
      "cell_type": "code",
      "execution_count": 2,
      "metadata": {
        "colab": {
          "base_uri": "https://localhost:8080/"
        },
        "id": "ZNBa1oGIOpyP",
        "outputId": "182d6a03-a45d-4dbb-8fac-d7d0d2b4a0d1"
      },
      "outputs": [],
      "source": [
        "import networkx as nx\n",
        "\n",
        "from pgmpy.models import BayesianNetwork as bn\n",
        "from pgmpy.inference import BeliefPropagation, VariableElimination\n",
        "from pgmpy.factors.discrete.CPD import TabularCPD\n",
        "from pgmpy.factors.discrete.DiscreteFactor import DiscreteFactor\n",
        "\n",
        "import pylab as plt"
      ]
    },
    {
      "cell_type": "markdown",
      "metadata": {
        "id": "PNnPHt7NXzvH"
      },
      "source": [
        "Next, I implement the ideal intervention, weighted mean, and expected utility helper functions."
      ]
    },
    {
      "cell_type": "code",
      "execution_count": 3,
      "metadata": {
        "id": "jOIyZtqnedCw"
      },
      "outputs": [],
      "source": [
        "def do(model, interventions):\n",
        "    \"\"\" \n",
        "    Implement an ideal intervention for discrete variables. Modifies pgmpy's\n",
        "    `do` method so it is a `do`-operator, meaning a function that takes in a\n",
        "    model, modifies it with an ideal intervention, and returns a new model.\n",
        "    Note that this code would need to be modified to work for continuous\n",
        "    variables.\n",
        "    \"\"\"\n",
        "    def _mod_kernel(kernel, int_val):\n",
        "        \"\"\"\n",
        "        Modify a causal Markov kernel so all probability is on the state fixed\n",
        "        by the intervention.\n",
        "        \"\"\" \n",
        "        var_name = kernel.variable\n",
        "        card = kernel.get_cardinality([var_name])[var_name]\n",
        "        states = [kernel.get_state_names(var_name, i) for i in range(card)]\n",
        "        non_int_states = set(states) - {int_val,}\n",
        "        unordered_prob_vals = [[1.0]] + [[0.0] for _ in range(card - 1)]\n",
        "        unordered_states = [int_val] + list(non_int_states)\n",
        "        # Reorder so it matches original\n",
        "        dict_ = dict(zip(unordered_states, unordered_prob_vals))\n",
        "        ordered_prob_values = [dict_[k] for k in states]\n",
        "        intervention_kernel = TabularCPD(\n",
        "            var_name, card, ordered_prob_values,\n",
        "            state_names = {var_name: states}\n",
        "        )\n",
        "        return intervention_kernel\n",
        "\n",
        "    kernels = {kern.variable: kern for kern in model.get_cpds()}\n",
        "    new_model = model.copy()\n",
        "    for var, int_val in interventions.items():\n",
        "        new_model = new_model.do(var)\n",
        "        new_kernel = _mod_kernel(kernels[var], int_val)\n",
        "        new_model.add_cpds(new_kernel)\n",
        "    return new_model\n",
        "\n",
        "def weighted_mean(vals, weights):\n",
        "    \"\"\"\n",
        "    Calculate a weighted mean\n",
        "    \"\"\"\n",
        "    assert len(vals) == len(weights)\n",
        "    norm = sum(weights)\n",
        "    probs = [w/norm for w in weights]\n",
        "    mean = sum(val * p for val, p in zip(vals, probs))\n",
        "    return mean\n",
        "\n",
        "def get_expected_utility(inference_result: DiscreteFactor, u_node: str=\"U\"):\n",
        "    \"\"\"\n",
        "    Calculate expected utility from the output of an inference algorithm\n",
        "    \"\"\"\n",
        "    utilities = inference_result.state_names[u_node]\n",
        "    probs = inference_result.values\n",
        "    return weighted_mean(utilities, probs)\n",
        "\n",
        "def get_expected_utility_given_evidence(model, evidence, u_node=\"U\",\n",
        "                                        inference_engine=VariableElimination):\n",
        "    \"\"\"\n",
        "    Calculate expected utility from the output of an inference algorithm\n",
        "    \"\"\"\n",
        "    engine = inference_engine(model)\n",
        "    inference_result = engine.query([u_node], evidence=evidence)\n",
        "    expected_u = get_expected_utility(inference_result, u_node)\n",
        "    return expected_u\n",
        "\n",
        "def get_expected_utility_given_interventions(model, interventions, u_node=\"U\",\n",
        "                                            inference_engine=VariableElimination):\n",
        "    int_model = do(model, interventions)\n",
        "    expected_u = get_expected_utility_given_evidence(\n",
        "        int_model,\n",
        "        evidence=interventions,\n",
        "        u_node=u_node,\n",
        "        inference_engine=inference_engine\n",
        "    )\n",
        "    return expected_u\n"
      ]
    },
    {
      "cell_type": "markdown",
      "metadata": {
        "id": "mjmWMNpVedCy"
      },
      "source": [
        "## Newcomb's Paradox\n",
        "\n",
        "Consider the following thought experiment.  There are two boxes designated A and B.  Box A always contains 1,000 dollars.  Box B contains either 1,000,000 or 0.  The decision-making agent must choose between taking only box B or *both* boxes.  The agent does not know what is in box B until they decide.\n",
        "\n",
        "![newcomb-boxes](https://raw.githubusercontent.com/altdeep/causalML/master/tutorials/fig/newcomb-boxes.jpg)\n",
        "\n",
        "Obviously, the agent should take both boxes.  However, we then add a complicating factor.  There is an adversarial AI that can predict with high accuracy what the agent will do.  That AI can set the contents of box B to minimize the agent's winnings.  If the AI predicts the agent will take both boxes, it will put no money in box B.  If the AI predicts that the agent will take only box B, it will put 1,000,000 in box B.  The agent does not know what the AI predicted or what box B contains when they make their choice.\n",
        "\n",
        "The paradox arises as follows.  For context, when decision theories defined \"causal decision theory,\" they did so without causal DAGs or programs.  They defined \"causal decision theory\" to mean that the agent should only attend to the consequences of their actions.  Remember that the AI makes the prediction *before* the agent acts.  Since effects cannot precede causes in time, the AI's behavior is not a consequence of the agent's actions.  Therefore, if we accept this definition of \"causal decision theory,\" the agent who only attends to the consequences of its actions will ignore the AI.  And so it will take both boxes.\n",
        "\n",
        "In causal notation, the causal agent the probable values of utility given do(choice=x).  Note that, no matter what is in box B, U|do(choice=both) - U|do(choice=B) is always 1,000.  As a result, E(U|do(choice=both)) - E(U|do(choice=B)) is 1000.  The decision rule that chooses the choice x that maximizes E(U|do(choice=x)) is admissible.  We have admissibility because the solution that maximizes E(U|do(choice=x)) that x is \"both\" and choosing \"both\" always [dominates](https://en.wikipedia.org/wiki/Dominating_decision_rule) choosing only \"B.\"\n",
        "\n",
        "Decision theorists contrast \"causal decision theory\" with \"evidential decision theory,\" which suggests we should choose the action x that maximizes E(U|choice=x) instead of E(U|do(choice=x).  The term \"evidential\" comes from the idea that we could calculate E(U|choice) by learning P(U|choice), which we do by observing {choice, U} outcomes.\n",
        "\n",
        "Let's assume the predictive algorithm is 95\\% accurate.  If the agent chooses both, there is a 95\\% chance the predictive algorithm will have guessed that and put no money in B, in which case the agent only gets the 1,000.  There is a 5\\% chance the algorithm will guess wrong, in which case it puts 1,000,000 in box B, and the agent wins 1,001,000.  The expected utility calculation is $1000 * .95 + 1,001,000 * 0.05 = 51,000$.\n",
        "\n",
        "If the agent chooses B, there is a 95\\% chance the algorithm will have guessed it and will place the 1,000,000 in B.  There is a 5\\% chance the algorithm gets it wrong and puts 0 in B.  So the expected utility is $1,000,000 * .95 + 0 * 0.05 = 950,000$.\n",
        "\n",
        "So by the decision rule of maximizing E(U|choice), choosing box B is optimal.  A cursory glance at the expectation math will show this result holds if we change 95\\% accuracy to other high accuracy numbers for the predictive algorithm.\n",
        "\n",
        "```\n",
        "Predicted choice \tBox B Content   Choice    Utility       \n",
        "both                $0              B \t     $0      \n",
        "both                $0              both \t  $1,000       \n",
        "B \t              $1,000,000      B \t     $1,000,000\n",
        "B                   $1,000,000      both \t  $1,001,000   \n",
        "\n",
        "```\n",
        "\n",
        "So the paradox is that \"evidential decision theory\" and this version of causal decision theory tell you to do different things.  Further, the choice that always makes $1,000 more than the other choice is not the choice that maximizes expected utility, which is unusual.\n",
        "\n",
        "But as causal modelers, we are not surprised that the choice that maximizes E(U|choice) is different from the choice that maximizes E(U|do(choice)).  So let us see if we can resolve the paradox with a model."
      ]
    },
    {
      "cell_type": "markdown",
      "metadata": {
        "id": "PEfpSFoQe1rD"
      },
      "source": [
        "## Modeling Newcomb's Paradox with a Causal Model\n",
        "\n",
        "We can resolve Newcomb's Paradox with a causal model.  In this tutorial, I implement the model using a causal graphical model in `pgmpy`.\n",
        "\n",
        "Before we consider the AI, we have the following model.\n",
        "\n"
      ]
    },
    {
      "cell_type": "code",
      "execution_count": 4,
      "metadata": {
        "colab": {
          "base_uri": "https://localhost:8080/",
          "height": 248
        },
        "id": "pXe-TCTTf5r7",
        "outputId": "f66e9cc5-f8c8-4805-d224-710ba1f44e0b"
      },
      "outputs": [
        {
          "data": {
            "image/png": "[encoded data removed]",
            "text/plain": [
              "<Figure size 432x288 with 1 Axes>"
            ]
          },
          "metadata": {},
          "output_type": "display_data"
        }
      ],
      "source": [
        "model = bn()\n",
        "model.add_edges_from(\n",
        "    [\n",
        "      ('choice','U'),\n",
        "      ('box-B','U'),\n",
        "    ]\n",
        ")\n",
        "ax1 = plt.subplot(111)\n",
        "ax1.margins(0.15) \n",
        "pos = nx.nx_pydot.graphviz_layout(model)\n",
        "nx.draw(model, pos, ax=ax1, with_labels=True, node_color='grey', verticalalignment='top')\n",
        "plt.show()"
      ]
    },
    {
      "cell_type": "markdown",
      "metadata": {
        "id": "rzixGfTGgEYo"
      },
      "source": [
        "The choice of the agent (Box B only or both boxes A and B) and the contents of Box B are independent causes of the agent's utility.  We don't model the context of Box A explicitly since it is a constant.\n",
        "\n",
        "### Adding bias to the model\n",
        "\n",
        "Suppose the agent is predisposed to making a choice.  For example, when I am faced with a decision of eating or not eating roasted almonds covered in dark chocolate and sea salt, I am biased towards eating!  Let's expand the model to capture bias."
      ]
    },
    {
      "cell_type": "code",
      "execution_count": 5,
      "metadata": {
        "colab": {
          "base_uri": "https://localhost:8080/",
          "height": 248
        },
        "id": "hEUVMO82ihgF",
        "outputId": "6eb3b1a5-67fe-44d7-bd32-9bd30c6d46e9"
      },
      "outputs": [
        {
          "data": {
            "image/png": "[encoded data removed]",
            "text/plain": [
              "<Figure size 432x288 with 1 Axes>"
            ]
          },
          "metadata": {},
          "output_type": "display_data"
        }
      ],
      "source": [
        "model = bn()\n",
        "model.add_edges_from(\n",
        "    [\n",
        "      ('bias','choice'),\n",
        "      ('choice','U'),\n",
        "      ('box-B','U'),\n",
        "    ]\n",
        ")\n",
        "ax1 = plt.subplot(111)\n",
        "ax1.margins(0.15) \n",
        "pos = nx.nx_pydot.graphviz_layout(model)\n",
        "nx.draw(model, pos, ax=ax1, with_labels=True, node_color='grey', verticalalignment='top')\n",
        "plt.show()"
      ]
    },
    {
      "cell_type": "markdown",
      "metadata": {
        "id": "0FP5qXt-inqj"
      },
      "source": [
        "Bias allows us to introduce the AI.  We suppose that the AI knows the agent's bias and uses it to make a prediction.  That prediction determines what goes into Box B. "
      ]
    },
    {
      "cell_type": "code",
      "execution_count": 6,
      "metadata": {
        "colab": {
          "base_uri": "https://localhost:8080/",
          "height": 248
        },
        "id": "nVvbcT1vPt1V",
        "outputId": "f8f75c77-3317-4264-b964-b529446a5cc9"
      },
      "outputs": [
        {
          "data": {
            "image/png": "[encoded data removed]",
            "text/plain": [
              "<Figure size 432x288 with 1 Axes>"
            ]
          },
          "metadata": {},
          "output_type": "display_data"
        }
      ],
      "source": [
        "model = bn()\n",
        "model.add_edges_from(\n",
        "    [\n",
        "      ('bias','predicted-choice'),\n",
        "      ('bias','choice'),\n",
        "      ('predicted-choice','box-B'),\n",
        "      ('choice','U'),\n",
        "      ('box-B','U'),\n",
        "    ]\n",
        ")\n",
        "ax1 = plt.subplot(111)\n",
        "ax1.margins(0.15) \n",
        "pos = nx.nx_pydot.graphviz_layout(model)\n",
        "nx.draw(model, pos, ax=ax1, with_labels=True, node_color='grey', verticalalignment='top')\n",
        "plt.show()"
      ]
    },
    {
      "cell_type": "markdown",
      "metadata": {
        "id": "9jHsZK_GojBd"
      },
      "source": [
        "## Building the model\n",
        "\n",
        "Let's continue building the model.  Next we parameterize the causal Markov kernels."
      ]
    },
    {
      "cell_type": "code",
      "execution_count": 7,
      "metadata": {
        "colab": {
          "base_uri": "https://localhost:8080/"
        },
        "id": "flfD92JMdN3K",
        "outputId": "b830e189-90d6-4271-849d-5b2ab0d17b92"
      },
      "outputs": [
        {
          "name": "stdout",
          "output_type": "stream",
          "text": [
            "+------------+-----+\n",
            "| bias(B)    | 0.5 |\n",
            "+------------+-----+\n",
            "| bias(both) | 0.5 |\n",
            "+------------+-----+\n"
          ]
        }
      ],
      "source": [
        "kernel_bias = TabularCPD(\n",
        "    'bias', 2, [[.5], [.5]],\n",
        "    state_names= {'bias': ['B', 'both']}\n",
        ")\n",
        "print(kernel_bias)"
      ]
    },
    {
      "cell_type": "code",
      "execution_count": 8,
      "metadata": {
        "colab": {
          "base_uri": "https://localhost:8080/"
        },
        "id": "-7wmfPmHx1mB",
        "outputId": "d01a2872-b20f-4549-821e-198f4d3314ee"
      },
      "outputs": [
        {
          "name": "stdout",
          "output_type": "stream",
          "text": [
            "+--------------+---------+------------+\n",
            "| bias         | bias(B) | bias(both) |\n",
            "+--------------+---------+------------+\n",
            "| choice(B)    | 1.0     | 0.0        |\n",
            "+--------------+---------+------------+\n",
            "| choice(both) | 0.0     | 1.0        |\n",
            "+--------------+---------+------------+\n"
          ]
        }
      ],
      "source": [
        "kernel_choice = TabularCPD('choice', 2, [[1, 0], [0, 1]], \n",
        "                      evidence=['bias'], evidence_card=[2],\n",
        "                      state_names = {\n",
        "                          'choice': ['B', 'both'],\n",
        "                          'bias': ['B', 'both']\n",
        "                      })\n",
        "print(kernel_choice)"
      ]
    },
    {
      "cell_type": "markdown",
      "metadata": {
        "id": "wRXlDvAsqPp3"
      },
      "source": [
        "The accuracy of the prediction is captured in the causal Markov kernel for predicted-choice.  The more the agent knows our bias, the more accurate is its model it has of P(predicted-choice|bias)."
      ]
    },
    {
      "cell_type": "code",
      "execution_count": 9,
      "metadata": {
        "colab": {
          "base_uri": "https://localhost:8080/"
        },
        "id": "GHGxcDk7plDU",
        "outputId": "b2cb8d55-07f7-4aae-89c9-c937b0311c85"
      },
      "outputs": [
        {
          "name": "stdout",
          "output_type": "stream",
          "text": [
            "+------------------------+---------+------------+\n",
            "| bias                   | bias(B) | bias(both) |\n",
            "+------------------------+---------+------------+\n",
            "| predicted-choice(B)    | 0.95    | 0.05       |\n",
            "+------------------------+---------+------------+\n",
            "| predicted-choice(both) | 0.05    | 0.95       |\n",
            "+------------------------+---------+------------+\n"
          ]
        }
      ],
      "source": [
        "kernel_prediction = TabularCPD('predicted-choice', 2, [[.95, 0.05], [.05, .95]], \n",
        "                      evidence=['bias'], evidence_card=[2],\n",
        "                      state_names = {\n",
        "                          'predicted-choice': ['B', 'both'],\n",
        "                          'bias': ['B', 'both']\n",
        "                      })\n",
        "print(kernel_prediction)"
      ]
    },
    {
      "cell_type": "code",
      "execution_count": 10,
      "metadata": {
        "colab": {
          "base_uri": "https://localhost:8080/"
        },
        "id": "VONHIU1xoEPv",
        "outputId": "8eb3746e-6f9f-4036-bb9b-1b41196bf247"
      },
      "outputs": [
        {
          "name": "stdout",
          "output_type": "stream",
          "text": [
            "+------------------+---------------------+------------------------+\n",
            "| predicted-choice | predicted-choice(B) | predicted-choice(both) |\n",
            "+------------------+---------------------+------------------------+\n",
            "| box-B(0)         | 0.0                 | 1.0                    |\n",
            "+------------------+---------------------+------------------------+\n",
            "| box-B(1000000)   | 1.0                 | 0.0                    |\n",
            "+------------------+---------------------+------------------------+\n"
          ]
        }
      ],
      "source": [
        "kernel_box_b = TabularCPD('box-B', 2, [[0, 1], [1, 0]], \n",
        "                      evidence=['predicted-choice'], evidence_card=[2],\n",
        "                      state_names = {\n",
        "                          'box-B': [0, 1000000],\n",
        "                          'predicted-choice': ['B', 'both']\n",
        "                      })\n",
        "print(kernel_box_b)"
      ]
    },
    {
      "cell_type": "code",
      "execution_count": 11,
      "metadata": {
        "colab": {
          "base_uri": "https://localhost:8080/"
        },
        "id": "-4bDHA99Qgay",
        "outputId": "d0a431e7-6407-47ad-af9d-047660428595"
      },
      "outputs": [
        {
          "name": "stdout",
          "output_type": "stream",
          "text": [
            "+------------+-----------+--------------+----------------+----------------+\n",
            "| box-B      | box-B(0)  | box-B(0)     | box-B(1000000) | box-B(1000000) |\n",
            "+------------+-----------+--------------+----------------+----------------+\n",
            "| choice     | choice(B) | choice(both) | choice(B)      | choice(both)   |\n",
            "+------------+-----------+--------------+----------------+----------------+\n",
            "| U(0)       | 1.0       | 0.0          | 0.0            | 0.0            |\n",
            "+------------+-----------+--------------+----------------+----------------+\n",
            "| U(1000)    | 0.0       | 1.0          | 0.0            | 0.0            |\n",
            "+------------+-----------+--------------+----------------+----------------+\n",
            "| U(1000000) | 0.0       | 0.0          | 1.0            | 0.0            |\n",
            "+------------+-----------+--------------+----------------+----------------+\n",
            "| U(1001000) | 0.0       | 0.0          | 0.0            | 1.0            |\n",
            "+------------+-----------+--------------+----------------+----------------+\n"
          ]
        }
      ],
      "source": [
        "kernel_u = TabularCPD('U', 4, \n",
        "                        [\n",
        "                            [1, 0, 0, 0],\n",
        "                            [0, 1, 0, 0],\n",
        "                            [0, 0, 1, 0],\n",
        "                            [0, 0, 0, 1],\n",
        "                        ],\n",
        "                        evidence=['box-B','choice'], evidence_card=[2, 2],\n",
        "                        state_names = {\n",
        "                            'U': [0, 1000, 1000000, 1001000],\n",
        "                            'box-B': [0, 1000000],\n",
        "                            'choice': ['B', 'both']\n",
        "                        }\n",
        "                      )\n",
        "print(kernel_u)"
      ]
    },
    {
      "cell_type": "code",
      "execution_count": 12,
      "metadata": {
        "id": "_Mw4v9E1GorW"
      },
      "outputs": [],
      "source": [
        "model.add_cpds(kernel_bias, kernel_prediction, kernel_box_b, kernel_choice, kernel_u)"
      ]
    },
    {
      "cell_type": "markdown",
      "metadata": {
        "id": "cjndo0MuYUq1"
      },
      "source": [
        "## Calculating expected utility\n",
        "\n",
        "The \"evidential decision theory\" approach looks only at E(U|choice).  We can calculate this value for both choices using inference on the graphical model."
      ]
    },
    {
      "cell_type": "code",
      "execution_count": 13,
      "metadata": {
        "colab": {
          "base_uri": "https://localhost:8080/",
          "height": 218,
          "referenced_widgets": [
            "3e5a7eb2d4334c4187702297d7d342f3",
            "7355f0853b9c4430b1fca23d6f47dd0b",
            "068cc5ac19c54036bb226a13cca8b893",
            "50d3ee38e1b6443a8672d508426236b4",
            "b3a0773988e64ecd8948348634b490a2",
            "f0884093a2d64d46a47a37041d02e52b",
            "db0360544bd44b08a63cc2b61f31046d",
            "097579ed2cb64524968df3164e250d54",
            "bd1724ae73c14b65aadabb25f17a59c6",
            "0d2fd85d64874a6ea3a59e38bf4d9c40",
            "8df470f6b1ef45848d8696b5c2b6418c",
            "9ae0ccf8073f423695baf9b7694c81c6",
            "7410f582fc964f9fa6fb7104559a72bc",
            "73ebcaf3217c4734a44171bd540afb96",
            "f59c26b5812e44b9bb27c9bfec2a81b5",
            "5571d010848845d6b2c2259156c8aab7",
            "db244e31369a49dda502c8a03438ebe5",
            "e2328a75e3c44ca1bb1372d26f7a92bd",
            "e9f59c103695420ea938e3b2c787d43b",
            "7556b88c811c4c45b7fa9fae80a0f959",
            "da73d97002dc41f0b016b85555d3f488",
            "08bb55bab0a346c0a1bd004e95b0c20c",
            "82c547de952148349f9e9bce04470e11",
            "171e56aae0804a69845bc905f7f3cea3",
            "f1c05e18264545408f215141f16d10fc",
            "cdac0d740e9c4aa4a36fc5b984beb2df",
            "2f729a4ba28b4831ad3c92c8fdc50aaa",
            "2f24d39eb89b42898e0471e3622e6530",
            "f8e990f5efa74537ac0ab71a29dd506f",
            "cae0ce0e334f4997aa668df19a7779b7",
            "a76d64689f274a5ca8f6e45a8bff935a",
            "83fa677cd97c423d9a9d76bf598b2551",
            "91b08ed3099e48e594f4fe4662d8e253",
            "a0cce2053f614c2bb4a65208d6473e14",
            "1e59123c37494f0eb7fc5e22305e3265",
            "d1b14690a3ff425494259f24de86ab6d",
            "7c898fedb0be41a3aa1e98198d9618e6",
            "3487a1a4d4104a70820e68934aded809",
            "b853201bc4ab4f30a9660176404329f0",
            "624d6fb375c146508f1e7c8a929fb08a",
            "3b4d18bbe60243be98ff050f58665f8c",
            "a1f258cae86b4c099b03ecc94a04e55d",
            "bd35be307e4b4710a6e937b470f334f7",
            "06ff4312ee52489baef7e4b254838b1f"
          ]
        },
        "id": "S5C7F8ThYR67",
        "outputId": "d32d2e68-6a29-4231-d599-d315588b5536"
      },
      "outputs": [
        {
          "data": {
            "application/vnd.jupyter.widget-view+json": {
              "model_id": "ec578b53377441aba48974b2c34f1fc2",
              "version_major": 2,
              "version_minor": 0
            },
            "text/plain": [
              "  0%|          | 0/3 [00:00<?, ?it/s]"
            ]
          },
          "metadata": {},
          "output_type": "display_data"
        },
        {
          "data": {
            "application/vnd.jupyter.widget-view+json": {
              "model_id": "94ed680911a44589a0382ec9172e28b0",
              "version_major": 2,
              "version_minor": 0
            },
            "text/plain": [
              "  0%|          | 0/3 [00:00<?, ?it/s]"
            ]
          },
          "metadata": {},
          "output_type": "display_data"
        },
        {
          "data": {
            "application/vnd.jupyter.widget-view+json": {
              "model_id": "26b45ea75d1e4619a47ce88b7b48e8a5",
              "version_major": 2,
              "version_minor": 0
            },
            "text/plain": [
              "  0%|          | 0/3 [00:00<?, ?it/s]"
            ]
          },
          "metadata": {},
          "output_type": "display_data"
        },
        {
          "data": {
            "application/vnd.jupyter.widget-view+json": {
              "model_id": "f744f50d51da4673a50beff7166d2a0a",
              "version_major": 2,
              "version_minor": 0
            },
            "text/plain": [
              "  0%|          | 0/3 [00:00<?, ?it/s]"
            ]
          },
          "metadata": {},
          "output_type": "display_data"
        },
        {
          "name": "stdout",
          "output_type": "stream",
          "text": [
            "E(U|choice=B) = 950000.0\n",
            "\n",
            "E(U|choice=both) = 51000.0\n",
            "\n"
          ]
        }
      ],
      "source": [
        "u_given_b = get_expected_utility_given_evidence(model, evidence = {'choice': 'B'})\n",
        "u_given_both = get_expected_utility_given_evidence(model, evidence = {'choice': 'both'})\n",
        "print(\"E(U|choice=B) = \" + str(u_given_b) + \"\\n\")\n",
        "print(\"E(U|choice=both) = \" + str(u_given_both) + \"\\n\")"
      ]
    },
    {
      "cell_type": "markdown",
      "metadata": {
        "id": "1TPWR_RpedDE"
      },
      "source": [
        "When the agent \"attends only to the consquences of their actions\", it just considers E(U|do(choice)). We can show that E(U|do(choice=both)) - E(U|do(choice=B)) is $1000."
      ]
    },
    {
      "cell_type": "code",
      "execution_count": 14,
      "metadata": {
        "colab": {
          "base_uri": "https://localhost:8080/",
          "height": 218,
          "referenced_widgets": [
            "60903f1528f240d38dba11faf332a4d5",
            "7304b20d24594ce4b7eac180ebbb7510",
            "804b9a4f7af14686b28f841177eb3023",
            "fb0a8d7360b842d080af3ddf5e8f0738",
            "9480fc9bc14e42c389335a99060ccdd1",
            "6f05023d250f4d159c3758c8d3fce27a",
            "6c50253d36f44a70b6e82dfbb6beb69e",
            "bef960dd3ce14210a2c4d4909e4de30a",
            "d41489ab40d44ee8a30d9030b7415901",
            "5a934c1fdd2f4cc9b2254565d2495b2f",
            "ae202bfd47934132859e06f43712ffdf",
            "1e61ca801d3c4ef38abadde15fb5c203",
            "d0c29655028342a992bbb6ee192da528",
            "6a967a2423584615a58d0e636853b77e",
            "61fd4fe93c6a4e168604e4748dbf81f9",
            "5299231a22e64a49a2d91c8246ea54bc",
            "e8da146a532545238410d0159741c0aa",
            "f73598a332fd4745b90ae782fb739df4",
            "4562b2275e9e40b982eb7c9b06f96ade",
            "9a772d7d0788444a9ec7243aa9349537",
            "a2b3e2eaac2a430ea2bcac6eb15bea7c",
            "14c10fc2ada746f7b2551583e636290b",
            "de537f1d8c5144948a549988d3ad2ab2",
            "29c9ef3f058a48859e82aeabcd23452f",
            "76a24818faa64789877781cc495b7252",
            "950ce98e95144b68adedc6a442f56bf6",
            "dc466e052e6544ff83bd7fac1f745681",
            "813c4dd3e78c4779bbe40e545d507d45",
            "be458435218346429df7dc0c6f793120",
            "b46d63309bc44eacb7fbf4fe2341afb5",
            "5efeacd22ea346b09309508f7df848af",
            "be9c3bef56554d84bbc95eec936ce4d0",
            "cd597f92abd54c8bab6fcc9c8dfa78f9",
            "8e518b81671d446c9b96c5b3cf6dbd79",
            "fb4279f8cae34d5db8d00e00df1d503a",
            "93f61cb8af744c3aa2e731e5a2e8d144",
            "4f00f0a04f2e4fe78b0f33dade8c67e5",
            "264e7d9375fd45648bf13632caa9fec6",
            "b50abf0f46204e9e9a0be53e34e47c23",
            "abe3f444a8a847a48d5c300e0274a9cb",
            "ea616fba627147b5a187ff4e15667e81",
            "1656084976b24797b00546f4d20f34c6",
            "4816cad5f57d4b7380d2f04c8306686f",
            "5a0cf9fb67bd4e8eab09b4c931a69b6e"
          ]
        },
        "id": "X7oaYEIMWHNm",
        "outputId": "42a63a18-9bdd-4bd4-dc6c-af335f321979"
      },
      "outputs": [
        {
          "data": {
            "application/vnd.jupyter.widget-view+json": {
              "model_id": "6e2a701508a94b0698e6109a08f6fe38",
              "version_major": 2,
              "version_minor": 0
            },
            "text/plain": [
              "  0%|          | 0/3 [00:00<?, ?it/s]"
            ]
          },
          "metadata": {},
          "output_type": "display_data"
        },
        {
          "data": {
            "application/vnd.jupyter.widget-view+json": {
              "model_id": "d5c5a25438224391bf5d1a3a0026cecf",
              "version_major": 2,
              "version_minor": 0
            },
            "text/plain": [
              "  0%|          | 0/3 [00:00<?, ?it/s]"
            ]
          },
          "metadata": {},
          "output_type": "display_data"
        },
        {
          "data": {
            "application/vnd.jupyter.widget-view+json": {
              "model_id": "ac4a923e986b46bf99fcd570bd3e411b",
              "version_major": 2,
              "version_minor": 0
            },
            "text/plain": [
              "  0%|          | 0/3 [00:00<?, ?it/s]"
            ]
          },
          "metadata": {},
          "output_type": "display_data"
        },
        {
          "data": {
            "application/vnd.jupyter.widget-view+json": {
              "model_id": "d6b603339b66450ea7e9f4922555a0de",
              "version_major": 2,
              "version_minor": 0
            },
            "text/plain": [
              "  0%|          | 0/3 [00:00<?, ?it/s]"
            ]
          },
          "metadata": {},
          "output_type": "display_data"
        },
        {
          "name": "stdout",
          "output_type": "stream",
          "text": [
            "E(U|do(choice=B)) = 500000.0\n",
            "\n",
            "E(U|do(choice=both)) = 501000.0\n",
            "\n"
          ]
        }
      ],
      "source": [
        "u_given_do_b = get_expected_utility_given_interventions(model, interventions = {'choice': 'B'})\n",
        "u_given_do_both = get_expected_utility_given_interventions(model, interventions = {'choice': 'both'})\n",
        "print(\"E(U|do(choice=B)) = \" + str(u_given_do_b) + \"\\n\")\n",
        "print(\"E(U|do(choice=both)) = \" + str(u_given_do_both) + \"\\n\")"
      ]
    },
    {
      "cell_type": "markdown",
      "metadata": {
        "id": "6ONusAUmedDF"
      },
      "source": [
        "## Resolving the paradox\n",
        "\n",
        "`do` models an ideal intervention that which can block influence of an agent's *bias* on their *choice*.  How might we achieve this in practice?\n",
        "\n",
        "Suppose the agent had their own AI, a virtual assistant that cared about optimizing the agent's utility function.  Like the adversarial AI, it knows the bias of the agent.  Unlike, the adversarial AI, it wants the agent to win.  Given the agent's bias, it predicts what the adversarial AI will do in response to the bias, and then recommends the optimal decision to the agent. "
      ]
    },
    {
      "cell_type": "code",
      "execution_count": 15,
      "metadata": {},
      "outputs": [],
      "source": [
        "def dict_argmax(d: dict):\n",
        "    \"\"\"Returns key with greatest value\"\"\"\n",
        "    return max(d, key=lambda k: d[k])"
      ]
    },
    {
      "cell_type": "code",
      "execution_count": 16,
      "metadata": {},
      "outputs": [
        {
          "name": "stdout",
          "output_type": "stream",
          "text": [
            "both both\n",
            "B both\n"
          ]
        }
      ],
      "source": [
        "# max(d) returns the largest key, NOT the key with the largest value\n",
        "d = {\"B\":100, \"both\":1000}\n",
        "print(dict_argmax(d), max(d))\n",
        "\n",
        "d = {\"B\":1000, \"both\":100}\n",
        "print(dict_argmax(d), max(d))"
      ]
    },
    {
      "cell_type": "code",
      "execution_count": 17,
      "metadata": {
        "colab": {
          "base_uri": "https://localhost:8080/",
          "height": 200,
          "referenced_widgets": [
            "b667dd65aeb44002b536dac2b83704db",
            "634ff0cf576c40de878b10ec3ef8a8df",
            "9095c3f36f8a4795b5af8c4babdda7ed",
            "16d46bd691214873ba372a8b89c98e2c",
            "01422e66fdd74a6ba04c9f735a308cc6",
            "439e36c03f36429fa43cc4a6f7acb089",
            "4f628ee3c1b948488dfad055406efad1",
            "48534c40953e4ba7a8e2d97d1511531c",
            "43668c46de09460aacd21d27971b7990",
            "84f07e9320cb4941bd67731f3ac89854",
            "c0b763c2cd6f47fe86cb946e95892726",
            "2c1163c4851c46c190b18788f2949d12",
            "8e951862e64c48ae8fe7a0db55f835c3",
            "f4b06c6d32aa453cba5b963948ce8605",
            "920196a5b81f423382cf50be16663955",
            "3bdc5d4d79684c64aa7ec3cbe2d4721e",
            "d7c00ce9643d425b96ff8dd882dd0097",
            "0a51e4a5df3842179e074e9b97fa4ed0",
            "cf81dd0970984f2c9208ba54b93b051e",
            "0b7b2c873be04686b892ba7e37ee57c6",
            "ab44c4ab955b497ca14abf664190af77",
            "22a4d251dad34f40944802ddd56a50e9",
            "50c83bf089e64337a8d7000e24530711",
            "b2fa2aea842e495e95ee3b9dd2a62a5f",
            "b6f39edba69244d8ba6fdc92654c626a",
            "59ee079bddc04a02921c51f920925be7",
            "fe77ba49f16a431992da73ff6da1fa4e",
            "28891ac178ef462fbb2a36aa6a18b371",
            "6282c17a64734edbb988b7b29f7d4ee1",
            "34a7d1dff59340898000315b39203eff",
            "751d610f4ace465f998e603ebd9f6f94",
            "cde246bf60cc426da90a68fcccad81d0",
            "6d3171f1056f4dca95634e832aec992b",
            "5cee1d30cb654da2b394e8323bfca2b3",
            "11b3dd4239be4d4da3cf55344981dac7",
            "ca1b43fba2f74246bbec44525d611d1d",
            "b1fd66e94b5045eea9022002933477da",
            "e311cd5f17324d4db73798645dae3610",
            "015211175e8b48278e5b24330d4aa35f",
            "d389425d20e645f5b244222d3a58558b",
            "c07c7b138da346a9ac4351878d1425aa",
            "4fae707a218c46378faf33afb851e82c",
            "547525834140440aaaf4c537d4b32c88",
            "d9bbaa27e39b46f9947d39ff57e0b3bd"
          ]
        },
        "id": "bL1q2ykgedDF",
        "outputId": "26c699b3-f2ec-4494-af66-51837de301ac"
      },
      "outputs": [
        {
          "data": {
            "application/vnd.jupyter.widget-view+json": {
              "model_id": "8b069508180447b9a509994b97e9cf35",
              "version_major": 2,
              "version_minor": 0
            },
            "text/plain": [
              "  0%|          | 0/3 [00:00<?, ?it/s]"
            ]
          },
          "metadata": {},
          "output_type": "display_data"
        },
        {
          "data": {
            "application/vnd.jupyter.widget-view+json": {
              "model_id": "5e3956fdbf9c45658059f98ae234d704",
              "version_major": 2,
              "version_minor": 0
            },
            "text/plain": [
              "  0%|          | 0/3 [00:00<?, ?it/s]"
            ]
          },
          "metadata": {},
          "output_type": "display_data"
        },
        {
          "data": {
            "application/vnd.jupyter.widget-view+json": {
              "model_id": "b5ecdd5a1eee46e0a9352fdb18a5a804",
              "version_major": 2,
              "version_minor": 0
            },
            "text/plain": [
              "  0%|          | 0/3 [00:00<?, ?it/s]"
            ]
          },
          "metadata": {},
          "output_type": "display_data"
        },
        {
          "data": {
            "application/vnd.jupyter.widget-view+json": {
              "model_id": "547e05c5c60b412b917b06c4b207e127",
              "version_major": 2,
              "version_minor": 0
            },
            "text/plain": [
              "  0%|          | 0/3 [00:00<?, ?it/s]"
            ]
          },
          "metadata": {},
          "output_type": "display_data"
        },
        {
          "data": {
            "application/vnd.jupyter.widget-view+json": {
              "model_id": "595a94df668046d39ea704b46dc10b01",
              "version_major": 2,
              "version_minor": 0
            },
            "text/plain": [
              "  0%|          | 0/3 [00:00<?, ?it/s]"
            ]
          },
          "metadata": {},
          "output_type": "display_data"
        },
        {
          "data": {
            "application/vnd.jupyter.widget-view+json": {
              "model_id": "4cd5ba9bd6814ce98e7606f8311a2dc3",
              "version_major": 2,
              "version_minor": 0
            },
            "text/plain": [
              "  0%|          | 0/3 [00:00<?, ?it/s]"
            ]
          },
          "metadata": {},
          "output_type": "display_data"
        },
        {
          "data": {
            "application/vnd.jupyter.widget-view+json": {
              "model_id": "f729031dc2a143dba68871d499fe41a2",
              "version_major": 2,
              "version_minor": 0
            },
            "text/plain": [
              "  0%|          | 0/3 [00:00<?, ?it/s]"
            ]
          },
          "metadata": {},
          "output_type": "display_data"
        },
        {
          "data": {
            "application/vnd.jupyter.widget-view+json": {
              "model_id": "5f7c6b4a1b844f018cee5e5ab39998ce",
              "version_major": 2,
              "version_minor": 0
            },
            "text/plain": [
              "  0%|          | 0/3 [00:00<?, ?it/s]"
            ]
          },
          "metadata": {},
          "output_type": "display_data"
        },
        {
          "name": "stdout",
          "output_type": "stream",
          "text": [
            "Dear agent, you are biased towards B.\n",
            "You should choose both.\n",
            "{'both': 951000.0, 'B': 950000.0}\n",
            "\n",
            "Dear agent, you are biased towards both.\n",
            "You should choose both.\n",
            "{'both': 51000.0, 'B': 50000.0}\n",
            "\n"
          ]
        }
      ],
      "source": [
        "def decide_for_agent(model, bias):\n",
        "    utilities = {}\n",
        "    for intervention in ['both', 'B']:\n",
        "        int_model = do(model, {'choice': intervention})\n",
        "        expected_u = get_expected_utility_given_evidence(\n",
        "            int_model,\n",
        "            evidence= {\n",
        "                'bias': bias\n",
        "            },\n",
        "        )\n",
        "        utilities[intervention] = expected_u\n",
        "    return utilities\n",
        "\n",
        "\n",
        "decision_d = dict()\n",
        "for bias in [\"B\", \"both\"]:\n",
        "    decision_d[bias] = decide_for_agent(model, bias=bias)\n",
        "\n",
        "for bias, decision in decision_d.items():\n",
        "\n",
        "    print(f\"Dear agent, you are biased towards {bias}.\")\n",
        "    decision_max = dict_argmax(decision)\n",
        "    print(f\"You should choose \" + str(decision_max) + \".\")\n",
        "    print(decision)\n",
        "    print(\"\")\n",
        "\n"
      ]
    },
    {
      "cell_type": "markdown",
      "metadata": {},
      "source": [
        "## Counter-bias AI\n",
        "\n",
        "Let's setup a scenario where the optimal action is always to act counter to one's bias. This will have a similar but less paradoxical setup to Newcomb's paradox.\n",
        "\n",
        "The player can choose box B (blue) or G (green). The player's natural bias is to choose the box whose color they prefer. An adversarial AI knows the player's favorite color, and put's nothing in the box of that color, and \\$100 in the other box."
      ]
    },
    {
      "cell_type": "markdown",
      "metadata": {},
      "source": [
        "Helper functions"
      ]
    },
    {
      "cell_type": "markdown",
      "metadata": {},
      "source": [
        "The kernel printer truncates the `kernel_u` table for some reason, so let's re-implement it without the truncation."
      ]
    },
    {
      "cell_type": "code",
      "execution_count": 18,
      "metadata": {},
      "outputs": [],
      "source": [
        "import numpy as np\n",
        "from itertools import product\n",
        "from pgmpy.extern import tabulate\n",
        "def _make_table_str_untruncated(self, tablefmt=\"grid\", print_state_names=True, truncate=False):\n",
        "    headers_list = []\n",
        "\n",
        "    # Build column headers\n",
        "    evidence = self.variables[1:]\n",
        "    evidence_card = self.cardinality[1:]\n",
        "    if evidence:\n",
        "        col_indexes = np.array(list(product(*[range(i) for i in evidence_card])))\n",
        "        if self.state_names and print_state_names:\n",
        "            for i in range(len(evidence_card)):\n",
        "                column_header = [str(evidence[i])] + [\n",
        "                    \"{var}({state})\".format(\n",
        "                        var=evidence[i], state=self.state_names[evidence[i]][d]\n",
        "                    )\n",
        "                    for d in col_indexes.T[i]\n",
        "                ]\n",
        "                headers_list.append(column_header)\n",
        "        else:\n",
        "            for i in range(len(evidence_card)):\n",
        "                column_header = [str(evidence[i])] + [\n",
        "                    f\"{evidence[i]}_{d}\" for d in col_indexes.T[i]\n",
        "                ]\n",
        "                headers_list.append(column_header)\n",
        "\n",
        "    # Build row headers\n",
        "    if self.state_names and print_state_names:\n",
        "        variable_array = [\n",
        "            [\n",
        "                \"{var}({state})\".format(\n",
        "                    var=self.variable, state=self.state_names[self.variable][i]\n",
        "                )\n",
        "                for i in range(self.variable_card)\n",
        "            ]\n",
        "        ]\n",
        "    else:\n",
        "        variable_array = [\n",
        "            [f\"{self.variable}_{i}\" for i in range(self.variable_card)]\n",
        "        ]\n",
        "    # Stack with data\n",
        "    labeled_rows = np.hstack(\n",
        "        (np.array(variable_array).T, self.get_values())\n",
        "    ).tolist()\n",
        "    # No support for multi-headers in tabulate\n",
        "    cdf_str = tabulate(headers_list + labeled_rows, tablefmt=tablefmt)\n",
        "\n",
        "    if truncate:\n",
        "        cdf_str = self._truncate_strtable(cdf_str)\n",
        "\n",
        "    return cdf_str"
      ]
    },
    {
      "cell_type": "code",
      "execution_count": 19,
      "metadata": {},
      "outputs": [
        {
          "data": {
            "image/png": "[encoded data removed]",
            "text/plain": [
              "<Figure size 432x288 with 1 Axes>"
            ]
          },
          "metadata": {},
          "output_type": "display_data"
        }
      ],
      "source": [
        "model = bn()\n",
        "model.add_edges_from(\n",
        "    [\n",
        "      ('favorite-color','predicted-choice'),\n",
        "      ('favorite-color','choice'),\n",
        "      ('predicted-choice','correct-box'),\n",
        "      ('choice','U'),\n",
        "      ('correct-box','U'),\n",
        "    ]\n",
        ")\n",
        "ax1 = plt.subplot(111)\n",
        "ax1.margins(0.15) \n",
        "pos = nx.nx_pydot.graphviz_layout(model)\n",
        "nx.draw(model, pos, ax=ax1, with_labels=True, node_color='grey', verticalalignment='top')\n",
        "plt.show()"
      ]
    },
    {
      "cell_type": "code",
      "execution_count": 20,
      "metadata": {},
      "outputs": [
        {
          "name": "stdout",
          "output_type": "stream",
          "text": [
            "+-----------------------+-----+\n",
            "| favorite-color(blue)  | 0.5 |\n",
            "+-----------------------+-----+\n",
            "| favorite-color(green) | 0.5 |\n",
            "+-----------------------+-----+\n"
          ]
        }
      ],
      "source": [
        "kernel_favorite_color = TabularCPD(\n",
        "    'favorite-color', 2, [[.5], [.5]],\n",
        "    state_names= {'favorite-color': ['blue', 'green']}\n",
        ")\n",
        "print(kernel_favorite_color)"
      ]
    },
    {
      "cell_type": "code",
      "execution_count": 21,
      "metadata": {},
      "outputs": [
        {
          "name": "stdout",
          "output_type": "stream",
          "text": [
            "+-------------------------+----------------------+-----------------------+\n",
            "| favorite-color          | favorite-color(blue) | favorite-color(green) |\n",
            "+-------------------------+----------------------+-----------------------+\n",
            "| predicted-choice(blue)  | 1.0                  | 0.0                   |\n",
            "+-------------------------+----------------------+-----------------------+\n",
            "| predicted-choice(green) | 0.0                  | 1.0                   |\n",
            "+-------------------------+----------------------+-----------------------+\n"
          ]
        }
      ],
      "source": [
        "kernel_prediction = TabularCPD(\n",
        "    # 'predicted-choice', 2, [[.95, 0.05], [.05, .95]], \n",
        "    'predicted-choice', 2, [[1, 0], [0, 1]], \n",
        "\n",
        "                      evidence=['favorite-color'], evidence_card=[2],\n",
        "                      state_names = {\n",
        "                          'predicted-choice': ['blue', 'green'],\n",
        "                          'favorite-color': ['blue', 'green']\n",
        "                      })\n",
        "print(kernel_prediction)"
      ]
    },
    {
      "cell_type": "code",
      "execution_count": 22,
      "metadata": {},
      "outputs": [
        {
          "name": "stdout",
          "output_type": "stream",
          "text": [
            "+----------------+----------------------+-----------------------+\n",
            "| favorite-color | favorite-color(blue) | favorite-color(green) |\n",
            "+----------------+----------------------+-----------------------+\n",
            "| choice(blue)   | 1.0                  | 0.0                   |\n",
            "+----------------+----------------------+-----------------------+\n",
            "| choice(green)  | 0.0                  | 1.0                   |\n",
            "+----------------+----------------------+-----------------------+\n"
          ]
        }
      ],
      "source": [
        "kernel_choice = TabularCPD('choice', 2, [[1, 0], [0, 1]], \n",
        "                      evidence=['favorite-color'], evidence_card=[2],\n",
        "                      state_names = {\n",
        "                          'choice': ['blue', 'green'],\n",
        "                          'favorite-color': ['blue', 'green']\n",
        "                      })\n",
        "print(kernel_choice)"
      ]
    },
    {
      "cell_type": "code",
      "execution_count": 23,
      "metadata": {},
      "outputs": [
        {
          "name": "stdout",
          "output_type": "stream",
          "text": [
            "+--------------------+------------------------+-------------------------+\n",
            "| predicted-choice   | predicted-choice(blue) | predicted-choice(green) |\n",
            "+--------------------+------------------------+-------------------------+\n",
            "| correct-box(blue)  | 0.0                    | 1.0                     |\n",
            "+--------------------+------------------------+-------------------------+\n",
            "| correct-box(green) | 1.0                    | 0.0                     |\n",
            "+--------------------+------------------------+-------------------------+\n"
          ]
        }
      ],
      "source": [
        "kernel_correct_box = TabularCPD('correct-box', 2, [[0, 1], [1, 0]], \n",
        "                      evidence=['predicted-choice'], evidence_card=[2],\n",
        "                      state_names = {\n",
        "                          'correct-box': [\"blue\", \"green\"],\n",
        "                          'predicted-choice': ['blue', 'green']\n",
        "                      })\n",
        "print(kernel_correct_box)"
      ]
    },
    {
      "cell_type": "code",
      "execution_count": 24,
      "metadata": {},
      "outputs": [
        {
          "name": "stdout",
          "output_type": "stream",
          "text": [
            "+-------------+-------------------+-------------------+--------------------+--------------------+\n",
            "| correct-box | correct-box(blue) | correct-box(blue) | correct-box(green) | correct-box(green) |\n",
            "+-------------+-------------------+-------------------+--------------------+--------------------+\n",
            "| choice      | choice(blue)      | choice(green)     | choice(blue)       | choice(green)      |\n",
            "+-------------+-------------------+-------------------+--------------------+--------------------+\n",
            "| U(0)        | 0.0               | 1.0               | 1.0                | 0.0                |\n",
            "+-------------+-------------------+-------------------+--------------------+--------------------+\n",
            "| U(1000000)  | 1.0               | 0.0               | 0.0                | 1.0                |\n",
            "+-------------+-------------------+-------------------+--------------------+--------------------+\n"
          ]
        }
      ],
      "source": [
        "kernel_u = TabularCPD('U', 2, \n",
        "                        [\n",
        "                            [0,1,1,0],\n",
        "                            [1,0,0,1]\n",
        "                        ],\n",
        "                        evidence=['correct-box','choice'], evidence_card=[2, 2],\n",
        "                        state_names = {\n",
        "                            'U': [0, 1000000],\n",
        "                            'correct-box': [\"blue\", \"green\"],\n",
        "                            'choice': ['blue', 'green']\n",
        "                        }\n",
        "                      )\n",
        "print(_make_table_str_untruncated(kernel_u))\n"
      ]
    },
    {
      "cell_type": "code",
      "execution_count": 25,
      "metadata": {},
      "outputs": [],
      "source": [
        "model.add_cpds(kernel_favorite_color, kernel_prediction, kernel_correct_box, kernel_choice, kernel_u)"
      ]
    },
    {
      "cell_type": "code",
      "execution_count": 26,
      "metadata": {},
      "outputs": [
        {
          "data": {
            "application/vnd.jupyter.widget-view+json": {
              "model_id": "b50e1aa0d4cb4968837445cef70c90ea",
              "version_major": 2,
              "version_minor": 0
            },
            "text/plain": [
              "  0%|          | 0/3 [00:00<?, ?it/s]"
            ]
          },
          "metadata": {},
          "output_type": "display_data"
        },
        {
          "data": {
            "application/vnd.jupyter.widget-view+json": {
              "model_id": "ef0f3d700e244dd79332c0db5f77e5d2",
              "version_major": 2,
              "version_minor": 0
            },
            "text/plain": [
              "  0%|          | 0/3 [00:00<?, ?it/s]"
            ]
          },
          "metadata": {},
          "output_type": "display_data"
        },
        {
          "data": {
            "application/vnd.jupyter.widget-view+json": {
              "model_id": "51d92a4f81c140eba242b1ce213dd812",
              "version_major": 2,
              "version_minor": 0
            },
            "text/plain": [
              "  0%|          | 0/3 [00:00<?, ?it/s]"
            ]
          },
          "metadata": {},
          "output_type": "display_data"
        },
        {
          "data": {
            "application/vnd.jupyter.widget-view+json": {
              "model_id": "52d016d83e034e4ea5865fb2393c058d",
              "version_major": 2,
              "version_minor": 0
            },
            "text/plain": [
              "  0%|          | 0/3 [00:00<?, ?it/s]"
            ]
          },
          "metadata": {},
          "output_type": "display_data"
        },
        {
          "name": "stdout",
          "output_type": "stream",
          "text": [
            "E(U|choice=blue) = 0.0\n",
            "\n",
            "E(U|choice=green) = 0.0\n",
            "\n"
          ]
        }
      ],
      "source": [
        "u_given_choice_d = dict()\n",
        "for choice in [\"blue\", \"green\"]:\n",
        "    u_given_choice_d[choice] =  get_expected_utility_given_evidence(model, evidence = {'choice': choice})\n",
        "\n",
        "for choice, u in u_given_choice_d.items():\n",
        "    print(f\"E(U|choice={choice}) = \" + str(u_given_choice_d[choice]) + \"\\n\")"
      ]
    },
    {
      "cell_type": "code",
      "execution_count": 27,
      "metadata": {},
      "outputs": [
        {
          "data": {
            "application/vnd.jupyter.widget-view+json": {
              "model_id": "fd9d7dbaef5d469c96650c285f398207",
              "version_major": 2,
              "version_minor": 0
            },
            "text/plain": [
              "  0%|          | 0/3 [00:00<?, ?it/s]"
            ]
          },
          "metadata": {},
          "output_type": "display_data"
        },
        {
          "data": {
            "application/vnd.jupyter.widget-view+json": {
              "model_id": "153b3886ceef4f7eb3396162a5c313e8",
              "version_major": 2,
              "version_minor": 0
            },
            "text/plain": [
              "  0%|          | 0/3 [00:00<?, ?it/s]"
            ]
          },
          "metadata": {},
          "output_type": "display_data"
        },
        {
          "data": {
            "application/vnd.jupyter.widget-view+json": {
              "model_id": "38aacbea46fd42f4a45dfc94e367c924",
              "version_major": 2,
              "version_minor": 0
            },
            "text/plain": [
              "  0%|          | 0/3 [00:00<?, ?it/s]"
            ]
          },
          "metadata": {},
          "output_type": "display_data"
        },
        {
          "data": {
            "application/vnd.jupyter.widget-view+json": {
              "model_id": "26a0598262be47349a09a7611d9c155c",
              "version_major": 2,
              "version_minor": 0
            },
            "text/plain": [
              "  0%|          | 0/3 [00:00<?, ?it/s]"
            ]
          },
          "metadata": {},
          "output_type": "display_data"
        },
        {
          "name": "stdout",
          "output_type": "stream",
          "text": [
            "E(U|do(choice=blue)) = 500000.0\n",
            "\n",
            "E(U|do(choice=green)) = 500000.0\n",
            "\n"
          ]
        }
      ],
      "source": [
        "u_given_do_choice_d = dict()\n",
        "for choice in [\"blue\", \"green\"]:\n",
        "    u_given_do_choice_d[choice] =  get_expected_utility_given_interventions(model, interventions = {'choice': choice})\n",
        "\n",
        "for choice, u in u_given_do_choice_d.items():\n",
        "    print(f\"E(U|do(choice={choice})) = \" + str(u_given_do_choice_d[choice]) + \"\\n\")"
      ]
    },
    {
      "cell_type": "code",
      "execution_count": 28,
      "metadata": {},
      "outputs": [
        {
          "data": {
            "application/vnd.jupyter.widget-view+json": {
              "model_id": "46817687537147098c65c8be24531aff",
              "version_major": 2,
              "version_minor": 0
            },
            "text/plain": [
              "  0%|          | 0/3 [00:00<?, ?it/s]"
            ]
          },
          "metadata": {},
          "output_type": "display_data"
        },
        {
          "data": {
            "application/vnd.jupyter.widget-view+json": {
              "model_id": "218f61915cff41a7a9f179e8f582e803",
              "version_major": 2,
              "version_minor": 0
            },
            "text/plain": [
              "  0%|          | 0/3 [00:00<?, ?it/s]"
            ]
          },
          "metadata": {},
          "output_type": "display_data"
        },
        {
          "data": {
            "application/vnd.jupyter.widget-view+json": {
              "model_id": "1b1d92d3cf1a46c784a373f3eb07ffe5",
              "version_major": 2,
              "version_minor": 0
            },
            "text/plain": [
              "  0%|          | 0/3 [00:00<?, ?it/s]"
            ]
          },
          "metadata": {},
          "output_type": "display_data"
        },
        {
          "data": {
            "application/vnd.jupyter.widget-view+json": {
              "model_id": "f8fde8301be6471fb1631424abfe0d2a",
              "version_major": 2,
              "version_minor": 0
            },
            "text/plain": [
              "  0%|          | 0/3 [00:00<?, ?it/s]"
            ]
          },
          "metadata": {},
          "output_type": "display_data"
        },
        {
          "data": {
            "application/vnd.jupyter.widget-view+json": {
              "model_id": "8cba693733f54aa888dbad864c24251d",
              "version_major": 2,
              "version_minor": 0
            },
            "text/plain": [
              "  0%|          | 0/3 [00:00<?, ?it/s]"
            ]
          },
          "metadata": {},
          "output_type": "display_data"
        },
        {
          "data": {
            "application/vnd.jupyter.widget-view+json": {
              "model_id": "b98320439ff4419aaa2d6bfd729b02a9",
              "version_major": 2,
              "version_minor": 0
            },
            "text/plain": [
              "  0%|          | 0/3 [00:00<?, ?it/s]"
            ]
          },
          "metadata": {},
          "output_type": "display_data"
        },
        {
          "data": {
            "application/vnd.jupyter.widget-view+json": {
              "model_id": "8119ced8112c4c7b8ac1a2f6d5844b22",
              "version_major": 2,
              "version_minor": 0
            },
            "text/plain": [
              "  0%|          | 0/3 [00:00<?, ?it/s]"
            ]
          },
          "metadata": {},
          "output_type": "display_data"
        },
        {
          "data": {
            "application/vnd.jupyter.widget-view+json": {
              "model_id": "7135be0fd16b4de3b814f99ae408d26c",
              "version_major": 2,
              "version_minor": 0
            },
            "text/plain": [
              "  0%|          | 0/3 [00:00<?, ?it/s]"
            ]
          },
          "metadata": {},
          "output_type": "display_data"
        },
        {
          "name": "stdout",
          "output_type": "stream",
          "text": [
            "Dear agent, you are biased towards blue.\n",
            "You should choose green.\n",
            "{'blue': 0.0, 'green': 1000000.0}\n",
            "\n",
            "Dear agent, you are biased towards green.\n",
            "You should choose blue.\n",
            "{'blue': 1000000.0, 'green': 0.0}\n",
            "\n"
          ]
        }
      ],
      "source": [
        "def decide_for_agent(model, favorite_color):\n",
        "    utilities = {}\n",
        "    for intervention in ['blue', 'green']:\n",
        "        int_model = do(model, {'choice': intervention})\n",
        "        expected_u = get_expected_utility_given_evidence(\n",
        "            int_model,\n",
        "            evidence= {\n",
        "                'favorite-color': favorite_color\n",
        "            },\n",
        "        )\n",
        "        utilities[intervention] = expected_u\n",
        "    return utilities\n",
        "\n",
        "\n",
        "# message_d = dict()\n",
        "decision_d = dict()\n",
        "for favorite_color in [\"blue\", \"green\"]:\n",
        "    decision_d[favorite_color] = decide_for_agent(model, favorite_color=favorite_color)\n",
        "\n",
        "for favorite_color, decision in decision_d.items():\n",
        "\n",
        "    print(f\"Dear agent, you are biased towards {favorite_color}.\")\n",
        "    decision_max = dict_argmax(decision)\n",
        "    print(f\"You should choose \" + str(decision_max) + \".\")\n",
        "    print(decision)\n",
        "    print(\"\")\n"
      ]
    }
  ],
  "metadata": {
    "colab": {
      "collapsed_sections": [],
      "name": "Newcomb_paradox.ipynb",
      "provenance": []
    },
    "kernelspec": {
      "display_name": "Python 3 (ipykernel)",
      "language": "python",
      "name": "python3"
    },
    "language_info": {
      "codemirror_mode": {
        "name": "ipython",
        "version": 3
      },
      "file_extension": ".py",
      "mimetype": "text/x-python",
      "name": "python",
      "nbconvert_exporter": "python",
      "pygments_lexer": "ipython3",
      "version": "3.10.0"
    },
    "widgets": {
      "application/vnd.jupyter.widget-state+json": {
        "01422e66fdd74a6ba04c9f735a308cc6": {
          "model_module": "@jupyter-widgets/base",
          "model_module_version": "1.2.0",
          "model_name": "LayoutModel",
          "state": {
            "_model_module": "@jupyter-widgets/base",
            "_model_module_version": "1.2.0",
            "_model_name": "LayoutModel",
            "_view_count": null,
            "_view_module": "@jupyter-widgets/base",
            "_view_module_version": "1.2.0",
            "_view_name": "LayoutView",
            "align_content": null,
            "align_items": null,
            "align_self": null,
            "border": null,
            "bottom": null,
            "display": null,
            "flex": null,
            "flex_flow": null,
            "grid_area": null,
            "grid_auto_columns": null,
            "grid_auto_flow": null,
            "grid_auto_rows": null,
            "grid_column": null,
            "grid_gap": null,
            "grid_row": null,
            "grid_template_areas": null,
            "grid_template_columns": null,
            "grid_template_rows": null,
            "height": null,
            "justify_content": null,
            "justify_items": null,
            "left": null,
            "margin": null,
            "max_height": null,
            "max_width": null,
            "min_height": null,
            "min_width": null,
            "object_fit": null,
            "object_position": null,
            "order": null,
            "overflow": null,
            "overflow_x": null,
            "overflow_y": null,
            "padding": null,
            "right": null,
            "top": null,
            "visibility": null,
            "width": null
          }
        },
        "015211175e8b48278e5b24330d4aa35f": {
          "model_module": "@jupyter-widgets/base",
          "model_module_version": "1.2.0",
          "model_name": "LayoutModel",
          "state": {
            "_model_module": "@jupyter-widgets/base",
            "_model_module_version": "1.2.0",
            "_model_name": "LayoutModel",
            "_view_count": null,
            "_view_module": "@jupyter-widgets/base",
            "_view_module_version": "1.2.0",
            "_view_name": "LayoutView",
            "align_content": null,
            "align_items": null,
            "align_self": null,
            "border": null,
            "bottom": null,
            "display": null,
            "flex": null,
            "flex_flow": null,
            "grid_area": null,
            "grid_auto_columns": null,
            "grid_auto_flow": null,
            "grid_auto_rows": null,
            "grid_column": null,
            "grid_gap": null,
            "grid_row": null,
            "grid_template_areas": null,
            "grid_template_columns": null,
            "grid_template_rows": null,
            "height": null,
            "justify_content": null,
            "justify_items": null,
            "left": null,
            "margin": null,
            "max_height": null,
            "max_width": null,
            "min_height": null,
            "min_width": null,
            "object_fit": null,
            "object_position": null,
            "order": null,
            "overflow": null,
            "overflow_x": null,
            "overflow_y": null,
            "padding": null,
            "right": null,
            "top": null,
            "visibility": null,
            "width": null
          }
        },
        "068cc5ac19c54036bb226a13cca8b893": {
          "model_module": "@jupyter-widgets/controls",
          "model_module_version": "1.5.0",
          "model_name": "FloatProgressModel",
          "state": {
            "_dom_classes": [],
            "_model_module": "@jupyter-widgets/controls",
            "_model_module_version": "1.5.0",
            "_model_name": "FloatProgressModel",
            "_view_count": null,
            "_view_module": "@jupyter-widgets/controls",
            "_view_module_version": "1.5.0",
            "_view_name": "ProgressView",
            "bar_style": "success",
            "description": "",
            "description_tooltip": null,
            "layout": "IPY_MODEL_097579ed2cb64524968df3164e250d54",
            "max": 3,
            "min": 0,
            "orientation": "horizontal",
            "style": "IPY_MODEL_bd1724ae73c14b65aadabb25f17a59c6",
            "value": 3
          }
        },
        "06ff4312ee52489baef7e4b254838b1f": {
          "model_module": "@jupyter-widgets/controls",
          "model_module_version": "1.5.0",
          "model_name": "DescriptionStyleModel",
          "state": {
            "_model_module": "@jupyter-widgets/controls",
            "_model_module_version": "1.5.0",
            "_model_name": "DescriptionStyleModel",
            "_view_count": null,
            "_view_module": "@jupyter-widgets/base",
            "_view_module_version": "1.2.0",
            "_view_name": "StyleView",
            "description_width": ""
          }
        },
        "08bb55bab0a346c0a1bd004e95b0c20c": {
          "model_module": "@jupyter-widgets/controls",
          "model_module_version": "1.5.0",
          "model_name": "DescriptionStyleModel",
          "state": {
            "_model_module": "@jupyter-widgets/controls",
            "_model_module_version": "1.5.0",
            "_model_name": "DescriptionStyleModel",
            "_view_count": null,
            "_view_module": "@jupyter-widgets/base",
            "_view_module_version": "1.2.0",
            "_view_name": "StyleView",
            "description_width": ""
          }
        },
        "097579ed2cb64524968df3164e250d54": {
          "model_module": "@jupyter-widgets/base",
          "model_module_version": "1.2.0",
          "model_name": "LayoutModel",
          "state": {
            "_model_module": "@jupyter-widgets/base",
            "_model_module_version": "1.2.0",
            "_model_name": "LayoutModel",
            "_view_count": null,
            "_view_module": "@jupyter-widgets/base",
            "_view_module_version": "1.2.0",
            "_view_name": "LayoutView",
            "align_content": null,
            "align_items": null,
            "align_self": null,
            "border": null,
            "bottom": null,
            "display": null,
            "flex": null,
            "flex_flow": null,
            "grid_area": null,
            "grid_auto_columns": null,
            "grid_auto_flow": null,
            "grid_auto_rows": null,
            "grid_column": null,
            "grid_gap": null,
            "grid_row": null,
            "grid_template_areas": null,
            "grid_template_columns": null,
            "grid_template_rows": null,
            "height": null,
            "justify_content": null,
            "justify_items": null,
            "left": null,
            "margin": null,
            "max_height": null,
            "max_width": null,
            "min_height": null,
            "min_width": null,
            "object_fit": null,
            "object_position": null,
            "order": null,
            "overflow": null,
            "overflow_x": null,
            "overflow_y": null,
            "padding": null,
            "right": null,
            "top": null,
            "visibility": null,
            "width": null
          }
        },
        "0a51e4a5df3842179e074e9b97fa4ed0": {
          "model_module": "@jupyter-widgets/controls",
          "model_module_version": "1.5.0",
          "model_name": "DescriptionStyleModel",
          "state": {
            "_model_module": "@jupyter-widgets/controls",
            "_model_module_version": "1.5.0",
            "_model_name": "DescriptionStyleModel",
            "_view_count": null,
            "_view_module": "@jupyter-widgets/base",
            "_view_module_version": "1.2.0",
            "_view_name": "StyleView",
            "description_width": ""
          }
        },
        "0b7b2c873be04686b892ba7e37ee57c6": {
          "model_module": "@jupyter-widgets/controls",
          "model_module_version": "1.5.0",
          "model_name": "ProgressStyleModel",
          "state": {
            "_model_module": "@jupyter-widgets/controls",
            "_model_module_version": "1.5.0",
            "_model_name": "ProgressStyleModel",
            "_view_count": null,
            "_view_module": "@jupyter-widgets/base",
            "_view_module_version": "1.2.0",
            "_view_name": "StyleView",
            "bar_color": null,
            "description_width": ""
          }
        },
        "0d2fd85d64874a6ea3a59e38bf4d9c40": {
          "model_module": "@jupyter-widgets/base",
          "model_module_version": "1.2.0",
          "model_name": "LayoutModel",
          "state": {
            "_model_module": "@jupyter-widgets/base",
            "_model_module_version": "1.2.0",
            "_model_name": "LayoutModel",
            "_view_count": null,
            "_view_module": "@jupyter-widgets/base",
            "_view_module_version": "1.2.0",
            "_view_name": "LayoutView",
            "align_content": null,
            "align_items": null,
            "align_self": null,
            "border": null,
            "bottom": null,
            "display": null,
            "flex": null,
            "flex_flow": null,
            "grid_area": null,
            "grid_auto_columns": null,
            "grid_auto_flow": null,
            "grid_auto_rows": null,
            "grid_column": null,
            "grid_gap": null,
            "grid_row": null,
            "grid_template_areas": null,
            "grid_template_columns": null,
            "grid_template_rows": null,
            "height": null,
            "justify_content": null,
            "justify_items": null,
            "left": null,
            "margin": null,
            "max_height": null,
            "max_width": null,
            "min_height": null,
            "min_width": null,
            "object_fit": null,
            "object_position": null,
            "order": null,
            "overflow": null,
            "overflow_x": null,
            "overflow_y": null,
            "padding": null,
            "right": null,
            "top": null,
            "visibility": null,
            "width": null
          }
        },
        "11b3dd4239be4d4da3cf55344981dac7": {
          "model_module": "@jupyter-widgets/controls",
          "model_module_version": "1.5.0",
          "model_name": "HTMLModel",
          "state": {
            "_dom_classes": [],
            "_model_module": "@jupyter-widgets/controls",
            "_model_module_version": "1.5.0",
            "_model_name": "HTMLModel",
            "_view_count": null,
            "_view_module": "@jupyter-widgets/controls",
            "_view_module_version": "1.5.0",
            "_view_name": "HTMLView",
            "description": "",
            "description_tooltip": null,
            "layout": "IPY_MODEL_015211175e8b48278e5b24330d4aa35f",
            "placeholder": "​",
            "style": "IPY_MODEL_d389425d20e645f5b244222d3a58558b",
            "value": "Eliminating: box-B: 100%"
          }
        },
        "14c10fc2ada746f7b2551583e636290b": {
          "model_module": "@jupyter-widgets/controls",
          "model_module_version": "1.5.0",
          "model_name": "DescriptionStyleModel",
          "state": {
            "_model_module": "@jupyter-widgets/controls",
            "_model_module_version": "1.5.0",
            "_model_name": "DescriptionStyleModel",
            "_view_count": null,
            "_view_module": "@jupyter-widgets/base",
            "_view_module_version": "1.2.0",
            "_view_name": "StyleView",
            "description_width": ""
          }
        },
        "1656084976b24797b00546f4d20f34c6": {
          "model_module": "@jupyter-widgets/controls",
          "model_module_version": "1.5.0",
          "model_name": "ProgressStyleModel",
          "state": {
            "_model_module": "@jupyter-widgets/controls",
            "_model_module_version": "1.5.0",
            "_model_name": "ProgressStyleModel",
            "_view_count": null,
            "_view_module": "@jupyter-widgets/base",
            "_view_module_version": "1.2.0",
            "_view_name": "StyleView",
            "bar_color": null,
            "description_width": ""
          }
        },
        "16d46bd691214873ba372a8b89c98e2c": {
          "model_module": "@jupyter-widgets/controls",
          "model_module_version": "1.5.0",
          "model_name": "HTMLModel",
          "state": {
            "_dom_classes": [],
            "_model_module": "@jupyter-widgets/controls",
            "_model_module_version": "1.5.0",
            "_model_name": "HTMLModel",
            "_view_count": null,
            "_view_module": "@jupyter-widgets/controls",
            "_view_module_version": "1.5.0",
            "_view_name": "HTMLView",
            "description": "",
            "description_tooltip": null,
            "layout": "IPY_MODEL_84f07e9320cb4941bd67731f3ac89854",
            "placeholder": "​",
            "style": "IPY_MODEL_c0b763c2cd6f47fe86cb946e95892726",
            "value": " 3/3 [00:00&lt;00:00, 21.70it/s]"
          }
        },
        "171e56aae0804a69845bc905f7f3cea3": {
          "model_module": "@jupyter-widgets/controls",
          "model_module_version": "1.5.0",
          "model_name": "HTMLModel",
          "state": {
            "_dom_classes": [],
            "_model_module": "@jupyter-widgets/controls",
            "_model_module_version": "1.5.0",
            "_model_name": "HTMLModel",
            "_view_count": null,
            "_view_module": "@jupyter-widgets/controls",
            "_view_module_version": "1.5.0",
            "_view_name": "HTMLView",
            "description": "",
            "description_tooltip": null,
            "layout": "IPY_MODEL_2f24d39eb89b42898e0471e3622e6530",
            "placeholder": "​",
            "style": "IPY_MODEL_f8e990f5efa74537ac0ab71a29dd506f",
            "value": "Finding Elimination Order: : 100%"
          }
        },
        "1e59123c37494f0eb7fc5e22305e3265": {
          "model_module": "@jupyter-widgets/controls",
          "model_module_version": "1.5.0",
          "model_name": "HTMLModel",
          "state": {
            "_dom_classes": [],
            "_model_module": "@jupyter-widgets/controls",
            "_model_module_version": "1.5.0",
            "_model_name": "HTMLModel",
            "_view_count": null,
            "_view_module": "@jupyter-widgets/controls",
            "_view_module_version": "1.5.0",
            "_view_name": "HTMLView",
            "description": "",
            "description_tooltip": null,
            "layout": "IPY_MODEL_b853201bc4ab4f30a9660176404329f0",
            "placeholder": "​",
            "style": "IPY_MODEL_624d6fb375c146508f1e7c8a929fb08a",
            "value": "Eliminating: bias: 100%"
          }
        },
        "1e61ca801d3c4ef38abadde15fb5c203": {
          "model_module": "@jupyter-widgets/controls",
          "model_module_version": "1.5.0",
          "model_name": "HBoxModel",
          "state": {
            "_dom_classes": [],
            "_model_module": "@jupyter-widgets/controls",
            "_model_module_version": "1.5.0",
            "_model_name": "HBoxModel",
            "_view_count": null,
            "_view_module": "@jupyter-widgets/controls",
            "_view_module_version": "1.5.0",
            "_view_name": "HBoxView",
            "box_style": "",
            "children": [
              "IPY_MODEL_d0c29655028342a992bbb6ee192da528",
              "IPY_MODEL_6a967a2423584615a58d0e636853b77e",
              "IPY_MODEL_61fd4fe93c6a4e168604e4748dbf81f9"
            ],
            "layout": "IPY_MODEL_5299231a22e64a49a2d91c8246ea54bc"
          }
        },
        "22a4d251dad34f40944802ddd56a50e9": {
          "model_module": "@jupyter-widgets/controls",
          "model_module_version": "1.5.0",
          "model_name": "DescriptionStyleModel",
          "state": {
            "_model_module": "@jupyter-widgets/controls",
            "_model_module_version": "1.5.0",
            "_model_name": "DescriptionStyleModel",
            "_view_count": null,
            "_view_module": "@jupyter-widgets/base",
            "_view_module_version": "1.2.0",
            "_view_name": "StyleView",
            "description_width": ""
          }
        },
        "264e7d9375fd45648bf13632caa9fec6": {
          "model_module": "@jupyter-widgets/base",
          "model_module_version": "1.2.0",
          "model_name": "LayoutModel",
          "state": {
            "_model_module": "@jupyter-widgets/base",
            "_model_module_version": "1.2.0",
            "_model_name": "LayoutModel",
            "_view_count": null,
            "_view_module": "@jupyter-widgets/base",
            "_view_module_version": "1.2.0",
            "_view_name": "LayoutView",
            "align_content": null,
            "align_items": null,
            "align_self": null,
            "border": null,
            "bottom": null,
            "display": null,
            "flex": null,
            "flex_flow": null,
            "grid_area": null,
            "grid_auto_columns": null,
            "grid_auto_flow": null,
            "grid_auto_rows": null,
            "grid_column": null,
            "grid_gap": null,
            "grid_row": null,
            "grid_template_areas": null,
            "grid_template_columns": null,
            "grid_template_rows": null,
            "height": null,
            "justify_content": null,
            "justify_items": null,
            "left": null,
            "margin": null,
            "max_height": null,
            "max_width": null,
            "min_height": null,
            "min_width": null,
            "object_fit": null,
            "object_position": null,
            "order": null,
            "overflow": null,
            "overflow_x": null,
            "overflow_y": null,
            "padding": null,
            "right": null,
            "top": null,
            "visibility": null,
            "width": null
          }
        },
        "28891ac178ef462fbb2a36aa6a18b371": {
          "model_module": "@jupyter-widgets/base",
          "model_module_version": "1.2.0",
          "model_name": "LayoutModel",
          "state": {
            "_model_module": "@jupyter-widgets/base",
            "_model_module_version": "1.2.0",
            "_model_name": "LayoutModel",
            "_view_count": null,
            "_view_module": "@jupyter-widgets/base",
            "_view_module_version": "1.2.0",
            "_view_name": "LayoutView",
            "align_content": null,
            "align_items": null,
            "align_self": null,
            "border": null,
            "bottom": null,
            "display": null,
            "flex": null,
            "flex_flow": null,
            "grid_area": null,
            "grid_auto_columns": null,
            "grid_auto_flow": null,
            "grid_auto_rows": null,
            "grid_column": null,
            "grid_gap": null,
            "grid_row": null,
            "grid_template_areas": null,
            "grid_template_columns": null,
            "grid_template_rows": null,
            "height": null,
            "justify_content": null,
            "justify_items": null,
            "left": null,
            "margin": null,
            "max_height": null,
            "max_width": null,
            "min_height": null,
            "min_width": null,
            "object_fit": null,
            "object_position": null,
            "order": null,
            "overflow": null,
            "overflow_x": null,
            "overflow_y": null,
            "padding": null,
            "right": null,
            "top": null,
            "visibility": null,
            "width": null
          }
        },
        "29c9ef3f058a48859e82aeabcd23452f": {
          "model_module": "@jupyter-widgets/controls",
          "model_module_version": "1.5.0",
          "model_name": "HTMLModel",
          "state": {
            "_dom_classes": [],
            "_model_module": "@jupyter-widgets/controls",
            "_model_module_version": "1.5.0",
            "_model_name": "HTMLModel",
            "_view_count": null,
            "_view_module": "@jupyter-widgets/controls",
            "_view_module_version": "1.5.0",
            "_view_name": "HTMLView",
            "description": "",
            "description_tooltip": null,
            "layout": "IPY_MODEL_813c4dd3e78c4779bbe40e545d507d45",
            "placeholder": "​",
            "style": "IPY_MODEL_be458435218346429df7dc0c6f793120",
            "value": "Finding Elimination Order: : 100%"
          }
        },
        "2c1163c4851c46c190b18788f2949d12": {
          "model_module": "@jupyter-widgets/controls",
          "model_module_version": "1.5.0",
          "model_name": "HBoxModel",
          "state": {
            "_dom_classes": [],
            "_model_module": "@jupyter-widgets/controls",
            "_model_module_version": "1.5.0",
            "_model_name": "HBoxModel",
            "_view_count": null,
            "_view_module": "@jupyter-widgets/controls",
            "_view_module_version": "1.5.0",
            "_view_name": "HBoxView",
            "box_style": "",
            "children": [
              "IPY_MODEL_8e951862e64c48ae8fe7a0db55f835c3",
              "IPY_MODEL_f4b06c6d32aa453cba5b963948ce8605",
              "IPY_MODEL_920196a5b81f423382cf50be16663955"
            ],
            "layout": "IPY_MODEL_3bdc5d4d79684c64aa7ec3cbe2d4721e"
          }
        },
        "2f24d39eb89b42898e0471e3622e6530": {
          "model_module": "@jupyter-widgets/base",
          "model_module_version": "1.2.0",
          "model_name": "LayoutModel",
          "state": {
            "_model_module": "@jupyter-widgets/base",
            "_model_module_version": "1.2.0",
            "_model_name": "LayoutModel",
            "_view_count": null,
            "_view_module": "@jupyter-widgets/base",
            "_view_module_version": "1.2.0",
            "_view_name": "LayoutView",
            "align_content": null,
            "align_items": null,
            "align_self": null,
            "border": null,
            "bottom": null,
            "display": null,
            "flex": null,
            "flex_flow": null,
            "grid_area": null,
            "grid_auto_columns": null,
            "grid_auto_flow": null,
            "grid_auto_rows": null,
            "grid_column": null,
            "grid_gap": null,
            "grid_row": null,
            "grid_template_areas": null,
            "grid_template_columns": null,
            "grid_template_rows": null,
            "height": null,
            "justify_content": null,
            "justify_items": null,
            "left": null,
            "margin": null,
            "max_height": null,
            "max_width": null,
            "min_height": null,
            "min_width": null,
            "object_fit": null,
            "object_position": null,
            "order": null,
            "overflow": null,
            "overflow_x": null,
            "overflow_y": null,
            "padding": null,
            "right": null,
            "top": null,
            "visibility": null,
            "width": null
          }
        },
        "2f729a4ba28b4831ad3c92c8fdc50aaa": {
          "model_module": "@jupyter-widgets/base",
          "model_module_version": "1.2.0",
          "model_name": "LayoutModel",
          "state": {
            "_model_module": "@jupyter-widgets/base",
            "_model_module_version": "1.2.0",
            "_model_name": "LayoutModel",
            "_view_count": null,
            "_view_module": "@jupyter-widgets/base",
            "_view_module_version": "1.2.0",
            "_view_name": "LayoutView",
            "align_content": null,
            "align_items": null,
            "align_self": null,
            "border": null,
            "bottom": null,
            "display": null,
            "flex": null,
            "flex_flow": null,
            "grid_area": null,
            "grid_auto_columns": null,
            "grid_auto_flow": null,
            "grid_auto_rows": null,
            "grid_column": null,
            "grid_gap": null,
            "grid_row": null,
            "grid_template_areas": null,
            "grid_template_columns": null,
            "grid_template_rows": null,
            "height": null,
            "justify_content": null,
            "justify_items": null,
            "left": null,
            "margin": null,
            "max_height": null,
            "max_width": null,
            "min_height": null,
            "min_width": null,
            "object_fit": null,
            "object_position": null,
            "order": null,
            "overflow": null,
            "overflow_x": null,
            "overflow_y": null,
            "padding": null,
            "right": null,
            "top": null,
            "visibility": null,
            "width": null
          }
        },
        "3487a1a4d4104a70820e68934aded809": {
          "model_module": "@jupyter-widgets/base",
          "model_module_version": "1.2.0",
          "model_name": "LayoutModel",
          "state": {
            "_model_module": "@jupyter-widgets/base",
            "_model_module_version": "1.2.0",
            "_model_name": "LayoutModel",
            "_view_count": null,
            "_view_module": "@jupyter-widgets/base",
            "_view_module_version": "1.2.0",
            "_view_name": "LayoutView",
            "align_content": null,
            "align_items": null,
            "align_self": null,
            "border": null,
            "bottom": null,
            "display": null,
            "flex": null,
            "flex_flow": null,
            "grid_area": null,
            "grid_auto_columns": null,
            "grid_auto_flow": null,
            "grid_auto_rows": null,
            "grid_column": null,
            "grid_gap": null,
            "grid_row": null,
            "grid_template_areas": null,
            "grid_template_columns": null,
            "grid_template_rows": null,
            "height": null,
            "justify_content": null,
            "justify_items": null,
            "left": null,
            "margin": null,
            "max_height": null,
            "max_width": null,
            "min_height": null,
            "min_width": null,
            "object_fit": null,
            "object_position": null,
            "order": null,
            "overflow": null,
            "overflow_x": null,
            "overflow_y": null,
            "padding": null,
            "right": null,
            "top": null,
            "visibility": null,
            "width": null
          }
        },
        "34a7d1dff59340898000315b39203eff": {
          "model_module": "@jupyter-widgets/base",
          "model_module_version": "1.2.0",
          "model_name": "LayoutModel",
          "state": {
            "_model_module": "@jupyter-widgets/base",
            "_model_module_version": "1.2.0",
            "_model_name": "LayoutModel",
            "_view_count": null,
            "_view_module": "@jupyter-widgets/base",
            "_view_module_version": "1.2.0",
            "_view_name": "LayoutView",
            "align_content": null,
            "align_items": null,
            "align_self": null,
            "border": null,
            "bottom": null,
            "display": null,
            "flex": null,
            "flex_flow": null,
            "grid_area": null,
            "grid_auto_columns": null,
            "grid_auto_flow": null,
            "grid_auto_rows": null,
            "grid_column": null,
            "grid_gap": null,
            "grid_row": null,
            "grid_template_areas": null,
            "grid_template_columns": null,
            "grid_template_rows": null,
            "height": null,
            "justify_content": null,
            "justify_items": null,
            "left": null,
            "margin": null,
            "max_height": null,
            "max_width": null,
            "min_height": null,
            "min_width": null,
            "object_fit": null,
            "object_position": null,
            "order": null,
            "overflow": null,
            "overflow_x": null,
            "overflow_y": null,
            "padding": null,
            "right": null,
            "top": null,
            "visibility": null,
            "width": null
          }
        },
        "3b4d18bbe60243be98ff050f58665f8c": {
          "model_module": "@jupyter-widgets/base",
          "model_module_version": "1.2.0",
          "model_name": "LayoutModel",
          "state": {
            "_model_module": "@jupyter-widgets/base",
            "_model_module_version": "1.2.0",
            "_model_name": "LayoutModel",
            "_view_count": null,
            "_view_module": "@jupyter-widgets/base",
            "_view_module_version": "1.2.0",
            "_view_name": "LayoutView",
            "align_content": null,
            "align_items": null,
            "align_self": null,
            "border": null,
            "bottom": null,
            "display": null,
            "flex": null,
            "flex_flow": null,
            "grid_area": null,
            "grid_auto_columns": null,
            "grid_auto_flow": null,
            "grid_auto_rows": null,
            "grid_column": null,
            "grid_gap": null,
            "grid_row": null,
            "grid_template_areas": null,
            "grid_template_columns": null,
            "grid_template_rows": null,
            "height": null,
            "justify_content": null,
            "justify_items": null,
            "left": null,
            "margin": null,
            "max_height": null,
            "max_width": null,
            "min_height": null,
            "min_width": null,
            "object_fit": null,
            "object_position": null,
            "order": null,
            "overflow": null,
            "overflow_x": null,
            "overflow_y": null,
            "padding": null,
            "right": null,
            "top": null,
            "visibility": null,
            "width": null
          }
        },
        "3bdc5d4d79684c64aa7ec3cbe2d4721e": {
          "model_module": "@jupyter-widgets/base",
          "model_module_version": "1.2.0",
          "model_name": "LayoutModel",
          "state": {
            "_model_module": "@jupyter-widgets/base",
            "_model_module_version": "1.2.0",
            "_model_name": "LayoutModel",
            "_view_count": null,
            "_view_module": "@jupyter-widgets/base",
            "_view_module_version": "1.2.0",
            "_view_name": "LayoutView",
            "align_content": null,
            "align_items": null,
            "align_self": null,
            "border": null,
            "bottom": null,
            "display": null,
            "flex": null,
            "flex_flow": null,
            "grid_area": null,
            "grid_auto_columns": null,
            "grid_auto_flow": null,
            "grid_auto_rows": null,
            "grid_column": null,
            "grid_gap": null,
            "grid_row": null,
            "grid_template_areas": null,
            "grid_template_columns": null,
            "grid_template_rows": null,
            "height": null,
            "justify_content": null,
            "justify_items": null,
            "left": null,
            "margin": null,
            "max_height": null,
            "max_width": null,
            "min_height": null,
            "min_width": null,
            "object_fit": null,
            "object_position": null,
            "order": null,
            "overflow": null,
            "overflow_x": null,
            "overflow_y": null,
            "padding": null,
            "right": null,
            "top": null,
            "visibility": null,
            "width": null
          }
        },
        "3e5a7eb2d4334c4187702297d7d342f3": {
          "model_module": "@jupyter-widgets/controls",
          "model_module_version": "1.5.0",
          "model_name": "HBoxModel",
          "state": {
            "_dom_classes": [],
            "_model_module": "@jupyter-widgets/controls",
            "_model_module_version": "1.5.0",
            "_model_name": "HBoxModel",
            "_view_count": null,
            "_view_module": "@jupyter-widgets/controls",
            "_view_module_version": "1.5.0",
            "_view_name": "HBoxView",
            "box_style": "",
            "children": [
              "IPY_MODEL_7355f0853b9c4430b1fca23d6f47dd0b",
              "IPY_MODEL_068cc5ac19c54036bb226a13cca8b893",
              "IPY_MODEL_50d3ee38e1b6443a8672d508426236b4"
            ],
            "layout": "IPY_MODEL_b3a0773988e64ecd8948348634b490a2"
          }
        },
        "43668c46de09460aacd21d27971b7990": {
          "model_module": "@jupyter-widgets/controls",
          "model_module_version": "1.5.0",
          "model_name": "ProgressStyleModel",
          "state": {
            "_model_module": "@jupyter-widgets/controls",
            "_model_module_version": "1.5.0",
            "_model_name": "ProgressStyleModel",
            "_view_count": null,
            "_view_module": "@jupyter-widgets/base",
            "_view_module_version": "1.2.0",
            "_view_name": "StyleView",
            "bar_color": null,
            "description_width": ""
          }
        },
        "439e36c03f36429fa43cc4a6f7acb089": {
          "model_module": "@jupyter-widgets/base",
          "model_module_version": "1.2.0",
          "model_name": "LayoutModel",
          "state": {
            "_model_module": "@jupyter-widgets/base",
            "_model_module_version": "1.2.0",
            "_model_name": "LayoutModel",
            "_view_count": null,
            "_view_module": "@jupyter-widgets/base",
            "_view_module_version": "1.2.0",
            "_view_name": "LayoutView",
            "align_content": null,
            "align_items": null,
            "align_self": null,
            "border": null,
            "bottom": null,
            "display": null,
            "flex": null,
            "flex_flow": null,
            "grid_area": null,
            "grid_auto_columns": null,
            "grid_auto_flow": null,
            "grid_auto_rows": null,
            "grid_column": null,
            "grid_gap": null,
            "grid_row": null,
            "grid_template_areas": null,
            "grid_template_columns": null,
            "grid_template_rows": null,
            "height": null,
            "justify_content": null,
            "justify_items": null,
            "left": null,
            "margin": null,
            "max_height": null,
            "max_width": null,
            "min_height": null,
            "min_width": null,
            "object_fit": null,
            "object_position": null,
            "order": null,
            "overflow": null,
            "overflow_x": null,
            "overflow_y": null,
            "padding": null,
            "right": null,
            "top": null,
            "visibility": null,
            "width": null
          }
        },
        "4562b2275e9e40b982eb7c9b06f96ade": {
          "model_module": "@jupyter-widgets/base",
          "model_module_version": "1.2.0",
          "model_name": "LayoutModel",
          "state": {
            "_model_module": "@jupyter-widgets/base",
            "_model_module_version": "1.2.0",
            "_model_name": "LayoutModel",
            "_view_count": null,
            "_view_module": "@jupyter-widgets/base",
            "_view_module_version": "1.2.0",
            "_view_name": "LayoutView",
            "align_content": null,
            "align_items": null,
            "align_self": null,
            "border": null,
            "bottom": null,
            "display": null,
            "flex": null,
            "flex_flow": null,
            "grid_area": null,
            "grid_auto_columns": null,
            "grid_auto_flow": null,
            "grid_auto_rows": null,
            "grid_column": null,
            "grid_gap": null,
            "grid_row": null,
            "grid_template_areas": null,
            "grid_template_columns": null,
            "grid_template_rows": null,
            "height": null,
            "justify_content": null,
            "justify_items": null,
            "left": null,
            "margin": null,
            "max_height": null,
            "max_width": null,
            "min_height": null,
            "min_width": null,
            "object_fit": null,
            "object_position": null,
            "order": null,
            "overflow": null,
            "overflow_x": null,
            "overflow_y": null,
            "padding": null,
            "right": null,
            "top": null,
            "visibility": null,
            "width": null
          }
        },
        "4816cad5f57d4b7380d2f04c8306686f": {
          "model_module": "@jupyter-widgets/base",
          "model_module_version": "1.2.0",
          "model_name": "LayoutModel",
          "state": {
            "_model_module": "@jupyter-widgets/base",
            "_model_module_version": "1.2.0",
            "_model_name": "LayoutModel",
            "_view_count": null,
            "_view_module": "@jupyter-widgets/base",
            "_view_module_version": "1.2.0",
            "_view_name": "LayoutView",
            "align_content": null,
            "align_items": null,
            "align_self": null,
            "border": null,
            "bottom": null,
            "display": null,
            "flex": null,
            "flex_flow": null,
            "grid_area": null,
            "grid_auto_columns": null,
            "grid_auto_flow": null,
            "grid_auto_rows": null,
            "grid_column": null,
            "grid_gap": null,
            "grid_row": null,
            "grid_template_areas": null,
            "grid_template_columns": null,
            "grid_template_rows": null,
            "height": null,
            "justify_content": null,
            "justify_items": null,
            "left": null,
            "margin": null,
            "max_height": null,
            "max_width": null,
            "min_height": null,
            "min_width": null,
            "object_fit": null,
            "object_position": null,
            "order": null,
            "overflow": null,
            "overflow_x": null,
            "overflow_y": null,
            "padding": null,
            "right": null,
            "top": null,
            "visibility": null,
            "width": null
          }
        },
        "48534c40953e4ba7a8e2d97d1511531c": {
          "model_module": "@jupyter-widgets/base",
          "model_module_version": "1.2.0",
          "model_name": "LayoutModel",
          "state": {
            "_model_module": "@jupyter-widgets/base",
            "_model_module_version": "1.2.0",
            "_model_name": "LayoutModel",
            "_view_count": null,
            "_view_module": "@jupyter-widgets/base",
            "_view_module_version": "1.2.0",
            "_view_name": "LayoutView",
            "align_content": null,
            "align_items": null,
            "align_self": null,
            "border": null,
            "bottom": null,
            "display": null,
            "flex": null,
            "flex_flow": null,
            "grid_area": null,
            "grid_auto_columns": null,
            "grid_auto_flow": null,
            "grid_auto_rows": null,
            "grid_column": null,
            "grid_gap": null,
            "grid_row": null,
            "grid_template_areas": null,
            "grid_template_columns": null,
            "grid_template_rows": null,
            "height": null,
            "justify_content": null,
            "justify_items": null,
            "left": null,
            "margin": null,
            "max_height": null,
            "max_width": null,
            "min_height": null,
            "min_width": null,
            "object_fit": null,
            "object_position": null,
            "order": null,
            "overflow": null,
            "overflow_x": null,
            "overflow_y": null,
            "padding": null,
            "right": null,
            "top": null,
            "visibility": null,
            "width": null
          }
        },
        "4f00f0a04f2e4fe78b0f33dade8c67e5": {
          "model_module": "@jupyter-widgets/controls",
          "model_module_version": "1.5.0",
          "model_name": "HTMLModel",
          "state": {
            "_dom_classes": [],
            "_model_module": "@jupyter-widgets/controls",
            "_model_module_version": "1.5.0",
            "_model_name": "HTMLModel",
            "_view_count": null,
            "_view_module": "@jupyter-widgets/controls",
            "_view_module_version": "1.5.0",
            "_view_name": "HTMLView",
            "description": "",
            "description_tooltip": null,
            "layout": "IPY_MODEL_4816cad5f57d4b7380d2f04c8306686f",
            "placeholder": "​",
            "style": "IPY_MODEL_5a0cf9fb67bd4e8eab09b4c931a69b6e",
            "value": " 3/3 [00:00&lt;00:00, 51.25it/s]"
          }
        },
        "4f628ee3c1b948488dfad055406efad1": {
          "model_module": "@jupyter-widgets/controls",
          "model_module_version": "1.5.0",
          "model_name": "DescriptionStyleModel",
          "state": {
            "_model_module": "@jupyter-widgets/controls",
            "_model_module_version": "1.5.0",
            "_model_name": "DescriptionStyleModel",
            "_view_count": null,
            "_view_module": "@jupyter-widgets/base",
            "_view_module_version": "1.2.0",
            "_view_name": "StyleView",
            "description_width": ""
          }
        },
        "4fae707a218c46378faf33afb851e82c": {
          "model_module": "@jupyter-widgets/controls",
          "model_module_version": "1.5.0",
          "model_name": "ProgressStyleModel",
          "state": {
            "_model_module": "@jupyter-widgets/controls",
            "_model_module_version": "1.5.0",
            "_model_name": "ProgressStyleModel",
            "_view_count": null,
            "_view_module": "@jupyter-widgets/base",
            "_view_module_version": "1.2.0",
            "_view_name": "StyleView",
            "bar_color": null,
            "description_width": ""
          }
        },
        "50c83bf089e64337a8d7000e24530711": {
          "model_module": "@jupyter-widgets/controls",
          "model_module_version": "1.5.0",
          "model_name": "HBoxModel",
          "state": {
            "_dom_classes": [],
            "_model_module": "@jupyter-widgets/controls",
            "_model_module_version": "1.5.0",
            "_model_name": "HBoxModel",
            "_view_count": null,
            "_view_module": "@jupyter-widgets/controls",
            "_view_module_version": "1.5.0",
            "_view_name": "HBoxView",
            "box_style": "",
            "children": [
              "IPY_MODEL_b2fa2aea842e495e95ee3b9dd2a62a5f",
              "IPY_MODEL_b6f39edba69244d8ba6fdc92654c626a",
              "IPY_MODEL_59ee079bddc04a02921c51f920925be7"
            ],
            "layout": "IPY_MODEL_fe77ba49f16a431992da73ff6da1fa4e"
          }
        },
        "50d3ee38e1b6443a8672d508426236b4": {
          "model_module": "@jupyter-widgets/controls",
          "model_module_version": "1.5.0",
          "model_name": "HTMLModel",
          "state": {
            "_dom_classes": [],
            "_model_module": "@jupyter-widgets/controls",
            "_model_module_version": "1.5.0",
            "_model_name": "HTMLModel",
            "_view_count": null,
            "_view_module": "@jupyter-widgets/controls",
            "_view_module_version": "1.5.0",
            "_view_name": "HTMLView",
            "description": "",
            "description_tooltip": null,
            "layout": "IPY_MODEL_0d2fd85d64874a6ea3a59e38bf4d9c40",
            "placeholder": "​",
            "style": "IPY_MODEL_8df470f6b1ef45848d8696b5c2b6418c",
            "value": " 3/3 [17:06&lt;00:00, 342.04s/it]"
          }
        },
        "5299231a22e64a49a2d91c8246ea54bc": {
          "model_module": "@jupyter-widgets/base",
          "model_module_version": "1.2.0",
          "model_name": "LayoutModel",
          "state": {
            "_model_module": "@jupyter-widgets/base",
            "_model_module_version": "1.2.0",
            "_model_name": "LayoutModel",
            "_view_count": null,
            "_view_module": "@jupyter-widgets/base",
            "_view_module_version": "1.2.0",
            "_view_name": "LayoutView",
            "align_content": null,
            "align_items": null,
            "align_self": null,
            "border": null,
            "bottom": null,
            "display": null,
            "flex": null,
            "flex_flow": null,
            "grid_area": null,
            "grid_auto_columns": null,
            "grid_auto_flow": null,
            "grid_auto_rows": null,
            "grid_column": null,
            "grid_gap": null,
            "grid_row": null,
            "grid_template_areas": null,
            "grid_template_columns": null,
            "grid_template_rows": null,
            "height": null,
            "justify_content": null,
            "justify_items": null,
            "left": null,
            "margin": null,
            "max_height": null,
            "max_width": null,
            "min_height": null,
            "min_width": null,
            "object_fit": null,
            "object_position": null,
            "order": null,
            "overflow": null,
            "overflow_x": null,
            "overflow_y": null,
            "padding": null,
            "right": null,
            "top": null,
            "visibility": null,
            "width": null
          }
        },
        "547525834140440aaaf4c537d4b32c88": {
          "model_module": "@jupyter-widgets/base",
          "model_module_version": "1.2.0",
          "model_name": "LayoutModel",
          "state": {
            "_model_module": "@jupyter-widgets/base",
            "_model_module_version": "1.2.0",
            "_model_name": "LayoutModel",
            "_view_count": null,
            "_view_module": "@jupyter-widgets/base",
            "_view_module_version": "1.2.0",
            "_view_name": "LayoutView",
            "align_content": null,
            "align_items": null,
            "align_self": null,
            "border": null,
            "bottom": null,
            "display": null,
            "flex": null,
            "flex_flow": null,
            "grid_area": null,
            "grid_auto_columns": null,
            "grid_auto_flow": null,
            "grid_auto_rows": null,
            "grid_column": null,
            "grid_gap": null,
            "grid_row": null,
            "grid_template_areas": null,
            "grid_template_columns": null,
            "grid_template_rows": null,
            "height": null,
            "justify_content": null,
            "justify_items": null,
            "left": null,
            "margin": null,
            "max_height": null,
            "max_width": null,
            "min_height": null,
            "min_width": null,
            "object_fit": null,
            "object_position": null,
            "order": null,
            "overflow": null,
            "overflow_x": null,
            "overflow_y": null,
            "padding": null,
            "right": null,
            "top": null,
            "visibility": null,
            "width": null
          }
        },
        "5571d010848845d6b2c2259156c8aab7": {
          "model_module": "@jupyter-widgets/base",
          "model_module_version": "1.2.0",
          "model_name": "LayoutModel",
          "state": {
            "_model_module": "@jupyter-widgets/base",
            "_model_module_version": "1.2.0",
            "_model_name": "LayoutModel",
            "_view_count": null,
            "_view_module": "@jupyter-widgets/base",
            "_view_module_version": "1.2.0",
            "_view_name": "LayoutView",
            "align_content": null,
            "align_items": null,
            "align_self": null,
            "border": null,
            "bottom": null,
            "display": null,
            "flex": null,
            "flex_flow": null,
            "grid_area": null,
            "grid_auto_columns": null,
            "grid_auto_flow": null,
            "grid_auto_rows": null,
            "grid_column": null,
            "grid_gap": null,
            "grid_row": null,
            "grid_template_areas": null,
            "grid_template_columns": null,
            "grid_template_rows": null,
            "height": null,
            "justify_content": null,
            "justify_items": null,
            "left": null,
            "margin": null,
            "max_height": null,
            "max_width": null,
            "min_height": null,
            "min_width": null,
            "object_fit": null,
            "object_position": null,
            "order": null,
            "overflow": null,
            "overflow_x": null,
            "overflow_y": null,
            "padding": null,
            "right": null,
            "top": null,
            "visibility": null,
            "width": null
          }
        },
        "59ee079bddc04a02921c51f920925be7": {
          "model_module": "@jupyter-widgets/controls",
          "model_module_version": "1.5.0",
          "model_name": "HTMLModel",
          "state": {
            "_dom_classes": [],
            "_model_module": "@jupyter-widgets/controls",
            "_model_module_version": "1.5.0",
            "_model_name": "HTMLModel",
            "_view_count": null,
            "_view_module": "@jupyter-widgets/controls",
            "_view_module_version": "1.5.0",
            "_view_name": "HTMLView",
            "description": "",
            "description_tooltip": null,
            "layout": "IPY_MODEL_cde246bf60cc426da90a68fcccad81d0",
            "placeholder": "​",
            "style": "IPY_MODEL_6d3171f1056f4dca95634e832aec992b",
            "value": " 0/3 [00:00&lt;?, ?it/s]"
          }
        },
        "5a0cf9fb67bd4e8eab09b4c931a69b6e": {
          "model_module": "@jupyter-widgets/controls",
          "model_module_version": "1.5.0",
          "model_name": "DescriptionStyleModel",
          "state": {
            "_model_module": "@jupyter-widgets/controls",
            "_model_module_version": "1.5.0",
            "_model_name": "DescriptionStyleModel",
            "_view_count": null,
            "_view_module": "@jupyter-widgets/base",
            "_view_module_version": "1.2.0",
            "_view_name": "StyleView",
            "description_width": ""
          }
        },
        "5a934c1fdd2f4cc9b2254565d2495b2f": {
          "model_module": "@jupyter-widgets/base",
          "model_module_version": "1.2.0",
          "model_name": "LayoutModel",
          "state": {
            "_model_module": "@jupyter-widgets/base",
            "_model_module_version": "1.2.0",
            "_model_name": "LayoutModel",
            "_view_count": null,
            "_view_module": "@jupyter-widgets/base",
            "_view_module_version": "1.2.0",
            "_view_name": "LayoutView",
            "align_content": null,
            "align_items": null,
            "align_self": null,
            "border": null,
            "bottom": null,
            "display": null,
            "flex": null,
            "flex_flow": null,
            "grid_area": null,
            "grid_auto_columns": null,
            "grid_auto_flow": null,
            "grid_auto_rows": null,
            "grid_column": null,
            "grid_gap": null,
            "grid_row": null,
            "grid_template_areas": null,
            "grid_template_columns": null,
            "grid_template_rows": null,
            "height": null,
            "justify_content": null,
            "justify_items": null,
            "left": null,
            "margin": null,
            "max_height": null,
            "max_width": null,
            "min_height": null,
            "min_width": null,
            "object_fit": null,
            "object_position": null,
            "order": null,
            "overflow": null,
            "overflow_x": null,
            "overflow_y": null,
            "padding": null,
            "right": null,
            "top": null,
            "visibility": null,
            "width": null
          }
        },
        "5cee1d30cb654da2b394e8323bfca2b3": {
          "model_module": "@jupyter-widgets/controls",
          "model_module_version": "1.5.0",
          "model_name": "HBoxModel",
          "state": {
            "_dom_classes": [],
            "_model_module": "@jupyter-widgets/controls",
            "_model_module_version": "1.5.0",
            "_model_name": "HBoxModel",
            "_view_count": null,
            "_view_module": "@jupyter-widgets/controls",
            "_view_module_version": "1.5.0",
            "_view_name": "HBoxView",
            "box_style": "",
            "children": [
              "IPY_MODEL_11b3dd4239be4d4da3cf55344981dac7",
              "IPY_MODEL_ca1b43fba2f74246bbec44525d611d1d",
              "IPY_MODEL_b1fd66e94b5045eea9022002933477da"
            ],
            "layout": "IPY_MODEL_e311cd5f17324d4db73798645dae3610"
          }
        },
        "5efeacd22ea346b09309508f7df848af": {
          "model_module": "@jupyter-widgets/controls",
          "model_module_version": "1.5.0",
          "model_name": "ProgressStyleModel",
          "state": {
            "_model_module": "@jupyter-widgets/controls",
            "_model_module_version": "1.5.0",
            "_model_name": "ProgressStyleModel",
            "_view_count": null,
            "_view_module": "@jupyter-widgets/base",
            "_view_module_version": "1.2.0",
            "_view_name": "StyleView",
            "bar_color": null,
            "description_width": ""
          }
        },
        "60903f1528f240d38dba11faf332a4d5": {
          "model_module": "@jupyter-widgets/controls",
          "model_module_version": "1.5.0",
          "model_name": "HBoxModel",
          "state": {
            "_dom_classes": [],
            "_model_module": "@jupyter-widgets/controls",
            "_model_module_version": "1.5.0",
            "_model_name": "HBoxModel",
            "_view_count": null,
            "_view_module": "@jupyter-widgets/controls",
            "_view_module_version": "1.5.0",
            "_view_name": "HBoxView",
            "box_style": "",
            "children": [
              "IPY_MODEL_7304b20d24594ce4b7eac180ebbb7510",
              "IPY_MODEL_804b9a4f7af14686b28f841177eb3023",
              "IPY_MODEL_fb0a8d7360b842d080af3ddf5e8f0738"
            ],
            "layout": "IPY_MODEL_9480fc9bc14e42c389335a99060ccdd1"
          }
        },
        "61fd4fe93c6a4e168604e4748dbf81f9": {
          "model_module": "@jupyter-widgets/controls",
          "model_module_version": "1.5.0",
          "model_name": "HTMLModel",
          "state": {
            "_dom_classes": [],
            "_model_module": "@jupyter-widgets/controls",
            "_model_module_version": "1.5.0",
            "_model_name": "HTMLModel",
            "_view_count": null,
            "_view_module": "@jupyter-widgets/controls",
            "_view_module_version": "1.5.0",
            "_view_name": "HTMLView",
            "description": "",
            "description_tooltip": null,
            "layout": "IPY_MODEL_a2b3e2eaac2a430ea2bcac6eb15bea7c",
            "placeholder": "​",
            "style": "IPY_MODEL_14c10fc2ada746f7b2551583e636290b",
            "value": " 3/3 [00:00&lt;00:00, 47.25it/s]"
          }
        },
        "624d6fb375c146508f1e7c8a929fb08a": {
          "model_module": "@jupyter-widgets/controls",
          "model_module_version": "1.5.0",
          "model_name": "DescriptionStyleModel",
          "state": {
            "_model_module": "@jupyter-widgets/controls",
            "_model_module_version": "1.5.0",
            "_model_name": "DescriptionStyleModel",
            "_view_count": null,
            "_view_module": "@jupyter-widgets/base",
            "_view_module_version": "1.2.0",
            "_view_name": "StyleView",
            "description_width": ""
          }
        },
        "6282c17a64734edbb988b7b29f7d4ee1": {
          "model_module": "@jupyter-widgets/controls",
          "model_module_version": "1.5.0",
          "model_name": "DescriptionStyleModel",
          "state": {
            "_model_module": "@jupyter-widgets/controls",
            "_model_module_version": "1.5.0",
            "_model_name": "DescriptionStyleModel",
            "_view_count": null,
            "_view_module": "@jupyter-widgets/base",
            "_view_module_version": "1.2.0",
            "_view_name": "StyleView",
            "description_width": ""
          }
        },
        "634ff0cf576c40de878b10ec3ef8a8df": {
          "model_module": "@jupyter-widgets/controls",
          "model_module_version": "1.5.0",
          "model_name": "HTMLModel",
          "state": {
            "_dom_classes": [],
            "_model_module": "@jupyter-widgets/controls",
            "_model_module_version": "1.5.0",
            "_model_name": "HTMLModel",
            "_view_count": null,
            "_view_module": "@jupyter-widgets/controls",
            "_view_module_version": "1.5.0",
            "_view_name": "HTMLView",
            "description": "",
            "description_tooltip": null,
            "layout": "IPY_MODEL_439e36c03f36429fa43cc4a6f7acb089",
            "placeholder": "​",
            "style": "IPY_MODEL_4f628ee3c1b948488dfad055406efad1",
            "value": "Finding Elimination Order: : 100%"
          }
        },
        "6a967a2423584615a58d0e636853b77e": {
          "model_module": "@jupyter-widgets/controls",
          "model_module_version": "1.5.0",
          "model_name": "FloatProgressModel",
          "state": {
            "_dom_classes": [],
            "_model_module": "@jupyter-widgets/controls",
            "_model_module_version": "1.5.0",
            "_model_name": "FloatProgressModel",
            "_view_count": null,
            "_view_module": "@jupyter-widgets/controls",
            "_view_module_version": "1.5.0",
            "_view_name": "ProgressView",
            "bar_style": "success",
            "description": "",
            "description_tooltip": null,
            "layout": "IPY_MODEL_4562b2275e9e40b982eb7c9b06f96ade",
            "max": 3,
            "min": 0,
            "orientation": "horizontal",
            "style": "IPY_MODEL_9a772d7d0788444a9ec7243aa9349537",
            "value": 3
          }
        },
        "6c50253d36f44a70b6e82dfbb6beb69e": {
          "model_module": "@jupyter-widgets/controls",
          "model_module_version": "1.5.0",
          "model_name": "DescriptionStyleModel",
          "state": {
            "_model_module": "@jupyter-widgets/controls",
            "_model_module_version": "1.5.0",
            "_model_name": "DescriptionStyleModel",
            "_view_count": null,
            "_view_module": "@jupyter-widgets/base",
            "_view_module_version": "1.2.0",
            "_view_name": "StyleView",
            "description_width": ""
          }
        },
        "6d3171f1056f4dca95634e832aec992b": {
          "model_module": "@jupyter-widgets/controls",
          "model_module_version": "1.5.0",
          "model_name": "DescriptionStyleModel",
          "state": {
            "_model_module": "@jupyter-widgets/controls",
            "_model_module_version": "1.5.0",
            "_model_name": "DescriptionStyleModel",
            "_view_count": null,
            "_view_module": "@jupyter-widgets/base",
            "_view_module_version": "1.2.0",
            "_view_name": "StyleView",
            "description_width": ""
          }
        },
        "6f05023d250f4d159c3758c8d3fce27a": {
          "model_module": "@jupyter-widgets/base",
          "model_module_version": "1.2.0",
          "model_name": "LayoutModel",
          "state": {
            "_model_module": "@jupyter-widgets/base",
            "_model_module_version": "1.2.0",
            "_model_name": "LayoutModel",
            "_view_count": null,
            "_view_module": "@jupyter-widgets/base",
            "_view_module_version": "1.2.0",
            "_view_name": "LayoutView",
            "align_content": null,
            "align_items": null,
            "align_self": null,
            "border": null,
            "bottom": null,
            "display": null,
            "flex": null,
            "flex_flow": null,
            "grid_area": null,
            "grid_auto_columns": null,
            "grid_auto_flow": null,
            "grid_auto_rows": null,
            "grid_column": null,
            "grid_gap": null,
            "grid_row": null,
            "grid_template_areas": null,
            "grid_template_columns": null,
            "grid_template_rows": null,
            "height": null,
            "justify_content": null,
            "justify_items": null,
            "left": null,
            "margin": null,
            "max_height": null,
            "max_width": null,
            "min_height": null,
            "min_width": null,
            "object_fit": null,
            "object_position": null,
            "order": null,
            "overflow": null,
            "overflow_x": null,
            "overflow_y": null,
            "padding": null,
            "right": null,
            "top": null,
            "visibility": null,
            "width": null
          }
        },
        "7304b20d24594ce4b7eac180ebbb7510": {
          "model_module": "@jupyter-widgets/controls",
          "model_module_version": "1.5.0",
          "model_name": "HTMLModel",
          "state": {
            "_dom_classes": [],
            "_model_module": "@jupyter-widgets/controls",
            "_model_module_version": "1.5.0",
            "_model_name": "HTMLModel",
            "_view_count": null,
            "_view_module": "@jupyter-widgets/controls",
            "_view_module_version": "1.5.0",
            "_view_name": "HTMLView",
            "description": "",
            "description_tooltip": null,
            "layout": "IPY_MODEL_6f05023d250f4d159c3758c8d3fce27a",
            "placeholder": "​",
            "style": "IPY_MODEL_6c50253d36f44a70b6e82dfbb6beb69e",
            "value": "Finding Elimination Order: : 100%"
          }
        },
        "7355f0853b9c4430b1fca23d6f47dd0b": {
          "model_module": "@jupyter-widgets/controls",
          "model_module_version": "1.5.0",
          "model_name": "HTMLModel",
          "state": {
            "_dom_classes": [],
            "_model_module": "@jupyter-widgets/controls",
            "_model_module_version": "1.5.0",
            "_model_name": "HTMLModel",
            "_view_count": null,
            "_view_module": "@jupyter-widgets/controls",
            "_view_module_version": "1.5.0",
            "_view_name": "HTMLView",
            "description": "",
            "description_tooltip": null,
            "layout": "IPY_MODEL_f0884093a2d64d46a47a37041d02e52b",
            "placeholder": "​",
            "style": "IPY_MODEL_db0360544bd44b08a63cc2b61f31046d",
            "value": "Finding Elimination Order: : 100%"
          }
        },
        "73ebcaf3217c4734a44171bd540afb96": {
          "model_module": "@jupyter-widgets/controls",
          "model_module_version": "1.5.0",
          "model_name": "FloatProgressModel",
          "state": {
            "_dom_classes": [],
            "_model_module": "@jupyter-widgets/controls",
            "_model_module_version": "1.5.0",
            "_model_name": "FloatProgressModel",
            "_view_count": null,
            "_view_module": "@jupyter-widgets/controls",
            "_view_module_version": "1.5.0",
            "_view_name": "ProgressView",
            "bar_style": "success",
            "description": "",
            "description_tooltip": null,
            "layout": "IPY_MODEL_e9f59c103695420ea938e3b2c787d43b",
            "max": 3,
            "min": 0,
            "orientation": "horizontal",
            "style": "IPY_MODEL_7556b88c811c4c45b7fa9fae80a0f959",
            "value": 3
          }
        },
        "7410f582fc964f9fa6fb7104559a72bc": {
          "model_module": "@jupyter-widgets/controls",
          "model_module_version": "1.5.0",
          "model_name": "HTMLModel",
          "state": {
            "_dom_classes": [],
            "_model_module": "@jupyter-widgets/controls",
            "_model_module_version": "1.5.0",
            "_model_name": "HTMLModel",
            "_view_count": null,
            "_view_module": "@jupyter-widgets/controls",
            "_view_module_version": "1.5.0",
            "_view_name": "HTMLView",
            "description": "",
            "description_tooltip": null,
            "layout": "IPY_MODEL_db244e31369a49dda502c8a03438ebe5",
            "placeholder": "​",
            "style": "IPY_MODEL_e2328a75e3c44ca1bb1372d26f7a92bd",
            "value": "Eliminating: bias: 100%"
          }
        },
        "751d610f4ace465f998e603ebd9f6f94": {
          "model_module": "@jupyter-widgets/controls",
          "model_module_version": "1.5.0",
          "model_name": "ProgressStyleModel",
          "state": {
            "_model_module": "@jupyter-widgets/controls",
            "_model_module_version": "1.5.0",
            "_model_name": "ProgressStyleModel",
            "_view_count": null,
            "_view_module": "@jupyter-widgets/base",
            "_view_module_version": "1.2.0",
            "_view_name": "StyleView",
            "bar_color": null,
            "description_width": ""
          }
        },
        "7556b88c811c4c45b7fa9fae80a0f959": {
          "model_module": "@jupyter-widgets/controls",
          "model_module_version": "1.5.0",
          "model_name": "ProgressStyleModel",
          "state": {
            "_model_module": "@jupyter-widgets/controls",
            "_model_module_version": "1.5.0",
            "_model_name": "ProgressStyleModel",
            "_view_count": null,
            "_view_module": "@jupyter-widgets/base",
            "_view_module_version": "1.2.0",
            "_view_name": "StyleView",
            "bar_color": null,
            "description_width": ""
          }
        },
        "76a24818faa64789877781cc495b7252": {
          "model_module": "@jupyter-widgets/controls",
          "model_module_version": "1.5.0",
          "model_name": "FloatProgressModel",
          "state": {
            "_dom_classes": [],
            "_model_module": "@jupyter-widgets/controls",
            "_model_module_version": "1.5.0",
            "_model_name": "FloatProgressModel",
            "_view_count": null,
            "_view_module": "@jupyter-widgets/controls",
            "_view_module_version": "1.5.0",
            "_view_name": "ProgressView",
            "bar_style": "success",
            "description": "",
            "description_tooltip": null,
            "layout": "IPY_MODEL_b46d63309bc44eacb7fbf4fe2341afb5",
            "max": 3,
            "min": 0,
            "orientation": "horizontal",
            "style": "IPY_MODEL_5efeacd22ea346b09309508f7df848af",
            "value": 3
          }
        },
        "7c898fedb0be41a3aa1e98198d9618e6": {
          "model_module": "@jupyter-widgets/controls",
          "model_module_version": "1.5.0",
          "model_name": "HTMLModel",
          "state": {
            "_dom_classes": [],
            "_model_module": "@jupyter-widgets/controls",
            "_model_module_version": "1.5.0",
            "_model_name": "HTMLModel",
            "_view_count": null,
            "_view_module": "@jupyter-widgets/controls",
            "_view_module_version": "1.5.0",
            "_view_name": "HTMLView",
            "description": "",
            "description_tooltip": null,
            "layout": "IPY_MODEL_bd35be307e4b4710a6e937b470f334f7",
            "placeholder": "​",
            "style": "IPY_MODEL_06ff4312ee52489baef7e4b254838b1f",
            "value": " 3/3 [00:00&lt;00:00, 33.51it/s]"
          }
        },
        "804b9a4f7af14686b28f841177eb3023": {
          "model_module": "@jupyter-widgets/controls",
          "model_module_version": "1.5.0",
          "model_name": "FloatProgressModel",
          "state": {
            "_dom_classes": [],
            "_model_module": "@jupyter-widgets/controls",
            "_model_module_version": "1.5.0",
            "_model_name": "FloatProgressModel",
            "_view_count": null,
            "_view_module": "@jupyter-widgets/controls",
            "_view_module_version": "1.5.0",
            "_view_name": "ProgressView",
            "bar_style": "success",
            "description": "",
            "description_tooltip": null,
            "layout": "IPY_MODEL_bef960dd3ce14210a2c4d4909e4de30a",
            "max": 3,
            "min": 0,
            "orientation": "horizontal",
            "style": "IPY_MODEL_d41489ab40d44ee8a30d9030b7415901",
            "value": 3
          }
        },
        "813c4dd3e78c4779bbe40e545d507d45": {
          "model_module": "@jupyter-widgets/base",
          "model_module_version": "1.2.0",
          "model_name": "LayoutModel",
          "state": {
            "_model_module": "@jupyter-widgets/base",
            "_model_module_version": "1.2.0",
            "_model_name": "LayoutModel",
            "_view_count": null,
            "_view_module": "@jupyter-widgets/base",
            "_view_module_version": "1.2.0",
            "_view_name": "LayoutView",
            "align_content": null,
            "align_items": null,
            "align_self": null,
            "border": null,
            "bottom": null,
            "display": null,
            "flex": null,
            "flex_flow": null,
            "grid_area": null,
            "grid_auto_columns": null,
            "grid_auto_flow": null,
            "grid_auto_rows": null,
            "grid_column": null,
            "grid_gap": null,
            "grid_row": null,
            "grid_template_areas": null,
            "grid_template_columns": null,
            "grid_template_rows": null,
            "height": null,
            "justify_content": null,
            "justify_items": null,
            "left": null,
            "margin": null,
            "max_height": null,
            "max_width": null,
            "min_height": null,
            "min_width": null,
            "object_fit": null,
            "object_position": null,
            "order": null,
            "overflow": null,
            "overflow_x": null,
            "overflow_y": null,
            "padding": null,
            "right": null,
            "top": null,
            "visibility": null,
            "width": null
          }
        },
        "82c547de952148349f9e9bce04470e11": {
          "model_module": "@jupyter-widgets/controls",
          "model_module_version": "1.5.0",
          "model_name": "HBoxModel",
          "state": {
            "_dom_classes": [],
            "_model_module": "@jupyter-widgets/controls",
            "_model_module_version": "1.5.0",
            "_model_name": "HBoxModel",
            "_view_count": null,
            "_view_module": "@jupyter-widgets/controls",
            "_view_module_version": "1.5.0",
            "_view_name": "HBoxView",
            "box_style": "",
            "children": [
              "IPY_MODEL_171e56aae0804a69845bc905f7f3cea3",
              "IPY_MODEL_f1c05e18264545408f215141f16d10fc",
              "IPY_MODEL_cdac0d740e9c4aa4a36fc5b984beb2df"
            ],
            "layout": "IPY_MODEL_2f729a4ba28b4831ad3c92c8fdc50aaa"
          }
        },
        "83fa677cd97c423d9a9d76bf598b2551": {
          "model_module": "@jupyter-widgets/base",
          "model_module_version": "1.2.0",
          "model_name": "LayoutModel",
          "state": {
            "_model_module": "@jupyter-widgets/base",
            "_model_module_version": "1.2.0",
            "_model_name": "LayoutModel",
            "_view_count": null,
            "_view_module": "@jupyter-widgets/base",
            "_view_module_version": "1.2.0",
            "_view_name": "LayoutView",
            "align_content": null,
            "align_items": null,
            "align_self": null,
            "border": null,
            "bottom": null,
            "display": null,
            "flex": null,
            "flex_flow": null,
            "grid_area": null,
            "grid_auto_columns": null,
            "grid_auto_flow": null,
            "grid_auto_rows": null,
            "grid_column": null,
            "grid_gap": null,
            "grid_row": null,
            "grid_template_areas": null,
            "grid_template_columns": null,
            "grid_template_rows": null,
            "height": null,
            "justify_content": null,
            "justify_items": null,
            "left": null,
            "margin": null,
            "max_height": null,
            "max_width": null,
            "min_height": null,
            "min_width": null,
            "object_fit": null,
            "object_position": null,
            "order": null,
            "overflow": null,
            "overflow_x": null,
            "overflow_y": null,
            "padding": null,
            "right": null,
            "top": null,
            "visibility": null,
            "width": null
          }
        },
        "84f07e9320cb4941bd67731f3ac89854": {
          "model_module": "@jupyter-widgets/base",
          "model_module_version": "1.2.0",
          "model_name": "LayoutModel",
          "state": {
            "_model_module": "@jupyter-widgets/base",
            "_model_module_version": "1.2.0",
            "_model_name": "LayoutModel",
            "_view_count": null,
            "_view_module": "@jupyter-widgets/base",
            "_view_module_version": "1.2.0",
            "_view_name": "LayoutView",
            "align_content": null,
            "align_items": null,
            "align_self": null,
            "border": null,
            "bottom": null,
            "display": null,
            "flex": null,
            "flex_flow": null,
            "grid_area": null,
            "grid_auto_columns": null,
            "grid_auto_flow": null,
            "grid_auto_rows": null,
            "grid_column": null,
            "grid_gap": null,
            "grid_row": null,
            "grid_template_areas": null,
            "grid_template_columns": null,
            "grid_template_rows": null,
            "height": null,
            "justify_content": null,
            "justify_items": null,
            "left": null,
            "margin": null,
            "max_height": null,
            "max_width": null,
            "min_height": null,
            "min_width": null,
            "object_fit": null,
            "object_position": null,
            "order": null,
            "overflow": null,
            "overflow_x": null,
            "overflow_y": null,
            "padding": null,
            "right": null,
            "top": null,
            "visibility": null,
            "width": null
          }
        },
        "8df470f6b1ef45848d8696b5c2b6418c": {
          "model_module": "@jupyter-widgets/controls",
          "model_module_version": "1.5.0",
          "model_name": "DescriptionStyleModel",
          "state": {
            "_model_module": "@jupyter-widgets/controls",
            "_model_module_version": "1.5.0",
            "_model_name": "DescriptionStyleModel",
            "_view_count": null,
            "_view_module": "@jupyter-widgets/base",
            "_view_module_version": "1.2.0",
            "_view_name": "StyleView",
            "description_width": ""
          }
        },
        "8e518b81671d446c9b96c5b3cf6dbd79": {
          "model_module": "@jupyter-widgets/controls",
          "model_module_version": "1.5.0",
          "model_name": "HBoxModel",
          "state": {
            "_dom_classes": [],
            "_model_module": "@jupyter-widgets/controls",
            "_model_module_version": "1.5.0",
            "_model_name": "HBoxModel",
            "_view_count": null,
            "_view_module": "@jupyter-widgets/controls",
            "_view_module_version": "1.5.0",
            "_view_name": "HBoxView",
            "box_style": "",
            "children": [
              "IPY_MODEL_fb4279f8cae34d5db8d00e00df1d503a",
              "IPY_MODEL_93f61cb8af744c3aa2e731e5a2e8d144",
              "IPY_MODEL_4f00f0a04f2e4fe78b0f33dade8c67e5"
            ],
            "layout": "IPY_MODEL_264e7d9375fd45648bf13632caa9fec6"
          }
        },
        "8e951862e64c48ae8fe7a0db55f835c3": {
          "model_module": "@jupyter-widgets/controls",
          "model_module_version": "1.5.0",
          "model_name": "HTMLModel",
          "state": {
            "_dom_classes": [],
            "_model_module": "@jupyter-widgets/controls",
            "_model_module_version": "1.5.0",
            "_model_name": "HTMLModel",
            "_view_count": null,
            "_view_module": "@jupyter-widgets/controls",
            "_view_module_version": "1.5.0",
            "_view_name": "HTMLView",
            "description": "",
            "description_tooltip": null,
            "layout": "IPY_MODEL_d7c00ce9643d425b96ff8dd882dd0097",
            "placeholder": "​",
            "style": "IPY_MODEL_0a51e4a5df3842179e074e9b97fa4ed0",
            "value": "Eliminating: box-B: 100%"
          }
        },
        "9095c3f36f8a4795b5af8c4babdda7ed": {
          "model_module": "@jupyter-widgets/controls",
          "model_module_version": "1.5.0",
          "model_name": "FloatProgressModel",
          "state": {
            "_dom_classes": [],
            "_model_module": "@jupyter-widgets/controls",
            "_model_module_version": "1.5.0",
            "_model_name": "FloatProgressModel",
            "_view_count": null,
            "_view_module": "@jupyter-widgets/controls",
            "_view_module_version": "1.5.0",
            "_view_name": "ProgressView",
            "bar_style": "success",
            "description": "",
            "description_tooltip": null,
            "layout": "IPY_MODEL_48534c40953e4ba7a8e2d97d1511531c",
            "max": 3,
            "min": 0,
            "orientation": "horizontal",
            "style": "IPY_MODEL_43668c46de09460aacd21d27971b7990",
            "value": 3
          }
        },
        "91b08ed3099e48e594f4fe4662d8e253": {
          "model_module": "@jupyter-widgets/controls",
          "model_module_version": "1.5.0",
          "model_name": "DescriptionStyleModel",
          "state": {
            "_model_module": "@jupyter-widgets/controls",
            "_model_module_version": "1.5.0",
            "_model_name": "DescriptionStyleModel",
            "_view_count": null,
            "_view_module": "@jupyter-widgets/base",
            "_view_module_version": "1.2.0",
            "_view_name": "StyleView",
            "description_width": ""
          }
        },
        "920196a5b81f423382cf50be16663955": {
          "model_module": "@jupyter-widgets/controls",
          "model_module_version": "1.5.0",
          "model_name": "HTMLModel",
          "state": {
            "_dom_classes": [],
            "_model_module": "@jupyter-widgets/controls",
            "_model_module_version": "1.5.0",
            "_model_name": "HTMLModel",
            "_view_count": null,
            "_view_module": "@jupyter-widgets/controls",
            "_view_module_version": "1.5.0",
            "_view_name": "HTMLView",
            "description": "",
            "description_tooltip": null,
            "layout": "IPY_MODEL_ab44c4ab955b497ca14abf664190af77",
            "placeholder": "​",
            "style": "IPY_MODEL_22a4d251dad34f40944802ddd56a50e9",
            "value": " 3/3 [00:00&lt;00:00, 50.37it/s]"
          }
        },
        "93f61cb8af744c3aa2e731e5a2e8d144": {
          "model_module": "@jupyter-widgets/controls",
          "model_module_version": "1.5.0",
          "model_name": "FloatProgressModel",
          "state": {
            "_dom_classes": [],
            "_model_module": "@jupyter-widgets/controls",
            "_model_module_version": "1.5.0",
            "_model_name": "FloatProgressModel",
            "_view_count": null,
            "_view_module": "@jupyter-widgets/controls",
            "_view_module_version": "1.5.0",
            "_view_name": "ProgressView",
            "bar_style": "success",
            "description": "",
            "description_tooltip": null,
            "layout": "IPY_MODEL_ea616fba627147b5a187ff4e15667e81",
            "max": 3,
            "min": 0,
            "orientation": "horizontal",
            "style": "IPY_MODEL_1656084976b24797b00546f4d20f34c6",
            "value": 3
          }
        },
        "9480fc9bc14e42c389335a99060ccdd1": {
          "model_module": "@jupyter-widgets/base",
          "model_module_version": "1.2.0",
          "model_name": "LayoutModel",
          "state": {
            "_model_module": "@jupyter-widgets/base",
            "_model_module_version": "1.2.0",
            "_model_name": "LayoutModel",
            "_view_count": null,
            "_view_module": "@jupyter-widgets/base",
            "_view_module_version": "1.2.0",
            "_view_name": "LayoutView",
            "align_content": null,
            "align_items": null,
            "align_self": null,
            "border": null,
            "bottom": null,
            "display": null,
            "flex": null,
            "flex_flow": null,
            "grid_area": null,
            "grid_auto_columns": null,
            "grid_auto_flow": null,
            "grid_auto_rows": null,
            "grid_column": null,
            "grid_gap": null,
            "grid_row": null,
            "grid_template_areas": null,
            "grid_template_columns": null,
            "grid_template_rows": null,
            "height": null,
            "justify_content": null,
            "justify_items": null,
            "left": null,
            "margin": null,
            "max_height": null,
            "max_width": null,
            "min_height": null,
            "min_width": null,
            "object_fit": null,
            "object_position": null,
            "order": null,
            "overflow": null,
            "overflow_x": null,
            "overflow_y": null,
            "padding": null,
            "right": null,
            "top": null,
            "visibility": null,
            "width": null
          }
        },
        "950ce98e95144b68adedc6a442f56bf6": {
          "model_module": "@jupyter-widgets/controls",
          "model_module_version": "1.5.0",
          "model_name": "HTMLModel",
          "state": {
            "_dom_classes": [],
            "_model_module": "@jupyter-widgets/controls",
            "_model_module_version": "1.5.0",
            "_model_name": "HTMLModel",
            "_view_count": null,
            "_view_module": "@jupyter-widgets/controls",
            "_view_module_version": "1.5.0",
            "_view_name": "HTMLView",
            "description": "",
            "description_tooltip": null,
            "layout": "IPY_MODEL_be9c3bef56554d84bbc95eec936ce4d0",
            "placeholder": "​",
            "style": "IPY_MODEL_cd597f92abd54c8bab6fcc9c8dfa78f9",
            "value": " 3/3 [17:05&lt;00:00, 341.85s/it]"
          }
        },
        "9a772d7d0788444a9ec7243aa9349537": {
          "model_module": "@jupyter-widgets/controls",
          "model_module_version": "1.5.0",
          "model_name": "ProgressStyleModel",
          "state": {
            "_model_module": "@jupyter-widgets/controls",
            "_model_module_version": "1.5.0",
            "_model_name": "ProgressStyleModel",
            "_view_count": null,
            "_view_module": "@jupyter-widgets/base",
            "_view_module_version": "1.2.0",
            "_view_name": "StyleView",
            "bar_color": null,
            "description_width": ""
          }
        },
        "9ae0ccf8073f423695baf9b7694c81c6": {
          "model_module": "@jupyter-widgets/controls",
          "model_module_version": "1.5.0",
          "model_name": "HBoxModel",
          "state": {
            "_dom_classes": [],
            "_model_module": "@jupyter-widgets/controls",
            "_model_module_version": "1.5.0",
            "_model_name": "HBoxModel",
            "_view_count": null,
            "_view_module": "@jupyter-widgets/controls",
            "_view_module_version": "1.5.0",
            "_view_name": "HBoxView",
            "box_style": "",
            "children": [
              "IPY_MODEL_7410f582fc964f9fa6fb7104559a72bc",
              "IPY_MODEL_73ebcaf3217c4734a44171bd540afb96",
              "IPY_MODEL_f59c26b5812e44b9bb27c9bfec2a81b5"
            ],
            "layout": "IPY_MODEL_5571d010848845d6b2c2259156c8aab7"
          }
        },
        "a0cce2053f614c2bb4a65208d6473e14": {
          "model_module": "@jupyter-widgets/controls",
          "model_module_version": "1.5.0",
          "model_name": "HBoxModel",
          "state": {
            "_dom_classes": [],
            "_model_module": "@jupyter-widgets/controls",
            "_model_module_version": "1.5.0",
            "_model_name": "HBoxModel",
            "_view_count": null,
            "_view_module": "@jupyter-widgets/controls",
            "_view_module_version": "1.5.0",
            "_view_name": "HBoxView",
            "box_style": "",
            "children": [
              "IPY_MODEL_1e59123c37494f0eb7fc5e22305e3265",
              "IPY_MODEL_d1b14690a3ff425494259f24de86ab6d",
              "IPY_MODEL_7c898fedb0be41a3aa1e98198d9618e6"
            ],
            "layout": "IPY_MODEL_3487a1a4d4104a70820e68934aded809"
          }
        },
        "a1f258cae86b4c099b03ecc94a04e55d": {
          "model_module": "@jupyter-widgets/controls",
          "model_module_version": "1.5.0",
          "model_name": "ProgressStyleModel",
          "state": {
            "_model_module": "@jupyter-widgets/controls",
            "_model_module_version": "1.5.0",
            "_model_name": "ProgressStyleModel",
            "_view_count": null,
            "_view_module": "@jupyter-widgets/base",
            "_view_module_version": "1.2.0",
            "_view_name": "StyleView",
            "bar_color": null,
            "description_width": ""
          }
        },
        "a2b3e2eaac2a430ea2bcac6eb15bea7c": {
          "model_module": "@jupyter-widgets/base",
          "model_module_version": "1.2.0",
          "model_name": "LayoutModel",
          "state": {
            "_model_module": "@jupyter-widgets/base",
            "_model_module_version": "1.2.0",
            "_model_name": "LayoutModel",
            "_view_count": null,
            "_view_module": "@jupyter-widgets/base",
            "_view_module_version": "1.2.0",
            "_view_name": "LayoutView",
            "align_content": null,
            "align_items": null,
            "align_self": null,
            "border": null,
            "bottom": null,
            "display": null,
            "flex": null,
            "flex_flow": null,
            "grid_area": null,
            "grid_auto_columns": null,
            "grid_auto_flow": null,
            "grid_auto_rows": null,
            "grid_column": null,
            "grid_gap": null,
            "grid_row": null,
            "grid_template_areas": null,
            "grid_template_columns": null,
            "grid_template_rows": null,
            "height": null,
            "justify_content": null,
            "justify_items": null,
            "left": null,
            "margin": null,
            "max_height": null,
            "max_width": null,
            "min_height": null,
            "min_width": null,
            "object_fit": null,
            "object_position": null,
            "order": null,
            "overflow": null,
            "overflow_x": null,
            "overflow_y": null,
            "padding": null,
            "right": null,
            "top": null,
            "visibility": null,
            "width": null
          }
        },
        "a76d64689f274a5ca8f6e45a8bff935a": {
          "model_module": "@jupyter-widgets/controls",
          "model_module_version": "1.5.0",
          "model_name": "ProgressStyleModel",
          "state": {
            "_model_module": "@jupyter-widgets/controls",
            "_model_module_version": "1.5.0",
            "_model_name": "ProgressStyleModel",
            "_view_count": null,
            "_view_module": "@jupyter-widgets/base",
            "_view_module_version": "1.2.0",
            "_view_name": "StyleView",
            "bar_color": null,
            "description_width": ""
          }
        },
        "ab44c4ab955b497ca14abf664190af77": {
          "model_module": "@jupyter-widgets/base",
          "model_module_version": "1.2.0",
          "model_name": "LayoutModel",
          "state": {
            "_model_module": "@jupyter-widgets/base",
            "_model_module_version": "1.2.0",
            "_model_name": "LayoutModel",
            "_view_count": null,
            "_view_module": "@jupyter-widgets/base",
            "_view_module_version": "1.2.0",
            "_view_name": "LayoutView",
            "align_content": null,
            "align_items": null,
            "align_self": null,
            "border": null,
            "bottom": null,
            "display": null,
            "flex": null,
            "flex_flow": null,
            "grid_area": null,
            "grid_auto_columns": null,
            "grid_auto_flow": null,
            "grid_auto_rows": null,
            "grid_column": null,
            "grid_gap": null,
            "grid_row": null,
            "grid_template_areas": null,
            "grid_template_columns": null,
            "grid_template_rows": null,
            "height": null,
            "justify_content": null,
            "justify_items": null,
            "left": null,
            "margin": null,
            "max_height": null,
            "max_width": null,
            "min_height": null,
            "min_width": null,
            "object_fit": null,
            "object_position": null,
            "order": null,
            "overflow": null,
            "overflow_x": null,
            "overflow_y": null,
            "padding": null,
            "right": null,
            "top": null,
            "visibility": null,
            "width": null
          }
        },
        "abe3f444a8a847a48d5c300e0274a9cb": {
          "model_module": "@jupyter-widgets/controls",
          "model_module_version": "1.5.0",
          "model_name": "DescriptionStyleModel",
          "state": {
            "_model_module": "@jupyter-widgets/controls",
            "_model_module_version": "1.5.0",
            "_model_name": "DescriptionStyleModel",
            "_view_count": null,
            "_view_module": "@jupyter-widgets/base",
            "_view_module_version": "1.2.0",
            "_view_name": "StyleView",
            "description_width": ""
          }
        },
        "ae202bfd47934132859e06f43712ffdf": {
          "model_module": "@jupyter-widgets/controls",
          "model_module_version": "1.5.0",
          "model_name": "DescriptionStyleModel",
          "state": {
            "_model_module": "@jupyter-widgets/controls",
            "_model_module_version": "1.5.0",
            "_model_name": "DescriptionStyleModel",
            "_view_count": null,
            "_view_module": "@jupyter-widgets/base",
            "_view_module_version": "1.2.0",
            "_view_name": "StyleView",
            "description_width": ""
          }
        },
        "b1fd66e94b5045eea9022002933477da": {
          "model_module": "@jupyter-widgets/controls",
          "model_module_version": "1.5.0",
          "model_name": "HTMLModel",
          "state": {
            "_dom_classes": [],
            "_model_module": "@jupyter-widgets/controls",
            "_model_module_version": "1.5.0",
            "_model_name": "HTMLModel",
            "_view_count": null,
            "_view_module": "@jupyter-widgets/controls",
            "_view_module_version": "1.5.0",
            "_view_name": "HTMLView",
            "description": "",
            "description_tooltip": null,
            "layout": "IPY_MODEL_547525834140440aaaf4c537d4b32c88",
            "placeholder": "​",
            "style": "IPY_MODEL_d9bbaa27e39b46f9947d39ff57e0b3bd",
            "value": " 3/3 [00:00&lt;00:00, 50.01it/s]"
          }
        },
        "b2fa2aea842e495e95ee3b9dd2a62a5f": {
          "model_module": "@jupyter-widgets/controls",
          "model_module_version": "1.5.0",
          "model_name": "HTMLModel",
          "state": {
            "_dom_classes": [],
            "_model_module": "@jupyter-widgets/controls",
            "_model_module_version": "1.5.0",
            "_model_name": "HTMLModel",
            "_view_count": null,
            "_view_module": "@jupyter-widgets/controls",
            "_view_module_version": "1.5.0",
            "_view_name": "HTMLView",
            "description": "",
            "description_tooltip": null,
            "layout": "IPY_MODEL_28891ac178ef462fbb2a36aa6a18b371",
            "placeholder": "​",
            "style": "IPY_MODEL_6282c17a64734edbb988b7b29f7d4ee1",
            "value": "Finding Elimination Order: :   0%"
          }
        },
        "b3a0773988e64ecd8948348634b490a2": {
          "model_module": "@jupyter-widgets/base",
          "model_module_version": "1.2.0",
          "model_name": "LayoutModel",
          "state": {
            "_model_module": "@jupyter-widgets/base",
            "_model_module_version": "1.2.0",
            "_model_name": "LayoutModel",
            "_view_count": null,
            "_view_module": "@jupyter-widgets/base",
            "_view_module_version": "1.2.0",
            "_view_name": "LayoutView",
            "align_content": null,
            "align_items": null,
            "align_self": null,
            "border": null,
            "bottom": null,
            "display": null,
            "flex": null,
            "flex_flow": null,
            "grid_area": null,
            "grid_auto_columns": null,
            "grid_auto_flow": null,
            "grid_auto_rows": null,
            "grid_column": null,
            "grid_gap": null,
            "grid_row": null,
            "grid_template_areas": null,
            "grid_template_columns": null,
            "grid_template_rows": null,
            "height": null,
            "justify_content": null,
            "justify_items": null,
            "left": null,
            "margin": null,
            "max_height": null,
            "max_width": null,
            "min_height": null,
            "min_width": null,
            "object_fit": null,
            "object_position": null,
            "order": null,
            "overflow": null,
            "overflow_x": null,
            "overflow_y": null,
            "padding": null,
            "right": null,
            "top": null,
            "visibility": null,
            "width": null
          }
        },
        "b46d63309bc44eacb7fbf4fe2341afb5": {
          "model_module": "@jupyter-widgets/base",
          "model_module_version": "1.2.0",
          "model_name": "LayoutModel",
          "state": {
            "_model_module": "@jupyter-widgets/base",
            "_model_module_version": "1.2.0",
            "_model_name": "LayoutModel",
            "_view_count": null,
            "_view_module": "@jupyter-widgets/base",
            "_view_module_version": "1.2.0",
            "_view_name": "LayoutView",
            "align_content": null,
            "align_items": null,
            "align_self": null,
            "border": null,
            "bottom": null,
            "display": null,
            "flex": null,
            "flex_flow": null,
            "grid_area": null,
            "grid_auto_columns": null,
            "grid_auto_flow": null,
            "grid_auto_rows": null,
            "grid_column": null,
            "grid_gap": null,
            "grid_row": null,
            "grid_template_areas": null,
            "grid_template_columns": null,
            "grid_template_rows": null,
            "height": null,
            "justify_content": null,
            "justify_items": null,
            "left": null,
            "margin": null,
            "max_height": null,
            "max_width": null,
            "min_height": null,
            "min_width": null,
            "object_fit": null,
            "object_position": null,
            "order": null,
            "overflow": null,
            "overflow_x": null,
            "overflow_y": null,
            "padding": null,
            "right": null,
            "top": null,
            "visibility": null,
            "width": null
          }
        },
        "b50abf0f46204e9e9a0be53e34e47c23": {
          "model_module": "@jupyter-widgets/base",
          "model_module_version": "1.2.0",
          "model_name": "LayoutModel",
          "state": {
            "_model_module": "@jupyter-widgets/base",
            "_model_module_version": "1.2.0",
            "_model_name": "LayoutModel",
            "_view_count": null,
            "_view_module": "@jupyter-widgets/base",
            "_view_module_version": "1.2.0",
            "_view_name": "LayoutView",
            "align_content": null,
            "align_items": null,
            "align_self": null,
            "border": null,
            "bottom": null,
            "display": null,
            "flex": null,
            "flex_flow": null,
            "grid_area": null,
            "grid_auto_columns": null,
            "grid_auto_flow": null,
            "grid_auto_rows": null,
            "grid_column": null,
            "grid_gap": null,
            "grid_row": null,
            "grid_template_areas": null,
            "grid_template_columns": null,
            "grid_template_rows": null,
            "height": null,
            "justify_content": null,
            "justify_items": null,
            "left": null,
            "margin": null,
            "max_height": null,
            "max_width": null,
            "min_height": null,
            "min_width": null,
            "object_fit": null,
            "object_position": null,
            "order": null,
            "overflow": null,
            "overflow_x": null,
            "overflow_y": null,
            "padding": null,
            "right": null,
            "top": null,
            "visibility": null,
            "width": null
          }
        },
        "b667dd65aeb44002b536dac2b83704db": {
          "model_module": "@jupyter-widgets/controls",
          "model_module_version": "1.5.0",
          "model_name": "HBoxModel",
          "state": {
            "_dom_classes": [],
            "_model_module": "@jupyter-widgets/controls",
            "_model_module_version": "1.5.0",
            "_model_name": "HBoxModel",
            "_view_count": null,
            "_view_module": "@jupyter-widgets/controls",
            "_view_module_version": "1.5.0",
            "_view_name": "HBoxView",
            "box_style": "",
            "children": [
              "IPY_MODEL_634ff0cf576c40de878b10ec3ef8a8df",
              "IPY_MODEL_9095c3f36f8a4795b5af8c4babdda7ed",
              "IPY_MODEL_16d46bd691214873ba372a8b89c98e2c"
            ],
            "layout": "IPY_MODEL_01422e66fdd74a6ba04c9f735a308cc6"
          }
        },
        "b6f39edba69244d8ba6fdc92654c626a": {
          "model_module": "@jupyter-widgets/controls",
          "model_module_version": "1.5.0",
          "model_name": "FloatProgressModel",
          "state": {
            "_dom_classes": [],
            "_model_module": "@jupyter-widgets/controls",
            "_model_module_version": "1.5.0",
            "_model_name": "FloatProgressModel",
            "_view_count": null,
            "_view_module": "@jupyter-widgets/controls",
            "_view_module_version": "1.5.0",
            "_view_name": "ProgressView",
            "bar_style": "",
            "description": "",
            "description_tooltip": null,
            "layout": "IPY_MODEL_34a7d1dff59340898000315b39203eff",
            "max": 3,
            "min": 0,
            "orientation": "horizontal",
            "style": "IPY_MODEL_751d610f4ace465f998e603ebd9f6f94",
            "value": 0
          }
        },
        "b853201bc4ab4f30a9660176404329f0": {
          "model_module": "@jupyter-widgets/base",
          "model_module_version": "1.2.0",
          "model_name": "LayoutModel",
          "state": {
            "_model_module": "@jupyter-widgets/base",
            "_model_module_version": "1.2.0",
            "_model_name": "LayoutModel",
            "_view_count": null,
            "_view_module": "@jupyter-widgets/base",
            "_view_module_version": "1.2.0",
            "_view_name": "LayoutView",
            "align_content": null,
            "align_items": null,
            "align_self": null,
            "border": null,
            "bottom": null,
            "display": null,
            "flex": null,
            "flex_flow": null,
            "grid_area": null,
            "grid_auto_columns": null,
            "grid_auto_flow": null,
            "grid_auto_rows": null,
            "grid_column": null,
            "grid_gap": null,
            "grid_row": null,
            "grid_template_areas": null,
            "grid_template_columns": null,
            "grid_template_rows": null,
            "height": null,
            "justify_content": null,
            "justify_items": null,
            "left": null,
            "margin": null,
            "max_height": null,
            "max_width": null,
            "min_height": null,
            "min_width": null,
            "object_fit": null,
            "object_position": null,
            "order": null,
            "overflow": null,
            "overflow_x": null,
            "overflow_y": null,
            "padding": null,
            "right": null,
            "top": null,
            "visibility": null,
            "width": null
          }
        },
        "bd1724ae73c14b65aadabb25f17a59c6": {
          "model_module": "@jupyter-widgets/controls",
          "model_module_version": "1.5.0",
          "model_name": "ProgressStyleModel",
          "state": {
            "_model_module": "@jupyter-widgets/controls",
            "_model_module_version": "1.5.0",
            "_model_name": "ProgressStyleModel",
            "_view_count": null,
            "_view_module": "@jupyter-widgets/base",
            "_view_module_version": "1.2.0",
            "_view_name": "StyleView",
            "bar_color": null,
            "description_width": ""
          }
        },
        "bd35be307e4b4710a6e937b470f334f7": {
          "model_module": "@jupyter-widgets/base",
          "model_module_version": "1.2.0",
          "model_name": "LayoutModel",
          "state": {
            "_model_module": "@jupyter-widgets/base",
            "_model_module_version": "1.2.0",
            "_model_name": "LayoutModel",
            "_view_count": null,
            "_view_module": "@jupyter-widgets/base",
            "_view_module_version": "1.2.0",
            "_view_name": "LayoutView",
            "align_content": null,
            "align_items": null,
            "align_self": null,
            "border": null,
            "bottom": null,
            "display": null,
            "flex": null,
            "flex_flow": null,
            "grid_area": null,
            "grid_auto_columns": null,
            "grid_auto_flow": null,
            "grid_auto_rows": null,
            "grid_column": null,
            "grid_gap": null,
            "grid_row": null,
            "grid_template_areas": null,
            "grid_template_columns": null,
            "grid_template_rows": null,
            "height": null,
            "justify_content": null,
            "justify_items": null,
            "left": null,
            "margin": null,
            "max_height": null,
            "max_width": null,
            "min_height": null,
            "min_width": null,
            "object_fit": null,
            "object_position": null,
            "order": null,
            "overflow": null,
            "overflow_x": null,
            "overflow_y": null,
            "padding": null,
            "right": null,
            "top": null,
            "visibility": null,
            "width": null
          }
        },
        "be458435218346429df7dc0c6f793120": {
          "model_module": "@jupyter-widgets/controls",
          "model_module_version": "1.5.0",
          "model_name": "DescriptionStyleModel",
          "state": {
            "_model_module": "@jupyter-widgets/controls",
            "_model_module_version": "1.5.0",
            "_model_name": "DescriptionStyleModel",
            "_view_count": null,
            "_view_module": "@jupyter-widgets/base",
            "_view_module_version": "1.2.0",
            "_view_name": "StyleView",
            "description_width": ""
          }
        },
        "be9c3bef56554d84bbc95eec936ce4d0": {
          "model_module": "@jupyter-widgets/base",
          "model_module_version": "1.2.0",
          "model_name": "LayoutModel",
          "state": {
            "_model_module": "@jupyter-widgets/base",
            "_model_module_version": "1.2.0",
            "_model_name": "LayoutModel",
            "_view_count": null,
            "_view_module": "@jupyter-widgets/base",
            "_view_module_version": "1.2.0",
            "_view_name": "LayoutView",
            "align_content": null,
            "align_items": null,
            "align_self": null,
            "border": null,
            "bottom": null,
            "display": null,
            "flex": null,
            "flex_flow": null,
            "grid_area": null,
            "grid_auto_columns": null,
            "grid_auto_flow": null,
            "grid_auto_rows": null,
            "grid_column": null,
            "grid_gap": null,
            "grid_row": null,
            "grid_template_areas": null,
            "grid_template_columns": null,
            "grid_template_rows": null,
            "height": null,
            "justify_content": null,
            "justify_items": null,
            "left": null,
            "margin": null,
            "max_height": null,
            "max_width": null,
            "min_height": null,
            "min_width": null,
            "object_fit": null,
            "object_position": null,
            "order": null,
            "overflow": null,
            "overflow_x": null,
            "overflow_y": null,
            "padding": null,
            "right": null,
            "top": null,
            "visibility": null,
            "width": null
          }
        },
        "bef960dd3ce14210a2c4d4909e4de30a": {
          "model_module": "@jupyter-widgets/base",
          "model_module_version": "1.2.0",
          "model_name": "LayoutModel",
          "state": {
            "_model_module": "@jupyter-widgets/base",
            "_model_module_version": "1.2.0",
            "_model_name": "LayoutModel",
            "_view_count": null,
            "_view_module": "@jupyter-widgets/base",
            "_view_module_version": "1.2.0",
            "_view_name": "LayoutView",
            "align_content": null,
            "align_items": null,
            "align_self": null,
            "border": null,
            "bottom": null,
            "display": null,
            "flex": null,
            "flex_flow": null,
            "grid_area": null,
            "grid_auto_columns": null,
            "grid_auto_flow": null,
            "grid_auto_rows": null,
            "grid_column": null,
            "grid_gap": null,
            "grid_row": null,
            "grid_template_areas": null,
            "grid_template_columns": null,
            "grid_template_rows": null,
            "height": null,
            "justify_content": null,
            "justify_items": null,
            "left": null,
            "margin": null,
            "max_height": null,
            "max_width": null,
            "min_height": null,
            "min_width": null,
            "object_fit": null,
            "object_position": null,
            "order": null,
            "overflow": null,
            "overflow_x": null,
            "overflow_y": null,
            "padding": null,
            "right": null,
            "top": null,
            "visibility": null,
            "width": null
          }
        },
        "c07c7b138da346a9ac4351878d1425aa": {
          "model_module": "@jupyter-widgets/base",
          "model_module_version": "1.2.0",
          "model_name": "LayoutModel",
          "state": {
            "_model_module": "@jupyter-widgets/base",
            "_model_module_version": "1.2.0",
            "_model_name": "LayoutModel",
            "_view_count": null,
            "_view_module": "@jupyter-widgets/base",
            "_view_module_version": "1.2.0",
            "_view_name": "LayoutView",
            "align_content": null,
            "align_items": null,
            "align_self": null,
            "border": null,
            "bottom": null,
            "display": null,
            "flex": null,
            "flex_flow": null,
            "grid_area": null,
            "grid_auto_columns": null,
            "grid_auto_flow": null,
            "grid_auto_rows": null,
            "grid_column": null,
            "grid_gap": null,
            "grid_row": null,
            "grid_template_areas": null,
            "grid_template_columns": null,
            "grid_template_rows": null,
            "height": null,
            "justify_content": null,
            "justify_items": null,
            "left": null,
            "margin": null,
            "max_height": null,
            "max_width": null,
            "min_height": null,
            "min_width": null,
            "object_fit": null,
            "object_position": null,
            "order": null,
            "overflow": null,
            "overflow_x": null,
            "overflow_y": null,
            "padding": null,
            "right": null,
            "top": null,
            "visibility": null,
            "width": null
          }
        },
        "c0b763c2cd6f47fe86cb946e95892726": {
          "model_module": "@jupyter-widgets/controls",
          "model_module_version": "1.5.0",
          "model_name": "DescriptionStyleModel",
          "state": {
            "_model_module": "@jupyter-widgets/controls",
            "_model_module_version": "1.5.0",
            "_model_name": "DescriptionStyleModel",
            "_view_count": null,
            "_view_module": "@jupyter-widgets/base",
            "_view_module_version": "1.2.0",
            "_view_name": "StyleView",
            "description_width": ""
          }
        },
        "ca1b43fba2f74246bbec44525d611d1d": {
          "model_module": "@jupyter-widgets/controls",
          "model_module_version": "1.5.0",
          "model_name": "FloatProgressModel",
          "state": {
            "_dom_classes": [],
            "_model_module": "@jupyter-widgets/controls",
            "_model_module_version": "1.5.0",
            "_model_name": "FloatProgressModel",
            "_view_count": null,
            "_view_module": "@jupyter-widgets/controls",
            "_view_module_version": "1.5.0",
            "_view_name": "ProgressView",
            "bar_style": "success",
            "description": "",
            "description_tooltip": null,
            "layout": "IPY_MODEL_c07c7b138da346a9ac4351878d1425aa",
            "max": 3,
            "min": 0,
            "orientation": "horizontal",
            "style": "IPY_MODEL_4fae707a218c46378faf33afb851e82c",
            "value": 3
          }
        },
        "cae0ce0e334f4997aa668df19a7779b7": {
          "model_module": "@jupyter-widgets/base",
          "model_module_version": "1.2.0",
          "model_name": "LayoutModel",
          "state": {
            "_model_module": "@jupyter-widgets/base",
            "_model_module_version": "1.2.0",
            "_model_name": "LayoutModel",
            "_view_count": null,
            "_view_module": "@jupyter-widgets/base",
            "_view_module_version": "1.2.0",
            "_view_name": "LayoutView",
            "align_content": null,
            "align_items": null,
            "align_self": null,
            "border": null,
            "bottom": null,
            "display": null,
            "flex": null,
            "flex_flow": null,
            "grid_area": null,
            "grid_auto_columns": null,
            "grid_auto_flow": null,
            "grid_auto_rows": null,
            "grid_column": null,
            "grid_gap": null,
            "grid_row": null,
            "grid_template_areas": null,
            "grid_template_columns": null,
            "grid_template_rows": null,
            "height": null,
            "justify_content": null,
            "justify_items": null,
            "left": null,
            "margin": null,
            "max_height": null,
            "max_width": null,
            "min_height": null,
            "min_width": null,
            "object_fit": null,
            "object_position": null,
            "order": null,
            "overflow": null,
            "overflow_x": null,
            "overflow_y": null,
            "padding": null,
            "right": null,
            "top": null,
            "visibility": null,
            "width": null
          }
        },
        "cd597f92abd54c8bab6fcc9c8dfa78f9": {
          "model_module": "@jupyter-widgets/controls",
          "model_module_version": "1.5.0",
          "model_name": "DescriptionStyleModel",
          "state": {
            "_model_module": "@jupyter-widgets/controls",
            "_model_module_version": "1.5.0",
            "_model_name": "DescriptionStyleModel",
            "_view_count": null,
            "_view_module": "@jupyter-widgets/base",
            "_view_module_version": "1.2.0",
            "_view_name": "StyleView",
            "description_width": ""
          }
        },
        "cdac0d740e9c4aa4a36fc5b984beb2df": {
          "model_module": "@jupyter-widgets/controls",
          "model_module_version": "1.5.0",
          "model_name": "HTMLModel",
          "state": {
            "_dom_classes": [],
            "_model_module": "@jupyter-widgets/controls",
            "_model_module_version": "1.5.0",
            "_model_name": "HTMLModel",
            "_view_count": null,
            "_view_module": "@jupyter-widgets/controls",
            "_view_module_version": "1.5.0",
            "_view_name": "HTMLView",
            "description": "",
            "description_tooltip": null,
            "layout": "IPY_MODEL_83fa677cd97c423d9a9d76bf598b2551",
            "placeholder": "​",
            "style": "IPY_MODEL_91b08ed3099e48e594f4fe4662d8e253",
            "value": " 3/3 [17:05&lt;00:00, 341.97s/it]"
          }
        },
        "cde246bf60cc426da90a68fcccad81d0": {
          "model_module": "@jupyter-widgets/base",
          "model_module_version": "1.2.0",
          "model_name": "LayoutModel",
          "state": {
            "_model_module": "@jupyter-widgets/base",
            "_model_module_version": "1.2.0",
            "_model_name": "LayoutModel",
            "_view_count": null,
            "_view_module": "@jupyter-widgets/base",
            "_view_module_version": "1.2.0",
            "_view_name": "LayoutView",
            "align_content": null,
            "align_items": null,
            "align_self": null,
            "border": null,
            "bottom": null,
            "display": null,
            "flex": null,
            "flex_flow": null,
            "grid_area": null,
            "grid_auto_columns": null,
            "grid_auto_flow": null,
            "grid_auto_rows": null,
            "grid_column": null,
            "grid_gap": null,
            "grid_row": null,
            "grid_template_areas": null,
            "grid_template_columns": null,
            "grid_template_rows": null,
            "height": null,
            "justify_content": null,
            "justify_items": null,
            "left": null,
            "margin": null,
            "max_height": null,
            "max_width": null,
            "min_height": null,
            "min_width": null,
            "object_fit": null,
            "object_position": null,
            "order": null,
            "overflow": null,
            "overflow_x": null,
            "overflow_y": null,
            "padding": null,
            "right": null,
            "top": null,
            "visibility": null,
            "width": null
          }
        },
        "cf81dd0970984f2c9208ba54b93b051e": {
          "model_module": "@jupyter-widgets/base",
          "model_module_version": "1.2.0",
          "model_name": "LayoutModel",
          "state": {
            "_model_module": "@jupyter-widgets/base",
            "_model_module_version": "1.2.0",
            "_model_name": "LayoutModel",
            "_view_count": null,
            "_view_module": "@jupyter-widgets/base",
            "_view_module_version": "1.2.0",
            "_view_name": "LayoutView",
            "align_content": null,
            "align_items": null,
            "align_self": null,
            "border": null,
            "bottom": null,
            "display": null,
            "flex": null,
            "flex_flow": null,
            "grid_area": null,
            "grid_auto_columns": null,
            "grid_auto_flow": null,
            "grid_auto_rows": null,
            "grid_column": null,
            "grid_gap": null,
            "grid_row": null,
            "grid_template_areas": null,
            "grid_template_columns": null,
            "grid_template_rows": null,
            "height": null,
            "justify_content": null,
            "justify_items": null,
            "left": null,
            "margin": null,
            "max_height": null,
            "max_width": null,
            "min_height": null,
            "min_width": null,
            "object_fit": null,
            "object_position": null,
            "order": null,
            "overflow": null,
            "overflow_x": null,
            "overflow_y": null,
            "padding": null,
            "right": null,
            "top": null,
            "visibility": null,
            "width": null
          }
        },
        "d0c29655028342a992bbb6ee192da528": {
          "model_module": "@jupyter-widgets/controls",
          "model_module_version": "1.5.0",
          "model_name": "HTMLModel",
          "state": {
            "_dom_classes": [],
            "_model_module": "@jupyter-widgets/controls",
            "_model_module_version": "1.5.0",
            "_model_name": "HTMLModel",
            "_view_count": null,
            "_view_module": "@jupyter-widgets/controls",
            "_view_module_version": "1.5.0",
            "_view_name": "HTMLView",
            "description": "",
            "description_tooltip": null,
            "layout": "IPY_MODEL_e8da146a532545238410d0159741c0aa",
            "placeholder": "​",
            "style": "IPY_MODEL_f73598a332fd4745b90ae782fb739df4",
            "value": "Eliminating: bias: 100%"
          }
        },
        "d1b14690a3ff425494259f24de86ab6d": {
          "model_module": "@jupyter-widgets/controls",
          "model_module_version": "1.5.0",
          "model_name": "FloatProgressModel",
          "state": {
            "_dom_classes": [],
            "_model_module": "@jupyter-widgets/controls",
            "_model_module_version": "1.5.0",
            "_model_name": "FloatProgressModel",
            "_view_count": null,
            "_view_module": "@jupyter-widgets/controls",
            "_view_module_version": "1.5.0",
            "_view_name": "ProgressView",
            "bar_style": "success",
            "description": "",
            "description_tooltip": null,
            "layout": "IPY_MODEL_3b4d18bbe60243be98ff050f58665f8c",
            "max": 3,
            "min": 0,
            "orientation": "horizontal",
            "style": "IPY_MODEL_a1f258cae86b4c099b03ecc94a04e55d",
            "value": 3
          }
        },
        "d389425d20e645f5b244222d3a58558b": {
          "model_module": "@jupyter-widgets/controls",
          "model_module_version": "1.5.0",
          "model_name": "DescriptionStyleModel",
          "state": {
            "_model_module": "@jupyter-widgets/controls",
            "_model_module_version": "1.5.0",
            "_model_name": "DescriptionStyleModel",
            "_view_count": null,
            "_view_module": "@jupyter-widgets/base",
            "_view_module_version": "1.2.0",
            "_view_name": "StyleView",
            "description_width": ""
          }
        },
        "d41489ab40d44ee8a30d9030b7415901": {
          "model_module": "@jupyter-widgets/controls",
          "model_module_version": "1.5.0",
          "model_name": "ProgressStyleModel",
          "state": {
            "_model_module": "@jupyter-widgets/controls",
            "_model_module_version": "1.5.0",
            "_model_name": "ProgressStyleModel",
            "_view_count": null,
            "_view_module": "@jupyter-widgets/base",
            "_view_module_version": "1.2.0",
            "_view_name": "StyleView",
            "bar_color": null,
            "description_width": ""
          }
        },
        "d7c00ce9643d425b96ff8dd882dd0097": {
          "model_module": "@jupyter-widgets/base",
          "model_module_version": "1.2.0",
          "model_name": "LayoutModel",
          "state": {
            "_model_module": "@jupyter-widgets/base",
            "_model_module_version": "1.2.0",
            "_model_name": "LayoutModel",
            "_view_count": null,
            "_view_module": "@jupyter-widgets/base",
            "_view_module_version": "1.2.0",
            "_view_name": "LayoutView",
            "align_content": null,
            "align_items": null,
            "align_self": null,
            "border": null,
            "bottom": null,
            "display": null,
            "flex": null,
            "flex_flow": null,
            "grid_area": null,
            "grid_auto_columns": null,
            "grid_auto_flow": null,
            "grid_auto_rows": null,
            "grid_column": null,
            "grid_gap": null,
            "grid_row": null,
            "grid_template_areas": null,
            "grid_template_columns": null,
            "grid_template_rows": null,
            "height": null,
            "justify_content": null,
            "justify_items": null,
            "left": null,
            "margin": null,
            "max_height": null,
            "max_width": null,
            "min_height": null,
            "min_width": null,
            "object_fit": null,
            "object_position": null,
            "order": null,
            "overflow": null,
            "overflow_x": null,
            "overflow_y": null,
            "padding": null,
            "right": null,
            "top": null,
            "visibility": null,
            "width": null
          }
        },
        "d9bbaa27e39b46f9947d39ff57e0b3bd": {
          "model_module": "@jupyter-widgets/controls",
          "model_module_version": "1.5.0",
          "model_name": "DescriptionStyleModel",
          "state": {
            "_model_module": "@jupyter-widgets/controls",
            "_model_module_version": "1.5.0",
            "_model_name": "DescriptionStyleModel",
            "_view_count": null,
            "_view_module": "@jupyter-widgets/base",
            "_view_module_version": "1.2.0",
            "_view_name": "StyleView",
            "description_width": ""
          }
        },
        "da73d97002dc41f0b016b85555d3f488": {
          "model_module": "@jupyter-widgets/base",
          "model_module_version": "1.2.0",
          "model_name": "LayoutModel",
          "state": {
            "_model_module": "@jupyter-widgets/base",
            "_model_module_version": "1.2.0",
            "_model_name": "LayoutModel",
            "_view_count": null,
            "_view_module": "@jupyter-widgets/base",
            "_view_module_version": "1.2.0",
            "_view_name": "LayoutView",
            "align_content": null,
            "align_items": null,
            "align_self": null,
            "border": null,
            "bottom": null,
            "display": null,
            "flex": null,
            "flex_flow": null,
            "grid_area": null,
            "grid_auto_columns": null,
            "grid_auto_flow": null,
            "grid_auto_rows": null,
            "grid_column": null,
            "grid_gap": null,
            "grid_row": null,
            "grid_template_areas": null,
            "grid_template_columns": null,
            "grid_template_rows": null,
            "height": null,
            "justify_content": null,
            "justify_items": null,
            "left": null,
            "margin": null,
            "max_height": null,
            "max_width": null,
            "min_height": null,
            "min_width": null,
            "object_fit": null,
            "object_position": null,
            "order": null,
            "overflow": null,
            "overflow_x": null,
            "overflow_y": null,
            "padding": null,
            "right": null,
            "top": null,
            "visibility": null,
            "width": null
          }
        },
        "db0360544bd44b08a63cc2b61f31046d": {
          "model_module": "@jupyter-widgets/controls",
          "model_module_version": "1.5.0",
          "model_name": "DescriptionStyleModel",
          "state": {
            "_model_module": "@jupyter-widgets/controls",
            "_model_module_version": "1.5.0",
            "_model_name": "DescriptionStyleModel",
            "_view_count": null,
            "_view_module": "@jupyter-widgets/base",
            "_view_module_version": "1.2.0",
            "_view_name": "StyleView",
            "description_width": ""
          }
        },
        "db244e31369a49dda502c8a03438ebe5": {
          "model_module": "@jupyter-widgets/base",
          "model_module_version": "1.2.0",
          "model_name": "LayoutModel",
          "state": {
            "_model_module": "@jupyter-widgets/base",
            "_model_module_version": "1.2.0",
            "_model_name": "LayoutModel",
            "_view_count": null,
            "_view_module": "@jupyter-widgets/base",
            "_view_module_version": "1.2.0",
            "_view_name": "LayoutView",
            "align_content": null,
            "align_items": null,
            "align_self": null,
            "border": null,
            "bottom": null,
            "display": null,
            "flex": null,
            "flex_flow": null,
            "grid_area": null,
            "grid_auto_columns": null,
            "grid_auto_flow": null,
            "grid_auto_rows": null,
            "grid_column": null,
            "grid_gap": null,
            "grid_row": null,
            "grid_template_areas": null,
            "grid_template_columns": null,
            "grid_template_rows": null,
            "height": null,
            "justify_content": null,
            "justify_items": null,
            "left": null,
            "margin": null,
            "max_height": null,
            "max_width": null,
            "min_height": null,
            "min_width": null,
            "object_fit": null,
            "object_position": null,
            "order": null,
            "overflow": null,
            "overflow_x": null,
            "overflow_y": null,
            "padding": null,
            "right": null,
            "top": null,
            "visibility": null,
            "width": null
          }
        },
        "dc466e052e6544ff83bd7fac1f745681": {
          "model_module": "@jupyter-widgets/base",
          "model_module_version": "1.2.0",
          "model_name": "LayoutModel",
          "state": {
            "_model_module": "@jupyter-widgets/base",
            "_model_module_version": "1.2.0",
            "_model_name": "LayoutModel",
            "_view_count": null,
            "_view_module": "@jupyter-widgets/base",
            "_view_module_version": "1.2.0",
            "_view_name": "LayoutView",
            "align_content": null,
            "align_items": null,
            "align_self": null,
            "border": null,
            "bottom": null,
            "display": null,
            "flex": null,
            "flex_flow": null,
            "grid_area": null,
            "grid_auto_columns": null,
            "grid_auto_flow": null,
            "grid_auto_rows": null,
            "grid_column": null,
            "grid_gap": null,
            "grid_row": null,
            "grid_template_areas": null,
            "grid_template_columns": null,
            "grid_template_rows": null,
            "height": null,
            "justify_content": null,
            "justify_items": null,
            "left": null,
            "margin": null,
            "max_height": null,
            "max_width": null,
            "min_height": null,
            "min_width": null,
            "object_fit": null,
            "object_position": null,
            "order": null,
            "overflow": null,
            "overflow_x": null,
            "overflow_y": null,
            "padding": null,
            "right": null,
            "top": null,
            "visibility": null,
            "width": null
          }
        },
        "de537f1d8c5144948a549988d3ad2ab2": {
          "model_module": "@jupyter-widgets/controls",
          "model_module_version": "1.5.0",
          "model_name": "HBoxModel",
          "state": {
            "_dom_classes": [],
            "_model_module": "@jupyter-widgets/controls",
            "_model_module_version": "1.5.0",
            "_model_name": "HBoxModel",
            "_view_count": null,
            "_view_module": "@jupyter-widgets/controls",
            "_view_module_version": "1.5.0",
            "_view_name": "HBoxView",
            "box_style": "",
            "children": [
              "IPY_MODEL_29c9ef3f058a48859e82aeabcd23452f",
              "IPY_MODEL_76a24818faa64789877781cc495b7252",
              "IPY_MODEL_950ce98e95144b68adedc6a442f56bf6"
            ],
            "layout": "IPY_MODEL_dc466e052e6544ff83bd7fac1f745681"
          }
        },
        "e2328a75e3c44ca1bb1372d26f7a92bd": {
          "model_module": "@jupyter-widgets/controls",
          "model_module_version": "1.5.0",
          "model_name": "DescriptionStyleModel",
          "state": {
            "_model_module": "@jupyter-widgets/controls",
            "_model_module_version": "1.5.0",
            "_model_name": "DescriptionStyleModel",
            "_view_count": null,
            "_view_module": "@jupyter-widgets/base",
            "_view_module_version": "1.2.0",
            "_view_name": "StyleView",
            "description_width": ""
          }
        },
        "e311cd5f17324d4db73798645dae3610": {
          "model_module": "@jupyter-widgets/base",
          "model_module_version": "1.2.0",
          "model_name": "LayoutModel",
          "state": {
            "_model_module": "@jupyter-widgets/base",
            "_model_module_version": "1.2.0",
            "_model_name": "LayoutModel",
            "_view_count": null,
            "_view_module": "@jupyter-widgets/base",
            "_view_module_version": "1.2.0",
            "_view_name": "LayoutView",
            "align_content": null,
            "align_items": null,
            "align_self": null,
            "border": null,
            "bottom": null,
            "display": null,
            "flex": null,
            "flex_flow": null,
            "grid_area": null,
            "grid_auto_columns": null,
            "grid_auto_flow": null,
            "grid_auto_rows": null,
            "grid_column": null,
            "grid_gap": null,
            "grid_row": null,
            "grid_template_areas": null,
            "grid_template_columns": null,
            "grid_template_rows": null,
            "height": null,
            "justify_content": null,
            "justify_items": null,
            "left": null,
            "margin": null,
            "max_height": null,
            "max_width": null,
            "min_height": null,
            "min_width": null,
            "object_fit": null,
            "object_position": null,
            "order": null,
            "overflow": null,
            "overflow_x": null,
            "overflow_y": null,
            "padding": null,
            "right": null,
            "top": null,
            "visibility": null,
            "width": null
          }
        },
        "e8da146a532545238410d0159741c0aa": {
          "model_module": "@jupyter-widgets/base",
          "model_module_version": "1.2.0",
          "model_name": "LayoutModel",
          "state": {
            "_model_module": "@jupyter-widgets/base",
            "_model_module_version": "1.2.0",
            "_model_name": "LayoutModel",
            "_view_count": null,
            "_view_module": "@jupyter-widgets/base",
            "_view_module_version": "1.2.0",
            "_view_name": "LayoutView",
            "align_content": null,
            "align_items": null,
            "align_self": null,
            "border": null,
            "bottom": null,
            "display": null,
            "flex": null,
            "flex_flow": null,
            "grid_area": null,
            "grid_auto_columns": null,
            "grid_auto_flow": null,
            "grid_auto_rows": null,
            "grid_column": null,
            "grid_gap": null,
            "grid_row": null,
            "grid_template_areas": null,
            "grid_template_columns": null,
            "grid_template_rows": null,
            "height": null,
            "justify_content": null,
            "justify_items": null,
            "left": null,
            "margin": null,
            "max_height": null,
            "max_width": null,
            "min_height": null,
            "min_width": null,
            "object_fit": null,
            "object_position": null,
            "order": null,
            "overflow": null,
            "overflow_x": null,
            "overflow_y": null,
            "padding": null,
            "right": null,
            "top": null,
            "visibility": null,
            "width": null
          }
        },
        "e9f59c103695420ea938e3b2c787d43b": {
          "model_module": "@jupyter-widgets/base",
          "model_module_version": "1.2.0",
          "model_name": "LayoutModel",
          "state": {
            "_model_module": "@jupyter-widgets/base",
            "_model_module_version": "1.2.0",
            "_model_name": "LayoutModel",
            "_view_count": null,
            "_view_module": "@jupyter-widgets/base",
            "_view_module_version": "1.2.0",
            "_view_name": "LayoutView",
            "align_content": null,
            "align_items": null,
            "align_self": null,
            "border": null,
            "bottom": null,
            "display": null,
            "flex": null,
            "flex_flow": null,
            "grid_area": null,
            "grid_auto_columns": null,
            "grid_auto_flow": null,
            "grid_auto_rows": null,
            "grid_column": null,
            "grid_gap": null,
            "grid_row": null,
            "grid_template_areas": null,
            "grid_template_columns": null,
            "grid_template_rows": null,
            "height": null,
            "justify_content": null,
            "justify_items": null,
            "left": null,
            "margin": null,
            "max_height": null,
            "max_width": null,
            "min_height": null,
            "min_width": null,
            "object_fit": null,
            "object_position": null,
            "order": null,
            "overflow": null,
            "overflow_x": null,
            "overflow_y": null,
            "padding": null,
            "right": null,
            "top": null,
            "visibility": null,
            "width": null
          }
        },
        "ea616fba627147b5a187ff4e15667e81": {
          "model_module": "@jupyter-widgets/base",
          "model_module_version": "1.2.0",
          "model_name": "LayoutModel",
          "state": {
            "_model_module": "@jupyter-widgets/base",
            "_model_module_version": "1.2.0",
            "_model_name": "LayoutModel",
            "_view_count": null,
            "_view_module": "@jupyter-widgets/base",
            "_view_module_version": "1.2.0",
            "_view_name": "LayoutView",
            "align_content": null,
            "align_items": null,
            "align_self": null,
            "border": null,
            "bottom": null,
            "display": null,
            "flex": null,
            "flex_flow": null,
            "grid_area": null,
            "grid_auto_columns": null,
            "grid_auto_flow": null,
            "grid_auto_rows": null,
            "grid_column": null,
            "grid_gap": null,
            "grid_row": null,
            "grid_template_areas": null,
            "grid_template_columns": null,
            "grid_template_rows": null,
            "height": null,
            "justify_content": null,
            "justify_items": null,
            "left": null,
            "margin": null,
            "max_height": null,
            "max_width": null,
            "min_height": null,
            "min_width": null,
            "object_fit": null,
            "object_position": null,
            "order": null,
            "overflow": null,
            "overflow_x": null,
            "overflow_y": null,
            "padding": null,
            "right": null,
            "top": null,
            "visibility": null,
            "width": null
          }
        },
        "f0884093a2d64d46a47a37041d02e52b": {
          "model_module": "@jupyter-widgets/base",
          "model_module_version": "1.2.0",
          "model_name": "LayoutModel",
          "state": {
            "_model_module": "@jupyter-widgets/base",
            "_model_module_version": "1.2.0",
            "_model_name": "LayoutModel",
            "_view_count": null,
            "_view_module": "@jupyter-widgets/base",
            "_view_module_version": "1.2.0",
            "_view_name": "LayoutView",
            "align_content": null,
            "align_items": null,
            "align_self": null,
            "border": null,
            "bottom": null,
            "display": null,
            "flex": null,
            "flex_flow": null,
            "grid_area": null,
            "grid_auto_columns": null,
            "grid_auto_flow": null,
            "grid_auto_rows": null,
            "grid_column": null,
            "grid_gap": null,
            "grid_row": null,
            "grid_template_areas": null,
            "grid_template_columns": null,
            "grid_template_rows": null,
            "height": null,
            "justify_content": null,
            "justify_items": null,
            "left": null,
            "margin": null,
            "max_height": null,
            "max_width": null,
            "min_height": null,
            "min_width": null,
            "object_fit": null,
            "object_position": null,
            "order": null,
            "overflow": null,
            "overflow_x": null,
            "overflow_y": null,
            "padding": null,
            "right": null,
            "top": null,
            "visibility": null,
            "width": null
          }
        },
        "f1c05e18264545408f215141f16d10fc": {
          "model_module": "@jupyter-widgets/controls",
          "model_module_version": "1.5.0",
          "model_name": "FloatProgressModel",
          "state": {
            "_dom_classes": [],
            "_model_module": "@jupyter-widgets/controls",
            "_model_module_version": "1.5.0",
            "_model_name": "FloatProgressModel",
            "_view_count": null,
            "_view_module": "@jupyter-widgets/controls",
            "_view_module_version": "1.5.0",
            "_view_name": "ProgressView",
            "bar_style": "success",
            "description": "",
            "description_tooltip": null,
            "layout": "IPY_MODEL_cae0ce0e334f4997aa668df19a7779b7",
            "max": 3,
            "min": 0,
            "orientation": "horizontal",
            "style": "IPY_MODEL_a76d64689f274a5ca8f6e45a8bff935a",
            "value": 3
          }
        },
        "f4b06c6d32aa453cba5b963948ce8605": {
          "model_module": "@jupyter-widgets/controls",
          "model_module_version": "1.5.0",
          "model_name": "FloatProgressModel",
          "state": {
            "_dom_classes": [],
            "_model_module": "@jupyter-widgets/controls",
            "_model_module_version": "1.5.0",
            "_model_name": "FloatProgressModel",
            "_view_count": null,
            "_view_module": "@jupyter-widgets/controls",
            "_view_module_version": "1.5.0",
            "_view_name": "ProgressView",
            "bar_style": "success",
            "description": "",
            "description_tooltip": null,
            "layout": "IPY_MODEL_cf81dd0970984f2c9208ba54b93b051e",
            "max": 3,
            "min": 0,
            "orientation": "horizontal",
            "style": "IPY_MODEL_0b7b2c873be04686b892ba7e37ee57c6",
            "value": 3
          }
        },
        "f59c26b5812e44b9bb27c9bfec2a81b5": {
          "model_module": "@jupyter-widgets/controls",
          "model_module_version": "1.5.0",
          "model_name": "HTMLModel",
          "state": {
            "_dom_classes": [],
            "_model_module": "@jupyter-widgets/controls",
            "_model_module_version": "1.5.0",
            "_model_name": "HTMLModel",
            "_view_count": null,
            "_view_module": "@jupyter-widgets/controls",
            "_view_module_version": "1.5.0",
            "_view_name": "HTMLView",
            "description": "",
            "description_tooltip": null,
            "layout": "IPY_MODEL_da73d97002dc41f0b016b85555d3f488",
            "placeholder": "​",
            "style": "IPY_MODEL_08bb55bab0a346c0a1bd004e95b0c20c",
            "value": " 3/3 [00:00&lt;00:00, 34.05it/s]"
          }
        },
        "f73598a332fd4745b90ae782fb739df4": {
          "model_module": "@jupyter-widgets/controls",
          "model_module_version": "1.5.0",
          "model_name": "DescriptionStyleModel",
          "state": {
            "_model_module": "@jupyter-widgets/controls",
            "_model_module_version": "1.5.0",
            "_model_name": "DescriptionStyleModel",
            "_view_count": null,
            "_view_module": "@jupyter-widgets/base",
            "_view_module_version": "1.2.0",
            "_view_name": "StyleView",
            "description_width": ""
          }
        },
        "f8e990f5efa74537ac0ab71a29dd506f": {
          "model_module": "@jupyter-widgets/controls",
          "model_module_version": "1.5.0",
          "model_name": "DescriptionStyleModel",
          "state": {
            "_model_module": "@jupyter-widgets/controls",
            "_model_module_version": "1.5.0",
            "_model_name": "DescriptionStyleModel",
            "_view_count": null,
            "_view_module": "@jupyter-widgets/base",
            "_view_module_version": "1.2.0",
            "_view_name": "StyleView",
            "description_width": ""
          }
        },
        "fb0a8d7360b842d080af3ddf5e8f0738": {
          "model_module": "@jupyter-widgets/controls",
          "model_module_version": "1.5.0",
          "model_name": "HTMLModel",
          "state": {
            "_dom_classes": [],
            "_model_module": "@jupyter-widgets/controls",
            "_model_module_version": "1.5.0",
            "_model_name": "HTMLModel",
            "_view_count": null,
            "_view_module": "@jupyter-widgets/controls",
            "_view_module_version": "1.5.0",
            "_view_name": "HTMLView",
            "description": "",
            "description_tooltip": null,
            "layout": "IPY_MODEL_5a934c1fdd2f4cc9b2254565d2495b2f",
            "placeholder": "​",
            "style": "IPY_MODEL_ae202bfd47934132859e06f43712ffdf",
            "value": " 3/3 [17:05&lt;00:00, 341.90s/it]"
          }
        },
        "fb4279f8cae34d5db8d00e00df1d503a": {
          "model_module": "@jupyter-widgets/controls",
          "model_module_version": "1.5.0",
          "model_name": "HTMLModel",
          "state": {
            "_dom_classes": [],
            "_model_module": "@jupyter-widgets/controls",
            "_model_module_version": "1.5.0",
            "_model_name": "HTMLModel",
            "_view_count": null,
            "_view_module": "@jupyter-widgets/controls",
            "_view_module_version": "1.5.0",
            "_view_name": "HTMLView",
            "description": "",
            "description_tooltip": null,
            "layout": "IPY_MODEL_b50abf0f46204e9e9a0be53e34e47c23",
            "placeholder": "​",
            "style": "IPY_MODEL_abe3f444a8a847a48d5c300e0274a9cb",
            "value": "Eliminating: bias: 100%"
          }
        },
        "fe77ba49f16a431992da73ff6da1fa4e": {
          "model_module": "@jupyter-widgets/base",
          "model_module_version": "1.2.0",
          "model_name": "LayoutModel",
          "state": {
            "_model_module": "@jupyter-widgets/base",
            "_model_module_version": "1.2.0",
            "_model_name": "LayoutModel",
            "_view_count": null,
            "_view_module": "@jupyter-widgets/base",
            "_view_module_version": "1.2.0",
            "_view_name": "LayoutView",
            "align_content": null,
            "align_items": null,
            "align_self": null,
            "border": null,
            "bottom": null,
            "display": null,
            "flex": null,
            "flex_flow": null,
            "grid_area": null,
            "grid_auto_columns": null,
            "grid_auto_flow": null,
            "grid_auto_rows": null,
            "grid_column": null,
            "grid_gap": null,
            "grid_row": null,
            "grid_template_areas": null,
            "grid_template_columns": null,
            "grid_template_rows": null,
            "height": null,
            "justify_content": null,
            "justify_items": null,
            "left": null,
            "margin": null,
            "max_height": null,
            "max_width": null,
            "min_height": null,
            "min_width": null,
            "object_fit": null,
            "object_position": null,
            "order": null,
            "overflow": null,
            "overflow_x": null,
            "overflow_y": null,
            "padding": null,
            "right": null,
            "top": null,
            "visibility": null,
            "width": null
          }
        }
      }
    }
  },
  "nbformat": 4,
  "nbformat_minor": 0
}
